{
 "cells": [
  {
   "cell_type": "markdown",
   "metadata": {
    "id": "zVo-c0HfpwXH"
   },
   "source": [
    "## Regresión Lineal.\n",
    "Autor: Jośe Falcón\n"
   ]
  },
  {
   "cell_type": "markdown",
   "metadata": {
    "id": "NflOhpsypwXL"
   },
   "source": [
    "La regresión lineal es un modelo matemático que consiste en encontrar la **ecuación lineal** que mejor se ajuste o aproxime a un conjunto de datos dado. Dicho de otra manera, se busca aproximar la relación de dependencia entre una variable dependiente $Y$ y variables independientes $x_i$ de la siguiente forma:\n",
    "\n",
    "$$Y=\\sum_{i=0}^d \\hat{\\beta}_{i}x_i$$\n",
    "\n",
    "en donde a los $\\hat{\\beta}_i$ se les conoce como **estimadores o pesos**. Vamos a considerar a $x_0=1$\n",
    "\n",
    "Cuando nos referimos a la que mejor **aproxime** es en el sentido de aquella ecuación lineal que minimice una función llamada **función de error o de costo**, por lo que la regresión lineal se convierte en un problema de minimización\n"
   ]
  },
  {
   "cell_type": "markdown",
   "metadata": {
    "id": "NxSsP_EbpwXM"
   },
   "source": [
    "<div style=\"text-align: center\"><img src=\"https://economipedia.com/wp-content/uploads/Regresi%C3%B3n-lineal.png\"></div>"
   ]
  },
  {
   "cell_type": "markdown",
   "metadata": {
    "id": "7r6MEaX2pwXM"
   },
   "source": [
    "Durante este notebook vamos a deducir la ecuación\n",
    "$$\\hat{\\beta} = (X^TX)^{-1}X^TY$$\n",
    "en donde $X$ es el conjunto de datos, $Y$ la variable dependiente, y $\\hat{\\beta}$ es el vector de estimadores o de pesos"
   ]
  },
  {
   "cell_type": "markdown",
   "metadata": {
    "id": "fA-29_y6pwXM"
   },
   "source": [
    "**Definición 1:** Sea $w \\in \\mathbb{R}^n$ y $x \\in \\mathbb{R}^m$, definimos la derivada de x con respecto a w como:\n",
    "$$\\frac{dx}{dw} = \\begin{pmatrix}\n",
    "\\frac{\\partial x_1}{\\partial w_1} & \\dots & \\frac{\\partial x_1}{\\partial w_n}\\\\\n",
    "\\vdots & \\ddots & \\vdots\\\\\n",
    "\\frac{\\partial x_m}{\\partial w_1} & \\dots & \\frac{\\partial x_m}{\\partial w_n}\n",
    "\\end{pmatrix}\n",
    "$$\n",
    "es decir $\\left(\\frac{dx}{dw}\\right)_{ij}= \\frac{\\partial x_i}{\\partial w_j}$"
   ]
  },
  {
   "cell_type": "markdown",
   "metadata": {
    "id": "KoisWU_UpwXN"
   },
   "source": [
    "**Proposición 1:** Sea $A \\in M_{nxm}(\\mathbb{R})$ y $w \\in \\mathbb{R}^m$ (o equivalentemente $w \\in M_{mx1}(\\mathbb{R})$). Si las entradas de $A$ no dependen de las entradas de $w$ entonces:\n",
    "$$\\frac{d(Aw)}{dw} = A$$\n",
    "Demostración:\n",
    "$$(Aw)_i = \\sum_{k = 1}^n A_{ik}w_k$$\n",
    "$$\\implies \\left(\\frac{d(Aw)}{dw}\\right)_{ij} = \\frac{\\partial (Aw)_i}{\\partial w_j} = \\frac{\\partial \\left(\\sum_{k = 1}^n A_{ik}w_k\\right)}{\\partial w_j} = \\sum_{k = 1}^n \\frac{\\partial(A_{ik}w_k)}{\\partial w_j} = \\sum_{k = 1}^n A_{ik}\\frac{\\partial w_k}{\\partial w_j} = \\sum_{k = 1}^n A_{ik}\\delta_{kj} = A_{ij}$$\n",
    "\n",
    "Por lo tanto $$ \\left(\\frac{d(Aw)}{dw}\\right)_{ij} = A_{ij}$$\n",
    "y se concluye que:\n",
    "$$\\frac{d(Aw)}{dw} = A$$"
   ]
  },
  {
   "cell_type": "markdown",
   "metadata": {
    "id": "5bMPYglBpwXN"
   },
   "source": [
    "**Corolario**: Sea $A \\in M_{mxn}(\\mathbb{R})$ y $w \\in \\mathbb{R}^m$ (o equivalentemente $w \\in M_{mx1}(\\mathbb{R})$). Si las entradas de $A$ no dependen de las entradas de $w$ entonces:\n",
    "$$\\frac{d(w^TA)}{dw} = A^T$$"
   ]
  },
  {
   "cell_type": "markdown",
   "metadata": {
    "id": "VzG-PEEJpwXO"
   },
   "source": [
    "Para la regresión lineal vamos a utilizar la función RSS, la cual es:\n",
    "\n",
    "$$RSS = \\sum_{i = 1}^n (y_i - \\hat{y}_i)^2$$\n",
    "\n",
    "Esta función se conoce normalmente como la \"función de costo\", \"loss function\" o \"función de error\". Nos da la suma del error cuadrático para cada una de las predicciones.\n",
    "Esta sería una función que depende de los estimadores $\\hat{\\beta_i}$ o el vector de estimadores $\\hat{\\beta}$.\n",
    "\n",
    "Sea $X \\in M_{nxp}\\left(\\mathbb{R}\\right)$ el conjunto de datos y $\\hat{\\beta} \\in M_{px1}\\left(\\mathbb{R}\\right)$ el vector de estimadores, entonces\n",
    "$$\\hat{y} = X\\hat{\\beta}$$\n",
    "Podemos reescribir a RSS en forma matricial como:\n",
    "$$RSS = \\sum_{i = 1}^n (y_i - \\hat{y}_i)^2 = (y-\\hat{y})^T(y-\\hat{y})$$\n"
   ]
  },
  {
   "cell_type": "markdown",
   "metadata": {
    "id": "Sjcndyo2pwXP"
   },
   "source": [
    "![](https://iartificial.net/wp-content/uploads/2018/12/error-regresion-lineal2.png)"
   ]
  },
  {
   "cell_type": "markdown",
   "metadata": {
    "id": "yloenVQcpwXQ"
   },
   "source": [
    "Lo que queremos hacer es obtener los estimadores o pesos que minimicen dicha función de error."
   ]
  },
  {
   "cell_type": "markdown",
   "metadata": {
    "id": "s6hISclQpwXQ"
   },
   "source": [
    "$$(AB)^T=B^TA^T$$"
   ]
  },
  {
   "cell_type": "markdown",
   "metadata": {
    "id": "_5XsLXC7pwXQ"
   },
   "source": [
    "**Proposición 2:** El vector de estimadores que minimiza a RSS es:\n",
    "$$\\hat{\\beta} = \\left(X^TX\\right)^{-1}X^Ty$$\n",
    "\n",
    "Demostración:\n",
    "$$RSS = (y-\\hat{y})^T(y-\\hat{y}) = y^Ty-y^T\\hat{y}-\\hat{y}^Ty+\\hat{y}^T\\hat{y} = y^Ty-y^TX\\hat{\\beta}-\\hat{\\beta}^TX^Ty+\\hat{\\beta}^TX^TX\\hat{\\beta}$$\n",
    "\n",
    "Derivamos la expresión anterior con respecto a $\\hat{\\beta}$ e igualamos la derivada a 0 para encontrar el vector de estimadores que minimiza el error RSS:\n",
    "$$\\frac{dRSS}{d\\hat{\\beta}} \\stackrel{Proposición 1}{=} -2y^TX + 2\\hat{\\beta}^TX^TX=0$$\n",
    "$$\\implies y^TX=\\hat{\\beta}^TX^TX$$\n",
    "$$\\implies X^TX\\hat{\\beta}=X^Ty$$\n",
    "$$\\implies \\hat{\\beta} = (X^TX)^{-1}X^Ty$$"
   ]
  },
  {
   "cell_type": "markdown",
   "metadata": {
    "id": "Ytyl0ANHpwXR"
   },
   "source": [
    "# Problema 1\n",
    "\n",
    "Tenemos un conjunto de datos que nos dice el salario dado el número de años de experiencia en una empresa."
   ]
  },
  {
   "cell_type": "markdown",
   "metadata": {
    "id": "U33B2nAMpwXR"
   },
   "source": [
    "## a) \n",
    "Realiza una gráfica de y= SALARIO versus x= AÑOS DE EXPERIENCIA"
   ]
  },
  {
   "cell_type": "code",
   "execution_count": 8,
   "metadata": {
    "id": "2hqfULd6pwXR"
   },
   "outputs": [],
   "source": [
    "import numpy as np\n",
    "import pandas as pd \n",
    "import matplotlib.pyplot as plt "
   ]
  },
  {
   "cell_type": "code",
   "execution_count": 9,
   "metadata": {
    "id": "I5fLlB4XpwXS"
   },
   "outputs": [
    {
     "ename": "FileNotFoundError",
     "evalue": "[Errno 2] No such file or directory: 'Salary_Data.csv'",
     "output_type": "error",
     "traceback": [
      "\u001b[0;31m---------------------------------------------------------------------------\u001b[0m",
      "\u001b[0;31mFileNotFoundError\u001b[0m                         Traceback (most recent call last)",
      "\u001b[0;32m/tmp/ipykernel_9913/1444713466.py\u001b[0m in \u001b[0;36m<module>\u001b[0;34m\u001b[0m\n\u001b[0;32m----> 1\u001b[0;31m \u001b[0mdataset\u001b[0m \u001b[0;34m=\u001b[0m \u001b[0mpd\u001b[0m\u001b[0;34m.\u001b[0m\u001b[0mread_csv\u001b[0m\u001b[0;34m(\u001b[0m\u001b[0;34m\"Salary_Data.csv\"\u001b[0m\u001b[0;34m)\u001b[0m\u001b[0;34m\u001b[0m\u001b[0;34m\u001b[0m\u001b[0m\n\u001b[0m",
      "\u001b[0;32m~/.local/lib/python3.9/site-packages/pandas/util/_decorators.py\u001b[0m in \u001b[0;36mwrapper\u001b[0;34m(*args, **kwargs)\u001b[0m\n\u001b[1;32m    309\u001b[0m                     \u001b[0mstacklevel\u001b[0m\u001b[0;34m=\u001b[0m\u001b[0mstacklevel\u001b[0m\u001b[0;34m,\u001b[0m\u001b[0;34m\u001b[0m\u001b[0;34m\u001b[0m\u001b[0m\n\u001b[1;32m    310\u001b[0m                 )\n\u001b[0;32m--> 311\u001b[0;31m             \u001b[0;32mreturn\u001b[0m \u001b[0mfunc\u001b[0m\u001b[0;34m(\u001b[0m\u001b[0;34m*\u001b[0m\u001b[0margs\u001b[0m\u001b[0;34m,\u001b[0m \u001b[0;34m**\u001b[0m\u001b[0mkwargs\u001b[0m\u001b[0;34m)\u001b[0m\u001b[0;34m\u001b[0m\u001b[0;34m\u001b[0m\u001b[0m\n\u001b[0m\u001b[1;32m    312\u001b[0m \u001b[0;34m\u001b[0m\u001b[0m\n\u001b[1;32m    313\u001b[0m         \u001b[0;32mreturn\u001b[0m \u001b[0mwrapper\u001b[0m\u001b[0;34m\u001b[0m\u001b[0;34m\u001b[0m\u001b[0m\n",
      "\u001b[0;32m~/.local/lib/python3.9/site-packages/pandas/io/parsers/readers.py\u001b[0m in \u001b[0;36mread_csv\u001b[0;34m(filepath_or_buffer, sep, delimiter, header, names, index_col, usecols, squeeze, prefix, mangle_dupe_cols, dtype, engine, converters, true_values, false_values, skipinitialspace, skiprows, skipfooter, nrows, na_values, keep_default_na, na_filter, verbose, skip_blank_lines, parse_dates, infer_datetime_format, keep_date_col, date_parser, dayfirst, cache_dates, iterator, chunksize, compression, thousands, decimal, lineterminator, quotechar, quoting, doublequote, escapechar, comment, encoding, encoding_errors, dialect, error_bad_lines, warn_bad_lines, on_bad_lines, delim_whitespace, low_memory, memory_map, float_precision, storage_options)\u001b[0m\n\u001b[1;32m    584\u001b[0m     \u001b[0mkwds\u001b[0m\u001b[0;34m.\u001b[0m\u001b[0mupdate\u001b[0m\u001b[0;34m(\u001b[0m\u001b[0mkwds_defaults\u001b[0m\u001b[0;34m)\u001b[0m\u001b[0;34m\u001b[0m\u001b[0;34m\u001b[0m\u001b[0m\n\u001b[1;32m    585\u001b[0m \u001b[0;34m\u001b[0m\u001b[0m\n\u001b[0;32m--> 586\u001b[0;31m     \u001b[0;32mreturn\u001b[0m \u001b[0m_read\u001b[0m\u001b[0;34m(\u001b[0m\u001b[0mfilepath_or_buffer\u001b[0m\u001b[0;34m,\u001b[0m \u001b[0mkwds\u001b[0m\u001b[0;34m)\u001b[0m\u001b[0;34m\u001b[0m\u001b[0;34m\u001b[0m\u001b[0m\n\u001b[0m\u001b[1;32m    587\u001b[0m \u001b[0;34m\u001b[0m\u001b[0m\n\u001b[1;32m    588\u001b[0m \u001b[0;34m\u001b[0m\u001b[0m\n",
      "\u001b[0;32m~/.local/lib/python3.9/site-packages/pandas/io/parsers/readers.py\u001b[0m in \u001b[0;36m_read\u001b[0;34m(filepath_or_buffer, kwds)\u001b[0m\n\u001b[1;32m    480\u001b[0m \u001b[0;34m\u001b[0m\u001b[0m\n\u001b[1;32m    481\u001b[0m     \u001b[0;31m# Create the parser.\u001b[0m\u001b[0;34m\u001b[0m\u001b[0;34m\u001b[0m\u001b[0m\n\u001b[0;32m--> 482\u001b[0;31m     \u001b[0mparser\u001b[0m \u001b[0;34m=\u001b[0m \u001b[0mTextFileReader\u001b[0m\u001b[0;34m(\u001b[0m\u001b[0mfilepath_or_buffer\u001b[0m\u001b[0;34m,\u001b[0m \u001b[0;34m**\u001b[0m\u001b[0mkwds\u001b[0m\u001b[0;34m)\u001b[0m\u001b[0;34m\u001b[0m\u001b[0;34m\u001b[0m\u001b[0m\n\u001b[0m\u001b[1;32m    483\u001b[0m \u001b[0;34m\u001b[0m\u001b[0m\n\u001b[1;32m    484\u001b[0m     \u001b[0;32mif\u001b[0m \u001b[0mchunksize\u001b[0m \u001b[0;32mor\u001b[0m \u001b[0miterator\u001b[0m\u001b[0;34m:\u001b[0m\u001b[0;34m\u001b[0m\u001b[0;34m\u001b[0m\u001b[0m\n",
      "\u001b[0;32m~/.local/lib/python3.9/site-packages/pandas/io/parsers/readers.py\u001b[0m in \u001b[0;36m__init__\u001b[0;34m(self, f, engine, **kwds)\u001b[0m\n\u001b[1;32m    809\u001b[0m             \u001b[0mself\u001b[0m\u001b[0;34m.\u001b[0m\u001b[0moptions\u001b[0m\u001b[0;34m[\u001b[0m\u001b[0;34m\"has_index_names\"\u001b[0m\u001b[0;34m]\u001b[0m \u001b[0;34m=\u001b[0m \u001b[0mkwds\u001b[0m\u001b[0;34m[\u001b[0m\u001b[0;34m\"has_index_names\"\u001b[0m\u001b[0;34m]\u001b[0m\u001b[0;34m\u001b[0m\u001b[0;34m\u001b[0m\u001b[0m\n\u001b[1;32m    810\u001b[0m \u001b[0;34m\u001b[0m\u001b[0m\n\u001b[0;32m--> 811\u001b[0;31m         \u001b[0mself\u001b[0m\u001b[0;34m.\u001b[0m\u001b[0m_engine\u001b[0m \u001b[0;34m=\u001b[0m \u001b[0mself\u001b[0m\u001b[0;34m.\u001b[0m\u001b[0m_make_engine\u001b[0m\u001b[0;34m(\u001b[0m\u001b[0mself\u001b[0m\u001b[0;34m.\u001b[0m\u001b[0mengine\u001b[0m\u001b[0;34m)\u001b[0m\u001b[0;34m\u001b[0m\u001b[0;34m\u001b[0m\u001b[0m\n\u001b[0m\u001b[1;32m    812\u001b[0m \u001b[0;34m\u001b[0m\u001b[0m\n\u001b[1;32m    813\u001b[0m     \u001b[0;32mdef\u001b[0m \u001b[0mclose\u001b[0m\u001b[0;34m(\u001b[0m\u001b[0mself\u001b[0m\u001b[0;34m)\u001b[0m\u001b[0;34m:\u001b[0m\u001b[0;34m\u001b[0m\u001b[0;34m\u001b[0m\u001b[0m\n",
      "\u001b[0;32m~/.local/lib/python3.9/site-packages/pandas/io/parsers/readers.py\u001b[0m in \u001b[0;36m_make_engine\u001b[0;34m(self, engine)\u001b[0m\n\u001b[1;32m   1038\u001b[0m             )\n\u001b[1;32m   1039\u001b[0m         \u001b[0;31m# error: Too many arguments for \"ParserBase\"\u001b[0m\u001b[0;34m\u001b[0m\u001b[0;34m\u001b[0m\u001b[0m\n\u001b[0;32m-> 1040\u001b[0;31m         \u001b[0;32mreturn\u001b[0m \u001b[0mmapping\u001b[0m\u001b[0;34m[\u001b[0m\u001b[0mengine\u001b[0m\u001b[0;34m]\u001b[0m\u001b[0;34m(\u001b[0m\u001b[0mself\u001b[0m\u001b[0;34m.\u001b[0m\u001b[0mf\u001b[0m\u001b[0;34m,\u001b[0m \u001b[0;34m**\u001b[0m\u001b[0mself\u001b[0m\u001b[0;34m.\u001b[0m\u001b[0moptions\u001b[0m\u001b[0;34m)\u001b[0m  \u001b[0;31m# type: ignore[call-arg]\u001b[0m\u001b[0;34m\u001b[0m\u001b[0;34m\u001b[0m\u001b[0m\n\u001b[0m\u001b[1;32m   1041\u001b[0m \u001b[0;34m\u001b[0m\u001b[0m\n\u001b[1;32m   1042\u001b[0m     \u001b[0;32mdef\u001b[0m \u001b[0m_failover_to_python\u001b[0m\u001b[0;34m(\u001b[0m\u001b[0mself\u001b[0m\u001b[0;34m)\u001b[0m\u001b[0;34m:\u001b[0m\u001b[0;34m\u001b[0m\u001b[0;34m\u001b[0m\u001b[0m\n",
      "\u001b[0;32m~/.local/lib/python3.9/site-packages/pandas/io/parsers/c_parser_wrapper.py\u001b[0m in \u001b[0;36m__init__\u001b[0;34m(self, src, **kwds)\u001b[0m\n\u001b[1;32m     49\u001b[0m \u001b[0;34m\u001b[0m\u001b[0m\n\u001b[1;32m     50\u001b[0m         \u001b[0;31m# open handles\u001b[0m\u001b[0;34m\u001b[0m\u001b[0;34m\u001b[0m\u001b[0m\n\u001b[0;32m---> 51\u001b[0;31m         \u001b[0mself\u001b[0m\u001b[0;34m.\u001b[0m\u001b[0m_open_handles\u001b[0m\u001b[0;34m(\u001b[0m\u001b[0msrc\u001b[0m\u001b[0;34m,\u001b[0m \u001b[0mkwds\u001b[0m\u001b[0;34m)\u001b[0m\u001b[0;34m\u001b[0m\u001b[0;34m\u001b[0m\u001b[0m\n\u001b[0m\u001b[1;32m     52\u001b[0m         \u001b[0;32massert\u001b[0m \u001b[0mself\u001b[0m\u001b[0;34m.\u001b[0m\u001b[0mhandles\u001b[0m \u001b[0;32mis\u001b[0m \u001b[0;32mnot\u001b[0m \u001b[0;32mNone\u001b[0m\u001b[0;34m\u001b[0m\u001b[0;34m\u001b[0m\u001b[0m\n\u001b[1;32m     53\u001b[0m \u001b[0;34m\u001b[0m\u001b[0m\n",
      "\u001b[0;32m~/.local/lib/python3.9/site-packages/pandas/io/parsers/base_parser.py\u001b[0m in \u001b[0;36m_open_handles\u001b[0;34m(self, src, kwds)\u001b[0m\n\u001b[1;32m    220\u001b[0m         \u001b[0mLet\u001b[0m \u001b[0mthe\u001b[0m \u001b[0mreaders\u001b[0m \u001b[0mopen\u001b[0m \u001b[0mIOHandles\u001b[0m \u001b[0mafter\u001b[0m \u001b[0mthey\u001b[0m \u001b[0mare\u001b[0m \u001b[0mdone\u001b[0m \u001b[0;32mwith\u001b[0m \u001b[0mtheir\u001b[0m \u001b[0mpotential\u001b[0m \u001b[0mraises\u001b[0m\u001b[0;34m.\u001b[0m\u001b[0;34m\u001b[0m\u001b[0;34m\u001b[0m\u001b[0m\n\u001b[1;32m    221\u001b[0m         \"\"\"\n\u001b[0;32m--> 222\u001b[0;31m         self.handles = get_handle(\n\u001b[0m\u001b[1;32m    223\u001b[0m             \u001b[0msrc\u001b[0m\u001b[0;34m,\u001b[0m\u001b[0;34m\u001b[0m\u001b[0;34m\u001b[0m\u001b[0m\n\u001b[1;32m    224\u001b[0m             \u001b[0;34m\"r\"\u001b[0m\u001b[0;34m,\u001b[0m\u001b[0;34m\u001b[0m\u001b[0;34m\u001b[0m\u001b[0m\n",
      "\u001b[0;32m~/.local/lib/python3.9/site-packages/pandas/io/common.py\u001b[0m in \u001b[0;36mget_handle\u001b[0;34m(path_or_buf, mode, encoding, compression, memory_map, is_text, errors, storage_options)\u001b[0m\n\u001b[1;32m    700\u001b[0m         \u001b[0;32mif\u001b[0m \u001b[0mioargs\u001b[0m\u001b[0;34m.\u001b[0m\u001b[0mencoding\u001b[0m \u001b[0;32mand\u001b[0m \u001b[0;34m\"b\"\u001b[0m \u001b[0;32mnot\u001b[0m \u001b[0;32min\u001b[0m \u001b[0mioargs\u001b[0m\u001b[0;34m.\u001b[0m\u001b[0mmode\u001b[0m\u001b[0;34m:\u001b[0m\u001b[0;34m\u001b[0m\u001b[0;34m\u001b[0m\u001b[0m\n\u001b[1;32m    701\u001b[0m             \u001b[0;31m# Encoding\u001b[0m\u001b[0;34m\u001b[0m\u001b[0;34m\u001b[0m\u001b[0m\n\u001b[0;32m--> 702\u001b[0;31m             handle = open(\n\u001b[0m\u001b[1;32m    703\u001b[0m                 \u001b[0mhandle\u001b[0m\u001b[0;34m,\u001b[0m\u001b[0;34m\u001b[0m\u001b[0;34m\u001b[0m\u001b[0m\n\u001b[1;32m    704\u001b[0m                 \u001b[0mioargs\u001b[0m\u001b[0;34m.\u001b[0m\u001b[0mmode\u001b[0m\u001b[0;34m,\u001b[0m\u001b[0;34m\u001b[0m\u001b[0;34m\u001b[0m\u001b[0m\n",
      "\u001b[0;31mFileNotFoundError\u001b[0m: [Errno 2] No such file or directory: 'Salary_Data.csv'"
     ]
    }
   ],
   "source": [
    "dataset = pd.read_csv(\"Salary_Data.csv\")"
   ]
  },
  {
   "cell_type": "code",
   "execution_count": null,
   "metadata": {
    "id": "4c3Stpl_pwXT",
    "outputId": "5539d168-cb40-45d0-df2e-acda27709b27"
   },
   "outputs": [],
   "source": [
    "type(dataset)"
   ]
  },
  {
   "cell_type": "code",
   "execution_count": null,
   "metadata": {
    "id": "brou8XIkpwXU",
    "outputId": "e1b9ca55-32c5-4858-81e4-1700f666269b"
   },
   "outputs": [],
   "source": [
    "dataset.head()"
   ]
  },
  {
   "cell_type": "code",
   "execution_count": null,
   "metadata": {
    "id": "Q22t294QpwXU",
    "outputId": "32ad727e-1a8c-4d5a-a1c8-9e1ba614c7b7"
   },
   "outputs": [],
   "source": [
    "dataset.tail()"
   ]
  },
  {
   "cell_type": "code",
   "execution_count": null,
   "metadata": {
    "id": "LCGVRAVKpwXU",
    "outputId": "eb62bab9-d668-4a57-d3ad-38d4bd84f006"
   },
   "outputs": [],
   "source": [
    "dataset.shape"
   ]
  },
  {
   "cell_type": "code",
   "execution_count": null,
   "metadata": {
    "id": "FYnaVmwdpwXV"
   },
   "outputs": [],
   "source": [
    "x = dataset[\"YearsExperience\"].values"
   ]
  },
  {
   "cell_type": "code",
   "execution_count": null,
   "metadata": {
    "id": "XW_6-z2OpwXV",
    "outputId": "c7b6af29-7bcc-4925-9d1f-a188cecf05e6"
   },
   "outputs": [],
   "source": [
    "x "
   ]
  },
  {
   "cell_type": "code",
   "execution_count": null,
   "metadata": {
    "id": "jUs0BbinpwXV"
   },
   "outputs": [],
   "source": [
    "y = dataset[\"Salary\"].values"
   ]
  },
  {
   "cell_type": "code",
   "execution_count": null,
   "metadata": {
    "id": "pf-2vgplpwXV",
    "outputId": "a46fa02e-ef34-42ae-e3a3-a5a658c7dfc7"
   },
   "outputs": [],
   "source": [
    "y "
   ]
  },
  {
   "cell_type": "code",
   "execution_count": null,
   "metadata": {
    "id": "u1KZkAUrpwXW",
    "outputId": "91486da7-0228-40e9-c55b-614b1400b831"
   },
   "outputs": [],
   "source": [
    "\n",
    "plt.scatter(x,y,color=\"red\", label =\"Datos\")\n",
    "plt.title(\"Gráfica de salario vs años de experiencia\")\n",
    "plt.xlabel(\"Años de experiencia\")\n",
    "plt.ylabel(\"Salario (dólares)\")\n",
    "plt.legend()\n",
    "plt.show()"
   ]
  },
  {
   "cell_type": "markdown",
   "metadata": {
    "id": "XYYl08ZopwXX"
   },
   "source": [
    "## b)\n",
    "Encuentra los estimadores por mínimos cuadrados $\\widehat\\beta_0$ y $\\widehat\\beta_1$."
   ]
  },
  {
   "cell_type": "code",
   "execution_count": 10,
   "metadata": {
    "id": "q6YFkewkpwXX",
    "outputId": "d94117fa-cdbb-4e68-8314-a7d2d432ed77"
   },
   "outputs": [
    {
     "ename": "NameError",
     "evalue": "name 'x' is not defined",
     "output_type": "error",
     "traceback": [
      "\u001b[0;31m---------------------------------------------------------------------------\u001b[0m",
      "\u001b[0;31mNameError\u001b[0m                                 Traceback (most recent call last)",
      "\u001b[0;32m/tmp/ipykernel_9913/619855596.py\u001b[0m in \u001b[0;36m<module>\u001b[0;34m\u001b[0m\n\u001b[0;32m----> 1\u001b[0;31m \u001b[0mlen\u001b[0m\u001b[0;34m(\u001b[0m\u001b[0mx\u001b[0m\u001b[0;34m)\u001b[0m\u001b[0;34m\u001b[0m\u001b[0;34m\u001b[0m\u001b[0m\n\u001b[0m",
      "\u001b[0;31mNameError\u001b[0m: name 'x' is not defined"
     ]
    }
   ],
   "source": [
    "len(x)"
   ]
  },
  {
   "cell_type": "code",
   "execution_count": null,
   "metadata": {
    "id": "2kXBLoNJpwXX"
   },
   "outputs": [],
   "source": [
    "x_unos = np.ones((30,1))"
   ]
  },
  {
   "cell_type": "code",
   "execution_count": null,
   "metadata": {
    "id": "LSQsYAXLpwXX",
    "outputId": "c9c7fc13-00b5-4e94-ee75-2c865717d64d"
   },
   "outputs": [],
   "source": [
    "x_unos"
   ]
  },
  {
   "cell_type": "code",
   "execution_count": null,
   "metadata": {
    "id": "QodMzMM8pwXX"
   },
   "outputs": [],
   "source": [
    "x = x.reshape((30,1))"
   ]
  },
  {
   "cell_type": "code",
   "execution_count": null,
   "metadata": {
    "id": "YwvsU4zhpwXY",
    "outputId": "bc1386c8-f56b-4762-d3c0-2a0d3ad14a2c"
   },
   "outputs": [],
   "source": [
    "x.shape"
   ]
  },
  {
   "cell_type": "code",
   "execution_count": null,
   "metadata": {
    "id": "1F2prpbjpwXY"
   },
   "outputs": [],
   "source": [
    "X = np.concatenate((x_unos,x), axis = 1) #Axis = 0 es renglones, Axis=1 es columnas"
   ]
  },
  {
   "cell_type": "code",
   "execution_count": null,
   "metadata": {
    "id": "6YyVpO-vpwXY",
    "outputId": "2fe715b1-1036-4a91-89cc-e5cc4f62aeb8"
   },
   "outputs": [],
   "source": [
    "X.shape"
   ]
  },
  {
   "cell_type": "code",
   "execution_count": null,
   "metadata": {
    "id": "aWCHt51CpwXY",
    "outputId": "3a2ea650-ecb7-4e68-822e-bd60ebffb52e"
   },
   "outputs": [],
   "source": [
    "X"
   ]
  },
  {
   "cell_type": "markdown",
   "metadata": {
    "id": "oSh6cCZGpwXY"
   },
   "source": [
    "\n",
    "$$\\hat{\\beta} = (X^TX)^{-1}X^Ty$$\n"
   ]
  },
  {
   "cell_type": "code",
   "execution_count": 11,
   "metadata": {
    "id": "avxez-6ZpwXY"
   },
   "outputs": [
    {
     "ename": "NameError",
     "evalue": "name 'y' is not defined",
     "output_type": "error",
     "traceback": [
      "\u001b[0;31m---------------------------------------------------------------------------\u001b[0m",
      "\u001b[0;31mNameError\u001b[0m                                 Traceback (most recent call last)",
      "\u001b[0;32m/tmp/ipykernel_9913/2055144113.py\u001b[0m in \u001b[0;36m<module>\u001b[0;34m\u001b[0m\n\u001b[0;32m----> 1\u001b[0;31m \u001b[0my\u001b[0m \u001b[0;34m=\u001b[0m \u001b[0my\u001b[0m\u001b[0;34m.\u001b[0m\u001b[0mreshape\u001b[0m\u001b[0;34m(\u001b[0m\u001b[0;34m(\u001b[0m\u001b[0;36m30\u001b[0m\u001b[0;34m,\u001b[0m\u001b[0;36m1\u001b[0m\u001b[0;34m)\u001b[0m\u001b[0;34m)\u001b[0m\u001b[0;34m\u001b[0m\u001b[0;34m\u001b[0m\u001b[0m\n\u001b[0m",
      "\u001b[0;31mNameError\u001b[0m: name 'y' is not defined"
     ]
    }
   ],
   "source": [
    "y = y.reshape((30,1))"
   ]
  },
  {
   "cell_type": "code",
   "execution_count": null,
   "metadata": {
    "id": "AztQnUUYpwXY",
    "outputId": "829745e6-78a7-4f78-aa0c-7274e6a7e22e"
   },
   "outputs": [],
   "source": [
    "y.shape"
   ]
  },
  {
   "cell_type": "code",
   "execution_count": null,
   "metadata": {
    "id": "kVeAV675pwXZ",
    "outputId": "9d5ab4ae-4b4c-4dfe-f3bc-339d69280959"
   },
   "outputs": [],
   "source": [
    "y"
   ]
  },
  {
   "cell_type": "code",
   "execution_count": null,
   "metadata": {
    "id": "06bMkCyIpwXZ"
   },
   "outputs": [],
   "source": [
    "aux1= np.matmul(X.T,X)\n",
    "aux2= np.linalg.inv(aux1)\n",
    "aux3= np.matmul(aux2, X.T)\n",
    "pesos = np.matmul(aux3,y)"
   ]
  },
  {
   "cell_type": "code",
   "execution_count": 12,
   "metadata": {
    "id": "g8m-JSLxpwXZ",
    "outputId": "6d5840d5-861e-464d-fb0e-a00fa3a09b63"
   },
   "outputs": [
    {
     "ename": "NameError",
     "evalue": "name 'pesos' is not defined",
     "output_type": "error",
     "traceback": [
      "\u001b[0;31m---------------------------------------------------------------------------\u001b[0m",
      "\u001b[0;31mNameError\u001b[0m                                 Traceback (most recent call last)",
      "\u001b[0;32m/tmp/ipykernel_9913/768453742.py\u001b[0m in \u001b[0;36m<module>\u001b[0;34m\u001b[0m\n\u001b[0;32m----> 1\u001b[0;31m \u001b[0mpesos\u001b[0m\u001b[0;34m\u001b[0m\u001b[0;34m\u001b[0m\u001b[0m\n\u001b[0m",
      "\u001b[0;31mNameError\u001b[0m: name 'pesos' is not defined"
     ]
    }
   ],
   "source": [
    "pesos"
   ]
  },
  {
   "cell_type": "markdown",
   "metadata": {
    "id": "dLmNxUjgpwXZ"
   },
   "source": [
    "## c)\n",
    "Haz la gráfica de la curva de ajuste $\\widehat y=\\widehat\\beta_0+\\widehat\\beta_1x$\n"
   ]
  },
  {
   "cell_type": "markdown",
   "metadata": {
    "id": "FiQuJxHvpwXZ"
   },
   "source": [
    "predicción = $$X\\beta$$"
   ]
  },
  {
   "cell_type": "code",
   "execution_count": null,
   "metadata": {
    "id": "V1VvCimppwXZ"
   },
   "outputs": [],
   "source": [
    "pred = np.matmul(X,pesos)"
   ]
  },
  {
   "cell_type": "code",
   "execution_count": null,
   "metadata": {
    "id": "nur5eFPopwXZ",
    "outputId": "73681d92-d888-460d-c6c7-895a39c5392a"
   },
   "outputs": [],
   "source": [
    "pred"
   ]
  },
  {
   "cell_type": "code",
   "execution_count": null,
   "metadata": {
    "id": "XhdxKisPpwXZ",
    "outputId": "23efeffd-c3ef-4397-e22b-0649eb5daa41"
   },
   "outputs": [],
   "source": [
    "plt.scatter(x,y,color=\"red\", label =\"Datos originales\")\n",
    "plt.plot(x,pred.ravel(), color=\"green\", label=\"Recta ajustada\")\n",
    "plt.title(\"Gráfica de salario vs años de experiencia\")\n",
    "plt.xlabel(\"Años de experiencia\")\n",
    "plt.ylabel(\"Salario (dólares)\")\n",
    "plt.legend()\n",
    "plt.show()"
   ]
  },
  {
   "cell_type": "markdown",
   "metadata": {
    "id": "27ynx5aQpwXa"
   },
   "source": [
    "# Problema 2\n",
    "\n",
    "El banco internacional UBS produce regularmente un informe (UBS, 2009) sobre los precios y las ganancias en las principales ciudades del mundo. Tres de las medidas que incluyen son los precios de los productos básicos, a saber, 1 kg de arroz, una barra de pan de 1 kg y el precio de una hamburguesa Big Mac en McDonalds. Una característica interesante de los precios que informan es que los precios se miden en los minutos de trabajo necesarios para que un trabajador \"típico\" en ese lugar gane suficiente dinero para comprar el producto. El uso de minutos de trabajo corrige al menos en parte las fluctuaciones monetarias, las tasas salariales vigentes y los precios locales. El archivo de datos incluye mediciones de precios de arroz, pan y Big Mac de los informes de 2003 y 2009. El año 2003 fue antes de que la gran recesión golpeara a gran parte del mundo alrededor de 2006, y el año 2009 puede reflejar cambios en los precios debido a la recesión."
   ]
  },
  {
   "cell_type": "markdown",
   "metadata": {
    "id": "FVy_6iYGpwXa"
   },
   "source": [
    "# a) \n",
    "Realiza un gráfico de dispersión de y = rice2009 versus x = rice2003, los precios del\n",
    "arroz en 2009 y en 2003, respectivamente.\n"
   ]
  },
  {
   "cell_type": "code",
   "execution_count": null,
   "metadata": {
    "id": "JgtjA5uQpwXa"
   },
   "outputs": [],
   "source": [
    "dataset_2 = pd.read_csv(\"UBSprices.csv\")"
   ]
  },
  {
   "cell_type": "code",
   "execution_count": 13,
   "metadata": {
    "id": "BIUV7Gl9pwXa",
    "outputId": "81b7ee15-5471-46a5-bcc7-a70dbbd389c2"
   },
   "outputs": [
    {
     "ename": "NameError",
     "evalue": "name 'dataset_2' is not defined",
     "output_type": "error",
     "traceback": [
      "\u001b[0;31m---------------------------------------------------------------------------\u001b[0m",
      "\u001b[0;31mNameError\u001b[0m                                 Traceback (most recent call last)",
      "\u001b[0;32m/tmp/ipykernel_9913/2879195070.py\u001b[0m in \u001b[0;36m<module>\u001b[0;34m\u001b[0m\n\u001b[0;32m----> 1\u001b[0;31m \u001b[0mdataset_2\u001b[0m\u001b[0;34m.\u001b[0m\u001b[0mhead\u001b[0m\u001b[0;34m(\u001b[0m\u001b[0;34m)\u001b[0m\u001b[0;34m\u001b[0m\u001b[0;34m\u001b[0m\u001b[0m\n\u001b[0m",
      "\u001b[0;31mNameError\u001b[0m: name 'dataset_2' is not defined"
     ]
    }
   ],
   "source": [
    "dataset_2.head()"
   ]
  },
  {
   "cell_type": "code",
   "execution_count": null,
   "metadata": {
    "id": "IrN8LKVBpwXa",
    "outputId": "a4398757-79f9-4a4b-871b-ddb198380ae8"
   },
   "outputs": [],
   "source": [
    "dataset_2.shape"
   ]
  },
  {
   "cell_type": "code",
   "execution_count": null,
   "metadata": {
    "id": "Ux8dCGdPpwXb"
   },
   "outputs": [],
   "source": [
    "x_2 = dataset_2[\"rice2003\"].values"
   ]
  },
  {
   "cell_type": "code",
   "execution_count": null,
   "metadata": {
    "id": "FeNeMqM4pwXb",
    "outputId": "4c377bb6-afcf-494b-e8ad-de78860d03a8"
   },
   "outputs": [],
   "source": [
    "x_2"
   ]
  },
  {
   "cell_type": "code",
   "execution_count": null,
   "metadata": {
    "id": "K7UzHFR3pwXb"
   },
   "outputs": [],
   "source": [
    "y_2 = dataset_2[\"rice2009\"].values"
   ]
  },
  {
   "cell_type": "code",
   "execution_count": null,
   "metadata": {
    "id": "KseTfbD4pwXb",
    "outputId": "34db9e30-4fc0-4b25-fd58-299c80263056"
   },
   "outputs": [],
   "source": [
    "y_2"
   ]
  },
  {
   "cell_type": "code",
   "execution_count": null,
   "metadata": {
    "id": "8id1fVD7pwXb",
    "outputId": "64088099-bd7f-4801-e321-4db9cee86804"
   },
   "outputs": [],
   "source": [
    "plt.scatter(x_2,y_2,color=\"red\", label=\"Datos originales\")\n",
    "plt.ylabel(\"Precio del arroz en 2009\")\n",
    "plt.xlabel(\"Precio del arroz en 2003\")\n",
    "plt.title(\"Gráfica del precio del arroz en 2009 vs arroz 2003\")\n",
    "plt.legend()\n",
    "plt.show() "
   ]
  },
  {
   "cell_type": "markdown",
   "metadata": {
    "id": "h8Ysbj_jpwXb"
   },
   "source": [
    "# b)\n",
    "Encuentra los estimadores por mínimos cuadrados $\\widehat\\beta_0$ y $\\widehat\\beta_1$. "
   ]
  },
  {
   "cell_type": "markdown",
   "metadata": {
    "id": "Ga3veU4_pwXb"
   },
   "source": [
    "$$\\hat{\\beta} = (X^TX)^{-1}X^Ty$$"
   ]
  },
  {
   "cell_type": "code",
   "execution_count": 14,
   "metadata": {
    "id": "NK22LMI3pwXc"
   },
   "outputs": [],
   "source": [
    "def regresion_lineal(X,y):\n",
    "    m_1 = np.matmul(X.T,X)\n",
    "    m_2 = np.linalg.inv(m_1)\n",
    "    m_3 = np.matmul(m_2,X.T)\n",
    "    return np.matmul(m_3,y)\n",
    "    "
   ]
  },
  {
   "cell_type": "code",
   "execution_count": 15,
   "metadata": {
    "id": "mCzmJ0enpwXc",
    "outputId": "c3769c4c-142c-4831-86e8-babb0cb93a6d"
   },
   "outputs": [
    {
     "ename": "NameError",
     "evalue": "name 'x_2' is not defined",
     "output_type": "error",
     "traceback": [
      "\u001b[0;31m---------------------------------------------------------------------------\u001b[0m",
      "\u001b[0;31mNameError\u001b[0m                                 Traceback (most recent call last)",
      "\u001b[0;32m/tmp/ipykernel_9913/1307336069.py\u001b[0m in \u001b[0;36m<module>\u001b[0;34m\u001b[0m\n\u001b[0;32m----> 1\u001b[0;31m \u001b[0mlen\u001b[0m\u001b[0;34m(\u001b[0m\u001b[0mx_2\u001b[0m\u001b[0;34m)\u001b[0m\u001b[0;34m\u001b[0m\u001b[0;34m\u001b[0m\u001b[0m\n\u001b[0m",
      "\u001b[0;31mNameError\u001b[0m: name 'x_2' is not defined"
     ]
    }
   ],
   "source": [
    "len(x_2)"
   ]
  },
  {
   "cell_type": "code",
   "execution_count": null,
   "metadata": {
    "id": "1utdMVjVpwXc"
   },
   "outputs": [],
   "source": [
    "x_2_unos = np.ones((len(x_2),1))"
   ]
  },
  {
   "cell_type": "code",
   "execution_count": null,
   "metadata": {
    "id": "NxdI1hB9pwXc",
    "outputId": "d2ff9983-6089-49d8-b41b-01ae5c7b5a0e"
   },
   "outputs": [],
   "source": [
    "x_2_unos"
   ]
  },
  {
   "cell_type": "code",
   "execution_count": null,
   "metadata": {
    "id": "HUvhEV6bpwXc"
   },
   "outputs": [],
   "source": [
    "x_2 = x_2.reshape((-1,1))"
   ]
  },
  {
   "cell_type": "code",
   "execution_count": null,
   "metadata": {
    "id": "K3iAozAfpwXc",
    "outputId": "89e03a4b-f250-475e-92c9-1ce515266434"
   },
   "outputs": [],
   "source": [
    "x_2 "
   ]
  },
  {
   "cell_type": "code",
   "execution_count": null,
   "metadata": {
    "id": "CybeQOkopwXc"
   },
   "outputs": [],
   "source": [
    "X_2 = np.concatenate((x_2_unos,x_2), axis = 1)"
   ]
  },
  {
   "cell_type": "code",
   "execution_count": 16,
   "metadata": {
    "id": "rrx5Zi1ipwXc",
    "outputId": "bf73e814-d4f1-49ce-b48c-0bf01084c41e"
   },
   "outputs": [
    {
     "ename": "NameError",
     "evalue": "name 'X_2' is not defined",
     "output_type": "error",
     "traceback": [
      "\u001b[0;31m---------------------------------------------------------------------------\u001b[0m",
      "\u001b[0;31mNameError\u001b[0m                                 Traceback (most recent call last)",
      "\u001b[0;32m/tmp/ipykernel_9913/2511289838.py\u001b[0m in \u001b[0;36m<module>\u001b[0;34m\u001b[0m\n\u001b[0;32m----> 1\u001b[0;31m \u001b[0mX_2\u001b[0m\u001b[0;34m.\u001b[0m\u001b[0mshape\u001b[0m\u001b[0;34m\u001b[0m\u001b[0;34m\u001b[0m\u001b[0m\n\u001b[0m",
      "\u001b[0;31mNameError\u001b[0m: name 'X_2' is not defined"
     ]
    }
   ],
   "source": [
    "X_2.shape"
   ]
  },
  {
   "cell_type": "code",
   "execution_count": null,
   "metadata": {
    "id": "StMTCgkMpwXc",
    "outputId": "3efda207-3d6c-44a4-98c8-0f5046aaf9e7"
   },
   "outputs": [],
   "source": [
    "X_2 "
   ]
  },
  {
   "cell_type": "code",
   "execution_count": null,
   "metadata": {
    "id": "lIuFcA1jpwXd"
   },
   "outputs": [],
   "source": [
    "y_2 = y_2.reshape((-1,1))"
   ]
  },
  {
   "cell_type": "code",
   "execution_count": null,
   "metadata": {
    "id": "jK8Jj9arpwXd",
    "outputId": "d4002fae-4be1-4ee0-8e0b-6b8bcad175bb"
   },
   "outputs": [],
   "source": [
    "y_2.shape"
   ]
  },
  {
   "cell_type": "code",
   "execution_count": null,
   "metadata": {
    "id": "vaXkRQn7pwXd"
   },
   "outputs": [],
   "source": [
    "pesos_2 = regresion_lineal(X_2,y_2)"
   ]
  },
  {
   "cell_type": "code",
   "execution_count": 17,
   "metadata": {
    "id": "iRyIo1IZpwXd",
    "outputId": "5644d0c7-c2a0-435e-9549-17afeba5fac3"
   },
   "outputs": [
    {
     "ename": "NameError",
     "evalue": "name 'pesos_2' is not defined",
     "output_type": "error",
     "traceback": [
      "\u001b[0;31m---------------------------------------------------------------------------\u001b[0m",
      "\u001b[0;31mNameError\u001b[0m                                 Traceback (most recent call last)",
      "\u001b[0;32m/tmp/ipykernel_9913/2202097166.py\u001b[0m in \u001b[0;36m<module>\u001b[0;34m\u001b[0m\n\u001b[0;32m----> 1\u001b[0;31m \u001b[0mpesos_2\u001b[0m\u001b[0;34m\u001b[0m\u001b[0;34m\u001b[0m\u001b[0m\n\u001b[0m",
      "\u001b[0;31mNameError\u001b[0m: name 'pesos_2' is not defined"
     ]
    }
   ],
   "source": [
    "pesos_2"
   ]
  },
  {
   "cell_type": "markdown",
   "metadata": {
    "id": "5WRQRkt-pwXd"
   },
   "source": [
    "# c)\n",
    "\n",
    "Haz la gráfica de la curva de ajuste $\\widehat y=\\widehat\\beta_0+\\widehat\\beta_1x$\n"
   ]
  },
  {
   "cell_type": "code",
   "execution_count": null,
   "metadata": {
    "id": "kNBLQ_gppwXd"
   },
   "outputs": [],
   "source": [
    "y_2_pred = np.matmul(X_2,pesos_2)"
   ]
  },
  {
   "cell_type": "code",
   "execution_count": null,
   "metadata": {
    "id": "hYgSzViBpwXd",
    "outputId": "9febef9e-9a6d-4b2c-e44b-ec74a9455cdc"
   },
   "outputs": [],
   "source": [
    "y_2_pred.shape"
   ]
  },
  {
   "cell_type": "code",
   "execution_count": null,
   "metadata": {
    "id": "rfh_5I82pwXd",
    "outputId": "626f4b42-6a75-49f0-c3ef-38c5ccce02fc"
   },
   "outputs": [],
   "source": [
    "plt.scatter(x_2,y_2,color=\"red\", label=\"Datos originales\")\n",
    "plt.plot(x_2,y_2_pred.ravel(), color=\"green\", label=\"Recta ajustada\")\n",
    "plt.ylabel(\"Precio del arroz en 2009\")\n",
    "plt.xlabel(\"Precio del arroz en 2003\")\n",
    "plt.title(\"Gráfica del precio del arroz en 2009 vs arroz 2003\")\n",
    "plt.legend()\n",
    "plt.show() "
   ]
  },
  {
   "cell_type": "code",
   "execution_count": null,
   "metadata": {
    "id": "5LNl_3OqpwXe"
   },
   "outputs": [],
   "source": []
  },
  {
   "cell_type": "markdown",
   "metadata": {
    "id": "aBqxA9w6pwXe"
   },
   "source": [
    "# d)\n",
    "Realiza nuevamente un gráfico de dispersión pero usando escalas logarítmicas, es decir, realiza el gráfico de dispersión de $y=\\log(\\mathtt{rice2009})$ versus $x=\\log(\\mathtt{rice2003})$."
   ]
  },
  {
   "cell_type": "markdown",
   "metadata": {
    "id": "JrdU25dxpwXe"
   },
   "source": [
    "# e)\n",
    "Repite los incisos (b) y (c) pero con este representación alternativa en escalas logarítmicas."
   ]
  },
  {
   "cell_type": "code",
   "execution_count": 18,
   "metadata": {
    "id": "0M4oaTwWpwXe"
   },
   "outputs": [
    {
     "ename": "NameError",
     "evalue": "name 'x_2' is not defined",
     "output_type": "error",
     "traceback": [
      "\u001b[0;31m---------------------------------------------------------------------------\u001b[0m",
      "\u001b[0;31mNameError\u001b[0m                                 Traceback (most recent call last)",
      "\u001b[0;32m/tmp/ipykernel_9913/2992689872.py\u001b[0m in \u001b[0;36m<module>\u001b[0;34m\u001b[0m\n\u001b[0;32m----> 1\u001b[0;31m \u001b[0mx_2_log\u001b[0m \u001b[0;34m=\u001b[0m \u001b[0mnp\u001b[0m\u001b[0;34m.\u001b[0m\u001b[0mlog\u001b[0m\u001b[0;34m(\u001b[0m\u001b[0mx_2\u001b[0m\u001b[0;34m)\u001b[0m\u001b[0;34m\u001b[0m\u001b[0;34m\u001b[0m\u001b[0m\n\u001b[0m",
      "\u001b[0;31mNameError\u001b[0m: name 'x_2' is not defined"
     ]
    }
   ],
   "source": [
    "x_2_log = np.log(x_2)"
   ]
  },
  {
   "cell_type": "code",
   "execution_count": null,
   "metadata": {
    "id": "qHPWCJi8pwXe",
    "outputId": "db04a2c8-1923-4aa7-f47b-54fb9252fe92"
   },
   "outputs": [],
   "source": [
    "x_2_log"
   ]
  },
  {
   "cell_type": "code",
   "execution_count": null,
   "metadata": {
    "id": "LX1L8l9hpwXf"
   },
   "outputs": [],
   "source": [
    "y_2_log = np.log(y_2)"
   ]
  },
  {
   "cell_type": "code",
   "execution_count": 19,
   "metadata": {
    "id": "MIFCWJmHpwXf"
   },
   "outputs": [
    {
     "ename": "NameError",
     "evalue": "name 'x_2_unos' is not defined",
     "output_type": "error",
     "traceback": [
      "\u001b[0;31m---------------------------------------------------------------------------\u001b[0m",
      "\u001b[0;31mNameError\u001b[0m                                 Traceback (most recent call last)",
      "\u001b[0;32m/tmp/ipykernel_9913/2259052690.py\u001b[0m in \u001b[0;36m<module>\u001b[0;34m\u001b[0m\n\u001b[0;32m----> 1\u001b[0;31m \u001b[0mX_2_log\u001b[0m \u001b[0;34m=\u001b[0m \u001b[0mnp\u001b[0m\u001b[0;34m.\u001b[0m\u001b[0mconcatenate\u001b[0m\u001b[0;34m(\u001b[0m\u001b[0;34m(\u001b[0m\u001b[0mx_2_unos\u001b[0m\u001b[0;34m,\u001b[0m\u001b[0mx_2_log\u001b[0m\u001b[0;34m)\u001b[0m\u001b[0;34m,\u001b[0m \u001b[0maxis\u001b[0m \u001b[0;34m=\u001b[0m \u001b[0;36m1\u001b[0m\u001b[0;34m)\u001b[0m\u001b[0;34m\u001b[0m\u001b[0;34m\u001b[0m\u001b[0m\n\u001b[0m",
      "\u001b[0;31mNameError\u001b[0m: name 'x_2_unos' is not defined"
     ]
    }
   ],
   "source": [
    "X_2_log = np.concatenate((x_2_unos,x_2_log), axis = 1)"
   ]
  },
  {
   "cell_type": "code",
   "execution_count": null,
   "metadata": {
    "id": "0LyWpiRfpwXf",
    "outputId": "8a579ca9-417c-414d-de3f-1c60aab82aaf"
   },
   "outputs": [],
   "source": [
    "X_2_log"
   ]
  },
  {
   "cell_type": "code",
   "execution_count": null,
   "metadata": {
    "id": "2RT_aCC8pwXf"
   },
   "outputs": [],
   "source": [
    "pesos_2_log = regresion_lineal(X_2_log,y_2_log)"
   ]
  },
  {
   "cell_type": "code",
   "execution_count": null,
   "metadata": {
    "id": "h5GPj7B4pwXf",
    "outputId": "6ba1a11f-908a-4fa2-8036-df5dd6c7c94b"
   },
   "outputs": [],
   "source": [
    "pesos_2_log"
   ]
  },
  {
   "cell_type": "code",
   "execution_count": 20,
   "metadata": {
    "id": "_p1ORwcDpwXg"
   },
   "outputs": [
    {
     "ename": "NameError",
     "evalue": "name 'X_2_log' is not defined",
     "output_type": "error",
     "traceback": [
      "\u001b[0;31m---------------------------------------------------------------------------\u001b[0m",
      "\u001b[0;31mNameError\u001b[0m                                 Traceback (most recent call last)",
      "\u001b[0;32m/tmp/ipykernel_9913/566687701.py\u001b[0m in \u001b[0;36m<module>\u001b[0;34m\u001b[0m\n\u001b[0;32m----> 1\u001b[0;31m \u001b[0my_2_log_pred\u001b[0m \u001b[0;34m=\u001b[0m \u001b[0mnp\u001b[0m\u001b[0;34m.\u001b[0m\u001b[0mmatmul\u001b[0m\u001b[0;34m(\u001b[0m\u001b[0mX_2_log\u001b[0m\u001b[0;34m,\u001b[0m \u001b[0mpesos_2_log\u001b[0m\u001b[0;34m)\u001b[0m\u001b[0;34m\u001b[0m\u001b[0;34m\u001b[0m\u001b[0m\n\u001b[0m",
      "\u001b[0;31mNameError\u001b[0m: name 'X_2_log' is not defined"
     ]
    }
   ],
   "source": [
    "y_2_log_pred = np.matmul(X_2_log, pesos_2_log)"
   ]
  },
  {
   "cell_type": "code",
   "execution_count": null,
   "metadata": {
    "id": "NDc5xTLXpwXg",
    "outputId": "3b35954b-0b77-4bfe-d8fa-271238c7ee3a"
   },
   "outputs": [],
   "source": [
    "plt.scatter(x_2_log,y_2_log,color=\"red\", label=\"Datos originales\")\n",
    "plt.plot(x_2_log,y_2_log_pred.ravel(), color=\"green\", label=\"Recta ajustada\")\n",
    "plt.ylabel(\"ln(Precio del arroz en 2009)\")\n",
    "plt.xlabel(\"ln(Precio del arroz en 2003)\")\n",
    "plt.title(\"Gráfica en escala logarítmica del precio del arroz en 2009 vs arroz 2003\")\n",
    "plt.legend()\n",
    "plt.show() "
   ]
  },
  {
   "cell_type": "code",
   "execution_count": null,
   "metadata": {
    "id": "91A6NN_ipwXg"
   },
   "outputs": [],
   "source": []
  },
  {
   "cell_type": "code",
   "execution_count": null,
   "metadata": {
    "id": "fNsHAPnupwXg"
   },
   "outputs": [],
   "source": []
  },
  {
   "cell_type": "code",
   "execution_count": null,
   "metadata": {
    "id": "7zkVA1Y0pwXg"
   },
   "outputs": [],
   "source": []
  },
  {
   "cell_type": "code",
   "execution_count": null,
   "metadata": {
    "id": "w5diVa3IpwXg"
   },
   "outputs": [],
   "source": []
  },
  {
   "cell_type": "code",
   "execution_count": null,
   "metadata": {
    "id": "kmxgCGaUpwXg"
   },
   "outputs": [],
   "source": []
  },
  {
   "cell_type": "markdown",
   "metadata": {
    "id": "ptFMT3PPpwXg"
   },
   "source": [
    "# f) Regresando a la expresión original.\n",
    "En la parte anterior, se realizó una regresión lineal para las variables $ln(y) = \\beta_{0} + \\beta_1ln(x)$, esto implica que:\n",
    "$$y = e^{\\beta_{0} + \\beta_1ln(x)} = e^{\\beta_{0} + ln\\left(x^{\\beta_1}\\right)} = e^{\\beta_0}e^{ln\\left(x^{\\beta_1}\\right)} = e^{\\beta_0}x^{\\beta_1}$$\n",
    "entonces, la función que se ajustó es:\n",
    "$$y = e^{\\beta_0}x^{\\beta_1}$$\n",
    "\n",
    "A continuación la vamos a graficar, junto con los datos originales, para ver como es el modelo."
   ]
  },
  {
   "cell_type": "code",
   "execution_count": 21,
   "metadata": {
    "id": "LGax7GmUpwXh",
    "outputId": "883fd217-b7d5-4548-ccaf-103d970ffdf3"
   },
   "outputs": [
    {
     "ename": "NameError",
     "evalue": "name 'pesos_2_log' is not defined",
     "output_type": "error",
     "traceback": [
      "\u001b[0;31m---------------------------------------------------------------------------\u001b[0m",
      "\u001b[0;31mNameError\u001b[0m                                 Traceback (most recent call last)",
      "\u001b[0;32m/tmp/ipykernel_9913/2038520134.py\u001b[0m in \u001b[0;36m<module>\u001b[0;34m\u001b[0m\n\u001b[0;32m----> 1\u001b[0;31m \u001b[0mpesos_2_log\u001b[0m\u001b[0;34m\u001b[0m\u001b[0;34m\u001b[0m\u001b[0m\n\u001b[0m",
      "\u001b[0;31mNameError\u001b[0m: name 'pesos_2_log' is not defined"
     ]
    }
   ],
   "source": [
    "pesos_2_log"
   ]
  },
  {
   "cell_type": "code",
   "execution_count": null,
   "metadata": {
    "id": "UyPtzuDVpwXh",
    "outputId": "cce02935-99d8-4f20-f254-76951d15706e"
   },
   "outputs": [],
   "source": [
    "pesos_2_log[1][0]"
   ]
  },
  {
   "cell_type": "code",
   "execution_count": null,
   "metadata": {
    "id": "kQEWoYsZpwXh",
    "outputId": "ac4a6a19-23a5-4a7f-ee09-73c0ffa46123"
   },
   "outputs": [],
   "source": [
    "pesos_2_log.shape"
   ]
  },
  {
   "cell_type": "code",
   "execution_count": null,
   "metadata": {
    "id": "Q9ZVbaeRpwXh"
   },
   "outputs": [],
   "source": [
    "pred_2_log_or = np.exp(pesos_2_log[0][0])*np.power(x_2,pesos_2_log[1][0])"
   ]
  },
  {
   "cell_type": "code",
   "execution_count": null,
   "metadata": {
    "id": "gA6DioxqpwXh"
   },
   "outputs": [],
   "source": [
    "x_dom_2 = np.linspace(np.min(x_2),np.max(x_2),1000)"
   ]
  },
  {
   "cell_type": "code",
   "execution_count": 22,
   "metadata": {
    "id": "RGph8W5PpwXh",
    "outputId": "b519d2fb-8336-49c0-a1d3-df42958873c4"
   },
   "outputs": [
    {
     "ename": "NameError",
     "evalue": "name 'x_dom_2' is not defined",
     "output_type": "error",
     "traceback": [
      "\u001b[0;31m---------------------------------------------------------------------------\u001b[0m",
      "\u001b[0;31mNameError\u001b[0m                                 Traceback (most recent call last)",
      "\u001b[0;32m/tmp/ipykernel_9913/4154883409.py\u001b[0m in \u001b[0;36m<module>\u001b[0;34m\u001b[0m\n\u001b[0;32m----> 1\u001b[0;31m \u001b[0mx_dom_2\u001b[0m\u001b[0;34m\u001b[0m\u001b[0;34m\u001b[0m\u001b[0m\n\u001b[0m",
      "\u001b[0;31mNameError\u001b[0m: name 'x_dom_2' is not defined"
     ]
    }
   ],
   "source": [
    "x_dom_2"
   ]
  },
  {
   "cell_type": "code",
   "execution_count": null,
   "metadata": {
    "id": "NUS4qUGVpwXh"
   },
   "outputs": [],
   "source": [
    "pred_2_log_or = np.exp(pesos_2_log[0][0])*np.power(x_dom_2,pesos_2_log[1][0])"
   ]
  },
  {
   "cell_type": "code",
   "execution_count": null,
   "metadata": {
    "id": "ooas78HipwXh",
    "outputId": "24a15bb7-92d2-4aa2-e1ea-c6df1e4f3ef9"
   },
   "outputs": [],
   "source": [
    "plt.scatter(x_2,y_2,color=\"red\", label=\"Datos originales\")\n",
    "plt.plot(x_dom_2,pred_2_log_or, color=\"green\", label=\"Curva ajustada\")\n",
    "plt.ylabel(\"Precio del arroz en 2009\")\n",
    "plt.xlabel(\"Precio del arroz en 2003\")\n",
    "plt.title(\"Gráfica del precio del arroz en 2009 vs arroz 2003\")\n",
    "plt.legend()\n",
    "plt.show()"
   ]
  },
  {
   "cell_type": "code",
   "execution_count": null,
   "metadata": {
    "id": "jkSu5pv9pwXi"
   },
   "outputs": [],
   "source": []
  },
  {
   "cell_type": "code",
   "execution_count": null,
   "metadata": {
    "id": "ezTF1i-opwXi"
   },
   "outputs": [],
   "source": []
  },
  {
   "cell_type": "code",
   "execution_count": null,
   "metadata": {
    "id": "CUhPwEhRpwXi"
   },
   "outputs": [],
   "source": []
  },
  {
   "cell_type": "code",
   "execution_count": null,
   "metadata": {
    "id": "hrHSfCbupwXi"
   },
   "outputs": [],
   "source": []
  },
  {
   "cell_type": "markdown",
   "metadata": {
    "id": "_aLHwaPupwXi"
   },
   "source": [
    "## Problema 3.\n",
    "\n",
    "El Estudio de orientación de Berkeley  inscribió a niños nacidos en Berkeley, California, entre enero de 1928 y junio de 1929, y luego los midió periódicamente hasta los 18 años (Tuddenham y Snyder, 1954). Los datos que utilizamos incluyen alturas en centímetros a las edades de 2, 9 y 18 años ($\\mathtt{HT2}$, $\\mathtt{HT9}$ y $\\mathtt{HT18}$), pesos en kilogramos ($\\mathtt{WT2}$, $\\mathtt{WT9}$ y $\\mathtt{WT18}$), circunferencia de la pierna en centímetros ($\\mathtt{LG2}$, $\\mathtt{LG9}$ y $\\mathtt{LG18}$) y fuerza en kilogramo ($\\mathtt{ST2}$, $\\mathtt{ST9}$ y $\\mathtt{ST18}$). También se proporcionan dos medidas adicionales del tipo de cuerpo, $\\mathtt{soma}$, somatotipo, una escala de 1, muy delgada, a 7, obesidad e índice de masa corporal, calculada como $\\mathtt{IMC18}=\\mathtt{WT18} / (\\mathtt{HT18} / 100)^2$, peso en kilogramo dividido por el cuadrado de masa en metros, una medida estándar de la obesidad. "
   ]
  },
  {
   "cell_type": "markdown",
   "metadata": {
    "id": "_dDPy7qJpwXi"
   },
   "source": [
    "## a)\n",
    "Haga la matriz de diagramas de dispersión de $\\mathtt{HT2}$, $\\mathtt{HT9}$, $\\mathtt{WT2}$, $\\mathtt{WT9}$, $\\mathtt{ST9}$, y $\\mathtt{BMI18}$."
   ]
  },
  {
   "cell_type": "code",
   "execution_count": 23,
   "metadata": {
    "id": "GglieB32pwXi"
   },
   "outputs": [
    {
     "ename": "FileNotFoundError",
     "evalue": "[Errno 2] No such file or directory: 'BGSgirls.csv'",
     "output_type": "error",
     "traceback": [
      "\u001b[0;31m---------------------------------------------------------------------------\u001b[0m",
      "\u001b[0;31mFileNotFoundError\u001b[0m                         Traceback (most recent call last)",
      "\u001b[0;32m/tmp/ipykernel_9913/4110147060.py\u001b[0m in \u001b[0;36m<module>\u001b[0;34m\u001b[0m\n\u001b[0;32m----> 1\u001b[0;31m \u001b[0mdataset_3\u001b[0m \u001b[0;34m=\u001b[0m \u001b[0mpd\u001b[0m\u001b[0;34m.\u001b[0m\u001b[0mread_csv\u001b[0m\u001b[0;34m(\u001b[0m\u001b[0;34m\"BGSgirls.csv\"\u001b[0m\u001b[0;34m)\u001b[0m\u001b[0;34m\u001b[0m\u001b[0;34m\u001b[0m\u001b[0m\n\u001b[0m",
      "\u001b[0;32m~/.local/lib/python3.9/site-packages/pandas/util/_decorators.py\u001b[0m in \u001b[0;36mwrapper\u001b[0;34m(*args, **kwargs)\u001b[0m\n\u001b[1;32m    309\u001b[0m                     \u001b[0mstacklevel\u001b[0m\u001b[0;34m=\u001b[0m\u001b[0mstacklevel\u001b[0m\u001b[0;34m,\u001b[0m\u001b[0;34m\u001b[0m\u001b[0;34m\u001b[0m\u001b[0m\n\u001b[1;32m    310\u001b[0m                 )\n\u001b[0;32m--> 311\u001b[0;31m             \u001b[0;32mreturn\u001b[0m \u001b[0mfunc\u001b[0m\u001b[0;34m(\u001b[0m\u001b[0;34m*\u001b[0m\u001b[0margs\u001b[0m\u001b[0;34m,\u001b[0m \u001b[0;34m**\u001b[0m\u001b[0mkwargs\u001b[0m\u001b[0;34m)\u001b[0m\u001b[0;34m\u001b[0m\u001b[0;34m\u001b[0m\u001b[0m\n\u001b[0m\u001b[1;32m    312\u001b[0m \u001b[0;34m\u001b[0m\u001b[0m\n\u001b[1;32m    313\u001b[0m         \u001b[0;32mreturn\u001b[0m \u001b[0mwrapper\u001b[0m\u001b[0;34m\u001b[0m\u001b[0;34m\u001b[0m\u001b[0m\n",
      "\u001b[0;32m~/.local/lib/python3.9/site-packages/pandas/io/parsers/readers.py\u001b[0m in \u001b[0;36mread_csv\u001b[0;34m(filepath_or_buffer, sep, delimiter, header, names, index_col, usecols, squeeze, prefix, mangle_dupe_cols, dtype, engine, converters, true_values, false_values, skipinitialspace, skiprows, skipfooter, nrows, na_values, keep_default_na, na_filter, verbose, skip_blank_lines, parse_dates, infer_datetime_format, keep_date_col, date_parser, dayfirst, cache_dates, iterator, chunksize, compression, thousands, decimal, lineterminator, quotechar, quoting, doublequote, escapechar, comment, encoding, encoding_errors, dialect, error_bad_lines, warn_bad_lines, on_bad_lines, delim_whitespace, low_memory, memory_map, float_precision, storage_options)\u001b[0m\n\u001b[1;32m    584\u001b[0m     \u001b[0mkwds\u001b[0m\u001b[0;34m.\u001b[0m\u001b[0mupdate\u001b[0m\u001b[0;34m(\u001b[0m\u001b[0mkwds_defaults\u001b[0m\u001b[0;34m)\u001b[0m\u001b[0;34m\u001b[0m\u001b[0;34m\u001b[0m\u001b[0m\n\u001b[1;32m    585\u001b[0m \u001b[0;34m\u001b[0m\u001b[0m\n\u001b[0;32m--> 586\u001b[0;31m     \u001b[0;32mreturn\u001b[0m \u001b[0m_read\u001b[0m\u001b[0;34m(\u001b[0m\u001b[0mfilepath_or_buffer\u001b[0m\u001b[0;34m,\u001b[0m \u001b[0mkwds\u001b[0m\u001b[0;34m)\u001b[0m\u001b[0;34m\u001b[0m\u001b[0;34m\u001b[0m\u001b[0m\n\u001b[0m\u001b[1;32m    587\u001b[0m \u001b[0;34m\u001b[0m\u001b[0m\n\u001b[1;32m    588\u001b[0m \u001b[0;34m\u001b[0m\u001b[0m\n",
      "\u001b[0;32m~/.local/lib/python3.9/site-packages/pandas/io/parsers/readers.py\u001b[0m in \u001b[0;36m_read\u001b[0;34m(filepath_or_buffer, kwds)\u001b[0m\n\u001b[1;32m    480\u001b[0m \u001b[0;34m\u001b[0m\u001b[0m\n\u001b[1;32m    481\u001b[0m     \u001b[0;31m# Create the parser.\u001b[0m\u001b[0;34m\u001b[0m\u001b[0;34m\u001b[0m\u001b[0m\n\u001b[0;32m--> 482\u001b[0;31m     \u001b[0mparser\u001b[0m \u001b[0;34m=\u001b[0m \u001b[0mTextFileReader\u001b[0m\u001b[0;34m(\u001b[0m\u001b[0mfilepath_or_buffer\u001b[0m\u001b[0;34m,\u001b[0m \u001b[0;34m**\u001b[0m\u001b[0mkwds\u001b[0m\u001b[0;34m)\u001b[0m\u001b[0;34m\u001b[0m\u001b[0;34m\u001b[0m\u001b[0m\n\u001b[0m\u001b[1;32m    483\u001b[0m \u001b[0;34m\u001b[0m\u001b[0m\n\u001b[1;32m    484\u001b[0m     \u001b[0;32mif\u001b[0m \u001b[0mchunksize\u001b[0m \u001b[0;32mor\u001b[0m \u001b[0miterator\u001b[0m\u001b[0;34m:\u001b[0m\u001b[0;34m\u001b[0m\u001b[0;34m\u001b[0m\u001b[0m\n",
      "\u001b[0;32m~/.local/lib/python3.9/site-packages/pandas/io/parsers/readers.py\u001b[0m in \u001b[0;36m__init__\u001b[0;34m(self, f, engine, **kwds)\u001b[0m\n\u001b[1;32m    809\u001b[0m             \u001b[0mself\u001b[0m\u001b[0;34m.\u001b[0m\u001b[0moptions\u001b[0m\u001b[0;34m[\u001b[0m\u001b[0;34m\"has_index_names\"\u001b[0m\u001b[0;34m]\u001b[0m \u001b[0;34m=\u001b[0m \u001b[0mkwds\u001b[0m\u001b[0;34m[\u001b[0m\u001b[0;34m\"has_index_names\"\u001b[0m\u001b[0;34m]\u001b[0m\u001b[0;34m\u001b[0m\u001b[0;34m\u001b[0m\u001b[0m\n\u001b[1;32m    810\u001b[0m \u001b[0;34m\u001b[0m\u001b[0m\n\u001b[0;32m--> 811\u001b[0;31m         \u001b[0mself\u001b[0m\u001b[0;34m.\u001b[0m\u001b[0m_engine\u001b[0m \u001b[0;34m=\u001b[0m \u001b[0mself\u001b[0m\u001b[0;34m.\u001b[0m\u001b[0m_make_engine\u001b[0m\u001b[0;34m(\u001b[0m\u001b[0mself\u001b[0m\u001b[0;34m.\u001b[0m\u001b[0mengine\u001b[0m\u001b[0;34m)\u001b[0m\u001b[0;34m\u001b[0m\u001b[0;34m\u001b[0m\u001b[0m\n\u001b[0m\u001b[1;32m    812\u001b[0m \u001b[0;34m\u001b[0m\u001b[0m\n\u001b[1;32m    813\u001b[0m     \u001b[0;32mdef\u001b[0m \u001b[0mclose\u001b[0m\u001b[0;34m(\u001b[0m\u001b[0mself\u001b[0m\u001b[0;34m)\u001b[0m\u001b[0;34m:\u001b[0m\u001b[0;34m\u001b[0m\u001b[0;34m\u001b[0m\u001b[0m\n",
      "\u001b[0;32m~/.local/lib/python3.9/site-packages/pandas/io/parsers/readers.py\u001b[0m in \u001b[0;36m_make_engine\u001b[0;34m(self, engine)\u001b[0m\n\u001b[1;32m   1038\u001b[0m             )\n\u001b[1;32m   1039\u001b[0m         \u001b[0;31m# error: Too many arguments for \"ParserBase\"\u001b[0m\u001b[0;34m\u001b[0m\u001b[0;34m\u001b[0m\u001b[0m\n\u001b[0;32m-> 1040\u001b[0;31m         \u001b[0;32mreturn\u001b[0m \u001b[0mmapping\u001b[0m\u001b[0;34m[\u001b[0m\u001b[0mengine\u001b[0m\u001b[0;34m]\u001b[0m\u001b[0;34m(\u001b[0m\u001b[0mself\u001b[0m\u001b[0;34m.\u001b[0m\u001b[0mf\u001b[0m\u001b[0;34m,\u001b[0m \u001b[0;34m**\u001b[0m\u001b[0mself\u001b[0m\u001b[0;34m.\u001b[0m\u001b[0moptions\u001b[0m\u001b[0;34m)\u001b[0m  \u001b[0;31m# type: ignore[call-arg]\u001b[0m\u001b[0;34m\u001b[0m\u001b[0;34m\u001b[0m\u001b[0m\n\u001b[0m\u001b[1;32m   1041\u001b[0m \u001b[0;34m\u001b[0m\u001b[0m\n\u001b[1;32m   1042\u001b[0m     \u001b[0;32mdef\u001b[0m \u001b[0m_failover_to_python\u001b[0m\u001b[0;34m(\u001b[0m\u001b[0mself\u001b[0m\u001b[0;34m)\u001b[0m\u001b[0;34m:\u001b[0m\u001b[0;34m\u001b[0m\u001b[0;34m\u001b[0m\u001b[0m\n",
      "\u001b[0;32m~/.local/lib/python3.9/site-packages/pandas/io/parsers/c_parser_wrapper.py\u001b[0m in \u001b[0;36m__init__\u001b[0;34m(self, src, **kwds)\u001b[0m\n\u001b[1;32m     49\u001b[0m \u001b[0;34m\u001b[0m\u001b[0m\n\u001b[1;32m     50\u001b[0m         \u001b[0;31m# open handles\u001b[0m\u001b[0;34m\u001b[0m\u001b[0;34m\u001b[0m\u001b[0m\n\u001b[0;32m---> 51\u001b[0;31m         \u001b[0mself\u001b[0m\u001b[0;34m.\u001b[0m\u001b[0m_open_handles\u001b[0m\u001b[0;34m(\u001b[0m\u001b[0msrc\u001b[0m\u001b[0;34m,\u001b[0m \u001b[0mkwds\u001b[0m\u001b[0;34m)\u001b[0m\u001b[0;34m\u001b[0m\u001b[0;34m\u001b[0m\u001b[0m\n\u001b[0m\u001b[1;32m     52\u001b[0m         \u001b[0;32massert\u001b[0m \u001b[0mself\u001b[0m\u001b[0;34m.\u001b[0m\u001b[0mhandles\u001b[0m \u001b[0;32mis\u001b[0m \u001b[0;32mnot\u001b[0m \u001b[0;32mNone\u001b[0m\u001b[0;34m\u001b[0m\u001b[0;34m\u001b[0m\u001b[0m\n\u001b[1;32m     53\u001b[0m \u001b[0;34m\u001b[0m\u001b[0m\n",
      "\u001b[0;32m~/.local/lib/python3.9/site-packages/pandas/io/parsers/base_parser.py\u001b[0m in \u001b[0;36m_open_handles\u001b[0;34m(self, src, kwds)\u001b[0m\n\u001b[1;32m    220\u001b[0m         \u001b[0mLet\u001b[0m \u001b[0mthe\u001b[0m \u001b[0mreaders\u001b[0m \u001b[0mopen\u001b[0m \u001b[0mIOHandles\u001b[0m \u001b[0mafter\u001b[0m \u001b[0mthey\u001b[0m \u001b[0mare\u001b[0m \u001b[0mdone\u001b[0m \u001b[0;32mwith\u001b[0m \u001b[0mtheir\u001b[0m \u001b[0mpotential\u001b[0m \u001b[0mraises\u001b[0m\u001b[0;34m.\u001b[0m\u001b[0;34m\u001b[0m\u001b[0;34m\u001b[0m\u001b[0m\n\u001b[1;32m    221\u001b[0m         \"\"\"\n\u001b[0;32m--> 222\u001b[0;31m         self.handles = get_handle(\n\u001b[0m\u001b[1;32m    223\u001b[0m             \u001b[0msrc\u001b[0m\u001b[0;34m,\u001b[0m\u001b[0;34m\u001b[0m\u001b[0;34m\u001b[0m\u001b[0m\n\u001b[1;32m    224\u001b[0m             \u001b[0;34m\"r\"\u001b[0m\u001b[0;34m,\u001b[0m\u001b[0;34m\u001b[0m\u001b[0;34m\u001b[0m\u001b[0m\n",
      "\u001b[0;32m~/.local/lib/python3.9/site-packages/pandas/io/common.py\u001b[0m in \u001b[0;36mget_handle\u001b[0;34m(path_or_buf, mode, encoding, compression, memory_map, is_text, errors, storage_options)\u001b[0m\n\u001b[1;32m    700\u001b[0m         \u001b[0;32mif\u001b[0m \u001b[0mioargs\u001b[0m\u001b[0;34m.\u001b[0m\u001b[0mencoding\u001b[0m \u001b[0;32mand\u001b[0m \u001b[0;34m\"b\"\u001b[0m \u001b[0;32mnot\u001b[0m \u001b[0;32min\u001b[0m \u001b[0mioargs\u001b[0m\u001b[0;34m.\u001b[0m\u001b[0mmode\u001b[0m\u001b[0;34m:\u001b[0m\u001b[0;34m\u001b[0m\u001b[0;34m\u001b[0m\u001b[0m\n\u001b[1;32m    701\u001b[0m             \u001b[0;31m# Encoding\u001b[0m\u001b[0;34m\u001b[0m\u001b[0;34m\u001b[0m\u001b[0m\n\u001b[0;32m--> 702\u001b[0;31m             handle = open(\n\u001b[0m\u001b[1;32m    703\u001b[0m                 \u001b[0mhandle\u001b[0m\u001b[0;34m,\u001b[0m\u001b[0;34m\u001b[0m\u001b[0;34m\u001b[0m\u001b[0m\n\u001b[1;32m    704\u001b[0m                 \u001b[0mioargs\u001b[0m\u001b[0;34m.\u001b[0m\u001b[0mmode\u001b[0m\u001b[0;34m,\u001b[0m\u001b[0;34m\u001b[0m\u001b[0;34m\u001b[0m\u001b[0m\n",
      "\u001b[0;31mFileNotFoundError\u001b[0m: [Errno 2] No such file or directory: 'BGSgirls.csv'"
     ]
    }
   ],
   "source": [
    "dataset_3 = pd.read_csv(\"BGSgirls.csv\")"
   ]
  },
  {
   "cell_type": "code",
   "execution_count": null,
   "metadata": {
    "id": "vs1TxdXCpwXi",
    "outputId": "ee83ef90-c59c-4b32-dbbd-d70dd74ce76c"
   },
   "outputs": [],
   "source": [
    "dataset_3.head()"
   ]
  },
  {
   "cell_type": "code",
   "execution_count": null,
   "metadata": {
    "id": "YSOvZmpcpwXj"
   },
   "outputs": [],
   "source": [
    "dataset_4 = pd.DataFrame()"
   ]
  },
  {
   "cell_type": "code",
   "execution_count": null,
   "metadata": {
    "id": "E1yz_ZatpwXj"
   },
   "outputs": [],
   "source": [
    "dataset_4[\"HT2\"] = dataset_3[\"HT2\"]\n",
    "dataset_4[\"HT9\"] = dataset_3[\"HT9\"]\n",
    "dataset_4[\"WT2\"] = dataset_3[\"WT2\"]\n",
    "dataset_4[\"WT9\"] = dataset_3[\"WT9\"]\n",
    "dataset_4[\"ST9\"] = dataset_3[\"ST9\"]\n",
    "dataset_4[\"BMI18\"] = dataset_3[\"BMI18\"]\n",
    "\n",
    "\n",
    "\n",
    "\n"
   ]
  },
  {
   "cell_type": "code",
   "execution_count": null,
   "metadata": {
    "id": "5xOC0G45pwXj",
    "outputId": "59b72a2b-d342-44d6-9fc6-812cc880e549"
   },
   "outputs": [],
   "source": [
    "dataset_4.head()"
   ]
  },
  {
   "cell_type": "code",
   "execution_count": null,
   "metadata": {
    "id": "2rQbkE0rpwXj",
    "outputId": "0d0e7ae0-5ee1-442d-a000-6dc0f3fb86f4"
   },
   "outputs": [],
   "source": [
    "pd.plotting.scatter_matrix(dataset_4, alpha=0.5, color=\"red\", grid=False)"
   ]
  },
  {
   "cell_type": "markdown",
   "metadata": {
    "id": "jn7RZFzspwXj"
   },
   "source": [
    "## b)\n",
    "Ajuste el modelo de regresión lineal por mínimos cuadrados para la variable $y=\\mathtt{BMI18}$ versus $x_1=\\mathtt{HT2}$, $x_2=\\mathtt{WT2}$, $x_3=\\mathtt{HT9}$, $x_4=\\mathtt{WT9}$ y $x_5=\\mathtt{ST9}$.\n",
    "\n",
    "$$y = ax_1+bx_2+cx_3+dx_4+ex_5+f$$"
   ]
  },
  {
   "cell_type": "code",
   "execution_count": 24,
   "metadata": {
    "id": "PIwrRpm2pwXk"
   },
   "outputs": [
    {
     "ename": "NameError",
     "evalue": "name 'dataset_4' is not defined",
     "output_type": "error",
     "traceback": [
      "\u001b[0;31m---------------------------------------------------------------------------\u001b[0m",
      "\u001b[0;31mNameError\u001b[0m                                 Traceback (most recent call last)",
      "\u001b[0;32m/tmp/ipykernel_9913/2303387.py\u001b[0m in \u001b[0;36m<module>\u001b[0;34m\u001b[0m\n\u001b[0;32m----> 1\u001b[0;31m \u001b[0mX_3\u001b[0m \u001b[0;34m=\u001b[0m \u001b[0mdataset_4\u001b[0m\u001b[0;34m.\u001b[0m\u001b[0miloc\u001b[0m\u001b[0;34m[\u001b[0m\u001b[0;34m:\u001b[0m\u001b[0;34m,\u001b[0m\u001b[0;34m[\u001b[0m\u001b[0;36m0\u001b[0m\u001b[0;34m,\u001b[0m\u001b[0;36m1\u001b[0m\u001b[0;34m,\u001b[0m\u001b[0;36m2\u001b[0m\u001b[0;34m,\u001b[0m\u001b[0;36m3\u001b[0m\u001b[0;34m,\u001b[0m\u001b[0;36m4\u001b[0m\u001b[0;34m]\u001b[0m\u001b[0;34m]\u001b[0m\u001b[0;34m.\u001b[0m\u001b[0mvalues\u001b[0m\u001b[0;34m\u001b[0m\u001b[0;34m\u001b[0m\u001b[0m\n\u001b[0m",
      "\u001b[0;31mNameError\u001b[0m: name 'dataset_4' is not defined"
     ]
    }
   ],
   "source": [
    "X_3 = dataset_4.iloc[:,[0,1,2,3,4]].values"
   ]
  },
  {
   "cell_type": "code",
   "execution_count": null,
   "metadata": {
    "id": "UC9OX6k9pwXk",
    "outputId": "ecf39b0d-9c0b-45e4-ccce-0a74362ec1a5"
   },
   "outputs": [],
   "source": [
    "X_3"
   ]
  },
  {
   "cell_type": "code",
   "execution_count": null,
   "metadata": {
    "id": "i2WzRB71pwXk"
   },
   "outputs": [],
   "source": [
    "y_3 = dataset_4[\"BMI18\"].values"
   ]
  },
  {
   "cell_type": "code",
   "execution_count": null,
   "metadata": {
    "id": "AbCCYWXWpwXk",
    "outputId": "55d3a947-4168-4296-aa03-201c479681d7"
   },
   "outputs": [],
   "source": [
    "len(y_3)"
   ]
  },
  {
   "cell_type": "code",
   "execution_count": null,
   "metadata": {
    "id": "9DAQ61VdpwXk"
   },
   "outputs": [],
   "source": [
    "y_3 = y_3.reshape((-1,1))"
   ]
  },
  {
   "cell_type": "code",
   "execution_count": 25,
   "metadata": {
    "id": "DnDpFONSpwXl",
    "outputId": "340444ec-e93a-4fea-f285-5d520b420780"
   },
   "outputs": [
    {
     "ename": "NameError",
     "evalue": "name 'y_3' is not defined",
     "output_type": "error",
     "traceback": [
      "\u001b[0;31m---------------------------------------------------------------------------\u001b[0m",
      "\u001b[0;31mNameError\u001b[0m                                 Traceback (most recent call last)",
      "\u001b[0;32m/tmp/ipykernel_9913/4049215327.py\u001b[0m in \u001b[0;36m<module>\u001b[0;34m\u001b[0m\n\u001b[0;32m----> 1\u001b[0;31m \u001b[0my_3\u001b[0m\u001b[0;34m.\u001b[0m\u001b[0mshape\u001b[0m\u001b[0;34m\u001b[0m\u001b[0;34m\u001b[0m\u001b[0m\n\u001b[0m",
      "\u001b[0;31mNameError\u001b[0m: name 'y_3' is not defined"
     ]
    }
   ],
   "source": [
    "y_3.shape"
   ]
  },
  {
   "cell_type": "code",
   "execution_count": null,
   "metadata": {
    "id": "DksT7tjvpwXl",
    "outputId": "5df03d96-bb39-48b6-ac57-da041aa1c959"
   },
   "outputs": [],
   "source": [
    "X_3.shape"
   ]
  },
  {
   "cell_type": "code",
   "execution_count": null,
   "metadata": {
    "id": "tkv7nPAupwXl"
   },
   "outputs": [],
   "source": [
    "x_3_unos = np.ones((X_3.shape[0],1))"
   ]
  },
  {
   "cell_type": "code",
   "execution_count": null,
   "metadata": {
    "id": "2vYbPX37pwXl",
    "outputId": "2ac34324-c834-4ce4-8515-d1b34322a07b"
   },
   "outputs": [],
   "source": [
    "x_3_unos.shape"
   ]
  },
  {
   "cell_type": "code",
   "execution_count": null,
   "metadata": {
    "id": "9laM50wApwXl"
   },
   "outputs": [],
   "source": [
    "X_3 = np.concatenate((x_3_unos,X_3), axis = 1)"
   ]
  },
  {
   "cell_type": "code",
   "execution_count": 26,
   "metadata": {
    "id": "KBflLR0upwXl",
    "outputId": "f120fd97-e715-4ad7-fa17-70c4e6b2aebb"
   },
   "outputs": [
    {
     "ename": "NameError",
     "evalue": "name 'X_3' is not defined",
     "output_type": "error",
     "traceback": [
      "\u001b[0;31m---------------------------------------------------------------------------\u001b[0m",
      "\u001b[0;31mNameError\u001b[0m                                 Traceback (most recent call last)",
      "\u001b[0;32m/tmp/ipykernel_9913/1855338707.py\u001b[0m in \u001b[0;36m<module>\u001b[0;34m\u001b[0m\n\u001b[0;32m----> 1\u001b[0;31m \u001b[0mX_3\u001b[0m\u001b[0;34m\u001b[0m\u001b[0;34m\u001b[0m\u001b[0m\n\u001b[0m",
      "\u001b[0;31mNameError\u001b[0m: name 'X_3' is not defined"
     ]
    }
   ],
   "source": [
    "X_3"
   ]
  },
  {
   "cell_type": "code",
   "execution_count": null,
   "metadata": {
    "id": "GW22NCegpwXl"
   },
   "outputs": [],
   "source": [
    "pesos_3 = regresion_lineal(X_3,y_3)"
   ]
  },
  {
   "cell_type": "code",
   "execution_count": null,
   "metadata": {
    "id": "Tudm3h-CpwXl",
    "outputId": "27a07680-59a3-497d-b51d-440a865ee97b"
   },
   "outputs": [],
   "source": [
    "pesos_3"
   ]
  },
  {
   "cell_type": "markdown",
   "metadata": {
    "id": "w_qLlR41pwXm"
   },
   "source": [
    "## Regresión polinomial.\n",
    "Veamos un ejemplo de como aplicar el algoritmo de regresión lineal para poder hacer una regresión polinomial. En este caso, se transforman las variables a las potencias deseadas del polinomio por lo que cada estimador o peso $\\hat{\\beta}_i$ es el coeficiente que multiplica a una cierta potencia de la variable de nuestro polinomio.\n"
   ]
  },
  {
   "cell_type": "code",
   "execution_count": null,
   "metadata": {
    "id": "c39Zl1DPpwXm"
   },
   "outputs": [],
   "source": [
    "dataset_5 = pd.read_csv(\"Position_Salaries.csv\")"
   ]
  },
  {
   "cell_type": "code",
   "execution_count": 27,
   "metadata": {
    "id": "FFNj6nIepwXm",
    "outputId": "31f8638e-53bf-4129-e673-9c0534f715cb"
   },
   "outputs": [
    {
     "ename": "NameError",
     "evalue": "name 'dataset_5' is not defined",
     "output_type": "error",
     "traceback": [
      "\u001b[0;31m---------------------------------------------------------------------------\u001b[0m",
      "\u001b[0;31mNameError\u001b[0m                                 Traceback (most recent call last)",
      "\u001b[0;32m/tmp/ipykernel_9913/3609253199.py\u001b[0m in \u001b[0;36m<module>\u001b[0;34m\u001b[0m\n\u001b[0;32m----> 1\u001b[0;31m \u001b[0mdataset_5\u001b[0m\u001b[0;34m.\u001b[0m\u001b[0mhead\u001b[0m\u001b[0;34m(\u001b[0m\u001b[0;34m)\u001b[0m\u001b[0;34m\u001b[0m\u001b[0;34m\u001b[0m\u001b[0m\n\u001b[0m",
      "\u001b[0;31mNameError\u001b[0m: name 'dataset_5' is not defined"
     ]
    }
   ],
   "source": [
    "dataset_5.head()"
   ]
  },
  {
   "cell_type": "code",
   "execution_count": null,
   "metadata": {
    "id": "KpnZEOqJpwXm"
   },
   "outputs": [],
   "source": [
    "x_5 = dataset_5[\"Level\"].values"
   ]
  },
  {
   "cell_type": "code",
   "execution_count": null,
   "metadata": {
    "id": "OgSfLrvgpwXm"
   },
   "outputs": [],
   "source": [
    "y_5 = dataset_5[\"Salary\"].values"
   ]
  },
  {
   "cell_type": "code",
   "execution_count": null,
   "metadata": {
    "id": "xsOHEAj0pwXm",
    "outputId": "57812648-906e-4bde-d490-3f3548c931ae"
   },
   "outputs": [],
   "source": [
    "plt.scatter(x_5,y_5,color=\"red\", label=\"Datos originales\")\n",
    "plt.ylabel(\"Salario\")\n",
    "plt.xlabel(\"Posición\")\n",
    "plt.title(\"Gráfica de la posición vs salario\")\n",
    "plt.legend()\n",
    "plt.show()"
   ]
  },
  {
   "cell_type": "code",
   "execution_count": 28,
   "metadata": {
    "id": "CBEGbQIdpwXn"
   },
   "outputs": [
    {
     "ename": "NameError",
     "evalue": "name 'x_5' is not defined",
     "output_type": "error",
     "traceback": [
      "\u001b[0;31m---------------------------------------------------------------------------\u001b[0m",
      "\u001b[0;31mNameError\u001b[0m                                 Traceback (most recent call last)",
      "\u001b[0;32m/tmp/ipykernel_9913/3188465572.py\u001b[0m in \u001b[0;36m<module>\u001b[0;34m\u001b[0m\n\u001b[0;32m----> 1\u001b[0;31m \u001b[0mx_5_unos\u001b[0m \u001b[0;34m=\u001b[0m \u001b[0mnp\u001b[0m\u001b[0;34m.\u001b[0m\u001b[0mones\u001b[0m\u001b[0;34m(\u001b[0m\u001b[0;34m(\u001b[0m\u001b[0mlen\u001b[0m\u001b[0;34m(\u001b[0m\u001b[0mx_5\u001b[0m\u001b[0;34m)\u001b[0m\u001b[0;34m,\u001b[0m\u001b[0;36m1\u001b[0m\u001b[0;34m)\u001b[0m\u001b[0;34m)\u001b[0m\u001b[0;34m\u001b[0m\u001b[0;34m\u001b[0m\u001b[0m\n\u001b[0m",
      "\u001b[0;31mNameError\u001b[0m: name 'x_5' is not defined"
     ]
    }
   ],
   "source": [
    "x_5_unos = np.ones((len(x_5),1))"
   ]
  },
  {
   "cell_type": "code",
   "execution_count": null,
   "metadata": {
    "id": "qfSE7nEIpwXn"
   },
   "outputs": [],
   "source": [
    "x_5 = x_5.reshape((-1,1))"
   ]
  },
  {
   "cell_type": "code",
   "execution_count": null,
   "metadata": {
    "id": "oLVHbci-pwXo"
   },
   "outputs": [],
   "source": [
    "x_5_cuadrado = x_5**2"
   ]
  },
  {
   "cell_type": "code",
   "execution_count": null,
   "metadata": {
    "id": "PO1V5vEhpwXo"
   },
   "outputs": [],
   "source": [
    "X_5 = np.concatenate((x_5_unos,x_5,x_5_cuadrado), axis = 1)"
   ]
  },
  {
   "cell_type": "code",
   "execution_count": null,
   "metadata": {
    "id": "-8p9Ve3zpwXo",
    "outputId": "d9d3fa2d-caae-44d4-d3d5-3eadfa7f6d89"
   },
   "outputs": [],
   "source": [
    "X_5"
   ]
  },
  {
   "cell_type": "code",
   "execution_count": null,
   "metadata": {
    "id": "jokmXQKipwXo"
   },
   "outputs": [],
   "source": [
    "y_5 = y_5.reshape((-1,1))"
   ]
  },
  {
   "cell_type": "code",
   "execution_count": 29,
   "metadata": {
    "id": "KaVlgLjOpwXo"
   },
   "outputs": [
    {
     "ename": "NameError",
     "evalue": "name 'X_5' is not defined",
     "output_type": "error",
     "traceback": [
      "\u001b[0;31m---------------------------------------------------------------------------\u001b[0m",
      "\u001b[0;31mNameError\u001b[0m                                 Traceback (most recent call last)",
      "\u001b[0;32m/tmp/ipykernel_9913/1397939713.py\u001b[0m in \u001b[0;36m<module>\u001b[0;34m\u001b[0m\n\u001b[0;32m----> 1\u001b[0;31m \u001b[0mpesos_5\u001b[0m \u001b[0;34m=\u001b[0m \u001b[0mregresion_lineal\u001b[0m\u001b[0;34m(\u001b[0m\u001b[0mX_5\u001b[0m\u001b[0;34m,\u001b[0m\u001b[0my_5\u001b[0m\u001b[0;34m)\u001b[0m\u001b[0;34m\u001b[0m\u001b[0;34m\u001b[0m\u001b[0m\n\u001b[0m",
      "\u001b[0;31mNameError\u001b[0m: name 'X_5' is not defined"
     ]
    }
   ],
   "source": [
    "pesos_5 = regresion_lineal(X_5,y_5)"
   ]
  },
  {
   "cell_type": "code",
   "execution_count": null,
   "metadata": {
    "id": "8u8kYUOkpwXo",
    "outputId": "f3ea7d13-963d-4d66-8c76-611ecf6248f8"
   },
   "outputs": [],
   "source": [
    "pesos_5"
   ]
  },
  {
   "cell_type": "code",
   "execution_count": null,
   "metadata": {
    "id": "vaQK-7VQpwXp"
   },
   "outputs": [],
   "source": [
    "y_5_pred = np.matmul(X_5,pesos_5)"
   ]
  },
  {
   "cell_type": "code",
   "execution_count": null,
   "metadata": {
    "id": "rKQAX-GzpwXp",
    "outputId": "89d45d9a-a74d-4ecc-fb6c-e6cfe6682a0a"
   },
   "outputs": [],
   "source": [
    "plt.scatter(x_5.ravel(),y_5.ravel(),color=\"red\", label=\"Datos originales\")\n",
    "plt.plot(x_5.ravel(), y_5_pred.ravel(), color = \"green\", label =\"Polinomio ajustado\")\n",
    "plt.ylabel(\"Salario\")\n",
    "plt.xlabel(\"Posición\")\n",
    "plt.title(\"Gráfica de la posición vs salario\")\n",
    "plt.legend()\n",
    "plt.show()"
   ]
  },
  {
   "cell_type": "code",
   "execution_count": null,
   "metadata": {
    "id": "Mh5SqWE-pwXp"
   },
   "outputs": [],
   "source": [
    "x_5_cubico = x_5**3"
   ]
  },
  {
   "cell_type": "code",
   "execution_count": null,
   "metadata": {
    "id": "JJ_SCMuQpwXp"
   },
   "outputs": [],
   "source": [
    "x_5_cuarta = x_5**4"
   ]
  },
  {
   "cell_type": "code",
   "execution_count": 30,
   "metadata": {
    "id": "GZUO-yPQpwXp",
    "outputId": "6c394f87-d424-4900-f658-a440a0cf910c"
   },
   "outputs": [
    {
     "ename": "NameError",
     "evalue": "name 'x_5_cubico' is not defined",
     "output_type": "error",
     "traceback": [
      "\u001b[0;31m---------------------------------------------------------------------------\u001b[0m",
      "\u001b[0;31mNameError\u001b[0m                                 Traceback (most recent call last)",
      "\u001b[0;32m/tmp/ipykernel_9913/343324582.py\u001b[0m in \u001b[0;36m<module>\u001b[0;34m\u001b[0m\n\u001b[0;32m----> 1\u001b[0;31m \u001b[0mx_5_cubico\u001b[0m\u001b[0;34m.\u001b[0m\u001b[0mshape\u001b[0m\u001b[0;34m\u001b[0m\u001b[0;34m\u001b[0m\u001b[0m\n\u001b[0m",
      "\u001b[0;31mNameError\u001b[0m: name 'x_5_cubico' is not defined"
     ]
    }
   ],
   "source": [
    "x_5_cubico.shape"
   ]
  },
  {
   "cell_type": "code",
   "execution_count": null,
   "metadata": {
    "id": "eHPs3ZBnpwXp"
   },
   "outputs": [],
   "source": [
    "X_5 = np.concatenate((X_5,x_5_cubico,x_5_cuarta), axis=1 )"
   ]
  },
  {
   "cell_type": "code",
   "execution_count": null,
   "metadata": {
    "id": "A3UhLYmlpwXp",
    "outputId": "7e863be9-6335-4e37-9588-c0cfaec4a8d8"
   },
   "outputs": [],
   "source": [
    "X_5"
   ]
  },
  {
   "cell_type": "code",
   "execution_count": null,
   "metadata": {
    "id": "sxA0xkStpwXp"
   },
   "outputs": [],
   "source": [
    "pesos_5_cuarto = regresion_lineal(X_5, y_5)"
   ]
  },
  {
   "cell_type": "code",
   "execution_count": null,
   "metadata": {
    "id": "ag6u5VgPpwXq",
    "outputId": "812e7aae-8a0b-460d-8f44-bc28297c2a8e"
   },
   "outputs": [],
   "source": [
    "pesos_5_cuarto"
   ]
  },
  {
   "cell_type": "code",
   "execution_count": null,
   "metadata": {
    "id": "uMQRaYkGpwXq"
   },
   "outputs": [],
   "source": [
    "pred_5_cuarto = np.matmul(X_5, pesos_5_cuarto)"
   ]
  },
  {
   "cell_type": "code",
   "execution_count": null,
   "metadata": {
    "id": "Zb-a1TfvpwXq",
    "outputId": "9d0886af-8af6-4ae7-fe36-4624f31263f5"
   },
   "outputs": [],
   "source": [
    "plt.scatter(x_5.ravel(),y_5.ravel(),color=\"red\", label=\"Datos originales\")\n",
    "plt.plot(x_5.ravel(), pred_5_cuarto.ravel(), color = \"green\", label =\"Polinomio ajustado\")\n",
    "plt.ylabel(\"Salario\")\n",
    "plt.xlabel(\"Posición\")\n",
    "plt.title(\"Gráfica de la posición vs salario\")\n",
    "plt.legend()\n",
    "plt.show()"
   ]
  },
  {
   "cell_type": "markdown",
   "metadata": {
    "id": "ii-FQFkDpwXq"
   },
   "source": [
    "## Coeficiente de determinación $R^2$"
   ]
  },
  {
   "cell_type": "markdown",
   "metadata": {
    "id": "KjaspnLapwXq"
   },
   "source": [
    "El coeficiente de determinación $R^2$ nos dice que tan buena fue la bondad de ajuste. El máximo valor es 1 que dice que la curva ajustada fue perfecta y logro predecir exactamente todos los datos.\n",
    "Se define de la siguiente forma:\n",
    "$$R^2=1-\\frac{SS_{res}}{SS_{tot}}$$\n",
    "en donde $SS_{res}=\\sum_{i=1}^n(y_i-\\hat{y_i})^2=(y-\\hat{y}) \\cdot (y-\\hat{y})$, $SS_{tot}=\\sum_{i=1}^n(y_i-\\bar{y})^2=(y-\\bar{y}) \\cdot (y-\\bar{y})$, $\\hat{y_i}$ es el valor predicho para la $x_i$ y $\\bar{y}$ es el promedio de las $y$."
   ]
  },
  {
   "cell_type": "code",
   "execution_count": 31,
   "metadata": {
    "id": "4-WXH-dnpwXq"
   },
   "outputs": [],
   "source": [
    "def R_2(y,y_pred):\n",
    "    y = y.ravel()\n",
    "    y_pred = y_pred.ravel()\n",
    "    y_mean = np.mean(y)\n",
    "    ss_res = np.dot(y-y_pred,y-y_pred)\n",
    "    ss_tot = np.dot(y-y_mean,y-y_mean)\n",
    "    return 1-(ss_res/ss_tot)"
   ]
  },
  {
   "cell_type": "code",
   "execution_count": 32,
   "metadata": {
    "id": "7iL_fkKkpwXr"
   },
   "outputs": [
    {
     "ename": "NameError",
     "evalue": "name 'y_5' is not defined",
     "output_type": "error",
     "traceback": [
      "\u001b[0;31m---------------------------------------------------------------------------\u001b[0m",
      "\u001b[0;31mNameError\u001b[0m                                 Traceback (most recent call last)",
      "\u001b[0;32m/tmp/ipykernel_9913/815550641.py\u001b[0m in \u001b[0;36m<module>\u001b[0;34m\u001b[0m\n\u001b[0;32m----> 1\u001b[0;31m \u001b[0mr_2_polinomio_4\u001b[0m\u001b[0;34m=\u001b[0m \u001b[0mR_2\u001b[0m\u001b[0;34m(\u001b[0m\u001b[0my_5\u001b[0m\u001b[0;34m,\u001b[0m\u001b[0mpred_5_cuarto\u001b[0m\u001b[0;34m)\u001b[0m\u001b[0;34m\u001b[0m\u001b[0;34m\u001b[0m\u001b[0m\n\u001b[0m",
      "\u001b[0;31mNameError\u001b[0m: name 'y_5' is not defined"
     ]
    }
   ],
   "source": [
    "r_2_polinomio_4= R_2(y_5,pred_5_cuarto)"
   ]
  },
  {
   "cell_type": "code",
   "execution_count": null,
   "metadata": {
    "id": "_IO2NpABpwXr",
    "outputId": "dffb57b7-4b4f-4ad5-a749-443301a76e54"
   },
   "outputs": [],
   "source": [
    "r_2_polinomio_4"
   ]
  },
  {
   "cell_type": "code",
   "execution_count": null,
   "metadata": {
    "id": "cF9LFD4rpwXs"
   },
   "outputs": [],
   "source": [
    "r_2_polinomio_2 = R_2(y_5,y_5_pred)"
   ]
  },
  {
   "cell_type": "code",
   "execution_count": null,
   "metadata": {
    "id": "slGYJ_8wpwXs",
    "outputId": "6c3459cd-7c03-417e-d0b6-359f47085c92"
   },
   "outputs": [],
   "source": [
    "r_2_polinomio_2"
   ]
  },
  {
   "cell_type": "markdown",
   "metadata": {
    "id": "UMlplwtnpwXs"
   },
   "source": [
    "# Descenso por el gradiente.\n"
   ]
  },
  {
   "cell_type": "markdown",
   "metadata": {
    "id": "amh8hjGApwXs"
   },
   "source": [
    "A pesar de que tenemos un método exacto para realizar la regresión lineal, para grandes cantidades de datos no es muy eficiente en términos de tiempo de ejecución. Para solucionar ese problema se utiliza un método numérico para encontrar el mínimo en la función de error (función de costo).\n",
    "El descenso del gradiente es un algoritmo para encontrar un mínimo local en una función diferenciable.\n",
    "Este algoritmo se basa en la observación de que la función $f$ decrece más rápido si se va en la dirección de $-\\nabla f$. Entonces para encontrar el mínimo se hace una iteración de la siguiente forma:\n",
    "$$x_{n+1} = x_n-\\alpha \\nabla f(x_{n})$$\n",
    "En donde $\\alpha$ es un número suficientemente pequeño, al que comunmente se le conoce como \"tasa de aprendizaje\".\n",
    "La elección de alpha es importante para que el algoritmo logre converger optimamente. Observemos unas imágenes para explicarlo visualmente.\n",
    "![](https://miro.medium.com/max/1618/0*J8Gsz4498OOwD1Xd.png)\n",
    "Una tasa de aprendizaje muy pequeña asegura llegar al mínimo pero en un número muy grande de iteraciones, mientras que una muy grande no va a converger.\n",
    "\n",
    "Otro de los principales problemas que se tiene es encontrar el mínimo global de una función, ya que este método puede converger a un mínimo local y no al global. Si la función es convexa este problema se soluciona ya que en este tipo de funciones todo mínimo local es mínimo global. Es por eso que a continuación demostraremos que nuestra función de error (costo) RSS (a la que de ahora en adelante llamaremos $J(\\theta)$) es convexa.\n",
    "![](https://external-content.duckduckgo.com/iu/?u=http%3A%2F%2Fhome.agh.edu.pl%2F~horzyk%2Flectures%2Fai%2FGradientDescentOfErrorFunction.jpg&f=1&nofb=1)\n"
   ]
  },
  {
   "cell_type": "markdown",
   "metadata": {
    "id": "aRpJPUc_pwXt"
   },
   "source": [
    "**Definición 2:** (Conjunto convexo) Sea $S$ un espacio vectorial sobre los número reales. Se dice que $C \\subseteq S$ es convexo si para todo $x,y \\in C$ el segmento de línea que los une está en $C$, es decir $(1-t)x+ty \\in C$, para todo $x,y \\in C$ con $t \\in [0,1]$"
   ]
  },
  {
   "cell_type": "markdown",
   "metadata": {
    "id": "ESR2m8QHpwXt"
   },
   "source": [
    "**Definición 3:** (Función convexa) Sea $X$ un conjunto convexo en un espacio vectorial y $f: X \\rightarrow \\mathbb{R}$ una función. Se dice que $f$ es convexa sí:\n",
    "$$\\forall x_1,x_2 \\in X, \\forall t \\in [0,1]: \\quad  f(tx_1 + (1-t)x_2)\\leq tf(x_1) + (1-t)f(x_2)$$"
   ]
  },
  {
   "cell_type": "markdown",
   "metadata": {
    "id": "7SXgNFGEpwXt"
   },
   "source": [
    "![](https://upload.wikimedia.org/wikipedia/commons/thumb/d/d6/Convex_Function.png/1024px-Convex_Function.png)"
   ]
  },
  {
   "cell_type": "markdown",
   "metadata": {
    "id": "V1Fp62gzpwXt"
   },
   "source": [
    "**Proposición 3:** Sea $f: \\mathbb{R} \\rightarrow \\mathbb{R}$ con $f(x) = x^2$, entonces $f$ es convexa.\n",
    "\n",
    "\n",
    "**Demostración:**\n",
    "\n",
    "Tomemos $x_1,x_2 \\in  \\mathbb{R}$ y $t \\in [0,1]$, queremos probar que $f(tx_1 + (1-t)x_2)\\leq tf(x_1) + (1-t)f(x_2)$.\n",
    "\n",
    "Como $t \\in [0,1]$ entonces $t^2\\leq t$ $\\implies$ $(t^2-t)\\leq 0$. Al ser $(x_1-x_2)^2\\geq 0$ se sigue que:\n",
    "$$0\\geq (t^2-t)(x_1-x_2)^2\\\\\n",
    "   \\quad \\quad \\quad \\quad \\quad     = -(t-t^2)[(x_1-x_2)^2+x_1^2-x_1^2]\\\\\n",
    "   \\quad \\quad \\quad \\quad \\quad \\quad \\quad   = -(t-t^2)[x_1^2-2x_1x_2+x_2^2+x_1^2-x_1^2]\\\\\n",
    "   \\quad \\quad \\quad \\quad    = -(1-t)t[-2x_1x_2 + x_2^2 + x_1^2]\\\\\n",
    "   \\quad \\quad \\quad \\quad \\quad \\quad= (1-t)[2tx_1x_2 -tx_2^2]-(t-t^2)x_1^2\\\\\n",
    "   \\quad \\quad \\quad \\quad \\quad \\quad \\quad \\quad \\quad \\quad = (1-t)[2tx_1x_2 +x_2^2(-t+1-1)]-(t-t^2)x_1^2\\\\\n",
    "   \\quad \\quad \\quad \\quad \\quad \\quad \\quad \\quad \\quad \\quad = (1-t)[2tx_1x_2 + (1-t)x_2^2 - x_2^2]-(t-t^2)x_1^2\\\\\n",
    "   \\quad \\quad \\quad \\quad \\quad \\quad \\quad \\quad \\quad \\quad \\quad \\quad = 2t(1-t)x_1x_2 + (1-t)^2x_2^2-(1-t)x_2^2-(t-t^2)x_1^2\\\\\n",
    "   \\quad \\quad \\quad \\quad \\quad \\quad \\quad \\quad \\quad \\quad \\quad \\quad = 2t(1-t)x_1x_2 + (1-t)^2x_2^2-(1-t)x_2^2-tx_1^2+t^2x_1^2\\\\\n",
    "   \\quad \\quad \\quad \\quad \\quad \\quad \\quad \\quad \\quad \\quad \\quad \\quad = t^2x_1^2+ 2t(1-t)x_1x_2 + (1-t)^2x_2^2 - tx_1^2 - (1-t)x_2^2\\\\\n",
    "   \\quad \\quad \\quad \\quad \\quad \\quad  = (tx_1 + (1-t)x_2)^2 - tx_1^2 - (1-t)x_2^2$$\n",
    "   \n",
    "  $$ \\implies 0 \\geq (tx_1 + (1-t)x_2)^2 - tx_1^2 - (1-t)x_2^2 \\\\\n",
    "  \\implies tx_1^2 + (1-t)x_2^2 \\geq (tx_1 + (1-t)x_2)^2\\\\\n",
    "  \\implies tf(x_1) + (1-t)f(x_2) \\geq f(tx_1 + (1-t)x_2)$$\n",
    "  Por lo tanto concluimos que $f$ es convexa."
   ]
  },
  {
   "cell_type": "markdown",
   "metadata": {
    "id": "hv-13-8CpwXt"
   },
   "source": [
    "\n",
    "**Proposición 4:** Sea $J: \\mathbb{R}^d \\rightarrow \\mathbb{R}$ con $J(\\theta) = (y-X\\theta)^T(y-X\\theta)$, es decir, $J=RSS$, entonces la función $J$ es convexa.\n",
    "\n",
    "**Demostración:**\n",
    "\n",
    "Al hacer la multiplicación de matrices de arriba queda $J$ de la siguiente forma:\n",
    "$$J(\\theta) = \\sum_{i = 1}^n (y_i - (X\\theta)_i)^2$$\n",
    "Sea $f: \\mathbb{R} \\rightarrow \\mathbb{R}$ con $f(x) = x^2$, entonces:\n",
    "$$J(\\theta) = \\sum_{i = 1}^n f(y_i - (X\\theta)_i)$$\n",
    "Tomemos $\\theta_1, \\theta_2 \\in \\mathbb{R}^d$ y $t \\in [0,1]$, se sigue que:\n",
    "$$J(t\\theta_1 + (1-t)\\theta_2) = \\sum_{i = 1}^n f\\left(t(y_i - (X\\theta_1)_i)+(1-t)(y_i - (X\\theta_2)_i)\\right)\\\\\n",
    "\\quad \\quad \\quad \\quad \\quad \\quad \\quad \\stackrel{Proposición 3}{\\leq} \\sum_{i = 1}^n tf\\left(y_i - (X\\theta_1)_i\\right)+(1-t)f\\left(y_i - (X\\theta_2)_i\\right) \\\\\n",
    "\\quad \\quad \\quad \\quad \\quad \\quad \\quad \\quad \\quad = t\\sum_{i = 1}^n f\\left(y_i - (X\\theta_1)_i\\right) + (1-t)\\sum_{i = 1}^n f\\left(y_i - (X\\theta_2)_i\\right)\\\\\n",
    " = tJ(\\theta_1) + (1-t)J(\\theta_2)$$\n",
    " Por lo tanto:\n",
    " $$J(t\\theta_1 + (1-t)\\theta_2) \\leq tJ(\\theta_1) + (1-t)J(\\theta_2)$$\n",
    " Concluimos que $J$ es convexa."
   ]
  },
  {
   "cell_type": "markdown",
   "metadata": {
    "id": "QycuZ1aNpwXu"
   },
   "source": [
    "Al demostrar que nuestra función de error (costo) es convexa entonces con el método del descenso del gradiente podemos asegurar convergencia al mínimo global. Ahora encontremos el gradiente de $J$, es decir $\\nabla_{\\theta}J$.\n",
    " Recordemos que si derivamos un escalar con respecto a un vector tenemos:\n",
    " $\\frac{dx}{d\\bar{w}} = (\\frac{dx}{dw_1}, \\dots , \\frac{dx}{dw_n})$, entonces esto sería el equivalente a encontrar el gradiente de una función. Recordemos que en la Proposición 2 calculamos $\\frac{dRSS}{d\\widehat{\\beta}}$, lo cual corresponde a $\\nabla_{\\widehat{\\beta}}J$.\n",
    "De la derivada de la Proposición 2 se sigue que:\n",
    "$$\\nabla_{\\widehat{\\beta}}J = -2y^TX + 2\\hat{\\beta}^TX^TX$$\n",
    "Como podemos ver, este es un vector de $1\\times d$ (con d el número de características del conjunto de datos), pero $\\widehat{\\beta}$ es de $d \\times 1$, entonces para hacer la iteración del descenso del gradiente vamos a tomar la transpuesta de $\\nabla_{\\widehat{\\beta}}J$. Finalmente, nuestro metodo iterativo usando descenso del gradiente queda como:\n",
    "$$\\widehat{\\beta}_{n+1} = \\widehat{\\beta}_n - \\alpha (-2y^TX + 2\\hat{\\beta_n}^TX^TX)^T$$"
   ]
  },
  {
   "cell_type": "code",
   "execution_count": 33,
   "metadata": {
    "id": "QMM4D6ktpwXu"
   },
   "outputs": [],
   "source": [
    "def descenso_gradiente(lr,iteraciones,X,y):\n",
    "    pesos_inicial = np.zeros((X.shape[1],1))\n",
    "    for i in range(iteraciones):\n",
    "        pesos_inicial = pesos_inicial -lr*(-2*np.matmul(y.T,X)+2*np.matmul(np.matmul(pesos_inicial.T,X.T),X)).T\n",
    "        \n",
    "    return pesos_inicial\n",
    "    "
   ]
  },
  {
   "cell_type": "code",
   "execution_count": 34,
   "metadata": {
    "id": "Sh78uggbpwXu",
    "outputId": "2e60b61c-ae39-4f55-af00-faeff0f27344"
   },
   "outputs": [
    {
     "ename": "NameError",
     "evalue": "name 'pesos' is not defined",
     "output_type": "error",
     "traceback": [
      "\u001b[0;31m---------------------------------------------------------------------------\u001b[0m",
      "\u001b[0;31mNameError\u001b[0m                                 Traceback (most recent call last)",
      "\u001b[0;32m/tmp/ipykernel_9913/768453742.py\u001b[0m in \u001b[0;36m<module>\u001b[0;34m\u001b[0m\n\u001b[0;32m----> 1\u001b[0;31m \u001b[0mpesos\u001b[0m\u001b[0;34m\u001b[0m\u001b[0;34m\u001b[0m\u001b[0m\n\u001b[0m",
      "\u001b[0;31mNameError\u001b[0m: name 'pesos' is not defined"
     ]
    }
   ],
   "source": [
    "pesos"
   ]
  },
  {
   "cell_type": "code",
   "execution_count": null,
   "metadata": {
    "id": "WiuyQS09pwXu",
    "outputId": "1ebd579c-8fed-4a3b-d0a8-19d698d1bdf7"
   },
   "outputs": [],
   "source": [
    "X"
   ]
  },
  {
   "cell_type": "code",
   "execution_count": null,
   "metadata": {
    "id": "Y0_LmExzpwXu",
    "outputId": "b6dd9773-7686-4e4b-c94c-1ccf20f62fcc"
   },
   "outputs": [],
   "source": [
    "y"
   ]
  },
  {
   "cell_type": "code",
   "execution_count": null,
   "metadata": {
    "id": "lhKqscsNpwXu"
   },
   "outputs": [],
   "source": [
    "pesos_descenso = descenso_gradiente(0.0005,5000,X,y)"
   ]
  },
  {
   "cell_type": "code",
   "execution_count": null,
   "metadata": {
    "id": "SI_KEJeUpwXv",
    "outputId": "9a59380a-0b0d-4368-eedb-f3473addb9b9"
   },
   "outputs": [],
   "source": [
    "pesos_descenso"
   ]
  },
  {
   "cell_type": "code",
   "execution_count": 35,
   "metadata": {
    "id": "VKy510nQpwXv",
    "outputId": "06a48124-8c2a-43c3-a0f8-61a10fce5f2f"
   },
   "outputs": [
    {
     "ename": "NameError",
     "evalue": "name 'pesos' is not defined",
     "output_type": "error",
     "traceback": [
      "\u001b[0;31m---------------------------------------------------------------------------\u001b[0m",
      "\u001b[0;31mNameError\u001b[0m                                 Traceback (most recent call last)",
      "\u001b[0;32m/tmp/ipykernel_9913/3628726132.py\u001b[0m in \u001b[0;36m<module>\u001b[0;34m\u001b[0m\n\u001b[0;32m----> 1\u001b[0;31m \u001b[0mpesos\u001b[0m\u001b[0;34m\u001b[0m\u001b[0;34m\u001b[0m\u001b[0m\n\u001b[0m",
      "\u001b[0;31mNameError\u001b[0m: name 'pesos' is not defined"
     ]
    }
   ],
   "source": [
    "pesos "
   ]
  },
  {
   "cell_type": "code",
   "execution_count": null,
   "metadata": {
    "id": "ZPnDJBgNpwXv"
   },
   "outputs": [],
   "source": [
    "pesos_descenso_3 = descenso_gradiente(0.000000005,100, X_3, y_3) "
   ]
  },
  {
   "cell_type": "code",
   "execution_count": null,
   "metadata": {
    "id": "ZgzDoM1YpwXv",
    "outputId": "77306466-4146-4ad8-aede-51e932f3c694"
   },
   "outputs": [],
   "source": [
    "pesos_descenso_3"
   ]
  },
  {
   "cell_type": "code",
   "execution_count": null,
   "metadata": {
    "id": "zGCIgaEdpwXw",
    "outputId": "f8f38d87-bf68-4b2b-adfb-a0547389e712"
   },
   "outputs": [],
   "source": [
    "pesos_3"
   ]
  },
  {
   "cell_type": "markdown",
   "metadata": {
    "id": "HkRYl4p3pwXw"
   },
   "source": [
    "# Encontrar una tasa de aprendizaje óptima.\n",
    "A pesar de que el método del gradiente parece ser muy bueno para encontrar mínimos locales, un problema que se tiene es el de encontrar una tasa de aprendizaje óptima para poder llegar al mínimo en un número pequeño de iteraciones, ya que como vimos anteriormente sin una tasa de aprendizaje óptima se necesita un número muy grande de iteraciones o puede que no llegue a converger si la tasa de aprendizaje no es lo suficientemente pequeña.\n",
    "Para solucionar este problema, se explicará un método que se conoce como \"adaptative step size\" y lo llamaremos \"tasa de aprendizaje adaptativa\"."
   ]
  },
  {
   "cell_type": "markdown",
   "metadata": {
    "id": "o7nJ52t3pwXw"
   },
   "source": [
    "### Método de Barzilai y Borwein\n",
    "Este método propuesto en 1988 por Barzilai y Borwein es el de encontrar la tasa de aprendizaje ($\\alpha$) que minimice la función $||\\Delta \\theta - \\alpha \\Delta g(\\theta)||^2$, es decir:\n",
    "$$\\alpha_k = \\underset{\\alpha}{arg \\, min} ||\\Delta \\theta - \\alpha \\Delta g(\\theta)||^2$$\n",
    "\n",
    "donde $\\Delta \\theta = \\theta_k - \\theta_{k-1}$ y  $\\Delta g(\\theta) = \\nabla f(\\theta_k)-\\nabla f(\\theta_{k-1})$. En este caso tomaremos que $f:\\mathbb{R}^d \\rightarrow \\mathbb{R}$ y por ende $\\theta \\in \\mathbb{R}^d$. \n",
    "\n",
    "La solución a este problema es resuelta facilmente derivando con respecto a $\\alpha$ e igualando a 0 (minimizando la función mediante la derivada).\n",
    "\n",
    "Primero notemos que: \n",
    "$$||\\Delta \\theta - \\alpha \\Delta g(\\theta)||^2 = (\\Delta \\theta - \\alpha \\Delta g(\\theta))\\cdot (\\Delta \\theta - \\alpha \\Delta g(\\theta)) = (\\Delta \\theta - \\alpha \\Delta g(\\theta))^T (\\Delta \\theta - \\alpha \\Delta g(\\theta)) = \\Delta \\theta^T\\Delta \\theta -\\alpha \\Delta \\theta^T\\Delta g(\\theta) -\\alpha \\Delta g(\\theta)^T \\Delta \\theta + \\alpha^2\\Delta g(\\theta)^T\\Delta g(\\theta)$$\n",
    "Entonces:\n",
    "$$\\frac{d\\left(||\\Delta \\theta - \\alpha \\Delta g(\\theta)||^2\\right)}{d\\alpha} = - \\Delta \\theta^T\\Delta g(\\theta) - \\Delta g(\\theta)^T \\Delta \\theta + 2\\alpha\\Delta g(\\theta)^T\\Delta g(\\theta) = - \\Delta g(\\theta)^T \\Delta \\theta - \\Delta g(\\theta)^T \\Delta \\theta + 2\\alpha\\Delta g(\\theta)^T\\Delta g(\\theta) = -2\\Delta g(\\theta)^T \\Delta \\theta + 2\\alpha\\Delta g(\\theta)^T\\Delta g(\\theta)$$\n",
    "\n",
    "Igualando la derivada a cero, se tiene:\n",
    "\n",
    "$$-2\\Delta g(\\theta)^T \\Delta \\theta + 2\\alpha\\Delta g(\\theta)^T\\Delta g(\\theta)=0$$\n",
    "$$\\implies -\\Delta g(\\theta)^T \\Delta \\theta + \\alpha\\Delta g(\\theta)^T\\Delta g(\\theta)=0$$\n",
    "$$\\implies   \\alpha\\Delta g(\\theta)^T\\Delta g(\\theta)= \\Delta g(\\theta)^T \\Delta \\theta$$\n",
    "$$ \\implies \\alpha = \\frac{\\Delta g(\\theta)^T\\Delta \\theta}{\\Delta g(\\theta)^T\\Delta g(\\theta)}$$\n",
    "Con esto ya se logró obtener la forma en que se calculará el valor de $\\alpha$ en cada iteración\n",
    "\n",
    "Este enfoque trabaja realmente bien, incluso para problemas de grandes dimensiones.\n",
    "\n",
    "En nuestro caso la función $f$ que describimos en el método es la función $J$ de costo o error, por lo que $\\Delta g(\\theta) = \\nabla J(\\theta_k)-\\nabla J(\\theta_{k-1})$"
   ]
  },
  {
   "cell_type": "code",
   "execution_count": 36,
   "metadata": {
    "id": "1oQMnluVpwXx",
    "pycharm": {
     "name": "#%%#%%\n"
    }
   },
   "outputs": [
    {
     "name": "stdout",
     "output_type": "stream",
     "text": [
      "hola\n",
      "hola\n",
      "hola\n",
      "hola\n",
      "hola\n",
      "hola\n",
      "hola\n",
      "hola\n",
      "hola\n"
     ]
    }
   ],
   "source": [
    "i = 1\n",
    "while i<10:\n",
    "    print(\"hola\")\n",
    "    i = i+1"
   ]
  },
  {
   "cell_type": "code",
   "execution_count": null,
   "metadata": {
    "pycharm": {
     "name": "#%%\n"
    }
   },
   "outputs": [],
   "source": []
  },
  {
   "cell_type": "code",
   "execution_count": 39,
   "metadata": {
    "pycharm": {
     "name": "#%%\n"
    }
   },
   "outputs": [],
   "source": [
    "def descenso_grandiente_bw(X,y):\n",
    "    lr = 0.001\n",
    "    pesos = np.zeros((X.shape[1],1))\n",
    "    iteraciones = 0\n",
    "    error = 1\n",
    "    while error > 1e-10:\n",
    "        pesos_anteriores = pesos\n",
    "        gradiente_anterior = (-2*np.matmul(y.T,X)+2*np.matmul(np.matmul(pesos_anteriores.T,X.T),X)).T\n",
    "        pesos = pesos_anteriores -lr*gradiente_anterior\n",
    "        gradiente_nuevo = (-2*np.matmul(y.T,X)+2*np.matmul(np.matmul(pesos.T,X.T),X)).T\n",
    "        delta_g = gradiente_nuevo-gradiente_anterior\n",
    "        delta_theta = pesos-pesos_anteriores\n",
    "        lr = ((np.matmul(delta_g.T,delta_theta))/(np.matmul(delta_g.T, delta_g))).ravel()[0]\n",
    "        iteraciones = iteraciones + 1\n",
    "        error = abs(sum(delta_theta))\n",
    "\n",
    "    return pesos\n"
   ]
  },
  {
   "cell_type": "code",
   "execution_count": 41,
   "metadata": {
    "pycharm": {
     "name": "#%%\n"
    }
   },
   "outputs": [
    {
     "ename": "NameError",
     "evalue": "name 'pesos' is not defined",
     "output_type": "error",
     "traceback": [
      "\u001b[0;31m---------------------------------------------------------------------------\u001b[0m",
      "\u001b[0;31mNameError\u001b[0m                                 Traceback (most recent call last)",
      "\u001b[0;32m/tmp/ipykernel_9913/768453742.py\u001b[0m in \u001b[0;36m<module>\u001b[0;34m\u001b[0m\n\u001b[0;32m----> 1\u001b[0;31m \u001b[0mpesos\u001b[0m\u001b[0;34m\u001b[0m\u001b[0;34m\u001b[0m\u001b[0m\n\u001b[0m",
      "\u001b[0;31mNameError\u001b[0m: name 'pesos' is not defined"
     ]
    }
   ],
   "source": [
    "pesos"
   ]
  },
  {
   "cell_type": "code",
   "execution_count": null,
   "metadata": {
    "pycharm": {
     "name": "#%%\n"
    }
   },
   "outputs": [],
   "source": [
    "pesos_bw = descenso_grandiente_bw(X,y)"
   ]
  },
  {
   "cell_type": "code",
   "execution_count": null,
   "metadata": {
    "pycharm": {
     "name": "#%%\n"
    }
   },
   "outputs": [],
   "source": [
    "pesos_bw"
   ]
  },
  {
   "cell_type": "code",
   "execution_count": null,
   "metadata": {
    "pycharm": {
     "name": "#%%\n"
    }
   },
   "outputs": [],
   "source": [
    "pesos_3"
   ]
  },
  {
   "cell_type": "code",
   "execution_count": null,
   "metadata": {
    "pycharm": {
     "name": "#%%\n"
    }
   },
   "outputs": [],
   "source": [
    "pesos_3_bw = descenso_grandiente_bw(X_3,y_3)"
   ]
  },
  {
   "cell_type": "code",
   "execution_count": null,
   "metadata": {
    "pycharm": {
     "name": "#%%\n"
    }
   },
   "outputs": [],
   "source": [
    "pesos_3_bw\n",
    "\n",
    "\n",
    "\n"
   ]
  }
 ],
 "metadata": {
  "colab": {
   "name": "NOTEBOOK_20-10-2021.ipynb",
   "provenance": []
  },
  "kernelspec": {
   "display_name": "Python 3 (ipykernel)",
   "language": "python",
   "name": "python3"
  },
  "language_info": {
   "codemirror_mode": {
    "name": "ipython",
    "version": 3
   },
   "file_extension": ".py",
   "mimetype": "text/x-python",
   "name": "python",
   "nbconvert_exporter": "python",
   "pygments_lexer": "ipython3",
   "version": "3.9.7"
  }
 },
 "nbformat": 4,
 "nbformat_minor": 1
}
