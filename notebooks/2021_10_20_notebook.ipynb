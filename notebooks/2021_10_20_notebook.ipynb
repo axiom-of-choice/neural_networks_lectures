{
 "nbformat": 4,
 "nbformat_minor": 0,
 "metadata": {
  "kernelspec": {
   "display_name": "Python 3",
   "language": "python",
   "name": "python3"
  },
  "language_info": {
   "codemirror_mode": {
    "name": "ipython",
    "version": 3
   },
   "file_extension": ".py",
   "mimetype": "text/x-python",
   "name": "python",
   "nbconvert_exporter": "python",
   "pygments_lexer": "ipython3",
   "version": "3.7.7"
  },
  "colab": {
   "name": "NOTEBOOK_20-10-2021.ipynb",
   "provenance": []
  }
 },
 "cells": [
  {
   "cell_type": "markdown",
   "metadata": {
    "id": "zVo-c0HfpwXH"
   },
   "source": [
    "## Regresión Lineal.\n",
    "Autor: Jośe Falcón\n"
   ]
  },
  {
   "cell_type": "markdown",
   "metadata": {
    "id": "NflOhpsypwXL"
   },
   "source": [
    "La regresión lineal es un modelo matemático que consiste en encontrar la **ecuación lineal** que mejor se ajuste o aproxime a un conjunto de datos dado. Dicho de otra manera, se busca aproximar la relación de dependencia entre una variable dependiente $Y$ y variables independientes $x_i$ de la siguiente forma:\n",
    "\n",
    "$$Y=\\sum_{i=0}^d \\hat{\\beta}_{i}x_i$$\n",
    "\n",
    "en donde a los $\\hat{\\beta}_i$ se les conoce como **estimadores o pesos**. Vamos a considerar a $x_0=1$\n",
    "\n",
    "Cuando nos referimos a la que mejor **aproxime** es en el sentido de aquella ecuación lineal que minimice una función llamada **función de error o de costo**, por lo que la regresión lineal se convierte en un problema de minimización\n"
   ]
  },
  {
   "cell_type": "markdown",
   "metadata": {
    "id": "NxSsP_EbpwXM"
   },
   "source": [
    "<div style=\"text-align: center\"><img src=\"https://economipedia.com/wp-content/uploads/Regresi%C3%B3n-lineal.png\"></div>"
   ]
  },
  {
   "cell_type": "markdown",
   "metadata": {
    "id": "7r6MEaX2pwXM"
   },
   "source": [
    "Durante este notebook vamos a deducir la ecuación\n",
    "$$\\hat{\\beta} = (X^TX)^{-1}X^TY$$\n",
    "en donde $X$ es el conjunto de datos, $Y$ la variable dependiente, y $\\hat{\\beta}$ es el vector de estimadores o de pesos"
   ]
  },
  {
   "cell_type": "markdown",
   "metadata": {
    "id": "fA-29_y6pwXM"
   },
   "source": [
    "**Definición 1:** Sea $w \\in \\mathbb{R}^n$ y $x \\in \\mathbb{R}^m$, definimos la derivada de x con respecto a w como:\n",
    "$$\\frac{dx}{dw} = \\begin{pmatrix}\n",
    "\\frac{\\partial x_1}{\\partial w_1} & \\dots & \\frac{\\partial x_1}{\\partial w_n}\\\\\n",
    "\\vdots & \\ddots & \\vdots\\\\\n",
    "\\frac{\\partial x_m}{\\partial w_1} & \\dots & \\frac{\\partial x_m}{\\partial w_n}\n",
    "\\end{pmatrix}\n",
    "$$\n",
    "es decir $\\left(\\frac{dx}{dw}\\right)_{ij}= \\frac{\\partial x_i}{\\partial w_j}$"
   ]
  },
  {
   "cell_type": "markdown",
   "metadata": {
    "id": "KoisWU_UpwXN"
   },
   "source": [
    "**Proposición 1:** Sea $A \\in M_{nxm}(\\mathbb{R})$ y $w \\in \\mathbb{R}^m$ (o equivalentemente $w \\in M_{mx1}(\\mathbb{R})$). Si las entradas de $A$ no dependen de las entradas de $w$ entonces:\n",
    "$$\\frac{d(Aw)}{dw} = A$$\n",
    "Demostración:\n",
    "$$(Aw)_i = \\sum_{k = 1}^n A_{ik}w_k$$\n",
    "$$\\implies \\left(\\frac{d(Aw)}{dw}\\right)_{ij} = \\frac{\\partial (Aw)_i}{\\partial w_j} = \\frac{\\partial \\left(\\sum_{k = 1}^n A_{ik}w_k\\right)}{\\partial w_j} = \\sum_{k = 1}^n \\frac{\\partial(A_{ik}w_k)}{\\partial w_j} = \\sum_{k = 1}^n A_{ik}\\frac{\\partial w_k}{\\partial w_j} = \\sum_{k = 1}^n A_{ik}\\delta_{kj} = A_{ij}$$\n",
    "\n",
    "Por lo tanto $$ \\left(\\frac{d(Aw)}{dw}\\right)_{ij} = A_{ij}$$\n",
    "y se concluye que:\n",
    "$$\\frac{d(Aw)}{dw} = A$$"
   ]
  },
  {
   "cell_type": "markdown",
   "metadata": {
    "id": "5bMPYglBpwXN"
   },
   "source": [
    "**Corolario**: Sea $A \\in M_{mxn}(\\mathbb{R})$ y $w \\in \\mathbb{R}^m$ (o equivalentemente $w \\in M_{mx1}(\\mathbb{R})$). Si las entradas de $A$ no dependen de las entradas de $w$ entonces:\n",
    "$$\\frac{d(w^TA)}{dw} = A^T$$"
   ]
  },
  {
   "cell_type": "markdown",
   "metadata": {
    "id": "VzG-PEEJpwXO"
   },
   "source": [
    "Para la regresión lineal vamos a utilizar la función RSS, la cual es:\n",
    "\n",
    "$$RSS = \\sum_{i = 1}^n (y_i - \\hat{y}_i)^2$$\n",
    "\n",
    "Esta función se conoce normalmente como la \"función de costo\", \"loss function\" o \"función de error\". Nos da la suma del error cuadrático para cada una de las predicciones.\n",
    "Esta sería una función que depende de los estimadores $\\hat{\\beta_i}$ o el vector de estimadores $\\hat{\\beta}$.\n",
    "\n",
    "Sea $X \\in M_{nxp}\\left(\\mathbb{R}\\right)$ el conjunto de datos y $\\hat{\\beta} \\in M_{px1}\\left(\\mathbb{R}\\right)$ el vector de estimadores, entonces\n",
    "$$\\hat{y} = X\\hat{\\beta}$$\n",
    "Podemos reescribir a RSS en forma matricial como:\n",
    "$$RSS = \\sum_{i = 1}^n (y_i - \\hat{y}_i)^2 = (y-\\hat{y})^T(y-\\hat{y})$$\n"
   ]
  },
  {
   "cell_type": "markdown",
   "metadata": {
    "id": "Sjcndyo2pwXP"
   },
   "source": [
    "![](https://iartificial.net/wp-content/uploads/2018/12/error-regresion-lineal2.png)"
   ]
  },
  {
   "cell_type": "markdown",
   "metadata": {
    "id": "yloenVQcpwXQ"
   },
   "source": [
    "Lo que queremos hacer es obtener los estimadores o pesos que minimicen dicha función de error."
   ]
  },
  {
   "cell_type": "markdown",
   "metadata": {
    "id": "s6hISclQpwXQ"
   },
   "source": [
    "$$(AB)^T=B^TA^T$$"
   ]
  },
  {
   "cell_type": "markdown",
   "metadata": {
    "id": "_5XsLXC7pwXQ"
   },
   "source": [
    "**Proposición 2:** El vector de estimadores que minimiza a RSS es:\n",
    "$$\\hat{\\beta} = \\left(X^TX\\right)^{-1}X^Ty$$\n",
    "\n",
    "Demostración:\n",
    "$$RSS = (y-\\hat{y})^T(y-\\hat{y}) = y^Ty-y^T\\hat{y}-\\hat{y}^Ty+\\hat{y}^T\\hat{y} = y^Ty-y^TX\\hat{\\beta}-\\hat{\\beta}^TX^Ty+\\hat{\\beta}^TX^TX\\hat{\\beta}$$\n",
    "\n",
    "Derivamos la expresión anterior con respecto a $\\hat{\\beta}$ e igualamos la derivada a 0 para encontrar el vector de estimadores que minimiza el error RSS:\n",
    "$$\\frac{dRSS}{d\\hat{\\beta}} \\stackrel{Proposición 1}{=} -2y^TX + 2\\hat{\\beta}^TX^TX=0$$\n",
    "$$\\implies y^TX=\\hat{\\beta}^TX^TX$$\n",
    "$$\\implies X^TX\\hat{\\beta}=X^Ty$$\n",
    "$$\\implies \\hat{\\beta} = (X^TX)^{-1}X^Ty$$"
   ]
  },
  {
   "cell_type": "markdown",
   "metadata": {
    "id": "Ytyl0ANHpwXR"
   },
   "source": [
    "# Problema 1\n",
    "\n",
    "Tenemos un conjunto de datos que nos dice el salario dado el número de años de experiencia en una empresa."
   ]
  },
  {
   "cell_type": "markdown",
   "metadata": {
    "id": "U33B2nAMpwXR"
   },
   "source": [
    "## a) \n",
    "Realiza una gráfica de y= SALARIO versus x= AÑOS DE EXPERIENCIA"
   ]
  },
  {
   "cell_type": "code",
   "metadata": {
    "id": "2hqfULd6pwXR"
   },
   "source": [
    "import numpy as np\n",
    "import pandas as pd \n",
    "import matplotlib.pyplot as plt "
   ],
   "execution_count": null,
   "outputs": []
  },
  {
   "cell_type": "code",
   "metadata": {
    "id": "I5fLlB4XpwXS"
   },
   "source": [
    "dataset = pd.read_csv(\"Salary_Data.csv\")"
   ],
   "execution_count": null,
   "outputs": []
  },
  {
   "cell_type": "code",
   "metadata": {
    "id": "4c3Stpl_pwXT",
    "outputId": "5539d168-cb40-45d0-df2e-acda27709b27"
   },
   "source": [
    "type(dataset)"
   ],
   "execution_count": null,
   "outputs": [
    {
     "data": {
      "text/plain": [
       "pandas.core.frame.DataFrame"
      ]
     },
     "execution_count": 3,
     "metadata": {},
     "output_type": "execute_result"
    }
   ]
  },
  {
   "cell_type": "code",
   "metadata": {
    "id": "brou8XIkpwXU",
    "outputId": "e1b9ca55-32c5-4858-81e4-1700f666269b"
   },
   "source": [
    "dataset.head()"
   ],
   "execution_count": null,
   "outputs": [
    {
     "data": {
      "text/html": [
       "<div>\n",
       "<style scoped>\n",
       "    .dataframe tbody tr th:only-of-type {\n",
       "        vertical-align: middle;\n",
       "    }\n",
       "\n",
       "    .dataframe tbody tr th {\n",
       "        vertical-align: top;\n",
       "    }\n",
       "\n",
       "    .dataframe thead th {\n",
       "        text-align: right;\n",
       "    }\n",
       "</style>\n",
       "<table border=\"1\" class=\"dataframe\">\n",
       "  <thead>\n",
       "    <tr style=\"text-align: right;\">\n",
       "      <th></th>\n",
       "      <th>YearsExperience</th>\n",
       "      <th>Salary</th>\n",
       "    </tr>\n",
       "  </thead>\n",
       "  <tbody>\n",
       "    <tr>\n",
       "      <th>0</th>\n",
       "      <td>1.1</td>\n",
       "      <td>39343.0</td>\n",
       "    </tr>\n",
       "    <tr>\n",
       "      <th>1</th>\n",
       "      <td>1.3</td>\n",
       "      <td>46205.0</td>\n",
       "    </tr>\n",
       "    <tr>\n",
       "      <th>2</th>\n",
       "      <td>1.5</td>\n",
       "      <td>37731.0</td>\n",
       "    </tr>\n",
       "    <tr>\n",
       "      <th>3</th>\n",
       "      <td>2.0</td>\n",
       "      <td>43525.0</td>\n",
       "    </tr>\n",
       "    <tr>\n",
       "      <th>4</th>\n",
       "      <td>2.2</td>\n",
       "      <td>39891.0</td>\n",
       "    </tr>\n",
       "  </tbody>\n",
       "</table>\n",
       "</div>"
      ],
      "text/plain": [
       "   YearsExperience   Salary\n",
       "0              1.1  39343.0\n",
       "1              1.3  46205.0\n",
       "2              1.5  37731.0\n",
       "3              2.0  43525.0\n",
       "4              2.2  39891.0"
      ]
     },
     "execution_count": 4,
     "metadata": {},
     "output_type": "execute_result"
    }
   ]
  },
  {
   "cell_type": "code",
   "metadata": {
    "id": "Q22t294QpwXU",
    "outputId": "32ad727e-1a8c-4d5a-a1c8-9e1ba614c7b7"
   },
   "source": [
    "dataset.tail()"
   ],
   "execution_count": null,
   "outputs": [
    {
     "data": {
      "text/html": [
       "<div>\n",
       "<style scoped>\n",
       "    .dataframe tbody tr th:only-of-type {\n",
       "        vertical-align: middle;\n",
       "    }\n",
       "\n",
       "    .dataframe tbody tr th {\n",
       "        vertical-align: top;\n",
       "    }\n",
       "\n",
       "    .dataframe thead th {\n",
       "        text-align: right;\n",
       "    }\n",
       "</style>\n",
       "<table border=\"1\" class=\"dataframe\">\n",
       "  <thead>\n",
       "    <tr style=\"text-align: right;\">\n",
       "      <th></th>\n",
       "      <th>YearsExperience</th>\n",
       "      <th>Salary</th>\n",
       "    </tr>\n",
       "  </thead>\n",
       "  <tbody>\n",
       "    <tr>\n",
       "      <th>25</th>\n",
       "      <td>9.0</td>\n",
       "      <td>105582.0</td>\n",
       "    </tr>\n",
       "    <tr>\n",
       "      <th>26</th>\n",
       "      <td>9.5</td>\n",
       "      <td>116969.0</td>\n",
       "    </tr>\n",
       "    <tr>\n",
       "      <th>27</th>\n",
       "      <td>9.6</td>\n",
       "      <td>112635.0</td>\n",
       "    </tr>\n",
       "    <tr>\n",
       "      <th>28</th>\n",
       "      <td>10.3</td>\n",
       "      <td>122391.0</td>\n",
       "    </tr>\n",
       "    <tr>\n",
       "      <th>29</th>\n",
       "      <td>10.5</td>\n",
       "      <td>121872.0</td>\n",
       "    </tr>\n",
       "  </tbody>\n",
       "</table>\n",
       "</div>"
      ],
      "text/plain": [
       "    YearsExperience    Salary\n",
       "25              9.0  105582.0\n",
       "26              9.5  116969.0\n",
       "27              9.6  112635.0\n",
       "28             10.3  122391.0\n",
       "29             10.5  121872.0"
      ]
     },
     "execution_count": 5,
     "metadata": {},
     "output_type": "execute_result"
    }
   ]
  },
  {
   "cell_type": "code",
   "metadata": {
    "id": "LCGVRAVKpwXU",
    "outputId": "eb62bab9-d668-4a57-d3ad-38d4bd84f006"
   },
   "source": [
    "dataset.shape"
   ],
   "execution_count": null,
   "outputs": [
    {
     "data": {
      "text/plain": [
       "(30, 2)"
      ]
     },
     "execution_count": 6,
     "metadata": {},
     "output_type": "execute_result"
    }
   ]
  },
  {
   "cell_type": "code",
   "metadata": {
    "id": "FYnaVmwdpwXV"
   },
   "source": [
    "x = dataset[\"YearsExperience\"].values"
   ],
   "execution_count": null,
   "outputs": []
  },
  {
   "cell_type": "code",
   "metadata": {
    "id": "XW_6-z2OpwXV",
    "outputId": "c7b6af29-7bcc-4925-9d1f-a188cecf05e6"
   },
   "source": [
    "x "
   ],
   "execution_count": null,
   "outputs": [
    {
     "data": {
      "text/plain": [
       "array([ 1.1,  1.3,  1.5,  2. ,  2.2,  2.9,  3. ,  3.2,  3.2,  3.7,  3.9,\n",
       "        4. ,  4. ,  4.1,  4.5,  4.9,  5.1,  5.3,  5.9,  6. ,  6.8,  7.1,\n",
       "        7.9,  8.2,  8.7,  9. ,  9.5,  9.6, 10.3, 10.5])"
      ]
     },
     "execution_count": 8,
     "metadata": {},
     "output_type": "execute_result"
    }
   ]
  },
  {
   "cell_type": "code",
   "metadata": {
    "id": "jUs0BbinpwXV"
   },
   "source": [
    "y = dataset[\"Salary\"].values"
   ],
   "execution_count": null,
   "outputs": []
  },
  {
   "cell_type": "code",
   "metadata": {
    "id": "pf-2vgplpwXV",
    "outputId": "a46fa02e-ef34-42ae-e3a3-a5a658c7dfc7"
   },
   "source": [
    "y "
   ],
   "execution_count": null,
   "outputs": [
    {
     "data": {
      "text/plain": [
       "array([ 39343.,  46205.,  37731.,  43525.,  39891.,  56642.,  60150.,\n",
       "        54445.,  64445.,  57189.,  63218.,  55794.,  56957.,  57081.,\n",
       "        61111.,  67938.,  66029.,  83088.,  81363.,  93940.,  91738.,\n",
       "        98273., 101302., 113812., 109431., 105582., 116969., 112635.,\n",
       "       122391., 121872.])"
      ]
     },
     "execution_count": 10,
     "metadata": {},
     "output_type": "execute_result"
    }
   ]
  },
  {
   "cell_type": "code",
   "metadata": {
    "id": "u1KZkAUrpwXW",
    "outputId": "91486da7-0228-40e9-c55b-614b1400b831"
   },
   "source": [
    "\n",
    "plt.scatter(x,y,color=\"red\", label =\"Datos\")\n",
    "plt.title(\"Gráfica de salario vs años de experiencia\")\n",
    "plt.xlabel(\"Años de experiencia\")\n",
    "plt.ylabel(\"Salario (dólares)\")\n",
    "plt.legend()\n",
    "plt.show()"
   ],
   "execution_count": null,
   "outputs": [
    {
     "data": {
      "image/png": "[encoded data removed]",
      "text/plain": [
       "<Figure size 576x504 with 1 Axes>"
      ]
     },
     "metadata": {},
     "output_type": "display_data"
    }
   ]
  },
  {
   "cell_type": "markdown",
   "metadata": {
    "id": "XYYl08ZopwXX"
   },
   "source": [
    "## b)\n",
    "Encuentra los estimadores por mínimos cuadrados $\\widehat\\beta_0$ y $\\widehat\\beta_1$."
   ]
  },
  {
   "cell_type": "code",
   "metadata": {
    "id": "q6YFkewkpwXX",
    "outputId": "d94117fa-cdbb-4e68-8314-a7d2d432ed77"
   },
   "source": [
    "len(x)"
   ],
   "execution_count": null,
   "outputs": [
    {
     "data": {
      "text/plain": [
       "30"
      ]
     },
     "execution_count": 12,
     "metadata": {},
     "output_type": "execute_result"
    }
   ]
  },
  {
   "cell_type": "code",
   "metadata": {
    "id": "2kXBLoNJpwXX"
   },
   "source": [
    "x_unos = np.ones((30,1))"
   ],
   "execution_count": null,
   "outputs": []
  },
  {
   "cell_type": "code",
   "metadata": {
    "id": "LSQsYAXLpwXX",
    "outputId": "c9c7fc13-00b5-4e94-ee75-2c865717d64d"
   },
   "source": [
    "x_unos"
   ],
   "execution_count": null,
   "outputs": [
    {
     "data": {
      "text/plain": [
       "array([[1.],\n",
       "       [1.],\n",
       "       [1.],\n",
       "       [1.],\n",
       "       [1.],\n",
       "       [1.],\n",
       "       [1.],\n",
       "       [1.],\n",
       "       [1.],\n",
       "       [1.],\n",
       "       [1.],\n",
       "       [1.],\n",
       "       [1.],\n",
       "       [1.],\n",
       "       [1.],\n",
       "       [1.],\n",
       "       [1.],\n",
       "       [1.],\n",
       "       [1.],\n",
       "       [1.],\n",
       "       [1.],\n",
       "       [1.],\n",
       "       [1.],\n",
       "       [1.],\n",
       "       [1.],\n",
       "       [1.],\n",
       "       [1.],\n",
       "       [1.],\n",
       "       [1.],\n",
       "       [1.]])"
      ]
     },
     "execution_count": 14,
     "metadata": {},
     "output_type": "execute_result"
    }
   ]
  },
  {
   "cell_type": "code",
   "metadata": {
    "id": "QodMzMM8pwXX"
   },
   "source": [
    "x = x.reshape((30,1))"
   ],
   "execution_count": null,
   "outputs": []
  },
  {
   "cell_type": "code",
   "metadata": {
    "id": "YwvsU4zhpwXY",
    "outputId": "bc1386c8-f56b-4762-d3c0-2a0d3ad14a2c"
   },
   "source": [
    "x.shape"
   ],
   "execution_count": null,
   "outputs": [
    {
     "data": {
      "text/plain": [
       "(30, 1)"
      ]
     },
     "execution_count": 16,
     "metadata": {},
     "output_type": "execute_result"
    }
   ]
  },
  {
   "cell_type": "code",
   "metadata": {
    "id": "1F2prpbjpwXY"
   },
   "source": [
    "X = np.concatenate((x_unos,x), axis = 1) #Axis = 0 es renglones, Axis=1 es columnas"
   ],
   "execution_count": null,
   "outputs": []
  },
  {
   "cell_type": "code",
   "metadata": {
    "id": "6YyVpO-vpwXY",
    "outputId": "2fe715b1-1036-4a91-89cc-e5cc4f62aeb8"
   },
   "source": [
    "X.shape"
   ],
   "execution_count": null,
   "outputs": [
    {
     "data": {
      "text/plain": [
       "(30, 2)"
      ]
     },
     "execution_count": 18,
     "metadata": {},
     "output_type": "execute_result"
    }
   ]
  },
  {
   "cell_type": "code",
   "metadata": {
    "id": "aWCHt51CpwXY",
    "outputId": "3a2ea650-ecb7-4e68-822e-bd60ebffb52e"
   },
   "source": [
    "X"
   ],
   "execution_count": null,
   "outputs": [
    {
     "data": {
      "text/plain": [
       "array([[ 1. ,  1.1],\n",
       "       [ 1. ,  1.3],\n",
       "       [ 1. ,  1.5],\n",
       "       [ 1. ,  2. ],\n",
       "       [ 1. ,  2.2],\n",
       "       [ 1. ,  2.9],\n",
       "       [ 1. ,  3. ],\n",
       "       [ 1. ,  3.2],\n",
       "       [ 1. ,  3.2],\n",
       "       [ 1. ,  3.7],\n",
       "       [ 1. ,  3.9],\n",
       "       [ 1. ,  4. ],\n",
       "       [ 1. ,  4. ],\n",
       "       [ 1. ,  4.1],\n",
       "       [ 1. ,  4.5],\n",
       "       [ 1. ,  4.9],\n",
       "       [ 1. ,  5.1],\n",
       "       [ 1. ,  5.3],\n",
       "       [ 1. ,  5.9],\n",
       "       [ 1. ,  6. ],\n",
       "       [ 1. ,  6.8],\n",
       "       [ 1. ,  7.1],\n",
       "       [ 1. ,  7.9],\n",
       "       [ 1. ,  8.2],\n",
       "       [ 1. ,  8.7],\n",
       "       [ 1. ,  9. ],\n",
       "       [ 1. ,  9.5],\n",
       "       [ 1. ,  9.6],\n",
       "       [ 1. , 10.3],\n",
       "       [ 1. , 10.5]])"
      ]
     },
     "execution_count": 19,
     "metadata": {},
     "output_type": "execute_result"
    }
   ]
  },
  {
   "cell_type": "markdown",
   "metadata": {
    "id": "oSh6cCZGpwXY"
   },
   "source": [
    "\n",
    "$$\\hat{\\beta} = (X^TX)^{-1}X^Ty$$\n"
   ]
  },
  {
   "cell_type": "code",
   "metadata": {
    "id": "avxez-6ZpwXY"
   },
   "source": [
    "y = y.reshape((30,1))"
   ],
   "execution_count": null,
   "outputs": []
  },
  {
   "cell_type": "code",
   "metadata": {
    "id": "AztQnUUYpwXY",
    "outputId": "829745e6-78a7-4f78-aa0c-7274e6a7e22e"
   },
   "source": [
    "y.shape"
   ],
   "execution_count": null,
   "outputs": [
    {
     "data": {
      "text/plain": [
       "(30, 1)"
      ]
     },
     "execution_count": 21,
     "metadata": {},
     "output_type": "execute_result"
    }
   ]
  },
  {
   "cell_type": "code",
   "metadata": {
    "id": "kVeAV675pwXZ",
    "outputId": "9d5ab4ae-4b4c-4dfe-f3bc-339d69280959"
   },
   "source": [
    "y"
   ],
   "execution_count": null,
   "outputs": [
    {
     "data": {
      "text/plain": [
       "array([[ 39343.],\n",
       "       [ 46205.],\n",
       "       [ 37731.],\n",
       "       [ 43525.],\n",
       "       [ 39891.],\n",
       "       [ 56642.],\n",
       "       [ 60150.],\n",
       "       [ 54445.],\n",
       "       [ 64445.],\n",
       "       [ 57189.],\n",
       "       [ 63218.],\n",
       "       [ 55794.],\n",
       "       [ 56957.],\n",
       "       [ 57081.],\n",
       "       [ 61111.],\n",
       "       [ 67938.],\n",
       "       [ 66029.],\n",
       "       [ 83088.],\n",
       "       [ 81363.],\n",
       "       [ 93940.],\n",
       "       [ 91738.],\n",
       "       [ 98273.],\n",
       "       [101302.],\n",
       "       [113812.],\n",
       "       [109431.],\n",
       "       [105582.],\n",
       "       [116969.],\n",
       "       [112635.],\n",
       "       [122391.],\n",
       "       [121872.]])"
      ]
     },
     "execution_count": 22,
     "metadata": {},
     "output_type": "execute_result"
    }
   ]
  },
  {
   "cell_type": "code",
   "metadata": {
    "id": "06bMkCyIpwXZ"
   },
   "source": [
    "aux1= np.matmul(X.T,X)\n",
    "aux2= np.linalg.inv(aux1)\n",
    "aux3= np.matmul(aux2, X.T)\n",
    "pesos = np.matmul(aux3,y)"
   ],
   "execution_count": null,
   "outputs": []
  },
  {
   "cell_type": "code",
   "metadata": {
    "id": "g8m-JSLxpwXZ",
    "outputId": "6d5840d5-861e-464d-fb0e-a00fa3a09b63"
   },
   "source": [
    "pesos"
   ],
   "execution_count": null,
   "outputs": [
    {
     "data": {
      "text/plain": [
       "array([[25792.20019867],\n",
       "       [ 9449.96232146]])"
      ]
     },
     "execution_count": 24,
     "metadata": {},
     "output_type": "execute_result"
    }
   ]
  },
  {
   "cell_type": "markdown",
   "metadata": {
    "id": "dLmNxUjgpwXZ"
   },
   "source": [
    "## c)\n",
    "Haz la gráfica de la curva de ajuste $\\widehat y=\\widehat\\beta_0+\\widehat\\beta_1x$\n"
   ]
  },
  {
   "cell_type": "markdown",
   "metadata": {
    "id": "FiQuJxHvpwXZ"
   },
   "source": [
    "predicción = $$X\\beta$$"
   ]
  },
  {
   "cell_type": "code",
   "metadata": {
    "id": "V1VvCimppwXZ"
   },
   "source": [
    "pred = np.matmul(X,pesos)"
   ],
   "execution_count": null,
   "outputs": []
  },
  {
   "cell_type": "code",
   "metadata": {
    "id": "nur5eFPopwXZ",
    "outputId": "73681d92-d888-460d-c6c7-895a39c5392a"
   },
   "source": [
    "pred"
   ],
   "execution_count": null,
   "outputs": [
    {
     "data": {
      "text/plain": [
       "array([[ 36187.15875227],\n",
       "       [ 38077.15121656],\n",
       "       [ 39967.14368085],\n",
       "       [ 44692.12484158],\n",
       "       [ 46582.11730587],\n",
       "       [ 53197.09093089],\n",
       "       [ 54142.08716303],\n",
       "       [ 56032.07962732],\n",
       "       [ 56032.07962732],\n",
       "       [ 60757.06078805],\n",
       "       [ 62647.05325234],\n",
       "       [ 63592.04948449],\n",
       "       [ 63592.04948449],\n",
       "       [ 64537.04571663],\n",
       "       [ 68317.03064522],\n",
       "       [ 72097.0155738 ],\n",
       "       [ 73987.00803809],\n",
       "       [ 75877.00050238],\n",
       "       [ 81546.97789525],\n",
       "       [ 82491.9741274 ],\n",
       "       [ 90051.94398456],\n",
       "       [ 92886.932681  ],\n",
       "       [100446.90253816],\n",
       "       [103281.8912346 ],\n",
       "       [108006.87239533],\n",
       "       [110841.86109176],\n",
       "       [115566.84225249],\n",
       "       [116511.83848464],\n",
       "       [123126.81210966],\n",
       "       [125016.80457395]])"
      ]
     },
     "execution_count": 26,
     "metadata": {},
     "output_type": "execute_result"
    }
   ]
  },
  {
   "cell_type": "code",
   "metadata": {
    "id": "XhdxKisPpwXZ",
    "outputId": "23efeffd-c3ef-4397-e22b-0649eb5daa41"
   },
   "source": [
    "plt.scatter(x,y,color=\"red\", label =\"Datos originales\")\n",
    "plt.plot(x,pred.ravel(), color=\"green\", label=\"Recta ajustada\")\n",
    "plt.title(\"Gráfica de salario vs años de experiencia\")\n",
    "plt.xlabel(\"Años de experiencia\")\n",
    "plt.ylabel(\"Salario (dólares)\")\n",
    "plt.legend()\n",
    "plt.show()"
   ],
   "execution_count": null,
   "outputs": [
    {
     "data": {
      "image/png": "[encoded data removed]",
      "text/plain": [
       "<Figure size 576x504 with 1 Axes>"
      ]
     },
     "metadata": {},
     "output_type": "display_data"
    }
   ]
  },
  {
   "cell_type": "markdown",
   "metadata": {
    "id": "27ynx5aQpwXa"
   },
   "source": [
    "# Problema 2\n",
    "\n",
    "El banco internacional UBS produce regularmente un informe (UBS, 2009) sobre los precios y las ganancias en las principales ciudades del mundo. Tres de las medidas que incluyen son los precios de los productos básicos, a saber, 1 kg de arroz, una barra de pan de 1 kg y el precio de una hamburguesa Big Mac en McDonalds. Una característica interesante de los precios que informan es que los precios se miden en los minutos de trabajo necesarios para que un trabajador \"típico\" en ese lugar gane suficiente dinero para comprar el producto. El uso de minutos de trabajo corrige al menos en parte las fluctuaciones monetarias, las tasas salariales vigentes y los precios locales. El archivo de datos incluye mediciones de precios de arroz, pan y Big Mac de los informes de 2003 y 2009. El año 2003 fue antes de que la gran recesión golpeara a gran parte del mundo alrededor de 2006, y el año 2009 puede reflejar cambios en los precios debido a la recesión."
   ]
  },
  {
   "cell_type": "markdown",
   "metadata": {
    "id": "FVy_6iYGpwXa"
   },
   "source": [
    "# a) \n",
    "Realiza un gráfico de dispersión de y = rice2009 versus x = rice2003, los precios del\n",
    "arroz en 2009 y en 2003, respectivamente.\n"
   ]
  },
  {
   "cell_type": "code",
   "metadata": {
    "id": "JgtjA5uQpwXa"
   },
   "source": [
    "dataset_2 = pd.read_csv(\"UBSprices.csv\")"
   ],
   "execution_count": null,
   "outputs": []
  },
  {
   "cell_type": "code",
   "metadata": {
    "id": "BIUV7Gl9pwXa",
    "outputId": "81b7ee15-5471-46a5-bcc7-a70dbbd389c2"
   },
   "source": [
    "dataset_2.head()"
   ],
   "execution_count": null,
   "outputs": [
    {
     "data": {
      "text/html": [
       "<div>\n",
       "<style scoped>\n",
       "    .dataframe tbody tr th:only-of-type {\n",
       "        vertical-align: middle;\n",
       "    }\n",
       "\n",
       "    .dataframe tbody tr th {\n",
       "        vertical-align: top;\n",
       "    }\n",
       "\n",
       "    .dataframe thead th {\n",
       "        text-align: right;\n",
       "    }\n",
       "</style>\n",
       "<table border=\"1\" class=\"dataframe\">\n",
       "  <thead>\n",
       "    <tr style=\"text-align: right;\">\n",
       "      <th></th>\n",
       "      <th>Unnamed: 0</th>\n",
       "      <th>bigmac2009</th>\n",
       "      <th>bread2009</th>\n",
       "      <th>rice2009</th>\n",
       "      <th>bigmac2003</th>\n",
       "      <th>bread2003</th>\n",
       "      <th>rice2003</th>\n",
       "    </tr>\n",
       "  </thead>\n",
       "  <tbody>\n",
       "    <tr>\n",
       "      <th>0</th>\n",
       "      <td>Amsterdam</td>\n",
       "      <td>19</td>\n",
       "      <td>10</td>\n",
       "      <td>11.0</td>\n",
       "      <td>16</td>\n",
       "      <td>9</td>\n",
       "      <td>9</td>\n",
       "    </tr>\n",
       "    <tr>\n",
       "      <th>1</th>\n",
       "      <td>Athens</td>\n",
       "      <td>30</td>\n",
       "      <td>13</td>\n",
       "      <td>27.0</td>\n",
       "      <td>21</td>\n",
       "      <td>12</td>\n",
       "      <td>19</td>\n",
       "    </tr>\n",
       "    <tr>\n",
       "      <th>2</th>\n",
       "      <td>Auckland</td>\n",
       "      <td>19</td>\n",
       "      <td>19</td>\n",
       "      <td>13.0</td>\n",
       "      <td>19</td>\n",
       "      <td>19</td>\n",
       "      <td>9</td>\n",
       "    </tr>\n",
       "    <tr>\n",
       "      <th>3</th>\n",
       "      <td>Bangkok</td>\n",
       "      <td>45</td>\n",
       "      <td>43</td>\n",
       "      <td>27.0</td>\n",
       "      <td>50</td>\n",
       "      <td>42</td>\n",
       "      <td>25</td>\n",
       "    </tr>\n",
       "    <tr>\n",
       "      <th>4</th>\n",
       "      <td>Barcelona</td>\n",
       "      <td>21</td>\n",
       "      <td>17</td>\n",
       "      <td>8.0</td>\n",
       "      <td>22</td>\n",
       "      <td>19</td>\n",
       "      <td>10</td>\n",
       "    </tr>\n",
       "  </tbody>\n",
       "</table>\n",
       "</div>"
      ],
      "text/plain": [
       "  Unnamed: 0  bigmac2009  bread2009  rice2009  bigmac2003  bread2003  rice2003\n",
       "0  Amsterdam          19         10      11.0          16          9         9\n",
       "1     Athens          30         13      27.0          21         12        19\n",
       "2   Auckland          19         19      13.0          19         19         9\n",
       "3    Bangkok          45         43      27.0          50         42        25\n",
       "4  Barcelona          21         17       8.0          22         19        10"
      ]
     },
     "execution_count": 29,
     "metadata": {},
     "output_type": "execute_result"
    }
   ]
  },
  {
   "cell_type": "code",
   "metadata": {
    "id": "IrN8LKVBpwXa",
    "outputId": "a4398757-79f9-4a4b-871b-ddb198380ae8"
   },
   "source": [
    "dataset_2.shape"
   ],
   "execution_count": null,
   "outputs": [
    {
     "data": {
      "text/plain": [
       "(54, 7)"
      ]
     },
     "execution_count": 30,
     "metadata": {},
     "output_type": "execute_result"
    }
   ]
  },
  {
   "cell_type": "code",
   "metadata": {
    "id": "Ux8dCGdPpwXb"
   },
   "source": [
    "x_2 = dataset_2[\"rice2003\"].values"
   ],
   "execution_count": null,
   "outputs": []
  },
  {
   "cell_type": "code",
   "metadata": {
    "id": "FeNeMqM4pwXb",
    "outputId": "4c377bb6-afcf-494b-e8ad-de78860d03a8"
   },
   "source": [
    "x_2"
   ],
   "execution_count": null,
   "outputs": [
    {
     "data": {
      "text/plain": [
       "array([ 9, 19,  9, 25, 10, 16, 16, 28, 12, 21, 22, 17,  7,  5, 16, 14, 16,\n",
       "        7, 12, 34, 20, 14, 28, 21, 11, 24, 14, 14, 12, 19, 26, 11, 15, 11,\n",
       "       18, 96, 70, 12, 18, 17, 28, 22, 38, 11, 28, 15,  8, 12, 26, 18, 10,\n",
       "       10, 23, 16])"
      ]
     },
     "execution_count": 32,
     "metadata": {},
     "output_type": "execute_result"
    }
   ]
  },
  {
   "cell_type": "code",
   "metadata": {
    "id": "K7UzHFR3pwXb"
   },
   "source": [
    "y_2 = dataset_2[\"rice2009\"].values"
   ],
   "execution_count": null,
   "outputs": []
  },
  {
   "cell_type": "code",
   "metadata": {
    "id": "KseTfbD4pwXb",
    "outputId": "34db9e30-4fc0-4b25-fd58-299c80263056"
   },
   "source": [
    "y_2"
   ],
   "execution_count": null,
   "outputs": [
    {
     "data": {
      "text/plain": [
       "array([11. , 27. , 13. , 27. ,  8. , 17. , 21. , 25. , 11. , 44. , 65. ,\n",
       "       14. ,  9. , 11. , 16. , 11. , 16. , 10. , 11. , 43. , 47. , 17. ,\n",
       "       32. , 23. ,  9. , 20. ,  8. ,  9. , 11. , 25. , 38. , 10. , 21. ,\n",
       "       16. , 12. , 37. , 49. , 12. , 20. , 21. , 30. , 25. , 20. , 17. ,\n",
       "       44. , 17. , 11. , 12. , 18. , 21. , 10.5, 14. , 74.5, 45.5])"
      ]
     },
     "execution_count": 34,
     "metadata": {},
     "output_type": "execute_result"
    }
   ]
  },
  {
   "cell_type": "code",
   "metadata": {
    "id": "8id1fVD7pwXb",
    "outputId": "64088099-bd7f-4801-e321-4db9cee86804"
   },
   "source": [
    "plt.scatter(x_2,y_2,color=\"red\", label=\"Datos originales\")\n",
    "plt.ylabel(\"Precio del arroz en 2009\")\n",
    "plt.xlabel(\"Precio del arroz en 2003\")\n",
    "plt.title(\"Gráfica del precio del arroz en 2009 vs arroz 2003\")\n",
    "plt.legend()\n",
    "plt.show() "
   ],
   "execution_count": null,
   "outputs": [
    {
     "data": {
      "image/png": "[encoded data removed]",
      "text/plain": [
       "<Figure size 576x504 with 1 Axes>"
      ]
     },
     "metadata": {},
     "output_type": "display_data"
    }
   ]
  },
  {
   "cell_type": "markdown",
   "metadata": {
    "id": "h8Ysbj_jpwXb"
   },
   "source": [
    "# b)\n",
    "Encuentra los estimadores por mínimos cuadrados $\\widehat\\beta_0$ y $\\widehat\\beta_1$. "
   ]
  },
  {
   "cell_type": "markdown",
   "metadata": {
    "id": "Ga3veU4_pwXb"
   },
   "source": [
    "$$\\hat{\\beta} = (X^TX)^{-1}X^Ty$$"
   ]
  },
  {
   "cell_type": "code",
   "metadata": {
    "id": "NK22LMI3pwXc"
   },
   "source": [
    "def regresion_lineal(X,y):\n",
    "    m_1 = np.matmul(X.T,X)\n",
    "    m_2 = np.linalg.inv(m_1)\n",
    "    m_3 = np.matmul(m_2,X.T)\n",
    "    return np.matmul(m_3,y)\n",
    "    "
   ],
   "execution_count": null,
   "outputs": []
  },
  {
   "cell_type": "code",
   "metadata": {
    "id": "mCzmJ0enpwXc",
    "outputId": "c3769c4c-142c-4831-86e8-babb0cb93a6d"
   },
   "source": [
    "len(x_2)"
   ],
   "execution_count": null,
   "outputs": [
    {
     "data": {
      "text/plain": [
       "54"
      ]
     },
     "execution_count": 37,
     "metadata": {},
     "output_type": "execute_result"
    }
   ]
  },
  {
   "cell_type": "code",
   "metadata": {
    "id": "1utdMVjVpwXc"
   },
   "source": [
    "x_2_unos = np.ones((len(x_2),1))"
   ],
   "execution_count": null,
   "outputs": []
  },
  {
   "cell_type": "code",
   "metadata": {
    "id": "NxdI1hB9pwXc",
    "outputId": "d2ff9983-6089-49d8-b41b-01ae5c7b5a0e"
   },
   "source": [
    "x_2_unos"
   ],
   "execution_count": null,
   "outputs": [
    {
     "data": {
      "text/plain": [
       "array([[1.],\n",
       "       [1.],\n",
       "       [1.],\n",
       "       [1.],\n",
       "       [1.],\n",
       "       [1.],\n",
       "       [1.],\n",
       "       [1.],\n",
       "       [1.],\n",
       "       [1.],\n",
       "       [1.],\n",
       "       [1.],\n",
       "       [1.],\n",
       "       [1.],\n",
       "       [1.],\n",
       "       [1.],\n",
       "       [1.],\n",
       "       [1.],\n",
       "       [1.],\n",
       "       [1.],\n",
       "       [1.],\n",
       "       [1.],\n",
       "       [1.],\n",
       "       [1.],\n",
       "       [1.],\n",
       "       [1.],\n",
       "       [1.],\n",
       "       [1.],\n",
       "       [1.],\n",
       "       [1.],\n",
       "       [1.],\n",
       "       [1.],\n",
       "       [1.],\n",
       "       [1.],\n",
       "       [1.],\n",
       "       [1.],\n",
       "       [1.],\n",
       "       [1.],\n",
       "       [1.],\n",
       "       [1.],\n",
       "       [1.],\n",
       "       [1.],\n",
       "       [1.],\n",
       "       [1.],\n",
       "       [1.],\n",
       "       [1.],\n",
       "       [1.],\n",
       "       [1.],\n",
       "       [1.],\n",
       "       [1.],\n",
       "       [1.],\n",
       "       [1.],\n",
       "       [1.],\n",
       "       [1.]])"
      ]
     },
     "execution_count": 39,
     "metadata": {},
     "output_type": "execute_result"
    }
   ]
  },
  {
   "cell_type": "code",
   "metadata": {
    "id": "HUvhEV6bpwXc"
   },
   "source": [
    "x_2 = x_2.reshape((-1,1))"
   ],
   "execution_count": null,
   "outputs": []
  },
  {
   "cell_type": "code",
   "metadata": {
    "id": "K3iAozAfpwXc",
    "outputId": "89e03a4b-f250-475e-92c9-1ce515266434"
   },
   "source": [
    "x_2 "
   ],
   "execution_count": null,
   "outputs": [
    {
     "data": {
      "text/plain": [
       "array([[ 9],\n",
       "       [19],\n",
       "       [ 9],\n",
       "       [25],\n",
       "       [10],\n",
       "       [16],\n",
       "       [16],\n",
       "       [28],\n",
       "       [12],\n",
       "       [21],\n",
       "       [22],\n",
       "       [17],\n",
       "       [ 7],\n",
       "       [ 5],\n",
       "       [16],\n",
       "       [14],\n",
       "       [16],\n",
       "       [ 7],\n",
       "       [12],\n",
       "       [34],\n",
       "       [20],\n",
       "       [14],\n",
       "       [28],\n",
       "       [21],\n",
       "       [11],\n",
       "       [24],\n",
       "       [14],\n",
       "       [14],\n",
       "       [12],\n",
       "       [19],\n",
       "       [26],\n",
       "       [11],\n",
       "       [15],\n",
       "       [11],\n",
       "       [18],\n",
       "       [96],\n",
       "       [70],\n",
       "       [12],\n",
       "       [18],\n",
       "       [17],\n",
       "       [28],\n",
       "       [22],\n",
       "       [38],\n",
       "       [11],\n",
       "       [28],\n",
       "       [15],\n",
       "       [ 8],\n",
       "       [12],\n",
       "       [26],\n",
       "       [18],\n",
       "       [10],\n",
       "       [10],\n",
       "       [23],\n",
       "       [16]])"
      ]
     },
     "execution_count": 41,
     "metadata": {},
     "output_type": "execute_result"
    }
   ]
  },
  {
   "cell_type": "code",
   "metadata": {
    "id": "CybeQOkopwXc"
   },
   "source": [
    "X_2 = np.concatenate((x_2_unos,x_2), axis = 1)"
   ],
   "execution_count": null,
   "outputs": []
  },
  {
   "cell_type": "code",
   "metadata": {
    "id": "rrx5Zi1ipwXc",
    "outputId": "bf73e814-d4f1-49ce-b48c-0bf01084c41e"
   },
   "source": [
    "X_2.shape"
   ],
   "execution_count": null,
   "outputs": [
    {
     "data": {
      "text/plain": [
       "(54, 2)"
      ]
     },
     "execution_count": 43,
     "metadata": {},
     "output_type": "execute_result"
    }
   ]
  },
  {
   "cell_type": "code",
   "metadata": {
    "id": "StMTCgkMpwXc",
    "outputId": "3efda207-3d6c-44a4-98c8-0f5046aaf9e7"
   },
   "source": [
    "X_2 "
   ],
   "execution_count": null,
   "outputs": [
    {
     "data": {
      "text/plain": [
       "array([[ 1.,  9.],\n",
       "       [ 1., 19.],\n",
       "       [ 1.,  9.],\n",
       "       [ 1., 25.],\n",
       "       [ 1., 10.],\n",
       "       [ 1., 16.],\n",
       "       [ 1., 16.],\n",
       "       [ 1., 28.],\n",
       "       [ 1., 12.],\n",
       "       [ 1., 21.],\n",
       "       [ 1., 22.],\n",
       "       [ 1., 17.],\n",
       "       [ 1.,  7.],\n",
       "       [ 1.,  5.],\n",
       "       [ 1., 16.],\n",
       "       [ 1., 14.],\n",
       "       [ 1., 16.],\n",
       "       [ 1.,  7.],\n",
       "       [ 1., 12.],\n",
       "       [ 1., 34.],\n",
       "       [ 1., 20.],\n",
       "       [ 1., 14.],\n",
       "       [ 1., 28.],\n",
       "       [ 1., 21.],\n",
       "       [ 1., 11.],\n",
       "       [ 1., 24.],\n",
       "       [ 1., 14.],\n",
       "       [ 1., 14.],\n",
       "       [ 1., 12.],\n",
       "       [ 1., 19.],\n",
       "       [ 1., 26.],\n",
       "       [ 1., 11.],\n",
       "       [ 1., 15.],\n",
       "       [ 1., 11.],\n",
       "       [ 1., 18.],\n",
       "       [ 1., 96.],\n",
       "       [ 1., 70.],\n",
       "       [ 1., 12.],\n",
       "       [ 1., 18.],\n",
       "       [ 1., 17.],\n",
       "       [ 1., 28.],\n",
       "       [ 1., 22.],\n",
       "       [ 1., 38.],\n",
       "       [ 1., 11.],\n",
       "       [ 1., 28.],\n",
       "       [ 1., 15.],\n",
       "       [ 1.,  8.],\n",
       "       [ 1., 12.],\n",
       "       [ 1., 26.],\n",
       "       [ 1., 18.],\n",
       "       [ 1., 10.],\n",
       "       [ 1., 10.],\n",
       "       [ 1., 23.],\n",
       "       [ 1., 16.]])"
      ]
     },
     "execution_count": 44,
     "metadata": {},
     "output_type": "execute_result"
    }
   ]
  },
  {
   "cell_type": "code",
   "metadata": {
    "id": "lIuFcA1jpwXd"
   },
   "source": [
    "y_2 = y_2.reshape((-1,1))"
   ],
   "execution_count": null,
   "outputs": []
  },
  {
   "cell_type": "code",
   "metadata": {
    "id": "jK8Jj9arpwXd",
    "outputId": "d4002fae-4be1-4ee0-8e0b-6b8bcad175bb"
   },
   "source": [
    "y_2.shape"
   ],
   "execution_count": null,
   "outputs": [
    {
     "data": {
      "text/plain": [
       "(54, 1)"
      ]
     },
     "execution_count": 46,
     "metadata": {},
     "output_type": "execute_result"
    }
   ]
  },
  {
   "cell_type": "code",
   "metadata": {
    "id": "vaXkRQn7pwXd"
   },
   "source": [
    "pesos_2 = regresion_lineal(X_2,y_2)"
   ],
   "execution_count": null,
   "outputs": []
  },
  {
   "cell_type": "code",
   "metadata": {
    "id": "iRyIo1IZpwXd",
    "outputId": "5644d0c7-c2a0-435e-9549-17afeba5fac3"
   },
   "source": [
    "pesos_2"
   ],
   "execution_count": null,
   "outputs": [
    {
     "data": {
      "text/plain": [
       "array([[12.584192  ],\n",
       "       [ 0.50138309]])"
      ]
     },
     "execution_count": 48,
     "metadata": {},
     "output_type": "execute_result"
    }
   ]
  },
  {
   "cell_type": "markdown",
   "metadata": {
    "id": "5WRQRkt-pwXd"
   },
   "source": [
    "# c)\n",
    "\n",
    "Haz la gráfica de la curva de ajuste $\\widehat y=\\widehat\\beta_0+\\widehat\\beta_1x$\n"
   ]
  },
  {
   "cell_type": "code",
   "metadata": {
    "id": "kNBLQ_gppwXd"
   },
   "source": [
    "y_2_pred = np.matmul(X_2,pesos_2)"
   ],
   "execution_count": null,
   "outputs": []
  },
  {
   "cell_type": "code",
   "metadata": {
    "id": "hYgSzViBpwXd",
    "outputId": "9febef9e-9a6d-4b2c-e44b-ec74a9455cdc"
   },
   "source": [
    "y_2_pred.shape"
   ],
   "execution_count": null,
   "outputs": [
    {
     "data": {
      "text/plain": [
       "(54, 1)"
      ]
     },
     "execution_count": 50,
     "metadata": {},
     "output_type": "execute_result"
    }
   ]
  },
  {
   "cell_type": "code",
   "metadata": {
    "id": "rfh_5I82pwXd",
    "outputId": "626f4b42-6a75-49f0-c3ef-38c5ccce02fc"
   },
   "source": [
    "plt.scatter(x_2,y_2,color=\"red\", label=\"Datos originales\")\n",
    "plt.plot(x_2,y_2_pred.ravel(), color=\"green\", label=\"Recta ajustada\")\n",
    "plt.ylabel(\"Precio del arroz en 2009\")\n",
    "plt.xlabel(\"Precio del arroz en 2003\")\n",
    "plt.title(\"Gráfica del precio del arroz en 2009 vs arroz 2003\")\n",
    "plt.legend()\n",
    "plt.show() "
   ],
   "execution_count": null,
   "outputs": [
    {
     "data": {
      "image/png": "[encoded data removed]",
      "text/plain": [
       "<Figure size 576x504 with 1 Axes>"
      ]
     },
     "metadata": {},
     "output_type": "display_data"
    }
   ]
  },
  {
   "cell_type": "code",
   "metadata": {
    "id": "5LNl_3OqpwXe"
   },
   "source": [],
   "execution_count": null,
   "outputs": []
  },
  {
   "cell_type": "markdown",
   "metadata": {
    "id": "aBqxA9w6pwXe"
   },
   "source": [
    "# d)\n",
    "Realiza nuevamente un gráfico de dispersión pero usando escalas logarítmicas, es decir, realiza el gráfico de dispersión de $y=\\log(\\mathtt{rice2009})$ versus $x=\\log(\\mathtt{rice2003})$."
   ]
  },
  {
   "cell_type": "markdown",
   "metadata": {
    "id": "JrdU25dxpwXe"
   },
   "source": [
    "# e)\n",
    "Repite los incisos (b) y (c) pero con este representación alternativa en escalas logarítmicas."
   ]
  },
  {
   "cell_type": "code",
   "metadata": {
    "id": "0M4oaTwWpwXe"
   },
   "source": [
    "x_2_log = np.log(x_2)"
   ],
   "execution_count": null,
   "outputs": []
  },
  {
   "cell_type": "code",
   "metadata": {
    "id": "qHPWCJi8pwXe",
    "outputId": "db04a2c8-1923-4aa7-f47b-54fb9252fe92"
   },
   "source": [
    "x_2_log"
   ],
   "execution_count": null,
   "outputs": [
    {
     "data": {
      "text/plain": [
       "array([[2.19722458],\n",
       "       [2.94443898],\n",
       "       [2.19722458],\n",
       "       [3.21887582],\n",
       "       [2.30258509],\n",
       "       [2.77258872],\n",
       "       [2.77258872],\n",
       "       [3.33220451],\n",
       "       [2.48490665],\n",
       "       [3.04452244],\n",
       "       [3.09104245],\n",
       "       [2.83321334],\n",
       "       [1.94591015],\n",
       "       [1.60943791],\n",
       "       [2.77258872],\n",
       "       [2.63905733],\n",
       "       [2.77258872],\n",
       "       [1.94591015],\n",
       "       [2.48490665],\n",
       "       [3.52636052],\n",
       "       [2.99573227],\n",
       "       [2.63905733],\n",
       "       [3.33220451],\n",
       "       [3.04452244],\n",
       "       [2.39789527],\n",
       "       [3.17805383],\n",
       "       [2.63905733],\n",
       "       [2.63905733],\n",
       "       [2.48490665],\n",
       "       [2.94443898],\n",
       "       [3.25809654],\n",
       "       [2.39789527],\n",
       "       [2.7080502 ],\n",
       "       [2.39789527],\n",
       "       [2.89037176],\n",
       "       [4.56434819],\n",
       "       [4.24849524],\n",
       "       [2.48490665],\n",
       "       [2.89037176],\n",
       "       [2.83321334],\n",
       "       [3.33220451],\n",
       "       [3.09104245],\n",
       "       [3.63758616],\n",
       "       [2.39789527],\n",
       "       [3.33220451],\n",
       "       [2.7080502 ],\n",
       "       [2.07944154],\n",
       "       [2.48490665],\n",
       "       [3.25809654],\n",
       "       [2.89037176],\n",
       "       [2.30258509],\n",
       "       [2.30258509],\n",
       "       [3.13549422],\n",
       "       [2.77258872]])"
      ]
     },
     "execution_count": 53,
     "metadata": {},
     "output_type": "execute_result"
    }
   ]
  },
  {
   "cell_type": "code",
   "metadata": {
    "id": "LX1L8l9hpwXf"
   },
   "source": [
    "y_2_log = np.log(y_2)"
   ],
   "execution_count": null,
   "outputs": []
  },
  {
   "cell_type": "code",
   "metadata": {
    "id": "MIFCWJmHpwXf"
   },
   "source": [
    "X_2_log = np.concatenate((x_2_unos,x_2_log), axis = 1)"
   ],
   "execution_count": null,
   "outputs": []
  },
  {
   "cell_type": "code",
   "metadata": {
    "id": "0LyWpiRfpwXf",
    "outputId": "8a579ca9-417c-414d-de3f-1c60aab82aaf"
   },
   "source": [
    "X_2_log"
   ],
   "execution_count": null,
   "outputs": [
    {
     "data": {
      "text/plain": [
       "array([[1.        , 2.19722458],\n",
       "       [1.        , 2.94443898],\n",
       "       [1.        , 2.19722458],\n",
       "       [1.        , 3.21887582],\n",
       "       [1.        , 2.30258509],\n",
       "       [1.        , 2.77258872],\n",
       "       [1.        , 2.77258872],\n",
       "       [1.        , 3.33220451],\n",
       "       [1.        , 2.48490665],\n",
       "       [1.        , 3.04452244],\n",
       "       [1.        , 3.09104245],\n",
       "       [1.        , 2.83321334],\n",
       "       [1.        , 1.94591015],\n",
       "       [1.        , 1.60943791],\n",
       "       [1.        , 2.77258872],\n",
       "       [1.        , 2.63905733],\n",
       "       [1.        , 2.77258872],\n",
       "       [1.        , 1.94591015],\n",
       "       [1.        , 2.48490665],\n",
       "       [1.        , 3.52636052],\n",
       "       [1.        , 2.99573227],\n",
       "       [1.        , 2.63905733],\n",
       "       [1.        , 3.33220451],\n",
       "       [1.        , 3.04452244],\n",
       "       [1.        , 2.39789527],\n",
       "       [1.        , 3.17805383],\n",
       "       [1.        , 2.63905733],\n",
       "       [1.        , 2.63905733],\n",
       "       [1.        , 2.48490665],\n",
       "       [1.        , 2.94443898],\n",
       "       [1.        , 3.25809654],\n",
       "       [1.        , 2.39789527],\n",
       "       [1.        , 2.7080502 ],\n",
       "       [1.        , 2.39789527],\n",
       "       [1.        , 2.89037176],\n",
       "       [1.        , 4.56434819],\n",
       "       [1.        , 4.24849524],\n",
       "       [1.        , 2.48490665],\n",
       "       [1.        , 2.89037176],\n",
       "       [1.        , 2.83321334],\n",
       "       [1.        , 3.33220451],\n",
       "       [1.        , 3.09104245],\n",
       "       [1.        , 3.63758616],\n",
       "       [1.        , 2.39789527],\n",
       "       [1.        , 3.33220451],\n",
       "       [1.        , 2.7080502 ],\n",
       "       [1.        , 2.07944154],\n",
       "       [1.        , 2.48490665],\n",
       "       [1.        , 3.25809654],\n",
       "       [1.        , 2.89037176],\n",
       "       [1.        , 2.30258509],\n",
       "       [1.        , 2.30258509],\n",
       "       [1.        , 3.13549422],\n",
       "       [1.        , 2.77258872]])"
      ]
     },
     "execution_count": 56,
     "metadata": {},
     "output_type": "execute_result"
    }
   ]
  },
  {
   "cell_type": "code",
   "metadata": {
    "id": "2RT_aCC8pwXf"
   },
   "source": [
    "pesos_2_log = regresion_lineal(X_2_log,y_2_log)"
   ],
   "execution_count": null,
   "outputs": []
  },
  {
   "cell_type": "code",
   "metadata": {
    "id": "h5GPj7B4pwXf",
    "outputId": "6ba1a11f-908a-4fa2-8036-df5dd6c7c94b"
   },
   "source": [
    "pesos_2_log"
   ],
   "execution_count": null,
   "outputs": [
    {
     "data": {
      "text/plain": [
       "array([[0.74703458],\n",
       "       [0.77865709]])"
      ]
     },
     "execution_count": 58,
     "metadata": {},
     "output_type": "execute_result"
    }
   ]
  },
  {
   "cell_type": "code",
   "metadata": {
    "id": "_p1ORwcDpwXg"
   },
   "source": [
    "y_2_log_pred = np.matmul(X_2_log, pesos_2_log)"
   ],
   "execution_count": null,
   "outputs": []
  },
  {
   "cell_type": "code",
   "metadata": {
    "id": "NDc5xTLXpwXg",
    "outputId": "3b35954b-0b77-4bfe-d8fa-271238c7ee3a"
   },
   "source": [
    "plt.scatter(x_2_log,y_2_log,color=\"red\", label=\"Datos originales\")\n",
    "plt.plot(x_2_log,y_2_log_pred.ravel(), color=\"green\", label=\"Recta ajustada\")\n",
    "plt.ylabel(\"ln(Precio del arroz en 2009)\")\n",
    "plt.xlabel(\"ln(Precio del arroz en 2003)\")\n",
    "plt.title(\"Gráfica en escala logarítmica del precio del arroz en 2009 vs arroz 2003\")\n",
    "plt.legend()\n",
    "plt.show() "
   ],
   "execution_count": null,
   "outputs": [
    {
     "data": {
      "image/png": "[encoded data removed]",
      "text/plain": [
       "<Figure size 576x504 with 1 Axes>"
      ]
     },
     "metadata": {},
     "output_type": "display_data"
    }
   ]
  },
  {
   "cell_type": "code",
   "metadata": {
    "id": "91A6NN_ipwXg"
   },
   "source": [],
   "execution_count": null,
   "outputs": []
  },
  {
   "cell_type": "code",
   "metadata": {
    "id": "fNsHAPnupwXg"
   },
   "source": [],
   "execution_count": null,
   "outputs": []
  },
  {
   "cell_type": "code",
   "metadata": {
    "id": "7zkVA1Y0pwXg"
   },
   "source": [],
   "execution_count": null,
   "outputs": []
  },
  {
   "cell_type": "code",
   "metadata": {
    "id": "w5diVa3IpwXg"
   },
   "source": [],
   "execution_count": null,
   "outputs": []
  },
  {
   "cell_type": "code",
   "metadata": {
    "id": "kmxgCGaUpwXg"
   },
   "source": [],
   "execution_count": null,
   "outputs": []
  },
  {
   "cell_type": "markdown",
   "metadata": {
    "id": "ptFMT3PPpwXg"
   },
   "source": [
    "# f) Regresando a la expresión original.\n",
    "En la parte anterior, se realizó una regresión lineal para las variables $ln(y) = \\beta_{0} + \\beta_1ln(x)$, esto implica que:\n",
    "$$y = e^{\\beta_{0} + \\beta_1ln(x)} = e^{\\beta_{0} + ln\\left(x^{\\beta_1}\\right)} = e^{\\beta_0}e^{ln\\left(x^{\\beta_1}\\right)} = e^{\\beta_0}x^{\\beta_1}$$\n",
    "entonces, la función que se ajustó es:\n",
    "$$y = e^{\\beta_0}x^{\\beta_1}$$\n",
    "\n",
    "A continuación la vamos a graficar, junto con los datos originales, para ver como es el modelo."
   ]
  },
  {
   "cell_type": "code",
   "metadata": {
    "id": "LGax7GmUpwXh",
    "outputId": "883fd217-b7d5-4548-ccaf-103d970ffdf3"
   },
   "source": [
    "pesos_2_log"
   ],
   "execution_count": null,
   "outputs": [
    {
     "data": {
      "text/plain": [
       "array([[0.74703458],\n",
       "       [0.77865709]])"
      ]
     },
     "execution_count": 61,
     "metadata": {},
     "output_type": "execute_result"
    }
   ]
  },
  {
   "cell_type": "code",
   "metadata": {
    "id": "UyPtzuDVpwXh",
    "outputId": "cce02935-99d8-4f20-f254-76951d15706e"
   },
   "source": [
    "pesos_2_log[1][0]"
   ],
   "execution_count": null,
   "outputs": [
    {
     "data": {
      "text/plain": [
       "0.7786570883892543"
      ]
     },
     "execution_count": 62,
     "metadata": {},
     "output_type": "execute_result"
    }
   ]
  },
  {
   "cell_type": "code",
   "metadata": {
    "id": "kQEWoYsZpwXh",
    "outputId": "ac4a6a19-23a5-4a7f-ee09-73c0ffa46123"
   },
   "source": [
    "pesos_2_log.shape"
   ],
   "execution_count": null,
   "outputs": [
    {
     "data": {
      "text/plain": [
       "(2, 1)"
      ]
     },
     "execution_count": 63,
     "metadata": {},
     "output_type": "execute_result"
    }
   ]
  },
  {
   "cell_type": "code",
   "metadata": {
    "id": "Q9ZVbaeRpwXh"
   },
   "source": [
    "pred_2_log_or = np.exp(pesos_2_log[0][0])*np.power(x_2,pesos_2_log[1][0])"
   ],
   "execution_count": null,
   "outputs": []
  },
  {
   "cell_type": "code",
   "metadata": {
    "id": "gA6DioxqpwXh"
   },
   "source": [
    "x_dom_2 = np.linspace(np.min(x_2),np.max(x_2),1000)"
   ],
   "execution_count": null,
   "outputs": []
  },
  {
   "cell_type": "code",
   "metadata": {
    "id": "RGph8W5PpwXh",
    "outputId": "b519d2fb-8336-49c0-a1d3-df42958873c4"
   },
   "source": [
    "x_dom_2"
   ],
   "execution_count": null,
   "outputs": [
    {
     "data": {
      "text/plain": [
       "array([ 5.        ,  5.09109109,  5.18218218,  5.27327327,  5.36436436,\n",
       "        5.45545546,  5.54654655,  5.63763764,  5.72872873,  5.81981982,\n",
       "        5.91091091,  6.002002  ,  6.09309309,  6.18418418,  6.27527528,\n",
       "        6.36636637,  6.45745746,  6.54854855,  6.63963964,  6.73073073,\n",
       "        6.82182182,  6.91291291,  7.004004  ,  7.0950951 ,  7.18618619,\n",
       "        7.27727728,  7.36836837,  7.45945946,  7.55055055,  7.64164164,\n",
       "        7.73273273,  7.82382382,  7.91491491,  8.00600601,  8.0970971 ,\n",
       "        8.18818819,  8.27927928,  8.37037037,  8.46146146,  8.55255255,\n",
       "        8.64364364,  8.73473473,  8.82582583,  8.91691692,  9.00800801,\n",
       "        9.0990991 ,  9.19019019,  9.28128128,  9.37237237,  9.46346346,\n",
       "        9.55455455,  9.64564565,  9.73673674,  9.82782783,  9.91891892,\n",
       "       10.01001001, 10.1011011 , 10.19219219, 10.28328328, 10.37437437,\n",
       "       10.46546547, 10.55655656, 10.64764765, 10.73873874, 10.82982983,\n",
       "       10.92092092, 11.01201201, 11.1031031 , 11.19419419, 11.28528529,\n",
       "       11.37637638, 11.46746747, 11.55855856, 11.64964965, 11.74074074,\n",
       "       11.83183183, 11.92292292, 12.01401401, 12.10510511, 12.1961962 ,\n",
       "       12.28728729, 12.37837838, 12.46946947, 12.56056056, 12.65165165,\n",
       "       12.74274274, 12.83383383, 12.92492492, 13.01601602, 13.10710711,\n",
       "       13.1981982 , 13.28928929, 13.38038038, 13.47147147, 13.56256256,\n",
       "       13.65365365, 13.74474474, 13.83583584, 13.92692693, 14.01801802,\n",
       "       14.10910911, 14.2002002 , 14.29129129, 14.38238238, 14.47347347,\n",
       "       14.56456456, 14.65565566, 14.74674675, 14.83783784, 14.92892893,\n",
       "       15.02002002, 15.11111111, 15.2022022 , 15.29329329, 15.38438438,\n",
       "       15.47547548, 15.56656657, 15.65765766, 15.74874875, 15.83983984,\n",
       "       15.93093093, 16.02202202, 16.11311311, 16.2042042 , 16.2952953 ,\n",
       "       16.38638639, 16.47747748, 16.56856857, 16.65965966, 16.75075075,\n",
       "       16.84184184, 16.93293293, 17.02402402, 17.11511512, 17.20620621,\n",
       "       17.2972973 , 17.38838839, 17.47947948, 17.57057057, 17.66166166,\n",
       "       17.75275275, 17.84384384, 17.93493493, 18.02602603, 18.11711712,\n",
       "       18.20820821, 18.2992993 , 18.39039039, 18.48148148, 18.57257257,\n",
       "       18.66366366, 18.75475475, 18.84584585, 18.93693694, 19.02802803,\n",
       "       19.11911912, 19.21021021, 19.3013013 , 19.39239239, 19.48348348,\n",
       "       19.57457457, 19.66566567, 19.75675676, 19.84784785, 19.93893894,\n",
       "       20.03003003, 20.12112112, 20.21221221, 20.3033033 , 20.39439439,\n",
       "       20.48548549, 20.57657658, 20.66766767, 20.75875876, 20.84984985,\n",
       "       20.94094094, 21.03203203, 21.12312312, 21.21421421, 21.30530531,\n",
       "       21.3963964 , 21.48748749, 21.57857858, 21.66966967, 21.76076076,\n",
       "       21.85185185, 21.94294294, 22.03403403, 22.12512513, 22.21621622,\n",
       "       22.30730731, 22.3983984 , 22.48948949, 22.58058058, 22.67167167,\n",
       "       22.76276276, 22.85385385, 22.94494494, 23.03603604, 23.12712713,\n",
       "       23.21821822, 23.30930931, 23.4004004 , 23.49149149, 23.58258258,\n",
       "       23.67367367, 23.76476476, 23.85585586, 23.94694695, 24.03803804,\n",
       "       24.12912913, 24.22022022, 24.31131131, 24.4024024 , 24.49349349,\n",
       "       24.58458458, 24.67567568, 24.76676677, 24.85785786, 24.94894895,\n",
       "       25.04004004, 25.13113113, 25.22222222, 25.31331331, 25.4044044 ,\n",
       "       25.4954955 , 25.58658659, 25.67767768, 25.76876877, 25.85985986,\n",
       "       25.95095095, 26.04204204, 26.13313313, 26.22422422, 26.31531532,\n",
       "       26.40640641, 26.4974975 , 26.58858859, 26.67967968, 26.77077077,\n",
       "       26.86186186, 26.95295295, 27.04404404, 27.13513514, 27.22622623,\n",
       "       27.31731732, 27.40840841, 27.4994995 , 27.59059059, 27.68168168,\n",
       "       27.77277277, 27.86386386, 27.95495495, 28.04604605, 28.13713714,\n",
       "       28.22822823, 28.31931932, 28.41041041, 28.5015015 , 28.59259259,\n",
       "       28.68368368, 28.77477477, 28.86586587, 28.95695696, 29.04804805,\n",
       "       29.13913914, 29.23023023, 29.32132132, 29.41241241, 29.5035035 ,\n",
       "       29.59459459, 29.68568569, 29.77677678, 29.86786787, 29.95895896,\n",
       "       30.05005005, 30.14114114, 30.23223223, 30.32332332, 30.41441441,\n",
       "       30.50550551, 30.5965966 , 30.68768769, 30.77877878, 30.86986987,\n",
       "       30.96096096, 31.05205205, 31.14314314, 31.23423423, 31.32532533,\n",
       "       31.41641642, 31.50750751, 31.5985986 , 31.68968969, 31.78078078,\n",
       "       31.87187187, 31.96296296, 32.05405405, 32.14514515, 32.23623624,\n",
       "       32.32732733, 32.41841842, 32.50950951, 32.6006006 , 32.69169169,\n",
       "       32.78278278, 32.87387387, 32.96496496, 33.05605606, 33.14714715,\n",
       "       33.23823824, 33.32932933, 33.42042042, 33.51151151, 33.6026026 ,\n",
       "       33.69369369, 33.78478478, 33.87587588, 33.96696697, 34.05805806,\n",
       "       34.14914915, 34.24024024, 34.33133133, 34.42242242, 34.51351351,\n",
       "       34.6046046 , 34.6956957 , 34.78678679, 34.87787788, 34.96896897,\n",
       "       35.06006006, 35.15115115, 35.24224224, 35.33333333, 35.42442442,\n",
       "       35.51551552, 35.60660661, 35.6976977 , 35.78878879, 35.87987988,\n",
       "       35.97097097, 36.06206206, 36.15315315, 36.24424424, 36.33533534,\n",
       "       36.42642643, 36.51751752, 36.60860861, 36.6996997 , 36.79079079,\n",
       "       36.88188188, 36.97297297, 37.06406406, 37.15515516, 37.24624625,\n",
       "       37.33733734, 37.42842843, 37.51951952, 37.61061061, 37.7017017 ,\n",
       "       37.79279279, 37.88388388, 37.97497497, 38.06606607, 38.15715716,\n",
       "       38.24824825, 38.33933934, 38.43043043, 38.52152152, 38.61261261,\n",
       "       38.7037037 , 38.79479479, 38.88588589, 38.97697698, 39.06806807,\n",
       "       39.15915916, 39.25025025, 39.34134134, 39.43243243, 39.52352352,\n",
       "       39.61461461, 39.70570571, 39.7967968 , 39.88788789, 39.97897898,\n",
       "       40.07007007, 40.16116116, 40.25225225, 40.34334334, 40.43443443,\n",
       "       40.52552553, 40.61661662, 40.70770771, 40.7987988 , 40.88988989,\n",
       "       40.98098098, 41.07207207, 41.16316316, 41.25425425, 41.34534535,\n",
       "       41.43643644, 41.52752753, 41.61861862, 41.70970971, 41.8008008 ,\n",
       "       41.89189189, 41.98298298, 42.07407407, 42.16516517, 42.25625626,\n",
       "       42.34734735, 42.43843844, 42.52952953, 42.62062062, 42.71171171,\n",
       "       42.8028028 , 42.89389389, 42.98498498, 43.07607608, 43.16716717,\n",
       "       43.25825826, 43.34934935, 43.44044044, 43.53153153, 43.62262262,\n",
       "       43.71371371, 43.8048048 , 43.8958959 , 43.98698699, 44.07807808,\n",
       "       44.16916917, 44.26026026, 44.35135135, 44.44244244, 44.53353353,\n",
       "       44.62462462, 44.71571572, 44.80680681, 44.8978979 , 44.98898899,\n",
       "       45.08008008, 45.17117117, 45.26226226, 45.35335335, 45.44444444,\n",
       "       45.53553554, 45.62662663, 45.71771772, 45.80880881, 45.8998999 ,\n",
       "       45.99099099, 46.08208208, 46.17317317, 46.26426426, 46.35535536,\n",
       "       46.44644645, 46.53753754, 46.62862863, 46.71971972, 46.81081081,\n",
       "       46.9019019 , 46.99299299, 47.08408408, 47.17517518, 47.26626627,\n",
       "       47.35735736, 47.44844845, 47.53953954, 47.63063063, 47.72172172,\n",
       "       47.81281281, 47.9039039 , 47.99499499, 48.08608609, 48.17717718,\n",
       "       48.26826827, 48.35935936, 48.45045045, 48.54154154, 48.63263263,\n",
       "       48.72372372, 48.81481481, 48.90590591, 48.996997  , 49.08808809,\n",
       "       49.17917918, 49.27027027, 49.36136136, 49.45245245, 49.54354354,\n",
       "       49.63463463, 49.72572573, 49.81681682, 49.90790791, 49.998999  ,\n",
       "       50.09009009, 50.18118118, 50.27227227, 50.36336336, 50.45445445,\n",
       "       50.54554555, 50.63663664, 50.72772773, 50.81881882, 50.90990991,\n",
       "       51.001001  , 51.09209209, 51.18318318, 51.27427427, 51.36536537,\n",
       "       51.45645646, 51.54754755, 51.63863864, 51.72972973, 51.82082082,\n",
       "       51.91191191, 52.003003  , 52.09409409, 52.18518519, 52.27627628,\n",
       "       52.36736737, 52.45845846, 52.54954955, 52.64064064, 52.73173173,\n",
       "       52.82282282, 52.91391391, 53.00500501, 53.0960961 , 53.18718719,\n",
       "       53.27827828, 53.36936937, 53.46046046, 53.55155155, 53.64264264,\n",
       "       53.73373373, 53.82482482, 53.91591592, 54.00700701, 54.0980981 ,\n",
       "       54.18918919, 54.28028028, 54.37137137, 54.46246246, 54.55355355,\n",
       "       54.64464464, 54.73573574, 54.82682683, 54.91791792, 55.00900901,\n",
       "       55.1001001 , 55.19119119, 55.28228228, 55.37337337, 55.46446446,\n",
       "       55.55555556, 55.64664665, 55.73773774, 55.82882883, 55.91991992,\n",
       "       56.01101101, 56.1021021 , 56.19319319, 56.28428428, 56.37537538,\n",
       "       56.46646647, 56.55755756, 56.64864865, 56.73973974, 56.83083083,\n",
       "       56.92192192, 57.01301301, 57.1041041 , 57.1951952 , 57.28628629,\n",
       "       57.37737738, 57.46846847, 57.55955956, 57.65065065, 57.74174174,\n",
       "       57.83283283, 57.92392392, 58.01501502, 58.10610611, 58.1971972 ,\n",
       "       58.28828829, 58.37937938, 58.47047047, 58.56156156, 58.65265265,\n",
       "       58.74374374, 58.83483483, 58.92592593, 59.01701702, 59.10810811,\n",
       "       59.1991992 , 59.29029029, 59.38138138, 59.47247247, 59.56356356,\n",
       "       59.65465465, 59.74574575, 59.83683684, 59.92792793, 60.01901902,\n",
       "       60.11011011, 60.2012012 , 60.29229229, 60.38338338, 60.47447447,\n",
       "       60.56556557, 60.65665666, 60.74774775, 60.83883884, 60.92992993,\n",
       "       61.02102102, 61.11211211, 61.2032032 , 61.29429429, 61.38538539,\n",
       "       61.47647648, 61.56756757, 61.65865866, 61.74974975, 61.84084084,\n",
       "       61.93193193, 62.02302302, 62.11411411, 62.20520521, 62.2962963 ,\n",
       "       62.38738739, 62.47847848, 62.56956957, 62.66066066, 62.75175175,\n",
       "       62.84284284, 62.93393393, 63.02502503, 63.11611612, 63.20720721,\n",
       "       63.2982983 , 63.38938939, 63.48048048, 63.57157157, 63.66266266,\n",
       "       63.75375375, 63.84484484, 63.93593594, 64.02702703, 64.11811812,\n",
       "       64.20920921, 64.3003003 , 64.39139139, 64.48248248, 64.57357357,\n",
       "       64.66466466, 64.75575576, 64.84684685, 64.93793794, 65.02902903,\n",
       "       65.12012012, 65.21121121, 65.3023023 , 65.39339339, 65.48448448,\n",
       "       65.57557558, 65.66666667, 65.75775776, 65.84884885, 65.93993994,\n",
       "       66.03103103, 66.12212212, 66.21321321, 66.3043043 , 66.3953954 ,\n",
       "       66.48648649, 66.57757758, 66.66866867, 66.75975976, 66.85085085,\n",
       "       66.94194194, 67.03303303, 67.12412412, 67.21521522, 67.30630631,\n",
       "       67.3973974 , 67.48848849, 67.57957958, 67.67067067, 67.76176176,\n",
       "       67.85285285, 67.94394394, 68.03503504, 68.12612613, 68.21721722,\n",
       "       68.30830831, 68.3993994 , 68.49049049, 68.58158158, 68.67267267,\n",
       "       68.76376376, 68.85485485, 68.94594595, 69.03703704, 69.12812813,\n",
       "       69.21921922, 69.31031031, 69.4014014 , 69.49249249, 69.58358358,\n",
       "       69.67467467, 69.76576577, 69.85685686, 69.94794795, 70.03903904,\n",
       "       70.13013013, 70.22122122, 70.31231231, 70.4034034 , 70.49449449,\n",
       "       70.58558559, 70.67667668, 70.76776777, 70.85885886, 70.94994995,\n",
       "       71.04104104, 71.13213213, 71.22322322, 71.31431431, 71.40540541,\n",
       "       71.4964965 , 71.58758759, 71.67867868, 71.76976977, 71.86086086,\n",
       "       71.95195195, 72.04304304, 72.13413413, 72.22522523, 72.31631632,\n",
       "       72.40740741, 72.4984985 , 72.58958959, 72.68068068, 72.77177177,\n",
       "       72.86286286, 72.95395395, 73.04504505, 73.13613614, 73.22722723,\n",
       "       73.31831832, 73.40940941, 73.5005005 , 73.59159159, 73.68268268,\n",
       "       73.77377377, 73.86486486, 73.95595596, 74.04704705, 74.13813814,\n",
       "       74.22922923, 74.32032032, 74.41141141, 74.5025025 , 74.59359359,\n",
       "       74.68468468, 74.77577578, 74.86686687, 74.95795796, 75.04904905,\n",
       "       75.14014014, 75.23123123, 75.32232232, 75.41341341, 75.5045045 ,\n",
       "       75.5955956 , 75.68668669, 75.77777778, 75.86886887, 75.95995996,\n",
       "       76.05105105, 76.14214214, 76.23323323, 76.32432432, 76.41541542,\n",
       "       76.50650651, 76.5975976 , 76.68868869, 76.77977978, 76.87087087,\n",
       "       76.96196196, 77.05305305, 77.14414414, 77.23523524, 77.32632633,\n",
       "       77.41741742, 77.50850851, 77.5995996 , 77.69069069, 77.78178178,\n",
       "       77.87287287, 77.96396396, 78.05505506, 78.14614615, 78.23723724,\n",
       "       78.32832833, 78.41941942, 78.51051051, 78.6016016 , 78.69269269,\n",
       "       78.78378378, 78.87487487, 78.96596597, 79.05705706, 79.14814815,\n",
       "       79.23923924, 79.33033033, 79.42142142, 79.51251251, 79.6036036 ,\n",
       "       79.69469469, 79.78578579, 79.87687688, 79.96796797, 80.05905906,\n",
       "       80.15015015, 80.24124124, 80.33233233, 80.42342342, 80.51451451,\n",
       "       80.60560561, 80.6966967 , 80.78778779, 80.87887888, 80.96996997,\n",
       "       81.06106106, 81.15215215, 81.24324324, 81.33433433, 81.42542543,\n",
       "       81.51651652, 81.60760761, 81.6986987 , 81.78978979, 81.88088088,\n",
       "       81.97197197, 82.06306306, 82.15415415, 82.24524525, 82.33633634,\n",
       "       82.42742743, 82.51851852, 82.60960961, 82.7007007 , 82.79179179,\n",
       "       82.88288288, 82.97397397, 83.06506507, 83.15615616, 83.24724725,\n",
       "       83.33833834, 83.42942943, 83.52052052, 83.61161161, 83.7027027 ,\n",
       "       83.79379379, 83.88488488, 83.97597598, 84.06706707, 84.15815816,\n",
       "       84.24924925, 84.34034034, 84.43143143, 84.52252252, 84.61361361,\n",
       "       84.7047047 , 84.7957958 , 84.88688689, 84.97797798, 85.06906907,\n",
       "       85.16016016, 85.25125125, 85.34234234, 85.43343343, 85.52452452,\n",
       "       85.61561562, 85.70670671, 85.7977978 , 85.88888889, 85.97997998,\n",
       "       86.07107107, 86.16216216, 86.25325325, 86.34434434, 86.43543544,\n",
       "       86.52652653, 86.61761762, 86.70870871, 86.7997998 , 86.89089089,\n",
       "       86.98198198, 87.07307307, 87.16416416, 87.25525526, 87.34634635,\n",
       "       87.43743744, 87.52852853, 87.61961962, 87.71071071, 87.8018018 ,\n",
       "       87.89289289, 87.98398398, 88.07507508, 88.16616617, 88.25725726,\n",
       "       88.34834835, 88.43943944, 88.53053053, 88.62162162, 88.71271271,\n",
       "       88.8038038 , 88.89489489, 88.98598599, 89.07707708, 89.16816817,\n",
       "       89.25925926, 89.35035035, 89.44144144, 89.53253253, 89.62362362,\n",
       "       89.71471471, 89.80580581, 89.8968969 , 89.98798799, 90.07907908,\n",
       "       90.17017017, 90.26126126, 90.35235235, 90.44344344, 90.53453453,\n",
       "       90.62562563, 90.71671672, 90.80780781, 90.8988989 , 90.98998999,\n",
       "       91.08108108, 91.17217217, 91.26326326, 91.35435435, 91.44544545,\n",
       "       91.53653654, 91.62762763, 91.71871872, 91.80980981, 91.9009009 ,\n",
       "       91.99199199, 92.08308308, 92.17417417, 92.26526527, 92.35635636,\n",
       "       92.44744745, 92.53853854, 92.62962963, 92.72072072, 92.81181181,\n",
       "       92.9029029 , 92.99399399, 93.08508509, 93.17617618, 93.26726727,\n",
       "       93.35835836, 93.44944945, 93.54054054, 93.63163163, 93.72272272,\n",
       "       93.81381381, 93.9049049 , 93.995996  , 94.08708709, 94.17817818,\n",
       "       94.26926927, 94.36036036, 94.45145145, 94.54254254, 94.63363363,\n",
       "       94.72472472, 94.81581582, 94.90690691, 94.997998  , 95.08908909,\n",
       "       95.18018018, 95.27127127, 95.36236236, 95.45345345, 95.54454454,\n",
       "       95.63563564, 95.72672673, 95.81781782, 95.90890891, 96.        ])"
      ]
     },
     "execution_count": 66,
     "metadata": {},
     "output_type": "execute_result"
    }
   ]
  },
  {
   "cell_type": "code",
   "metadata": {
    "id": "NUS4qUGVpwXh"
   },
   "source": [
    "pred_2_log_or = np.exp(pesos_2_log[0][0])*np.power(x_dom_2,pesos_2_log[1][0])"
   ],
   "execution_count": null,
   "outputs": []
  },
  {
   "cell_type": "code",
   "metadata": {
    "id": "ooas78HipwXh",
    "outputId": "24a15bb7-92d2-4aa2-e1ea-c6df1e4f3ef9"
   },
   "source": [
    "plt.scatter(x_2,y_2,color=\"red\", label=\"Datos originales\")\n",
    "plt.plot(x_dom_2,pred_2_log_or, color=\"green\", label=\"Curva ajustada\")\n",
    "plt.ylabel(\"Precio del arroz en 2009\")\n",
    "plt.xlabel(\"Precio del arroz en 2003\")\n",
    "plt.title(\"Gráfica del precio del arroz en 2009 vs arroz 2003\")\n",
    "plt.legend()\n",
    "plt.show()"
   ],
   "execution_count": null,
   "outputs": [
    {
     "data": {
      "image/png": "[encoded data removed]",
      "text/plain": [
       "<Figure size 576x504 with 1 Axes>"
      ]
     },
     "metadata": {},
     "output_type": "display_data"
    }
   ]
  },
  {
   "cell_type": "code",
   "metadata": {
    "id": "jkSu5pv9pwXi"
   },
   "source": [],
   "execution_count": null,
   "outputs": []
  },
  {
   "cell_type": "code",
   "metadata": {
    "id": "ezTF1i-opwXi"
   },
   "source": [],
   "execution_count": null,
   "outputs": []
  },
  {
   "cell_type": "code",
   "metadata": {
    "id": "CUhPwEhRpwXi"
   },
   "source": [],
   "execution_count": null,
   "outputs": []
  },
  {
   "cell_type": "code",
   "metadata": {
    "id": "hrHSfCbupwXi"
   },
   "source": [],
   "execution_count": null,
   "outputs": []
  },
  {
   "cell_type": "markdown",
   "metadata": {
    "id": "_aLHwaPupwXi"
   },
   "source": [
    "## Problema 3.\n",
    "\n",
    "El Estudio de orientación de Berkeley  inscribió a niños nacidos en Berkeley, California, entre enero de 1928 y junio de 1929, y luego los midió periódicamente hasta los 18 años (Tuddenham y Snyder, 1954). Los datos que utilizamos incluyen alturas en centímetros a las edades de 2, 9 y 18 años ($\\mathtt{HT2}$, $\\mathtt{HT9}$ y $\\mathtt{HT18}$), pesos en kilogramos ($\\mathtt{WT2}$, $\\mathtt{WT9}$ y $\\mathtt{WT18}$), circunferencia de la pierna en centímetros ($\\mathtt{LG2}$, $\\mathtt{LG9}$ y $\\mathtt{LG18}$) y fuerza en kilogramo ($\\mathtt{ST2}$, $\\mathtt{ST9}$ y $\\mathtt{ST18}$). También se proporcionan dos medidas adicionales del tipo de cuerpo, $\\mathtt{soma}$, somatotipo, una escala de 1, muy delgada, a 7, obesidad e índice de masa corporal, calculada como $\\mathtt{IMC18}=\\mathtt{WT18} / (\\mathtt{HT18} / 100)^2$, peso en kilogramo dividido por el cuadrado de masa en metros, una medida estándar de la obesidad. "
   ]
  },
  {
   "cell_type": "markdown",
   "metadata": {
    "id": "_dDPy7qJpwXi"
   },
   "source": [
    "## a)\n",
    "Haga la matriz de diagramas de dispersión de $\\mathtt{HT2}$, $\\mathtt{HT9}$, $\\mathtt{WT2}$, $\\mathtt{WT9}$, $\\mathtt{ST9}$, y $\\mathtt{BMI18}$."
   ]
  },
  {
   "cell_type": "code",
   "metadata": {
    "id": "GglieB32pwXi"
   },
   "source": [
    "dataset_3 = pd.read_csv(\"BGSgirls.csv\")"
   ],
   "execution_count": null,
   "outputs": []
  },
  {
   "cell_type": "code",
   "metadata": {
    "id": "vs1TxdXCpwXi",
    "outputId": "ee83ef90-c59c-4b32-dbbd-d70dd74ce76c"
   },
   "source": [
    "dataset_3.head()"
   ],
   "execution_count": null,
   "outputs": [
    {
     "data": {
      "text/html": [
       "<div>\n",
       "<style scoped>\n",
       "    .dataframe tbody tr th:only-of-type {\n",
       "        vertical-align: middle;\n",
       "    }\n",
       "\n",
       "    .dataframe tbody tr th {\n",
       "        vertical-align: top;\n",
       "    }\n",
       "\n",
       "    .dataframe thead th {\n",
       "        text-align: right;\n",
       "    }\n",
       "</style>\n",
       "<table border=\"1\" class=\"dataframe\">\n",
       "  <thead>\n",
       "    <tr style=\"text-align: right;\">\n",
       "      <th></th>\n",
       "      <th>Unnamed: 0</th>\n",
       "      <th>WT2</th>\n",
       "      <th>HT2</th>\n",
       "      <th>WT9</th>\n",
       "      <th>HT9</th>\n",
       "      <th>LG9</th>\n",
       "      <th>ST9</th>\n",
       "      <th>WT18</th>\n",
       "      <th>HT18</th>\n",
       "      <th>LG18</th>\n",
       "      <th>ST18</th>\n",
       "      <th>BMI18</th>\n",
       "      <th>Soma</th>\n",
       "    </tr>\n",
       "  </thead>\n",
       "  <tbody>\n",
       "    <tr>\n",
       "      <th>0</th>\n",
       "      <td>67</td>\n",
       "      <td>13.6</td>\n",
       "      <td>87.7</td>\n",
       "      <td>32.5</td>\n",
       "      <td>133.4</td>\n",
       "      <td>28.4</td>\n",
       "      <td>74</td>\n",
       "      <td>56.9</td>\n",
       "      <td>158.9</td>\n",
       "      <td>34.6</td>\n",
       "      <td>143</td>\n",
       "      <td>22.5</td>\n",
       "      <td>5.0</td>\n",
       "    </tr>\n",
       "    <tr>\n",
       "      <th>1</th>\n",
       "      <td>68</td>\n",
       "      <td>11.3</td>\n",
       "      <td>90.0</td>\n",
       "      <td>27.8</td>\n",
       "      <td>134.8</td>\n",
       "      <td>26.9</td>\n",
       "      <td>65</td>\n",
       "      <td>49.9</td>\n",
       "      <td>166.0</td>\n",
       "      <td>33.8</td>\n",
       "      <td>117</td>\n",
       "      <td>18.1</td>\n",
       "      <td>4.0</td>\n",
       "    </tr>\n",
       "    <tr>\n",
       "      <th>2</th>\n",
       "      <td>69</td>\n",
       "      <td>17.0</td>\n",
       "      <td>89.6</td>\n",
       "      <td>44.4</td>\n",
       "      <td>141.5</td>\n",
       "      <td>31.9</td>\n",
       "      <td>104</td>\n",
       "      <td>55.3</td>\n",
       "      <td>162.2</td>\n",
       "      <td>35.1</td>\n",
       "      <td>143</td>\n",
       "      <td>21.0</td>\n",
       "      <td>5.5</td>\n",
       "    </tr>\n",
       "    <tr>\n",
       "      <th>3</th>\n",
       "      <td>70</td>\n",
       "      <td>13.2</td>\n",
       "      <td>90.3</td>\n",
       "      <td>40.5</td>\n",
       "      <td>137.1</td>\n",
       "      <td>31.8</td>\n",
       "      <td>79</td>\n",
       "      <td>65.9</td>\n",
       "      <td>167.8</td>\n",
       "      <td>39.3</td>\n",
       "      <td>148</td>\n",
       "      <td>23.4</td>\n",
       "      <td>5.5</td>\n",
       "    </tr>\n",
       "    <tr>\n",
       "      <th>4</th>\n",
       "      <td>71</td>\n",
       "      <td>13.3</td>\n",
       "      <td>89.4</td>\n",
       "      <td>29.9</td>\n",
       "      <td>136.1</td>\n",
       "      <td>27.7</td>\n",
       "      <td>83</td>\n",
       "      <td>62.3</td>\n",
       "      <td>170.9</td>\n",
       "      <td>36.3</td>\n",
       "      <td>152</td>\n",
       "      <td>21.3</td>\n",
       "      <td>4.5</td>\n",
       "    </tr>\n",
       "  </tbody>\n",
       "</table>\n",
       "</div>"
      ],
      "text/plain": [
       "   Unnamed: 0   WT2   HT2   WT9    HT9   LG9  ST9  WT18   HT18  LG18  ST18  \\\n",
       "0          67  13.6  87.7  32.5  133.4  28.4   74  56.9  158.9  34.6   143   \n",
       "1          68  11.3  90.0  27.8  134.8  26.9   65  49.9  166.0  33.8   117   \n",
       "2          69  17.0  89.6  44.4  141.5  31.9  104  55.3  162.2  35.1   143   \n",
       "3          70  13.2  90.3  40.5  137.1  31.8   79  65.9  167.8  39.3   148   \n",
       "4          71  13.3  89.4  29.9  136.1  27.7   83  62.3  170.9  36.3   152   \n",
       "\n",
       "   BMI18  Soma  \n",
       "0   22.5   5.0  \n",
       "1   18.1   4.0  \n",
       "2   21.0   5.5  \n",
       "3   23.4   5.5  \n",
       "4   21.3   4.5  "
      ]
     },
     "execution_count": 70,
     "metadata": {},
     "output_type": "execute_result"
    }
   ]
  },
  {
   "cell_type": "code",
   "metadata": {
    "id": "YSOvZmpcpwXj"
   },
   "source": [
    "dataset_4 = pd.DataFrame()"
   ],
   "execution_count": null,
   "outputs": []
  },
  {
   "cell_type": "code",
   "metadata": {
    "id": "E1yz_ZatpwXj"
   },
   "source": [
    "dataset_4[\"HT2\"] = dataset_3[\"HT2\"]\n",
    "dataset_4[\"HT9\"] = dataset_3[\"HT9\"]\n",
    "dataset_4[\"WT2\"] = dataset_3[\"WT2\"]\n",
    "dataset_4[\"WT9\"] = dataset_3[\"WT9\"]\n",
    "dataset_4[\"ST9\"] = dataset_3[\"ST9\"]\n",
    "dataset_4[\"BMI18\"] = dataset_3[\"BMI18\"]\n",
    "\n",
    "\n",
    "\n",
    "\n"
   ],
   "execution_count": null,
   "outputs": []
  },
  {
   "cell_type": "code",
   "metadata": {
    "id": "5xOC0G45pwXj",
    "outputId": "59b72a2b-d342-44d6-9fc6-812cc880e549"
   },
   "source": [
    "dataset_4.head()"
   ],
   "execution_count": null,
   "outputs": [
    {
     "data": {
      "text/html": [
       "<div>\n",
       "<style scoped>\n",
       "    .dataframe tbody tr th:only-of-type {\n",
       "        vertical-align: middle;\n",
       "    }\n",
       "\n",
       "    .dataframe tbody tr th {\n",
       "        vertical-align: top;\n",
       "    }\n",
       "\n",
       "    .dataframe thead th {\n",
       "        text-align: right;\n",
       "    }\n",
       "</style>\n",
       "<table border=\"1\" class=\"dataframe\">\n",
       "  <thead>\n",
       "    <tr style=\"text-align: right;\">\n",
       "      <th></th>\n",
       "      <th>HT2</th>\n",
       "      <th>HT9</th>\n",
       "      <th>WT2</th>\n",
       "      <th>WT9</th>\n",
       "      <th>ST9</th>\n",
       "      <th>BMI18</th>\n",
       "    </tr>\n",
       "  </thead>\n",
       "  <tbody>\n",
       "    <tr>\n",
       "      <th>0</th>\n",
       "      <td>87.7</td>\n",
       "      <td>133.4</td>\n",
       "      <td>13.6</td>\n",
       "      <td>32.5</td>\n",
       "      <td>74</td>\n",
       "      <td>22.5</td>\n",
       "    </tr>\n",
       "    <tr>\n",
       "      <th>1</th>\n",
       "      <td>90.0</td>\n",
       "      <td>134.8</td>\n",
       "      <td>11.3</td>\n",
       "      <td>27.8</td>\n",
       "      <td>65</td>\n",
       "      <td>18.1</td>\n",
       "    </tr>\n",
       "    <tr>\n",
       "      <th>2</th>\n",
       "      <td>89.6</td>\n",
       "      <td>141.5</td>\n",
       "      <td>17.0</td>\n",
       "      <td>44.4</td>\n",
       "      <td>104</td>\n",
       "      <td>21.0</td>\n",
       "    </tr>\n",
       "    <tr>\n",
       "      <th>3</th>\n",
       "      <td>90.3</td>\n",
       "      <td>137.1</td>\n",
       "      <td>13.2</td>\n",
       "      <td>40.5</td>\n",
       "      <td>79</td>\n",
       "      <td>23.4</td>\n",
       "    </tr>\n",
       "    <tr>\n",
       "      <th>4</th>\n",
       "      <td>89.4</td>\n",
       "      <td>136.1</td>\n",
       "      <td>13.3</td>\n",
       "      <td>29.9</td>\n",
       "      <td>83</td>\n",
       "      <td>21.3</td>\n",
       "    </tr>\n",
       "  </tbody>\n",
       "</table>\n",
       "</div>"
      ],
      "text/plain": [
       "    HT2    HT9   WT2   WT9  ST9  BMI18\n",
       "0  87.7  133.4  13.6  32.5   74   22.5\n",
       "1  90.0  134.8  11.3  27.8   65   18.1\n",
       "2  89.6  141.5  17.0  44.4  104   21.0\n",
       "3  90.3  137.1  13.2  40.5   79   23.4\n",
       "4  89.4  136.1  13.3  29.9   83   21.3"
      ]
     },
     "execution_count": 73,
     "metadata": {},
     "output_type": "execute_result"
    }
   ]
  },
  {
   "cell_type": "code",
   "metadata": {
    "id": "2rQbkE0rpwXj",
    "outputId": "0d0e7ae0-5ee1-442d-a000-6dc0f3fb86f4"
   },
   "source": [
    "pd.plotting.scatter_matrix(dataset_4, alpha=0.5, color=\"red\", grid=False)"
   ],
   "execution_count": null,
   "outputs": [
    {
     "data": {
      "text/plain": [
       "array([[<matplotlib.axes._subplots.AxesSubplot object at 0x7fbad126e510>,\n",
       "        <matplotlib.axes._subplots.AxesSubplot object at 0x7fbad11ea610>,\n",
       "        <matplotlib.axes._subplots.AxesSubplot object at 0x7fbad119ee10>,\n",
       "        <matplotlib.axes._subplots.AxesSubplot object at 0x7fbad115e650>,\n",
       "        <matplotlib.axes._subplots.AxesSubplot object at 0x7fbad1113e50>,\n",
       "        <matplotlib.axes._subplots.AxesSubplot object at 0x7fbad10d3690>],\n",
       "       [<matplotlib.axes._subplots.AxesSubplot object at 0x7fbad1089e90>,\n",
       "        <matplotlib.axes._subplots.AxesSubplot object at 0x7fbad10496d0>,\n",
       "        <matplotlib.axes._subplots.AxesSubplot object at 0x7fbad1053250>,\n",
       "        <matplotlib.axes._subplots.AxesSubplot object at 0x7fbad1007bd0>,\n",
       "        <matplotlib.axes._subplots.AxesSubplot object at 0x7fbad128ca10>,\n",
       "        <matplotlib.axes._subplots.AxesSubplot object at 0x7fbad125c610>],\n",
       "       [<matplotlib.axes._subplots.AxesSubplot object at 0x7fbad12d4510>,\n",
       "        <matplotlib.axes._subplots.AxesSubplot object at 0x7fbad13634d0>,\n",
       "        <matplotlib.axes._subplots.AxesSubplot object at 0x7fbad1370810>,\n",
       "        <matplotlib.axes._subplots.AxesSubplot object at 0x7fbad1844090>,\n",
       "        <matplotlib.axes._subplots.AxesSubplot object at 0x7fbad184ca10>,\n",
       "        <matplotlib.axes._subplots.AxesSubplot object at 0x7fbad1d76310>],\n",
       "       [<matplotlib.axes._subplots.AxesSubplot object at 0x7fbad2dd5110>,\n",
       "        <matplotlib.axes._subplots.AxesSubplot object at 0x7fbad1cd5e10>,\n",
       "        <matplotlib.axes._subplots.AxesSubplot object at 0x7fbad17a2950>,\n",
       "        <matplotlib.axes._subplots.AxesSubplot object at 0x7fbad1324cd0>,\n",
       "        <matplotlib.axes._subplots.AxesSubplot object at 0x7fbad0f8b990>,\n",
       "        <matplotlib.axes._subplots.AxesSubplot object at 0x7fbad0f4bd10>],\n",
       "       [<matplotlib.axes._subplots.AxesSubplot object at 0x7fbad0f009d0>,\n",
       "        <matplotlib.axes._subplots.AxesSubplot object at 0x7fbad0ec0d50>,\n",
       "        <matplotlib.axes._subplots.AxesSubplot object at 0x7fbad0e76a10>,\n",
       "        <matplotlib.axes._subplots.AxesSubplot object at 0x7fbad0eb4d90>,\n",
       "        <matplotlib.axes._subplots.AxesSubplot object at 0x7fbad0e6ba50>,\n",
       "        <matplotlib.axes._subplots.AxesSubplot object at 0x7fbad0e2add0>],\n",
       "       [<matplotlib.axes._subplots.AxesSubplot object at 0x7fbad0ddfa90>,\n",
       "        <matplotlib.axes._subplots.AxesSubplot object at 0x7fbad0d9ee10>,\n",
       "        <matplotlib.axes._subplots.AxesSubplot object at 0x7fbad0d53ad0>,\n",
       "        <matplotlib.axes._subplots.AxesSubplot object at 0x7fbad0d13e50>,\n",
       "        <matplotlib.axes._subplots.AxesSubplot object at 0x7fbad0cc8b10>,\n",
       "        <matplotlib.axes._subplots.AxesSubplot object at 0x7fbad0c88e90>]],\n",
       "      dtype=object)"
      ]
     },
     "execution_count": 74,
     "metadata": {},
     "output_type": "execute_result"
    },
    {
     "data": {
      "image/png": "[encoded data removed]",
      "text/plain": [
       "<Figure size 576x504 with 36 Axes>"
      ]
     },
     "metadata": {},
     "output_type": "display_data"
    }
   ]
  },
  {
   "cell_type": "markdown",
   "metadata": {
    "id": "jn7RZFzspwXj"
   },
   "source": [
    "## b)\n",
    "Ajuste el modelo de regresión lineal por mínimos cuadrados para la variable $y=\\mathtt{BMI18}$ versus $x_1=\\mathtt{HT2}$, $x_2=\\mathtt{WT2}$, $x_3=\\mathtt{HT9}$, $x_4=\\mathtt{WT9}$ y $x_5=\\mathtt{ST9}$.\n",
    "\n",
    "$$y = ax_1+bx_2+cx_3+dx_4+ex_5+f$$"
   ]
  },
  {
   "cell_type": "code",
   "metadata": {
    "id": "PIwrRpm2pwXk"
   },
   "source": [
    "X_3 = dataset_4.iloc[:,[0,1,2,3,4]].values"
   ],
   "execution_count": null,
   "outputs": []
  },
  {
   "cell_type": "code",
   "metadata": {
    "id": "UC9OX6k9pwXk",
    "outputId": "ecf39b0d-9c0b-45e4-ccce-0a74362ec1a5"
   },
   "source": [
    "X_3"
   ],
   "execution_count": null,
   "outputs": [
    {
     "data": {
      "text/plain": [
       "array([[ 87.7, 133.4,  13.6,  32.5,  74. ],\n",
       "       [ 90. , 134.8,  11.3,  27.8,  65. ],\n",
       "       [ 89.6, 141.5,  17. ,  44.4, 104. ],\n",
       "       [ 90.3, 137.1,  13.2,  40.5,  79. ],\n",
       "       [ 89.4, 136.1,  13.3,  29.9,  83. ],\n",
       "       [ 85.5, 130.6,  11.3,  22.8,  60. ],\n",
       "       [ 90.2, 136. ,  11.6,  30. ,  67. ],\n",
       "       [ 82.2, 128. ,  11.6,  24.3,  44. ],\n",
       "       [ 85.6, 132.4,  12.4,  29.9,  76. ],\n",
       "       [ 97.3, 152.5,  17. ,  44.5,  81. ],\n",
       "       [ 87.1, 138.4,  12.2,  31.8,  59. ],\n",
       "       [ 88.9, 135.2,  15. ,  32.1,  67. ],\n",
       "       [ 87.6, 142.3,  14.5,  39.2,  72. ],\n",
       "       [ 82.6, 129.1,  10.2,  23.7,  40. ],\n",
       "       [ 87.1, 133.2,  12.2,  26. ,  40. ],\n",
       "       [ 84. , 136.3,  12.8,  36.3,  54. ],\n",
       "       [ 83.6, 133.1,  13.6,  29.9,  67. ],\n",
       "       [ 81.4, 123.2,  10.9,  22.2,  58. ],\n",
       "       [ 89.7, 135.8,  13.1,  34.4,  57. ],\n",
       "       [ 88.4, 139.5,  13.4,  35.5,  61. ],\n",
       "       [ 86.4, 139.4,  11.8,  33. ,  64. ],\n",
       "       [ 83.8, 124.2,  12.7,  25.7,  48. ],\n",
       "       [ 87.6, 135.6,  11.8,  29.2,  61. ],\n",
       "       [ 94. , 144.1,  14.1,  31.7,  74. ],\n",
       "       [ 82. , 123.8,  10.9,  23.7,  50. ],\n",
       "       [ 86.4, 134.6,  11.8,  35.3,  58. ],\n",
       "       [ 88.9, 137.2,  13.6,  39. ,  80. ],\n",
       "       [ 86.7, 139.8,  12.7,  30.8,  57. ],\n",
       "       [ 86.4, 128.8,  12.3,  29.3,  44. ],\n",
       "       [ 86.4, 134.2,  11.5,  28. ,  46. ],\n",
       "       [ 83.8, 136.5,  12.6,  33. ,  57. ],\n",
       "       [ 88.9, 140.8,  14.1,  47.4,  69. ],\n",
       "       [ 85.9, 132.1,  11.5,  27.6,  51. ],\n",
       "       [ 86.2, 137. ,  12. ,  34.2,  44. ],\n",
       "       [ 85.1, 129. ,  10.9,  28.1,  48. ],\n",
       "       [ 88.6, 139.4,  12.7,  27.5,  68. ],\n",
       "       [ 83. , 125.6,  11.3,  23.9,  22. ],\n",
       "       [ 88.9, 137.1,  11.8,  32.2,  59. ],\n",
       "       [ 89.7, 133.6,  15.4,  29.4,  58. ],\n",
       "       [ 81.3, 121.4,  10.9,  22. ,  44. ],\n",
       "       [ 88.7, 133.6,  13.2,  28.8,  58. ],\n",
       "       [ 88.4, 134.1,  14.3,  38.8,  57. ],\n",
       "       [ 85.1, 139.4,  11.1,  36. ,  64. ],\n",
       "       [ 91.4, 138.1,  13.6,  31.3,  64. ],\n",
       "       [ 87.6, 133.2,  12.9,  26.9,  58. ],\n",
       "       [ 86.1, 138.4,  13.5,  33.3,  73. ],\n",
       "       [ 94. , 139.5,  16.3,  36.2,  52. ],\n",
       "       [ 85.9, 132.8,  13.6,  29.5,  52. ],\n",
       "       [ 82.2, 129.8,  10.2,  23.4,  60. ],\n",
       "       [ 88.2, 144.8,  12.6,  33.8, 107. ],\n",
       "       [ 87.5, 138.9,  12.9,  34.5,  62. ],\n",
       "       [ 88.6, 140.3,  13.3,  34.4,  88. ],\n",
       "       [ 86.9, 143.8,  13.4,  38.2,  78. ],\n",
       "       [ 86.4, 133.6,  12.7,  31.7,  52. ],\n",
       "       [ 80.9, 123.5,  12.2,  26.6,  40. ],\n",
       "       [ 90. , 139.9,  15.4,  34.2,  71. ],\n",
       "       [ 94. , 136.1,  12.7,  27.7,  30. ],\n",
       "       [ 89.7, 135.8,  13.2,  28.5,  76. ],\n",
       "       [ 86.4, 131.9,  12.4,  30.5,  59. ],\n",
       "       [ 82.6, 133.1,  10.9,  26.6,  75. ],\n",
       "       [ 86.4, 130.9,  13.4,  39. ,  38. ],\n",
       "       [ 81.8, 126.3,  10.6,  25. ,  50. ],\n",
       "       [ 86.2, 135.9,  11.8,  25.6,  45. ],\n",
       "       [ 86. , 135. ,  14.2,  34.2,  62. ],\n",
       "       [ 91.4, 135.5,  12.7,  29.8,  57. ],\n",
       "       [ 88.9, 136.5,  13.2,  27.9,  66. ],\n",
       "       [ 88.6, 134. ,  11.8,  27. ,  54. ],\n",
       "       [ 86.4, 138.2,  13.3,  41.4,  44. ],\n",
       "       [ 94. , 142. ,  13.2,  41.6,  56. ],\n",
       "       [ 89.2, 140.8,  15.9,  42.4,  74. ]])"
      ]
     },
     "execution_count": 76,
     "metadata": {},
     "output_type": "execute_result"
    }
   ]
  },
  {
   "cell_type": "code",
   "metadata": {
    "id": "i2WzRB71pwXk"
   },
   "source": [
    "y_3 = dataset_4[\"BMI18\"].values"
   ],
   "execution_count": null,
   "outputs": []
  },
  {
   "cell_type": "code",
   "metadata": {
    "id": "AbCCYWXWpwXk",
    "outputId": "55d3a947-4168-4296-aa03-201c479681d7"
   },
   "source": [
    "len(y_3)"
   ],
   "execution_count": null,
   "outputs": [
    {
     "data": {
      "text/plain": [
       "70"
      ]
     },
     "execution_count": 78,
     "metadata": {},
     "output_type": "execute_result"
    }
   ]
  },
  {
   "cell_type": "code",
   "metadata": {
    "id": "9DAQ61VdpwXk"
   },
   "source": [
    "y_3 = y_3.reshape((-1,1))"
   ],
   "execution_count": null,
   "outputs": []
  },
  {
   "cell_type": "code",
   "metadata": {
    "id": "DnDpFONSpwXl",
    "outputId": "340444ec-e93a-4fea-f285-5d520b420780"
   },
   "source": [
    "y_3.shape"
   ],
   "execution_count": null,
   "outputs": [
    {
     "data": {
      "text/plain": [
       "(70, 1)"
      ]
     },
     "execution_count": 80,
     "metadata": {},
     "output_type": "execute_result"
    }
   ]
  },
  {
   "cell_type": "code",
   "metadata": {
    "id": "DksT7tjvpwXl",
    "outputId": "5df03d96-bb39-48b6-ac57-da041aa1c959"
   },
   "source": [
    "X_3.shape"
   ],
   "execution_count": null,
   "outputs": [
    {
     "data": {
      "text/plain": [
       "(70, 5)"
      ]
     },
     "execution_count": 81,
     "metadata": {},
     "output_type": "execute_result"
    }
   ]
  },
  {
   "cell_type": "code",
   "metadata": {
    "id": "tkv7nPAupwXl"
   },
   "source": [
    "x_3_unos = np.ones((X_3.shape[0],1))"
   ],
   "execution_count": null,
   "outputs": []
  },
  {
   "cell_type": "code",
   "metadata": {
    "id": "2vYbPX37pwXl",
    "outputId": "2ac34324-c834-4ce4-8515-d1b34322a07b"
   },
   "source": [
    "x_3_unos.shape"
   ],
   "execution_count": null,
   "outputs": [
    {
     "data": {
      "text/plain": [
       "(70, 1)"
      ]
     },
     "execution_count": 83,
     "metadata": {},
     "output_type": "execute_result"
    }
   ]
  },
  {
   "cell_type": "code",
   "metadata": {
    "id": "9laM50wApwXl"
   },
   "source": [
    "X_3 = np.concatenate((x_3_unos,X_3), axis = 1)"
   ],
   "execution_count": null,
   "outputs": []
  },
  {
   "cell_type": "code",
   "metadata": {
    "id": "KBflLR0upwXl",
    "outputId": "f120fd97-e715-4ad7-fa17-70c4e6b2aebb"
   },
   "source": [
    "X_3"
   ],
   "execution_count": null,
   "outputs": [
    {
     "data": {
      "text/plain": [
       "array([[  1. ,  87.7, 133.4,  13.6,  32.5,  74. ],\n",
       "       [  1. ,  90. , 134.8,  11.3,  27.8,  65. ],\n",
       "       [  1. ,  89.6, 141.5,  17. ,  44.4, 104. ],\n",
       "       [  1. ,  90.3, 137.1,  13.2,  40.5,  79. ],\n",
       "       [  1. ,  89.4, 136.1,  13.3,  29.9,  83. ],\n",
       "       [  1. ,  85.5, 130.6,  11.3,  22.8,  60. ],\n",
       "       [  1. ,  90.2, 136. ,  11.6,  30. ,  67. ],\n",
       "       [  1. ,  82.2, 128. ,  11.6,  24.3,  44. ],\n",
       "       [  1. ,  85.6, 132.4,  12.4,  29.9,  76. ],\n",
       "       [  1. ,  97.3, 152.5,  17. ,  44.5,  81. ],\n",
       "       [  1. ,  87.1, 138.4,  12.2,  31.8,  59. ],\n",
       "       [  1. ,  88.9, 135.2,  15. ,  32.1,  67. ],\n",
       "       [  1. ,  87.6, 142.3,  14.5,  39.2,  72. ],\n",
       "       [  1. ,  82.6, 129.1,  10.2,  23.7,  40. ],\n",
       "       [  1. ,  87.1, 133.2,  12.2,  26. ,  40. ],\n",
       "       [  1. ,  84. , 136.3,  12.8,  36.3,  54. ],\n",
       "       [  1. ,  83.6, 133.1,  13.6,  29.9,  67. ],\n",
       "       [  1. ,  81.4, 123.2,  10.9,  22.2,  58. ],\n",
       "       [  1. ,  89.7, 135.8,  13.1,  34.4,  57. ],\n",
       "       [  1. ,  88.4, 139.5,  13.4,  35.5,  61. ],\n",
       "       [  1. ,  86.4, 139.4,  11.8,  33. ,  64. ],\n",
       "       [  1. ,  83.8, 124.2,  12.7,  25.7,  48. ],\n",
       "       [  1. ,  87.6, 135.6,  11.8,  29.2,  61. ],\n",
       "       [  1. ,  94. , 144.1,  14.1,  31.7,  74. ],\n",
       "       [  1. ,  82. , 123.8,  10.9,  23.7,  50. ],\n",
       "       [  1. ,  86.4, 134.6,  11.8,  35.3,  58. ],\n",
       "       [  1. ,  88.9, 137.2,  13.6,  39. ,  80. ],\n",
       "       [  1. ,  86.7, 139.8,  12.7,  30.8,  57. ],\n",
       "       [  1. ,  86.4, 128.8,  12.3,  29.3,  44. ],\n",
       "       [  1. ,  86.4, 134.2,  11.5,  28. ,  46. ],\n",
       "       [  1. ,  83.8, 136.5,  12.6,  33. ,  57. ],\n",
       "       [  1. ,  88.9, 140.8,  14.1,  47.4,  69. ],\n",
       "       [  1. ,  85.9, 132.1,  11.5,  27.6,  51. ],\n",
       "       [  1. ,  86.2, 137. ,  12. ,  34.2,  44. ],\n",
       "       [  1. ,  85.1, 129. ,  10.9,  28.1,  48. ],\n",
       "       [  1. ,  88.6, 139.4,  12.7,  27.5,  68. ],\n",
       "       [  1. ,  83. , 125.6,  11.3,  23.9,  22. ],\n",
       "       [  1. ,  88.9, 137.1,  11.8,  32.2,  59. ],\n",
       "       [  1. ,  89.7, 133.6,  15.4,  29.4,  58. ],\n",
       "       [  1. ,  81.3, 121.4,  10.9,  22. ,  44. ],\n",
       "       [  1. ,  88.7, 133.6,  13.2,  28.8,  58. ],\n",
       "       [  1. ,  88.4, 134.1,  14.3,  38.8,  57. ],\n",
       "       [  1. ,  85.1, 139.4,  11.1,  36. ,  64. ],\n",
       "       [  1. ,  91.4, 138.1,  13.6,  31.3,  64. ],\n",
       "       [  1. ,  87.6, 133.2,  12.9,  26.9,  58. ],\n",
       "       [  1. ,  86.1, 138.4,  13.5,  33.3,  73. ],\n",
       "       [  1. ,  94. , 139.5,  16.3,  36.2,  52. ],\n",
       "       [  1. ,  85.9, 132.8,  13.6,  29.5,  52. ],\n",
       "       [  1. ,  82.2, 129.8,  10.2,  23.4,  60. ],\n",
       "       [  1. ,  88.2, 144.8,  12.6,  33.8, 107. ],\n",
       "       [  1. ,  87.5, 138.9,  12.9,  34.5,  62. ],\n",
       "       [  1. ,  88.6, 140.3,  13.3,  34.4,  88. ],\n",
       "       [  1. ,  86.9, 143.8,  13.4,  38.2,  78. ],\n",
       "       [  1. ,  86.4, 133.6,  12.7,  31.7,  52. ],\n",
       "       [  1. ,  80.9, 123.5,  12.2,  26.6,  40. ],\n",
       "       [  1. ,  90. , 139.9,  15.4,  34.2,  71. ],\n",
       "       [  1. ,  94. , 136.1,  12.7,  27.7,  30. ],\n",
       "       [  1. ,  89.7, 135.8,  13.2,  28.5,  76. ],\n",
       "       [  1. ,  86.4, 131.9,  12.4,  30.5,  59. ],\n",
       "       [  1. ,  82.6, 133.1,  10.9,  26.6,  75. ],\n",
       "       [  1. ,  86.4, 130.9,  13.4,  39. ,  38. ],\n",
       "       [  1. ,  81.8, 126.3,  10.6,  25. ,  50. ],\n",
       "       [  1. ,  86.2, 135.9,  11.8,  25.6,  45. ],\n",
       "       [  1. ,  86. , 135. ,  14.2,  34.2,  62. ],\n",
       "       [  1. ,  91.4, 135.5,  12.7,  29.8,  57. ],\n",
       "       [  1. ,  88.9, 136.5,  13.2,  27.9,  66. ],\n",
       "       [  1. ,  88.6, 134. ,  11.8,  27. ,  54. ],\n",
       "       [  1. ,  86.4, 138.2,  13.3,  41.4,  44. ],\n",
       "       [  1. ,  94. , 142. ,  13.2,  41.6,  56. ],\n",
       "       [  1. ,  89.2, 140.8,  15.9,  42.4,  74. ]])"
      ]
     },
     "execution_count": 85,
     "metadata": {},
     "output_type": "execute_result"
    }
   ]
  },
  {
   "cell_type": "code",
   "metadata": {
    "id": "GW22NCegpwXl"
   },
   "source": [
    "pesos_3 = regresion_lineal(X_3,y_3)"
   ],
   "execution_count": null,
   "outputs": []
  },
  {
   "cell_type": "code",
   "metadata": {
    "id": "Tudm3h-CpwXl",
    "outputId": "27a07680-59a3-497d-b51d-440a865ee97b"
   },
   "source": [
    "pesos_3"
   ],
   "execution_count": null,
   "outputs": [
    {
     "data": {
      "text/plain": [
       "array([[ 3.08553348e+01],\n",
       "       [-1.93997084e-01],\n",
       "       [ 8.05707429e-03],\n",
       "       [-3.17779385e-01],\n",
       "       [ 4.19762397e-01],\n",
       "       [-4.44160339e-02]])"
      ]
     },
     "execution_count": 87,
     "metadata": {},
     "output_type": "execute_result"
    }
   ]
  },
  {
   "cell_type": "markdown",
   "metadata": {
    "id": "w_qLlR41pwXm"
   },
   "source": [
    "## Regresión polinomial.\n",
    "Veamos un ejemplo de como aplicar el algoritmo de regresión lineal para poder hacer una regresión polinomial. En este caso, se transforman las variables a las potencias deseadas del polinomio por lo que cada estimador o peso $\\hat{\\beta}_i$ es el coeficiente que multiplica a una cierta potencia de la variable de nuestro polinomio.\n"
   ]
  },
  {
   "cell_type": "code",
   "metadata": {
    "id": "c39Zl1DPpwXm"
   },
   "source": [
    "dataset_5 = pd.read_csv(\"Position_Salaries.csv\")"
   ],
   "execution_count": null,
   "outputs": []
  },
  {
   "cell_type": "code",
   "metadata": {
    "id": "FFNj6nIepwXm",
    "outputId": "31f8638e-53bf-4129-e673-9c0534f715cb"
   },
   "source": [
    "dataset_5.head()"
   ],
   "execution_count": null,
   "outputs": [
    {
     "data": {
      "text/html": [
       "<div>\n",
       "<style scoped>\n",
       "    .dataframe tbody tr th:only-of-type {\n",
       "        vertical-align: middle;\n",
       "    }\n",
       "\n",
       "    .dataframe tbody tr th {\n",
       "        vertical-align: top;\n",
       "    }\n",
       "\n",
       "    .dataframe thead th {\n",
       "        text-align: right;\n",
       "    }\n",
       "</style>\n",
       "<table border=\"1\" class=\"dataframe\">\n",
       "  <thead>\n",
       "    <tr style=\"text-align: right;\">\n",
       "      <th></th>\n",
       "      <th>Position</th>\n",
       "      <th>Level</th>\n",
       "      <th>Salary</th>\n",
       "    </tr>\n",
       "  </thead>\n",
       "  <tbody>\n",
       "    <tr>\n",
       "      <th>0</th>\n",
       "      <td>Business Analyst</td>\n",
       "      <td>1</td>\n",
       "      <td>45000</td>\n",
       "    </tr>\n",
       "    <tr>\n",
       "      <th>1</th>\n",
       "      <td>Junior Consultant</td>\n",
       "      <td>2</td>\n",
       "      <td>50000</td>\n",
       "    </tr>\n",
       "    <tr>\n",
       "      <th>2</th>\n",
       "      <td>Senior Consultant</td>\n",
       "      <td>3</td>\n",
       "      <td>60000</td>\n",
       "    </tr>\n",
       "    <tr>\n",
       "      <th>3</th>\n",
       "      <td>Manager</td>\n",
       "      <td>4</td>\n",
       "      <td>80000</td>\n",
       "    </tr>\n",
       "    <tr>\n",
       "      <th>4</th>\n",
       "      <td>Country Manager</td>\n",
       "      <td>5</td>\n",
       "      <td>110000</td>\n",
       "    </tr>\n",
       "  </tbody>\n",
       "</table>\n",
       "</div>"
      ],
      "text/plain": [
       "            Position  Level  Salary\n",
       "0   Business Analyst      1   45000\n",
       "1  Junior Consultant      2   50000\n",
       "2  Senior Consultant      3   60000\n",
       "3            Manager      4   80000\n",
       "4    Country Manager      5  110000"
      ]
     },
     "execution_count": 89,
     "metadata": {},
     "output_type": "execute_result"
    }
   ]
  },
  {
   "cell_type": "code",
   "metadata": {
    "id": "KpnZEOqJpwXm"
   },
   "source": [
    "x_5 = dataset_5[\"Level\"].values"
   ],
   "execution_count": null,
   "outputs": []
  },
  {
   "cell_type": "code",
   "metadata": {
    "id": "OgSfLrvgpwXm"
   },
   "source": [
    "y_5 = dataset_5[\"Salary\"].values"
   ],
   "execution_count": null,
   "outputs": []
  },
  {
   "cell_type": "code",
   "metadata": {
    "id": "xsOHEAj0pwXm",
    "outputId": "57812648-906e-4bde-d490-3f3548c931ae"
   },
   "source": [
    "plt.scatter(x_5,y_5,color=\"red\", label=\"Datos originales\")\n",
    "plt.ylabel(\"Salario\")\n",
    "plt.xlabel(\"Posición\")\n",
    "plt.title(\"Gráfica de la posición vs salario\")\n",
    "plt.legend()\n",
    "plt.show()"
   ],
   "execution_count": null,
   "outputs": [
    {
     "data": {
      "image/png": "[encoded data removed]",
      "text/plain": [
       "<Figure size 576x504 with 1 Axes>"
      ]
     },
     "metadata": {},
     "output_type": "display_data"
    }
   ]
  },
  {
   "cell_type": "code",
   "metadata": {
    "id": "CBEGbQIdpwXn"
   },
   "source": [
    "x_5_unos = np.ones((len(x_5),1))"
   ],
   "execution_count": null,
   "outputs": []
  },
  {
   "cell_type": "code",
   "metadata": {
    "id": "qfSE7nEIpwXn"
   },
   "source": [
    "x_5 = x_5.reshape((-1,1))"
   ],
   "execution_count": null,
   "outputs": []
  },
  {
   "cell_type": "code",
   "metadata": {
    "id": "oLVHbci-pwXo"
   },
   "source": [
    "x_5_cuadrado = x_5**2"
   ],
   "execution_count": null,
   "outputs": []
  },
  {
   "cell_type": "code",
   "metadata": {
    "id": "PO1V5vEhpwXo"
   },
   "source": [
    "X_5 = np.concatenate((x_5_unos,x_5,x_5_cuadrado), axis = 1)"
   ],
   "execution_count": null,
   "outputs": []
  },
  {
   "cell_type": "code",
   "metadata": {
    "id": "-8p9Ve3zpwXo",
    "outputId": "d9d3fa2d-caae-44d4-d3d5-3eadfa7f6d89"
   },
   "source": [
    "X_5"
   ],
   "execution_count": null,
   "outputs": [
    {
     "data": {
      "text/plain": [
       "array([[  1.,   1.,   1.],\n",
       "       [  1.,   2.,   4.],\n",
       "       [  1.,   3.,   9.],\n",
       "       [  1.,   4.,  16.],\n",
       "       [  1.,   5.,  25.],\n",
       "       [  1.,   6.,  36.],\n",
       "       [  1.,   7.,  49.],\n",
       "       [  1.,   8.,  64.],\n",
       "       [  1.,   9.,  81.],\n",
       "       [  1.,  10., 100.]])"
      ]
     },
     "execution_count": 97,
     "metadata": {},
     "output_type": "execute_result"
    }
   ]
  },
  {
   "cell_type": "code",
   "metadata": {
    "id": "jokmXQKipwXo"
   },
   "source": [
    "y_5 = y_5.reshape((-1,1))"
   ],
   "execution_count": null,
   "outputs": []
  },
  {
   "cell_type": "code",
   "metadata": {
    "id": "KaVlgLjOpwXo"
   },
   "source": [
    "pesos_5 = regresion_lineal(X_5,y_5)"
   ],
   "execution_count": null,
   "outputs": []
  },
  {
   "cell_type": "code",
   "metadata": {
    "id": "8u8kYUOkpwXo",
    "outputId": "f3ea7d13-963d-4d66-8c76-611ecf6248f8"
   },
   "source": [
    "pesos_5"
   ],
   "execution_count": null,
   "outputs": [
    {
     "data": {
      "text/plain": [
       "array([[ 232166.66666667],\n",
       "       [-132871.21212121],\n",
       "       [  19431.81818182]])"
      ]
     },
     "execution_count": 100,
     "metadata": {},
     "output_type": "execute_result"
    }
   ]
  },
  {
   "cell_type": "code",
   "metadata": {
    "id": "vaQK-7VQpwXp"
   },
   "source": [
    "y_5_pred = np.matmul(X_5,pesos_5)"
   ],
   "execution_count": null,
   "outputs": []
  },
  {
   "cell_type": "code",
   "metadata": {
    "id": "rKQAX-GzpwXp",
    "outputId": "89d45d9a-a74d-4ecc-fb6c-e6cfe6682a0a"
   },
   "source": [
    "plt.scatter(x_5.ravel(),y_5.ravel(),color=\"red\", label=\"Datos originales\")\n",
    "plt.plot(x_5.ravel(), y_5_pred.ravel(), color = \"green\", label =\"Polinomio ajustado\")\n",
    "plt.ylabel(\"Salario\")\n",
    "plt.xlabel(\"Posición\")\n",
    "plt.title(\"Gráfica de la posición vs salario\")\n",
    "plt.legend()\n",
    "plt.show()"
   ],
   "execution_count": null,
   "outputs": [
    {
     "data": {
      "image/png": "[encoded data removed]",
      "text/plain": [
       "<Figure size 576x504 with 1 Axes>"
      ]
     },
     "metadata": {},
     "output_type": "display_data"
    }
   ]
  },
  {
   "cell_type": "code",
   "metadata": {
    "id": "Mh5SqWE-pwXp"
   },
   "source": [
    "x_5_cubico = x_5**3"
   ],
   "execution_count": null,
   "outputs": []
  },
  {
   "cell_type": "code",
   "metadata": {
    "id": "JJ_SCMuQpwXp"
   },
   "source": [
    "x_5_cuarta = x_5**4"
   ],
   "execution_count": null,
   "outputs": []
  },
  {
   "cell_type": "code",
   "metadata": {
    "id": "GZUO-yPQpwXp",
    "outputId": "6c394f87-d424-4900-f658-a440a0cf910c"
   },
   "source": [
    "x_5_cubico.shape"
   ],
   "execution_count": null,
   "outputs": [
    {
     "data": {
      "text/plain": [
       "(10, 1)"
      ]
     },
     "execution_count": 105,
     "metadata": {},
     "output_type": "execute_result"
    }
   ]
  },
  {
   "cell_type": "code",
   "metadata": {
    "id": "eHPs3ZBnpwXp"
   },
   "source": [
    "X_5 = np.concatenate((X_5,x_5_cubico,x_5_cuarta), axis=1 )"
   ],
   "execution_count": null,
   "outputs": []
  },
  {
   "cell_type": "code",
   "metadata": {
    "id": "A3UhLYmlpwXp",
    "outputId": "7e863be9-6335-4e37-9588-c0cfaec4a8d8"
   },
   "source": [
    "X_5"
   ],
   "execution_count": null,
   "outputs": [
    {
     "data": {
      "text/plain": [
       "array([[1.000e+00, 1.000e+00, 1.000e+00, 1.000e+00, 1.000e+00],\n",
       "       [1.000e+00, 2.000e+00, 4.000e+00, 8.000e+00, 1.600e+01],\n",
       "       [1.000e+00, 3.000e+00, 9.000e+00, 2.700e+01, 8.100e+01],\n",
       "       [1.000e+00, 4.000e+00, 1.600e+01, 6.400e+01, 2.560e+02],\n",
       "       [1.000e+00, 5.000e+00, 2.500e+01, 1.250e+02, 6.250e+02],\n",
       "       [1.000e+00, 6.000e+00, 3.600e+01, 2.160e+02, 1.296e+03],\n",
       "       [1.000e+00, 7.000e+00, 4.900e+01, 3.430e+02, 2.401e+03],\n",
       "       [1.000e+00, 8.000e+00, 6.400e+01, 5.120e+02, 4.096e+03],\n",
       "       [1.000e+00, 9.000e+00, 8.100e+01, 7.290e+02, 6.561e+03],\n",
       "       [1.000e+00, 1.000e+01, 1.000e+02, 1.000e+03, 1.000e+04]])"
      ]
     },
     "execution_count": 107,
     "metadata": {},
     "output_type": "execute_result"
    }
   ]
  },
  {
   "cell_type": "code",
   "metadata": {
    "id": "sxA0xkStpwXp"
   },
   "source": [
    "pesos_5_cuarto = regresion_lineal(X_5, y_5)"
   ],
   "execution_count": null,
   "outputs": []
  },
  {
   "cell_type": "code",
   "metadata": {
    "id": "ag6u5VgPpwXq",
    "outputId": "812e7aae-8a0b-460d-8f44-bc28297c2a8e"
   },
   "source": [
    "pesos_5_cuarto"
   ],
   "execution_count": null,
   "outputs": [
    {
     "data": {
      "text/plain": [
       "array([[ 184166.6666634 ],\n",
       "       [-211002.33100266],\n",
       "       [  94765.44289062],\n",
       "       [ -15463.28671331],\n",
       "       [    890.15151515]])"
      ]
     },
     "execution_count": 109,
     "metadata": {},
     "output_type": "execute_result"
    }
   ]
  },
  {
   "cell_type": "code",
   "metadata": {
    "id": "uMQRaYkGpwXq"
   },
   "source": [
    "pred_5_cuarto = np.matmul(X_5, pesos_5_cuarto)"
   ],
   "execution_count": null,
   "outputs": []
  },
  {
   "cell_type": "code",
   "metadata": {
    "id": "Zb-a1TfvpwXq",
    "outputId": "9d0886af-8af6-4ae7-fe36-4624f31263f5"
   },
   "source": [
    "plt.scatter(x_5.ravel(),y_5.ravel(),color=\"red\", label=\"Datos originales\")\n",
    "plt.plot(x_5.ravel(), pred_5_cuarto.ravel(), color = \"green\", label =\"Polinomio ajustado\")\n",
    "plt.ylabel(\"Salario\")\n",
    "plt.xlabel(\"Posición\")\n",
    "plt.title(\"Gráfica de la posición vs salario\")\n",
    "plt.legend()\n",
    "plt.show()"
   ],
   "execution_count": null,
   "outputs": [
    {
     "data": {
      "image/png": "[encoded data removed]",
      "text/plain": [
       "<Figure size 576x504 with 1 Axes>"
      ]
     },
     "metadata": {},
     "output_type": "display_data"
    }
   ]
  },
  {
   "cell_type": "markdown",
   "metadata": {
    "id": "ii-FQFkDpwXq"
   },
   "source": [
    "## Coeficiente de determinación $R^2$"
   ]
  },
  {
   "cell_type": "markdown",
   "metadata": {
    "id": "KjaspnLapwXq"
   },
   "source": [
    "El coeficiente de determinación $R^2$ nos dice que tan buena fue la bondad de ajuste. El máximo valor es 1 que dice que la curva ajustada fue perfecta y logro predecir exactamente todos los datos.\n",
    "Se define de la siguiente forma:\n",
    "$$R^2=1-\\frac{SS_{res}}{SS_{tot}}$$\n",
    "en donde $SS_{res}=\\sum_{i=1}^n(y_i-\\hat{y_i})^2=(y-\\hat{y}) \\cdot (y-\\hat{y})$, $SS_{tot}=\\sum_{i=1}^n(y_i-\\bar{y})^2=(y-\\bar{y}) \\cdot (y-\\bar{y})$, $\\hat{y_i}$ es el valor predicho para la $x_i$ y $\\bar{y}$ es el promedio de las $y$."
   ]
  },
  {
   "cell_type": "code",
   "metadata": {
    "id": "4-WXH-dnpwXq"
   },
   "source": [
    "def R_2(y,y_pred):\n",
    "    y = y.ravel()\n",
    "    y_pred = y_pred.ravel()\n",
    "    y_mean = np.mean(y)\n",
    "    ss_res = np.dot(y-y_pred,y-y_pred)\n",
    "    ss_tot = np.dot(y-y_mean,y-y_mean)\n",
    "    return 1-(ss_res/ss_tot)"
   ],
   "execution_count": null,
   "outputs": []
  },
  {
   "cell_type": "code",
   "metadata": {
    "id": "7iL_fkKkpwXr"
   },
   "source": [
    "r_2_polinomio_4= R_2(y_5,pred_5_cuarto)"
   ],
   "execution_count": null,
   "outputs": []
  },
  {
   "cell_type": "code",
   "metadata": {
    "id": "_IO2NpABpwXr",
    "outputId": "dffb57b7-4b4f-4ad5-a749-443301a76e54"
   },
   "source": [
    "r_2_polinomio_4"
   ],
   "execution_count": null,
   "outputs": [
    {
     "data": {
      "text/plain": [
       "0.9973922891706613"
      ]
     },
     "execution_count": 114,
     "metadata": {},
     "output_type": "execute_result"
    }
   ]
  },
  {
   "cell_type": "code",
   "metadata": {
    "id": "cF9LFD4rpwXs"
   },
   "source": [
    "r_2_polinomio_2 = R_2(y_5,y_5_pred)"
   ],
   "execution_count": null,
   "outputs": []
  },
  {
   "cell_type": "code",
   "metadata": {
    "id": "slGYJ_8wpwXs",
    "outputId": "6c3459cd-7c03-417e-d0b6-359f47085c92"
   },
   "source": [
    "r_2_polinomio_2"
   ],
   "execution_count": null,
   "outputs": [
    {
     "data": {
      "text/plain": [
       "0.9162082221443942"
      ]
     },
     "execution_count": 116,
     "metadata": {},
     "output_type": "execute_result"
    }
   ]
  },
  {
   "cell_type": "markdown",
   "metadata": {
    "id": "UMlplwtnpwXs"
   },
   "source": [
    "# Descenso por el gradiente.\n"
   ]
  },
  {
   "cell_type": "markdown",
   "metadata": {
    "id": "amh8hjGApwXs"
   },
   "source": [
    "A pesar de que tenemos un método exacto para realizar la regresión lineal, para grandes cantidades de datos no es muy eficiente en términos de tiempo de ejecución. Para solucionar ese problema se utiliza un método numérico para encontrar el mínimo en la función de error (función de costo).\n",
    "El descenso del gradiente es un algoritmo para encontrar un mínimo local en una función diferenciable.\n",
    "Este algoritmo se basa en la observación de que la función $f$ decrece más rápido si se va en la dirección de $-\\nabla f$. Entonces para encontrar el mínimo se hace una iteración de la siguiente forma:\n",
    "$$x_{n+1} = x_n-\\alpha \\nabla f(x_{n})$$\n",
    "En donde $\\alpha$ es un número suficientemente pequeño, al que comunmente se le conoce como \"tasa de aprendizaje\".\n",
    "La elección de alpha es importante para que el algoritmo logre converger optimamente. Observemos unas imágenes para explicarlo visualmente.\n",
    "![](https://miro.medium.com/max/1618/0*J8Gsz4498OOwD1Xd.png)\n",
    "Una tasa de aprendizaje muy pequeña asegura llegar al mínimo pero en un número muy grande de iteraciones, mientras que una muy grande no va a converger.\n",
    "\n",
    "Otro de los principales problemas que se tiene es encontrar el mínimo global de una función, ya que este método puede converger a un mínimo local y no al global. Si la función es convexa este problema se soluciona ya que en este tipo de funciones todo mínimo local es mínimo global. Es por eso que a continuación demostraremos que nuestra función de error (costo) RSS (a la que de ahora en adelante llamaremos $J(\\theta)$) es convexa.\n",
    "![](https://external-content.duckduckgo.com/iu/?u=http%3A%2F%2Fhome.agh.edu.pl%2F~horzyk%2Flectures%2Fai%2FGradientDescentOfErrorFunction.jpg&f=1&nofb=1)\n"
   ]
  },
  {
   "cell_type": "markdown",
   "metadata": {
    "id": "aRpJPUc_pwXt"
   },
   "source": [
    "**Definición 2:** (Conjunto convexo) Sea $S$ un espacio vectorial sobre los número reales. Se dice que $C \\subseteq S$ es convexo si para todo $x,y \\in C$ el segmento de línea que los une está en $C$, es decir $(1-t)x+ty \\in C$, para todo $x,y \\in C$ con $t \\in [0,1]$"
   ]
  },
  {
   "cell_type": "markdown",
   "metadata": {
    "id": "ESR2m8QHpwXt"
   },
   "source": [
    "**Definición 3:** (Función convexa) Sea $X$ un conjunto convexo en un espacio vectorial y $f: X \\rightarrow \\mathbb{R}$ una función. Se dice que $f$ es convexa sí:\n",
    "$$\\forall x_1,x_2 \\in X, \\forall t \\in [0,1]: \\quad  f(tx_1 + (1-t)x_2)\\leq tf(x_1) + (1-t)f(x_2)$$"
   ]
  },
  {
   "cell_type": "markdown",
   "metadata": {
    "id": "7SXgNFGEpwXt"
   },
   "source": [
    "![](https://upload.wikimedia.org/wikipedia/commons/thumb/d/d6/Convex_Function.png/1024px-Convex_Function.png)"
   ]
  },
  {
   "cell_type": "markdown",
   "metadata": {
    "id": "V1Fp62gzpwXt"
   },
   "source": [
    "**Proposición 3:** Sea $f: \\mathbb{R} \\rightarrow \\mathbb{R}$ con $f(x) = x^2$, entonces $f$ es convexa.\n",
    "\n",
    "\n",
    "**Demostración:**\n",
    "\n",
    "Tomemos $x_1,x_2 \\in  \\mathbb{R}$ y $t \\in [0,1]$, queremos probar que $f(tx_1 + (1-t)x_2)\\leq tf(x_1) + (1-t)f(x_2)$.\n",
    "\n",
    "Como $t \\in [0,1]$ entonces $t^2\\leq t$ $\\implies$ $(t^2-t)\\leq 0$. Al ser $(x_1-x_2)^2\\geq 0$ se sigue que:\n",
    "$$0\\geq (t^2-t)(x_1-x_2)^2\\\\\n",
    "   \\quad \\quad \\quad \\quad \\quad     = -(t-t^2)[(x_1-x_2)^2+x_1^2-x_1^2]\\\\\n",
    "   \\quad \\quad \\quad \\quad \\quad \\quad \\quad   = -(t-t^2)[x_1^2-2x_1x_2+x_2^2+x_1^2-x_1^2]\\\\\n",
    "   \\quad \\quad \\quad \\quad    = -(1-t)t[-2x_1x_2 + x_2^2 + x_1^2]\\\\\n",
    "   \\quad \\quad \\quad \\quad \\quad \\quad= (1-t)[2tx_1x_2 -tx_2^2]-(t-t^2)x_1^2\\\\\n",
    "   \\quad \\quad \\quad \\quad \\quad \\quad \\quad \\quad \\quad \\quad = (1-t)[2tx_1x_2 +x_2^2(-t+1-1)]-(t-t^2)x_1^2\\\\\n",
    "   \\quad \\quad \\quad \\quad \\quad \\quad \\quad \\quad \\quad \\quad = (1-t)[2tx_1x_2 + (1-t)x_2^2 - x_2^2]-(t-t^2)x_1^2\\\\\n",
    "   \\quad \\quad \\quad \\quad \\quad \\quad \\quad \\quad \\quad \\quad \\quad \\quad = 2t(1-t)x_1x_2 + (1-t)^2x_2^2-(1-t)x_2^2-(t-t^2)x_1^2\\\\\n",
    "   \\quad \\quad \\quad \\quad \\quad \\quad \\quad \\quad \\quad \\quad \\quad \\quad = 2t(1-t)x_1x_2 + (1-t)^2x_2^2-(1-t)x_2^2-tx_1^2+t^2x_1^2\\\\\n",
    "   \\quad \\quad \\quad \\quad \\quad \\quad \\quad \\quad \\quad \\quad \\quad \\quad = t^2x_1^2+ 2t(1-t)x_1x_2 + (1-t)^2x_2^2 - tx_1^2 - (1-t)x_2^2\\\\\n",
    "   \\quad \\quad \\quad \\quad \\quad \\quad  = (tx_1 + (1-t)x_2)^2 - tx_1^2 - (1-t)x_2^2$$\n",
    "   \n",
    "  $$ \\implies 0 \\geq (tx_1 + (1-t)x_2)^2 - tx_1^2 - (1-t)x_2^2 \\\\\n",
    "  \\implies tx_1^2 + (1-t)x_2^2 \\geq (tx_1 + (1-t)x_2)^2\\\\\n",
    "  \\implies tf(x_1) + (1-t)f(x_2) \\geq f(tx_1 + (1-t)x_2)$$\n",
    "  Por lo tanto concluimos que $f$ es convexa."
   ]
  },
  {
   "cell_type": "markdown",
   "metadata": {
    "id": "hv-13-8CpwXt"
   },
   "source": [
    "\n",
    "**Proposición 4:** Sea $J: \\mathbb{R}^d \\rightarrow \\mathbb{R}$ con $J(\\theta) = (y-X\\theta)^T(y-X\\theta)$, es decir, $J=RSS$, entonces la función $J$ es convexa.\n",
    "\n",
    "**Demostración:**\n",
    "\n",
    "Al hacer la multiplicación de matrices de arriba queda $J$ de la siguiente forma:\n",
    "$$J(\\theta) = \\sum_{i = 1}^n (y_i - (X\\theta)_i)^2$$\n",
    "Sea $f: \\mathbb{R} \\rightarrow \\mathbb{R}$ con $f(x) = x^2$, entonces:\n",
    "$$J(\\theta) = \\sum_{i = 1}^n f(y_i - (X\\theta)_i)$$\n",
    "Tomemos $\\theta_1, \\theta_2 \\in \\mathbb{R}^d$ y $t \\in [0,1]$, se sigue que:\n",
    "$$J(t\\theta_1 + (1-t)\\theta_2) = \\sum_{i = 1}^n f\\left(t(y_i - (X\\theta_1)_i)+(1-t)(y_i - (X\\theta_2)_i)\\right)\\\\\n",
    "\\quad \\quad \\quad \\quad \\quad \\quad \\quad \\stackrel{Proposición 3}{\\leq} \\sum_{i = 1}^n tf\\left(y_i - (X\\theta_1)_i\\right)+(1-t)f\\left(y_i - (X\\theta_2)_i\\right) \\\\\n",
    "\\quad \\quad \\quad \\quad \\quad \\quad \\quad \\quad \\quad = t\\sum_{i = 1}^n f\\left(y_i - (X\\theta_1)_i\\right) + (1-t)\\sum_{i = 1}^n f\\left(y_i - (X\\theta_2)_i\\right)\\\\\n",
    " = tJ(\\theta_1) + (1-t)J(\\theta_2)$$\n",
    " Por lo tanto:\n",
    " $$J(t\\theta_1 + (1-t)\\theta_2) \\leq tJ(\\theta_1) + (1-t)J(\\theta_2)$$\n",
    " Concluimos que $J$ es convexa."
   ]
  },
  {
   "cell_type": "markdown",
   "metadata": {
    "id": "QycuZ1aNpwXu"
   },
   "source": [
    "Al demostrar que nuestra función de error (costo) es convexa entonces con el método del descenso del gradiente podemos asegurar convergencia al mínimo global. Ahora encontremos el gradiente de $J$, es decir $\\nabla_{\\theta}J$.\n",
    " Recordemos que si derivamos un escalar con respecto a un vector tenemos:\n",
    " $\\frac{dx}{d\\bar{w}} = (\\frac{dx}{dw_1}, \\dots , \\frac{dx}{dw_n})$, entonces esto sería el equivalente a encontrar el gradiente de una función. Recordemos que en la Proposición 2 calculamos $\\frac{dRSS}{d\\widehat{\\beta}}$, lo cual corresponde a $\\nabla_{\\widehat{\\beta}}J$.\n",
    "De la derivada de la Proposición 2 se sigue que:\n",
    "$$\\nabla_{\\widehat{\\beta}}J = -2y^TX + 2\\hat{\\beta}^TX^TX$$\n",
    "Como podemos ver, este es un vector de $1\\times d$ (con d el número de características del conjunto de datos), pero $\\widehat{\\beta}$ es de $d \\times 1$, entonces para hacer la iteración del descenso del gradiente vamos a tomar la transpuesta de $\\nabla_{\\widehat{\\beta}}J$. Finalmente, nuestro metodo iterativo usando descenso del gradiente queda como:\n",
    "$$\\widehat{\\beta}_{n+1} = \\widehat{\\beta}_n - \\alpha (-2y^TX + 2\\hat{\\beta_n}^TX^TX)^T$$"
   ]
  },
  {
   "cell_type": "code",
   "metadata": {
    "id": "QMM4D6ktpwXu"
   },
   "source": [
    "def descenso_gradiente(lr,iteraciones,X,y):\n",
    "    pesos_inicial = np.zeros((X.shape[1],1))\n",
    "    for i in range(iteraciones):\n",
    "        pesos_inicial = pesos_inicial -lr*(-2*np.matmul(y.T,X)+2*np.matmul(np.matmul(pesos_inicial.T,X.T),X)).T\n",
    "        \n",
    "    return pesos_inicial\n",
    "    "
   ],
   "execution_count": null,
   "outputs": []
  },
  {
   "cell_type": "code",
   "metadata": {
    "id": "Sh78uggbpwXu",
    "outputId": "2e60b61c-ae39-4f55-af00-faeff0f27344"
   },
   "source": [
    "pesos"
   ],
   "execution_count": null,
   "outputs": [
    {
     "data": {
      "text/plain": [
       "array([[25792.20019867],\n",
       "       [ 9449.96232146]])"
      ]
     },
     "execution_count": 118,
     "metadata": {},
     "output_type": "execute_result"
    }
   ]
  },
  {
   "cell_type": "code",
   "metadata": {
    "id": "WiuyQS09pwXu",
    "outputId": "1ebd579c-8fed-4a3b-d0a8-19d698d1bdf7"
   },
   "source": [
    "X"
   ],
   "execution_count": null,
   "outputs": [
    {
     "data": {
      "text/plain": [
       "array([[ 1. ,  1.1],\n",
       "       [ 1. ,  1.3],\n",
       "       [ 1. ,  1.5],\n",
       "       [ 1. ,  2. ],\n",
       "       [ 1. ,  2.2],\n",
       "       [ 1. ,  2.9],\n",
       "       [ 1. ,  3. ],\n",
       "       [ 1. ,  3.2],\n",
       "       [ 1. ,  3.2],\n",
       "       [ 1. ,  3.7],\n",
       "       [ 1. ,  3.9],\n",
       "       [ 1. ,  4. ],\n",
       "       [ 1. ,  4. ],\n",
       "       [ 1. ,  4.1],\n",
       "       [ 1. ,  4.5],\n",
       "       [ 1. ,  4.9],\n",
       "       [ 1. ,  5.1],\n",
       "       [ 1. ,  5.3],\n",
       "       [ 1. ,  5.9],\n",
       "       [ 1. ,  6. ],\n",
       "       [ 1. ,  6.8],\n",
       "       [ 1. ,  7.1],\n",
       "       [ 1. ,  7.9],\n",
       "       [ 1. ,  8.2],\n",
       "       [ 1. ,  8.7],\n",
       "       [ 1. ,  9. ],\n",
       "       [ 1. ,  9.5],\n",
       "       [ 1. ,  9.6],\n",
       "       [ 1. , 10.3],\n",
       "       [ 1. , 10.5]])"
      ]
     },
     "execution_count": 119,
     "metadata": {},
     "output_type": "execute_result"
    }
   ]
  },
  {
   "cell_type": "code",
   "metadata": {
    "id": "Y0_LmExzpwXu",
    "outputId": "b6dd9773-7686-4e4b-c94c-1ccf20f62fcc"
   },
   "source": [
    "y"
   ],
   "execution_count": null,
   "outputs": [
    {
     "data": {
      "text/plain": [
       "array([[ 39343.],\n",
       "       [ 46205.],\n",
       "       [ 37731.],\n",
       "       [ 43525.],\n",
       "       [ 39891.],\n",
       "       [ 56642.],\n",
       "       [ 60150.],\n",
       "       [ 54445.],\n",
       "       [ 64445.],\n",
       "       [ 57189.],\n",
       "       [ 63218.],\n",
       "       [ 55794.],\n",
       "       [ 56957.],\n",
       "       [ 57081.],\n",
       "       [ 61111.],\n",
       "       [ 67938.],\n",
       "       [ 66029.],\n",
       "       [ 83088.],\n",
       "       [ 81363.],\n",
       "       [ 93940.],\n",
       "       [ 91738.],\n",
       "       [ 98273.],\n",
       "       [101302.],\n",
       "       [113812.],\n",
       "       [109431.],\n",
       "       [105582.],\n",
       "       [116969.],\n",
       "       [112635.],\n",
       "       [122391.],\n",
       "       [121872.]])"
      ]
     },
     "execution_count": 120,
     "metadata": {},
     "output_type": "execute_result"
    }
   ]
  },
  {
   "cell_type": "code",
   "metadata": {
    "id": "lhKqscsNpwXu"
   },
   "source": [
    "pesos_descenso = descenso_gradiente(0.0005,5000,X,y)"
   ],
   "execution_count": null,
   "outputs": []
  },
  {
   "cell_type": "code",
   "metadata": {
    "id": "SI_KEJeUpwXv",
    "outputId": "9a59380a-0b0d-4368-eedb-f3473addb9b9"
   },
   "source": [
    "pesos_descenso"
   ],
   "execution_count": null,
   "outputs": [
    {
     "data": {
      "text/plain": [
       "array([[25792.20019867],\n",
       "       [ 9449.96232146]])"
      ]
     },
     "execution_count": 142,
     "metadata": {},
     "output_type": "execute_result"
    }
   ]
  },
  {
   "cell_type": "code",
   "metadata": {
    "id": "VKy510nQpwXv",
    "outputId": "06a48124-8c2a-43c3-a0f8-61a10fce5f2f"
   },
   "source": [
    "pesos "
   ],
   "execution_count": null,
   "outputs": [
    {
     "data": {
      "text/plain": [
       "array([[25792.20019867],\n",
       "       [ 9449.96232146]])"
      ]
     },
     "execution_count": 131,
     "metadata": {},
     "output_type": "execute_result"
    }
   ]
  },
  {
   "cell_type": "code",
   "metadata": {
    "id": "ZPnDJBgNpwXv"
   },
   "source": [
    "pesos_descenso_3 = descenso_gradiente(0.000000005,100, X_3, y_3) "
   ],
   "execution_count": null,
   "outputs": []
  },
  {
   "cell_type": "code",
   "metadata": {
    "id": "ZgzDoM1YpwXv",
    "outputId": "77306466-4146-4ad8-aede-51e932f3c694"
   },
   "source": [
    "pesos_descenso_3"
   ],
   "execution_count": null,
   "outputs": [
    {
     "data": {
      "text/plain": [
       "array([[0.00062208],\n",
       "       [0.0541829 ],\n",
       "       [0.08404213],\n",
       "       [0.00797547],\n",
       "       [0.02005901],\n",
       "       [0.03695315]])"
      ]
     },
     "execution_count": 166,
     "metadata": {},
     "output_type": "execute_result"
    }
   ]
  },
  {
   "cell_type": "code",
   "metadata": {
    "id": "zGCIgaEdpwXw",
    "outputId": "f8f38d87-bf68-4b2b-adfb-a0547389e712"
   },
   "source": [
    "pesos_3"
   ],
   "execution_count": null,
   "outputs": [
    {
     "data": {
      "text/plain": [
       "array([[ 3.08553348e+01],\n",
       "       [-1.93997084e-01],\n",
       "       [ 8.05707429e-03],\n",
       "       [-3.17779385e-01],\n",
       "       [ 4.19762397e-01],\n",
       "       [-4.44160339e-02]])"
      ]
     },
     "execution_count": 167,
     "metadata": {},
     "output_type": "execute_result"
    }
   ]
  },
  {
   "cell_type": "markdown",
   "metadata": {
    "id": "HkRYl4p3pwXw"
   },
   "source": [
    "# Encontrar una tasa de aprendizaje óptima.\n",
    "A pesar de que el método del gradiente parece ser muy bueno para encontrar mínimos locales, un problema que se tiene es el de encontrar una tasa de aprendizaje óptima para poder llegar al mínimo en un número pequeño de iteraciones, ya que como vimos anteriormente sin una tasa de aprendizaje óptima se necesita un número muy grande de iteraciones o puede que no llegue a converger si la tasa de aprendizaje no es lo suficientemente pequeña.\n",
    "Para solucionar este problema, se explicará un método que se conoce como \"adaptative step size\" y lo llamaremos \"tasa de aprendizaje adaptativa\"."
   ]
  },
  {
   "cell_type": "markdown",
   "metadata": {
    "id": "o7nJ52t3pwXw"
   },
   "source": [
    "### Método de Barzilai y Borwein\n",
    "Este método propuesto en 1988 por Barzilai y Borwein es el de encontrar la tasa de aprendizaje ($\\alpha$) que minimice la función $||\\Delta \\theta - \\alpha \\Delta g(\\theta)||^2$, es decir:\n",
    "$$\\alpha_k = \\underset{\\alpha}{arg \\, min} ||\\Delta \\theta - \\alpha \\Delta g(\\theta)||^2$$\n",
    "\n",
    "donde $\\Delta \\theta = \\theta_k - \\theta_{k-1}$ y  $\\Delta g(\\theta) = \\nabla f(\\theta_k)-\\nabla f(\\theta_{k-1})$. En este caso tomaremos que $f:\\mathbb{R}^d \\rightarrow \\mathbb{R}$ y por ende $\\theta \\in \\mathbb{R}^d$. \n",
    "\n",
    "La solución a este problema es resuelta facilmente derivando con respecto a $\\alpha$ e igualando a 0 (minimizando la función mediante la derivada).\n",
    "\n",
    "Primero notemos que: \n",
    "$$||\\Delta \\theta - \\alpha \\Delta g(\\theta)||^2 = (\\Delta \\theta - \\alpha \\Delta g(\\theta))\\cdot (\\Delta \\theta - \\alpha \\Delta g(\\theta)) = (\\Delta \\theta - \\alpha \\Delta g(\\theta))^T (\\Delta \\theta - \\alpha \\Delta g(\\theta)) = \\Delta \\theta^T\\Delta \\theta -\\alpha \\Delta \\theta^T\\Delta g(\\theta) -\\alpha \\Delta g(\\theta)^T \\Delta \\theta + \\alpha^2\\Delta g(\\theta)^T\\Delta g(\\theta)$$\n",
    "Entonces:\n",
    "$$\\frac{d\\left(||\\Delta \\theta - \\alpha \\Delta g(\\theta)||^2\\right)}{d\\alpha} = - \\Delta \\theta^T\\Delta g(\\theta) - \\Delta g(\\theta)^T \\Delta \\theta + 2\\alpha\\Delta g(\\theta)^T\\Delta g(\\theta) = - \\Delta g(\\theta)^T \\Delta \\theta - \\Delta g(\\theta)^T \\Delta \\theta + 2\\alpha\\Delta g(\\theta)^T\\Delta g(\\theta) = -2\\Delta g(\\theta)^T \\Delta \\theta + 2\\alpha\\Delta g(\\theta)^T\\Delta g(\\theta)$$\n",
    "\n",
    "Igualando la derivada a cero, se tiene:\n",
    "\n",
    "$$-2\\Delta g(\\theta)^T \\Delta \\theta + 2\\alpha\\Delta g(\\theta)^T\\Delta g(\\theta)=0$$\n",
    "$$\\implies -\\Delta g(\\theta)^T \\Delta \\theta + \\alpha\\Delta g(\\theta)^T\\Delta g(\\theta)=0$$\n",
    "$$\\implies   \\alpha\\Delta g(\\theta)^T\\Delta g(\\theta)= \\Delta g(\\theta)^T \\Delta \\theta$$\n",
    "$$ \\implies \\alpha = \\frac{\\Delta g(\\theta)^T\\Delta \\theta}{\\Delta g(\\theta)^T\\Delta g(\\theta)}$$\n",
    "Con esto ya se logró obtener la forma en que se calculará el valor de $\\alpha$ en cada iteración\n",
    "\n",
    "Este enfoque trabaja realmente bien, incluso para problemas de grandes dimensiones.\n",
    "\n",
    "En nuestro caso la función $f$ que describimos en el método es la función $J$ de costo o error, por lo que $\\Delta g(\\theta) = \\nabla J(\\theta_k)-\\nabla J(\\theta_{k-1})$"
   ]
  },
  {
   "cell_type": "code",
   "metadata": {
    "id": "1oQMnluVpwXx",
    "pycharm": {
     "name": "#%%#%%\n"
    }
   },
   "source": [
    "i = 1\n",
    "while i<10:\n",
    "    print(\"hola\")\n",
    "    i = i+1"
   ],
   "execution_count": null,
   "outputs": []
  },
  {
   "cell_type": "code",
   "execution_count": null,
   "outputs": [],
   "source": [],
   "metadata": {
    "collapsed": false,
    "pycharm": {
     "name": "#%%\n"
    }
   }
  },
  {
   "cell_type": "code",
   "execution_count": null,
   "outputs": [],
   "source": [
    "def descenso_grandiente_bw(X,y):\n",
    "    lr = 0.001\n",
    "    pesos = np.zeros((X.shape[1],1))\n",
    "    iteraciones = 0\n",
    "    error = 1\n",
    "    while error > 1e-10:\n",
    "        pesos_anteriores = pesos\n",
    "        gradiente_anterior = (-2*np.matmul(y.T,X)+2*np.matmul(np.matmul(pesos_anteriores.T,X.T),X)).T\n",
    "        pesos = pesos_anteriores -lr*gradiente_anterior\n",
    "        gradiente_nuevo = (-2*np.matmul(y.T,X)+2*np.matmul(np.matmul(pesos.T,X.T),X)).T\n",
    "        delta_g = gradiente_nuevo-gradiente_anterior\n",
    "        delta_theta = pesos-pesos_anteriores\n",
    "        lr = ((np.matmul(delta_g.T,delta_theta))/(np.matmul(delta_g.T, delta_g))).ravel()[0]\n",
    "        iteraciones = iteraciones + 1\n",
    "        error = abs(sum(delta_theta))\n",
    "\n",
    "    return pesos\n"
   ],
   "metadata": {
    "collapsed": false,
    "pycharm": {
     "name": "#%%\n"
    }
   }
  },
  {
   "cell_type": "code",
   "execution_count": null,
   "outputs": [],
   "source": [
    "pesos"
   ],
   "metadata": {
    "collapsed": false,
    "pycharm": {
     "name": "#%%\n"
    }
   }
  },
  {
   "cell_type": "code",
   "execution_count": null,
   "outputs": [],
   "source": [
    "pesos_bw = descenso_grandiente_bw(X,y)"
   ],
   "metadata": {
    "collapsed": false,
    "pycharm": {
     "name": "#%%\n"
    }
   }
  },
  {
   "cell_type": "code",
   "execution_count": null,
   "outputs": [],
   "source": [
    "pesos_bw"
   ],
   "metadata": {
    "collapsed": false,
    "pycharm": {
     "name": "#%%\n"
    }
   }
  },
  {
   "cell_type": "code",
   "execution_count": null,
   "outputs": [],
   "source": [
    "pesos_3"
   ],
   "metadata": {
    "collapsed": false,
    "pycharm": {
     "name": "#%%\n"
    }
   }
  },
  {
   "cell_type": "code",
   "execution_count": null,
   "outputs": [],
   "source": [
    "pesos_3_bw = descenso_grandiente_bw(X_3,y_3)"
   ],
   "metadata": {
    "collapsed": false,
    "pycharm": {
     "name": "#%%\n"
    }
   }
  },
  {
   "cell_type": "code",
   "execution_count": null,
   "outputs": [],
   "source": [
    "pesos_3_bw\n",
    "\n",
    "\n",
    "\n"
   ],
   "metadata": {
    "collapsed": false,
    "pycharm": {
     "name": "#%%\n"
    }
   }
  }
 ]
}