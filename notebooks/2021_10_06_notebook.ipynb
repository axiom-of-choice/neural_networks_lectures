{
  "nbformat": 4,
  "nbformat_minor": 0,
  "metadata": {
    "kernelspec": {
      "display_name": "Python 3",
      "language": "python",
      "name": "python3"
    },
    "language_info": {
      "codemirror_mode": {
        "name": "ipython",
        "version": 3
      },
      "file_extension": ".py",
      "mimetype": "text/x-python",
      "name": "python",
      "nbconvert_exporter": "python",
      "pygments_lexer": "ipython3",
      "version": "3.7.7"
    },
    "colab": {
      "name": "NOTEBOOK_06-10-2021.ipynb",
      "provenance": [],
      "include_colab_link": true
    }
  },
  "cells": [
    {
      "cell_type": "markdown",
      "metadata": {
        "id": "view-in-github",
        "colab_type": "text"
      },
      "source": [
        "<a href=\"https://colab.research.google.com/github/axiom-of-choice/neuronal_networks_lectures/blob/master/2021_10_06_notebook.ipynb\" target=\"_parent\"><img src=\"https://colab.research.google.com/assets/colab-badge.svg\" alt=\"Open In Colab\"/></a>"
      ]
    },
    {
      "cell_type": "markdown",
      "metadata": {
        "id": "C8-30A9kkkcp"
      },
      "source": [
        "# Programación orientada a objetos"
      ]
    },
    {
      "cell_type": "markdown",
      "metadata": {
        "id": "SbA8Dz3_kkcs"
      },
      "source": [
        "Vamos a crear una clase simple"
      ]
    },
    {
      "cell_type": "code",
      "metadata": {
        "id": "8_a5RNpnkkct"
      },
      "source": [
        "class Objeto_1:\n",
        "    pass"
      ],
      "execution_count": null,
      "outputs": []
    },
    {
      "cell_type": "code",
      "metadata": {
        "id": "epL5neuOkkcu"
      },
      "source": [
        "x_1 = Objeto_1()"
      ],
      "execution_count": null,
      "outputs": []
    },
    {
      "cell_type": "code",
      "metadata": {
        "id": "_iVDxqKIkkcv",
        "outputId": "e9f4cc3f-1b79-46ac-9d6c-77a7e70d4349"
      },
      "source": [
        "type(x_1)"
      ],
      "execution_count": null,
      "outputs": [
        {
          "data": {
            "text/plain": [
              "__main__.Objeto_1"
            ]
          },
          "execution_count": 3,
          "metadata": {},
          "output_type": "execute_result"
        }
      ]
    },
    {
      "cell_type": "code",
      "metadata": {
        "id": "5GwGclAekkcv",
        "outputId": "fd198176-9074-4780-d0b9-c4c14a14640c"
      },
      "source": [
        "print(x_1)"
      ],
      "execution_count": null,
      "outputs": [
        {
          "name": "stdout",
          "output_type": "stream",
          "text": [
            "<__main__.Objeto_1 object at 0x7f1c9f2f8710>\n"
          ]
        }
      ]
    },
    {
      "cell_type": "code",
      "metadata": {
        "id": "QcmqFv2Ikkcw"
      },
      "source": [
        "class Nombre:\n",
        "    nombre = \"José\"\n",
        "    apellido = \"Falcón\"\n",
        "    "
      ],
      "execution_count": null,
      "outputs": []
    },
    {
      "cell_type": "code",
      "metadata": {
        "id": "R4oH1be5kkcw"
      },
      "source": [
        "x_2 = Nombre()"
      ],
      "execution_count": null,
      "outputs": []
    },
    {
      "cell_type": "code",
      "metadata": {
        "id": "r4UVuIrPkkcx",
        "outputId": "1deda9f0-c970-413f-f2b0-dabb32e821c6"
      },
      "source": [
        "type(x_2)"
      ],
      "execution_count": null,
      "outputs": [
        {
          "data": {
            "text/plain": [
              "__main__.Nombre"
            ]
          },
          "execution_count": 7,
          "metadata": {},
          "output_type": "execute_result"
        }
      ]
    },
    {
      "cell_type": "code",
      "metadata": {
        "id": "ZrMsCFBMkkcx",
        "outputId": "6421ecb5-7a33-4a61-dc87-1c74d657e3b5"
      },
      "source": [
        "x_2.nombre"
      ],
      "execution_count": null,
      "outputs": [
        {
          "data": {
            "text/plain": [
              "'José'"
            ]
          },
          "execution_count": 8,
          "metadata": {},
          "output_type": "execute_result"
        }
      ]
    },
    {
      "cell_type": "code",
      "metadata": {
        "id": "3S-Fp3Yikkcz",
        "outputId": "0d1d3b56-acc9-4d86-8e24-7e3e88d571c8"
      },
      "source": [
        "x_2.apellido"
      ],
      "execution_count": null,
      "outputs": [
        {
          "data": {
            "text/plain": [
              "'Falcón'"
            ]
          },
          "execution_count": 9,
          "metadata": {},
          "output_type": "execute_result"
        }
      ]
    },
    {
      "cell_type": "code",
      "metadata": {
        "id": "JUHzgoNbkkcz"
      },
      "source": [
        "x_2.nombre=\"Pedro\""
      ],
      "execution_count": null,
      "outputs": []
    },
    {
      "cell_type": "code",
      "metadata": {
        "id": "X9G7MGGpkkc0",
        "outputId": "53b99ca3-0d34-47ad-88f6-a68d39dcd5ed"
      },
      "source": [
        "x_2.nombre"
      ],
      "execution_count": null,
      "outputs": [
        {
          "data": {
            "text/plain": [
              "'Pedro'"
            ]
          },
          "execution_count": 11,
          "metadata": {},
          "output_type": "execute_result"
        }
      ]
    },
    {
      "cell_type": "code",
      "metadata": {
        "id": "r8zYYDpKkkc0"
      },
      "source": [
        "class Nombre_2:\n",
        "    def __init__(self,nombre,apellido):\n",
        "        self.nombre = nombre\n",
        "        self.apellido = apellido\n",
        "        \n",
        "    def imprimir_nombre(self):\n",
        "        print(self.nombre+\" \"+self.apellido)\n",
        "    \n",
        "        "
      ],
      "execution_count": null,
      "outputs": []
    },
    {
      "cell_type": "code",
      "metadata": {
        "id": "wWufReQCkkc0"
      },
      "source": [
        "x_3 = Nombre_2(\"José\",\"Falcón\")"
      ],
      "execution_count": null,
      "outputs": []
    },
    {
      "cell_type": "code",
      "metadata": {
        "id": "Kx-YGiDRkkc0",
        "outputId": "52a0459f-e47c-4ac1-9662-da43b1eb07e6"
      },
      "source": [
        "x_3.nombre"
      ],
      "execution_count": null,
      "outputs": [
        {
          "data": {
            "text/plain": [
              "'José'"
            ]
          },
          "execution_count": 26,
          "metadata": {},
          "output_type": "execute_result"
        }
      ]
    },
    {
      "cell_type": "code",
      "metadata": {
        "id": "iD1dahbhkkc1",
        "outputId": "7cca0aa2-b5d8-4b8e-8473-22893d24341b"
      },
      "source": [
        "x_3.apellido"
      ],
      "execution_count": null,
      "outputs": [
        {
          "data": {
            "text/plain": [
              "'Falcón'"
            ]
          },
          "execution_count": 27,
          "metadata": {},
          "output_type": "execute_result"
        }
      ]
    },
    {
      "cell_type": "code",
      "metadata": {
        "id": "ynHYQoCpkkc1",
        "outputId": "7693b1d0-2d56-4d86-8c72-24ee03568e57"
      },
      "source": [
        "x_3.imprimir_nombre()"
      ],
      "execution_count": null,
      "outputs": [
        {
          "name": "stdout",
          "output_type": "stream",
          "text": [
            "José Falcón\n"
          ]
        }
      ]
    },
    {
      "cell_type": "code",
      "metadata": {
        "id": "fDWwLZsykkc1"
      },
      "source": [
        "class Vector:\n",
        "    def __init__(self, vector):\n",
        "        self.vector=vector\n",
        "        \n",
        "    def __add__(self, Vector_1):\n",
        "        lista = []\n",
        "        for i in range(len(Vector_1.vector)):\n",
        "            lista.append(self.vector[i]+Vector_1.vector[i])\n",
        "        return Vector(lista)\n",
        "    \n",
        "    def __len__(self):\n",
        "        return(len(self.vector))\n",
        "    \n",
        "    def __repr__(self):\n",
        "        return(str(self.vector))\n",
        "    \n",
        "    def __str__(self):\n",
        "        return(str(self.vector))\n",
        "        \n",
        "    "
      ],
      "execution_count": null,
      "outputs": []
    },
    {
      "cell_type": "code",
      "metadata": {
        "id": "NcHVrreQkkc2"
      },
      "source": [
        "v = Vector([1,2,3,4,5])"
      ],
      "execution_count": null,
      "outputs": []
    },
    {
      "cell_type": "code",
      "metadata": {
        "id": "hfbSb1cTkkc3",
        "outputId": "e2fb4260-1df5-4d04-b72a-dbb59f688b4d"
      },
      "source": [
        "v.vector"
      ],
      "execution_count": null,
      "outputs": [
        {
          "data": {
            "text/plain": [
              "[1, 2, 3, 4, 5]"
            ]
          },
          "execution_count": 135,
          "metadata": {},
          "output_type": "execute_result"
        }
      ]
    },
    {
      "cell_type": "code",
      "metadata": {
        "id": "EaATHa4ykkc4",
        "outputId": "872500b4-a828-40f8-8bc9-0de7c662daae"
      },
      "source": [
        "a = v.suma(v,v)"
      ],
      "execution_count": null,
      "outputs": [
        {
          "ename": "AttributeError",
          "evalue": "'Vector' object has no attribute 'suma'",
          "output_type": "error",
          "traceback": [
            "\u001b[0;31m---------------------------------------------------------------------------\u001b[0m",
            "\u001b[0;31mAttributeError\u001b[0m                            Traceback (most recent call last)",
            "\u001b[0;32m<ipython-input-136-0e8425968061>\u001b[0m in \u001b[0;36m<module>\u001b[0;34m\u001b[0m\n\u001b[0;32m----> 1\u001b[0;31m \u001b[0ma\u001b[0m \u001b[0;34m=\u001b[0m \u001b[0mv\u001b[0m\u001b[0;34m.\u001b[0m\u001b[0msuma\u001b[0m\u001b[0;34m(\u001b[0m\u001b[0mv\u001b[0m\u001b[0;34m,\u001b[0m\u001b[0mv\u001b[0m\u001b[0;34m)\u001b[0m\u001b[0;34m\u001b[0m\u001b[0;34m\u001b[0m\u001b[0m\n\u001b[0m",
            "\u001b[0;31mAttributeError\u001b[0m: 'Vector' object has no attribute 'suma'"
          ]
        }
      ]
    },
    {
      "cell_type": "code",
      "metadata": {
        "id": "wnl9s8LZkkc5",
        "outputId": "f604eda1-a140-4505-aaef-6113181a85f9"
      },
      "source": [
        "print(a)"
      ],
      "execution_count": null,
      "outputs": [
        {
          "name": "stdout",
          "output_type": "stream",
          "text": [
            "[2, 4, 6, 8, 10]\n"
          ]
        }
      ]
    },
    {
      "cell_type": "code",
      "metadata": {
        "id": "4qE4lQYAkkc5",
        "outputId": "d84623a6-f44b-4ee1-eb4f-1b23ffa73fc1"
      },
      "source": [
        "a.vector"
      ],
      "execution_count": null,
      "outputs": [
        {
          "data": {
            "text/plain": [
              "[2, 4, 6, 8, 10]"
            ]
          },
          "execution_count": 138,
          "metadata": {},
          "output_type": "execute_result"
        }
      ]
    },
    {
      "cell_type": "code",
      "metadata": {
        "id": "gS7tmRQqkkc5"
      },
      "source": [
        " a = v+v "
      ],
      "execution_count": null,
      "outputs": []
    },
    {
      "cell_type": "code",
      "metadata": {
        "id": "QB1p2T7ikkc8",
        "outputId": "92c9d3e9-80dd-4bd0-c6ed-cd5a48b4af5c"
      },
      "source": [
        "a.vector"
      ],
      "execution_count": null,
      "outputs": [
        {
          "data": {
            "text/plain": [
              "[2, 4, 6, 8, 10]"
            ]
          },
          "execution_count": 140,
          "metadata": {},
          "output_type": "execute_result"
        }
      ]
    },
    {
      "cell_type": "code",
      "metadata": {
        "id": "KMH26G4Vkkc8"
      },
      "source": [
        "b = [1,2,3]"
      ],
      "execution_count": null,
      "outputs": []
    },
    {
      "cell_type": "code",
      "metadata": {
        "id": "yv6Lrsl0kkc8",
        "outputId": "13b8808c-ac14-498e-ef2d-4e5e7c47bdf3"
      },
      "source": [
        "dir(b)"
      ],
      "execution_count": null,
      "outputs": [
        {
          "data": {
            "text/plain": [
              "['__add__',\n",
              " '__class__',\n",
              " '__contains__',\n",
              " '__delattr__',\n",
              " '__delitem__',\n",
              " '__dir__',\n",
              " '__doc__',\n",
              " '__eq__',\n",
              " '__format__',\n",
              " '__ge__',\n",
              " '__getattribute__',\n",
              " '__getitem__',\n",
              " '__gt__',\n",
              " '__hash__',\n",
              " '__iadd__',\n",
              " '__imul__',\n",
              " '__init__',\n",
              " '__init_subclass__',\n",
              " '__iter__',\n",
              " '__le__',\n",
              " '__len__',\n",
              " '__lt__',\n",
              " '__mul__',\n",
              " '__ne__',\n",
              " '__new__',\n",
              " '__reduce__',\n",
              " '__reduce_ex__',\n",
              " '__repr__',\n",
              " '__reversed__',\n",
              " '__rmul__',\n",
              " '__setattr__',\n",
              " '__setitem__',\n",
              " '__sizeof__',\n",
              " '__str__',\n",
              " '__subclasshook__',\n",
              " 'append',\n",
              " 'clear',\n",
              " 'copy',\n",
              " 'count',\n",
              " 'extend',\n",
              " 'index',\n",
              " 'insert',\n",
              " 'pop',\n",
              " 'remove',\n",
              " 'reverse',\n",
              " 'sort']"
            ]
          },
          "execution_count": 142,
          "metadata": {},
          "output_type": "execute_result"
        }
      ]
    },
    {
      "cell_type": "code",
      "metadata": {
        "id": "wgs5PBrKkkc9"
      },
      "source": [
        ""
      ],
      "execution_count": null,
      "outputs": []
    },
    {
      "cell_type": "code",
      "metadata": {
        "id": "Po1-sV9hkkc9",
        "outputId": "1752d80c-6c43-4c29-f52b-8dde8a838441"
      },
      "source": [
        "a "
      ],
      "execution_count": null,
      "outputs": [
        {
          "data": {
            "text/plain": [
              "[2, 4, 6, 8, 10]"
            ]
          },
          "execution_count": 143,
          "metadata": {},
          "output_type": "execute_result"
        }
      ]
    },
    {
      "cell_type": "code",
      "metadata": {
        "id": "qtdIk_yzkkc9",
        "outputId": "2ad28e35-8096-4812-8c35-9715d950b36d"
      },
      "source": [
        "len(a)"
      ],
      "execution_count": null,
      "outputs": [
        {
          "data": {
            "text/plain": [
              "7"
            ]
          },
          "execution_count": 144,
          "metadata": {},
          "output_type": "execute_result"
        }
      ]
    },
    {
      "cell_type": "code",
      "metadata": {
        "id": "QkvF2Irbkkc9"
      },
      "source": [
        ""
      ],
      "execution_count": null,
      "outputs": []
    }
  ]
}