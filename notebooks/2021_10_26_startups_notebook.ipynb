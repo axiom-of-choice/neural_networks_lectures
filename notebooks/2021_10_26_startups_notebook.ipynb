{
 "nbformat": 4,
 "nbformat_minor": 0,
 "metadata": {
  "kernelspec": {
   "display_name": "Python 3",
   "language": "python",
   "name": "python3"
  },
  "language_info": {
   "codemirror_mode": {
    "name": "ipython",
    "version": 3
   },
   "file_extension": ".py",
   "mimetype": "text/x-python",
   "name": "python",
   "nbconvert_exporter": "python",
   "pygments_lexer": "ipython3",
   "version": "3.7.7"
  },
  "colab": {
   "name": "NOTEBOOK_26-10-2021.ipynb",
   "provenance": []
  }
 },
 "cells": [
  {
   "cell_type": "code",
   "metadata": {
    "id": "eUN7xo3H0ku7"
   },
   "source": [
    "import numpy as np\n",
    "import pandas as pd "
   ],
   "execution_count": 2,
   "outputs": []
  },
  {
   "cell_type": "code",
   "metadata": {
    "id": "wnnOkJDs0kvA"
   },
   "source": [
    "dataset = pd.read_csv(\"../datasets/50_Startups.csv\")"
   ],
   "execution_count": 3,
   "outputs": []
  },
  {
   "cell_type": "code",
   "metadata": {
    "id": "ZePOSdCV0kvA",
    "outputId": "df6772c6-8385-45dd-fff6-dc37161be6c1"
   },
   "source": [
    "dataset"
   ],
   "execution_count": 4,
   "outputs": [
    {
     "data": {
      "text/plain": "    R&D Spend  Administration  Marketing Spend       State     Profit\n0   165349.20       136897.80        471784.10    New York  192261.83\n1   162597.70       151377.59        443898.53  California  191792.06\n2   153441.51       101145.55        407934.54     Florida  191050.39\n3   144372.41       118671.85        383199.62    New York  182901.99\n4   142107.34        91391.77        366168.42     Florida  166187.94\n5   131876.90        99814.71        362861.36    New York  156991.12\n6   134615.46       147198.87        127716.82  California  156122.51\n7   130298.13       145530.06        323876.68     Florida  155752.60\n8   120542.52       148718.95        311613.29    New York  152211.77\n9   123334.88       108679.17        304981.62  California  149759.96\n10  101913.08       110594.11        229160.95     Florida  146121.95\n11  100671.96        91790.61        249744.55  California  144259.40\n12   93863.75       127320.38        249839.44     Florida  141585.52\n13   91992.39       135495.07        252664.93  California  134307.35\n14  119943.24       156547.42        256512.92     Florida  132602.65\n15  114523.61       122616.84        261776.23    New York  129917.04\n16   78013.11       121597.55        264346.06  California  126992.93\n17   94657.16       145077.58        282574.31    New York  125370.37\n18   91749.16       114175.79        294919.57     Florida  124266.90\n19   86419.70       153514.11             0.00    New York  122776.86\n20   76253.86       113867.30        298664.47  California  118474.03\n21   78389.47       153773.43        299737.29    New York  111313.02\n22   73994.56       122782.75        303319.26     Florida  110352.25\n23   67532.53       105751.03        304768.73     Florida  108733.99\n24   77044.01        99281.34        140574.81    New York  108552.04\n25   64664.71       139553.16        137962.62  California  107404.34\n26   75328.87       144135.98        134050.07     Florida  105733.54\n27   72107.60       127864.55        353183.81    New York  105008.31\n28   66051.52       182645.56        118148.20     Florida  103282.38\n29   65605.48       153032.06        107138.38    New York  101004.64\n30   61994.48       115641.28         91131.24     Florida   99937.59\n31   61136.38       152701.92         88218.23    New York   97483.56\n32   63408.86       129219.61         46085.25  California   97427.84\n33   55493.95       103057.49        214634.81     Florida   96778.92\n34   46426.07       157693.92        210797.67  California   96712.80\n35   46014.02        85047.44        205517.64    New York   96479.51\n36   28663.76       127056.21        201126.82     Florida   90708.19\n37   44069.95        51283.14        197029.42  California   89949.14\n38   20229.59        65947.93        185265.10    New York   81229.06\n39   38558.51        82982.09        174999.30  California   81005.76\n40   28754.33       118546.05        172795.67  California   78239.91\n41   27892.92        84710.77        164470.71     Florida   77798.83\n42   23640.93        96189.63        148001.11  California   71498.49\n43   15505.73       127382.30         35534.17    New York   69758.98\n44   22177.74       154806.14         28334.72  California   65200.33\n45    1000.23       124153.04          1903.93    New York   64926.08\n46    1315.46       115816.21        297114.46     Florida   49490.75\n47       0.00       135426.92             0.00  California   42559.73\n48     542.05        51743.15             0.00    New York   35673.41\n49       0.00       116983.80         45173.06  California   14681.40",
      "text/html": "<div>\n<style scoped>\n    .dataframe tbody tr th:only-of-type {\n        vertical-align: middle;\n    }\n\n    .dataframe tbody tr th {\n        vertical-align: top;\n    }\n\n    .dataframe thead th {\n        text-align: right;\n    }\n</style>\n<table border=\"1\" class=\"dataframe\">\n  <thead>\n    <tr style=\"text-align: right;\">\n      <th></th>\n      <th>R&amp;D Spend</th>\n      <th>Administration</th>\n      <th>Marketing Spend</th>\n      <th>State</th>\n      <th>Profit</th>\n    </tr>\n  </thead>\n  <tbody>\n    <tr>\n      <th>0</th>\n      <td>165349.20</td>\n      <td>136897.80</td>\n      <td>471784.10</td>\n      <td>New York</td>\n      <td>192261.83</td>\n    </tr>\n    <tr>\n      <th>1</th>\n      <td>162597.70</td>\n      <td>151377.59</td>\n      <td>443898.53</td>\n      <td>California</td>\n      <td>191792.06</td>\n    </tr>\n    <tr>\n      <th>2</th>\n      <td>153441.51</td>\n      <td>101145.55</td>\n      <td>407934.54</td>\n      <td>Florida</td>\n      <td>191050.39</td>\n    </tr>\n    <tr>\n      <th>3</th>\n      <td>144372.41</td>\n      <td>118671.85</td>\n      <td>383199.62</td>\n      <td>New York</td>\n      <td>182901.99</td>\n    </tr>\n    <tr>\n      <th>4</th>\n      <td>142107.34</td>\n      <td>91391.77</td>\n      <td>366168.42</td>\n      <td>Florida</td>\n      <td>166187.94</td>\n    </tr>\n    <tr>\n      <th>5</th>\n      <td>131876.90</td>\n      <td>99814.71</td>\n      <td>362861.36</td>\n      <td>New York</td>\n      <td>156991.12</td>\n    </tr>\n    <tr>\n      <th>6</th>\n      <td>134615.46</td>\n      <td>147198.87</td>\n      <td>127716.82</td>\n      <td>California</td>\n      <td>156122.51</td>\n    </tr>\n    <tr>\n      <th>7</th>\n      <td>130298.13</td>\n      <td>145530.06</td>\n      <td>323876.68</td>\n      <td>Florida</td>\n      <td>155752.60</td>\n    </tr>\n    <tr>\n      <th>8</th>\n      <td>120542.52</td>\n      <td>148718.95</td>\n      <td>311613.29</td>\n      <td>New York</td>\n      <td>152211.77</td>\n    </tr>\n    <tr>\n      <th>9</th>\n      <td>123334.88</td>\n      <td>108679.17</td>\n      <td>304981.62</td>\n      <td>California</td>\n      <td>149759.96</td>\n    </tr>\n    <tr>\n      <th>10</th>\n      <td>101913.08</td>\n      <td>110594.11</td>\n      <td>229160.95</td>\n      <td>Florida</td>\n      <td>146121.95</td>\n    </tr>\n    <tr>\n      <th>11</th>\n      <td>100671.96</td>\n      <td>91790.61</td>\n      <td>249744.55</td>\n      <td>California</td>\n      <td>144259.40</td>\n    </tr>\n    <tr>\n      <th>12</th>\n      <td>93863.75</td>\n      <td>127320.38</td>\n      <td>249839.44</td>\n      <td>Florida</td>\n      <td>141585.52</td>\n    </tr>\n    <tr>\n      <th>13</th>\n      <td>91992.39</td>\n      <td>135495.07</td>\n      <td>252664.93</td>\n      <td>California</td>\n      <td>134307.35</td>\n    </tr>\n    <tr>\n      <th>14</th>\n      <td>119943.24</td>\n      <td>156547.42</td>\n      <td>256512.92</td>\n      <td>Florida</td>\n      <td>132602.65</td>\n    </tr>\n    <tr>\n      <th>15</th>\n      <td>114523.61</td>\n      <td>122616.84</td>\n      <td>261776.23</td>\n      <td>New York</td>\n      <td>129917.04</td>\n    </tr>\n    <tr>\n      <th>16</th>\n      <td>78013.11</td>\n      <td>121597.55</td>\n      <td>264346.06</td>\n      <td>California</td>\n      <td>126992.93</td>\n    </tr>\n    <tr>\n      <th>17</th>\n      <td>94657.16</td>\n      <td>145077.58</td>\n      <td>282574.31</td>\n      <td>New York</td>\n      <td>125370.37</td>\n    </tr>\n    <tr>\n      <th>18</th>\n      <td>91749.16</td>\n      <td>114175.79</td>\n      <td>294919.57</td>\n      <td>Florida</td>\n      <td>124266.90</td>\n    </tr>\n    <tr>\n      <th>19</th>\n      <td>86419.70</td>\n      <td>153514.11</td>\n      <td>0.00</td>\n      <td>New York</td>\n      <td>122776.86</td>\n    </tr>\n    <tr>\n      <th>20</th>\n      <td>76253.86</td>\n      <td>113867.30</td>\n      <td>298664.47</td>\n      <td>California</td>\n      <td>118474.03</td>\n    </tr>\n    <tr>\n      <th>21</th>\n      <td>78389.47</td>\n      <td>153773.43</td>\n      <td>299737.29</td>\n      <td>New York</td>\n      <td>111313.02</td>\n    </tr>\n    <tr>\n      <th>22</th>\n      <td>73994.56</td>\n      <td>122782.75</td>\n      <td>303319.26</td>\n      <td>Florida</td>\n      <td>110352.25</td>\n    </tr>\n    <tr>\n      <th>23</th>\n      <td>67532.53</td>\n      <td>105751.03</td>\n      <td>304768.73</td>\n      <td>Florida</td>\n      <td>108733.99</td>\n    </tr>\n    <tr>\n      <th>24</th>\n      <td>77044.01</td>\n      <td>99281.34</td>\n      <td>140574.81</td>\n      <td>New York</td>\n      <td>108552.04</td>\n    </tr>\n    <tr>\n      <th>25</th>\n      <td>64664.71</td>\n      <td>139553.16</td>\n      <td>137962.62</td>\n      <td>California</td>\n      <td>107404.34</td>\n    </tr>\n    <tr>\n      <th>26</th>\n      <td>75328.87</td>\n      <td>144135.98</td>\n      <td>134050.07</td>\n      <td>Florida</td>\n      <td>105733.54</td>\n    </tr>\n    <tr>\n      <th>27</th>\n      <td>72107.60</td>\n      <td>127864.55</td>\n      <td>353183.81</td>\n      <td>New York</td>\n      <td>105008.31</td>\n    </tr>\n    <tr>\n      <th>28</th>\n      <td>66051.52</td>\n      <td>182645.56</td>\n      <td>118148.20</td>\n      <td>Florida</td>\n      <td>103282.38</td>\n    </tr>\n    <tr>\n      <th>29</th>\n      <td>65605.48</td>\n      <td>153032.06</td>\n      <td>107138.38</td>\n      <td>New York</td>\n      <td>101004.64</td>\n    </tr>\n    <tr>\n      <th>30</th>\n      <td>61994.48</td>\n      <td>115641.28</td>\n      <td>91131.24</td>\n      <td>Florida</td>\n      <td>99937.59</td>\n    </tr>\n    <tr>\n      <th>31</th>\n      <td>61136.38</td>\n      <td>152701.92</td>\n      <td>88218.23</td>\n      <td>New York</td>\n      <td>97483.56</td>\n    </tr>\n    <tr>\n      <th>32</th>\n      <td>63408.86</td>\n      <td>129219.61</td>\n      <td>46085.25</td>\n      <td>California</td>\n      <td>97427.84</td>\n    </tr>\n    <tr>\n      <th>33</th>\n      <td>55493.95</td>\n      <td>103057.49</td>\n      <td>214634.81</td>\n      <td>Florida</td>\n      <td>96778.92</td>\n    </tr>\n    <tr>\n      <th>34</th>\n      <td>46426.07</td>\n      <td>157693.92</td>\n      <td>210797.67</td>\n      <td>California</td>\n      <td>96712.80</td>\n    </tr>\n    <tr>\n      <th>35</th>\n      <td>46014.02</td>\n      <td>85047.44</td>\n      <td>205517.64</td>\n      <td>New York</td>\n      <td>96479.51</td>\n    </tr>\n    <tr>\n      <th>36</th>\n      <td>28663.76</td>\n      <td>127056.21</td>\n      <td>201126.82</td>\n      <td>Florida</td>\n      <td>90708.19</td>\n    </tr>\n    <tr>\n      <th>37</th>\n      <td>44069.95</td>\n      <td>51283.14</td>\n      <td>197029.42</td>\n      <td>California</td>\n      <td>89949.14</td>\n    </tr>\n    <tr>\n      <th>38</th>\n      <td>20229.59</td>\n      <td>65947.93</td>\n      <td>185265.10</td>\n      <td>New York</td>\n      <td>81229.06</td>\n    </tr>\n    <tr>\n      <th>39</th>\n      <td>38558.51</td>\n      <td>82982.09</td>\n      <td>174999.30</td>\n      <td>California</td>\n      <td>81005.76</td>\n    </tr>\n    <tr>\n      <th>40</th>\n      <td>28754.33</td>\n      <td>118546.05</td>\n      <td>172795.67</td>\n      <td>California</td>\n      <td>78239.91</td>\n    </tr>\n    <tr>\n      <th>41</th>\n      <td>27892.92</td>\n      <td>84710.77</td>\n      <td>164470.71</td>\n      <td>Florida</td>\n      <td>77798.83</td>\n    </tr>\n    <tr>\n      <th>42</th>\n      <td>23640.93</td>\n      <td>96189.63</td>\n      <td>148001.11</td>\n      <td>California</td>\n      <td>71498.49</td>\n    </tr>\n    <tr>\n      <th>43</th>\n      <td>15505.73</td>\n      <td>127382.30</td>\n      <td>35534.17</td>\n      <td>New York</td>\n      <td>69758.98</td>\n    </tr>\n    <tr>\n      <th>44</th>\n      <td>22177.74</td>\n      <td>154806.14</td>\n      <td>28334.72</td>\n      <td>California</td>\n      <td>65200.33</td>\n    </tr>\n    <tr>\n      <th>45</th>\n      <td>1000.23</td>\n      <td>124153.04</td>\n      <td>1903.93</td>\n      <td>New York</td>\n      <td>64926.08</td>\n    </tr>\n    <tr>\n      <th>46</th>\n      <td>1315.46</td>\n      <td>115816.21</td>\n      <td>297114.46</td>\n      <td>Florida</td>\n      <td>49490.75</td>\n    </tr>\n    <tr>\n      <th>47</th>\n      <td>0.00</td>\n      <td>135426.92</td>\n      <td>0.00</td>\n      <td>California</td>\n      <td>42559.73</td>\n    </tr>\n    <tr>\n      <th>48</th>\n      <td>542.05</td>\n      <td>51743.15</td>\n      <td>0.00</td>\n      <td>New York</td>\n      <td>35673.41</td>\n    </tr>\n    <tr>\n      <th>49</th>\n      <td>0.00</td>\n      <td>116983.80</td>\n      <td>45173.06</td>\n      <td>California</td>\n      <td>14681.40</td>\n    </tr>\n  </tbody>\n</table>\n</div>"
     },
     "execution_count": 4,
     "metadata": {},
     "output_type": "execute_result"
    }
   ]
  },
  {
   "cell_type": "code",
   "metadata": {
    "id": "iJdMvXWs0kvB"
   },
   "source": [
    "dataset_aux = pd.DataFrame()"
   ],
   "execution_count": 5,
   "outputs": []
  },
  {
   "cell_type": "code",
   "metadata": {
    "id": "4BbdqmJj0kvB"
   },
   "source": [
    "dataset_aux[\"R&D Spend\"] = dataset[\"R&D Spend\"]\n",
    "dataset_aux[\"Administration\"] = dataset[\"Administration\"]\n",
    "dataset_aux[\"Marketing Spend\"] = dataset[\"Marketing Spend\"]\n",
    "\n"
   ],
   "execution_count": 6,
   "outputs": []
  },
  {
   "cell_type": "code",
   "metadata": {
    "id": "wovgiLk20kvC",
    "outputId": "e3716a2f-84fd-4f6f-c833-1ae27901eedd"
   },
   "source": [
    "dataset_aux"
   ],
   "execution_count": 7,
   "outputs": [
    {
     "data": {
      "text/plain": "    R&D Spend  Administration  Marketing Spend\n0   165349.20       136897.80        471784.10\n1   162597.70       151377.59        443898.53\n2   153441.51       101145.55        407934.54\n3   144372.41       118671.85        383199.62\n4   142107.34        91391.77        366168.42\n5   131876.90        99814.71        362861.36\n6   134615.46       147198.87        127716.82\n7   130298.13       145530.06        323876.68\n8   120542.52       148718.95        311613.29\n9   123334.88       108679.17        304981.62\n10  101913.08       110594.11        229160.95\n11  100671.96        91790.61        249744.55\n12   93863.75       127320.38        249839.44\n13   91992.39       135495.07        252664.93\n14  119943.24       156547.42        256512.92\n15  114523.61       122616.84        261776.23\n16   78013.11       121597.55        264346.06\n17   94657.16       145077.58        282574.31\n18   91749.16       114175.79        294919.57\n19   86419.70       153514.11             0.00\n20   76253.86       113867.30        298664.47\n21   78389.47       153773.43        299737.29\n22   73994.56       122782.75        303319.26\n23   67532.53       105751.03        304768.73\n24   77044.01        99281.34        140574.81\n25   64664.71       139553.16        137962.62\n26   75328.87       144135.98        134050.07\n27   72107.60       127864.55        353183.81\n28   66051.52       182645.56        118148.20\n29   65605.48       153032.06        107138.38\n30   61994.48       115641.28         91131.24\n31   61136.38       152701.92         88218.23\n32   63408.86       129219.61         46085.25\n33   55493.95       103057.49        214634.81\n34   46426.07       157693.92        210797.67\n35   46014.02        85047.44        205517.64\n36   28663.76       127056.21        201126.82\n37   44069.95        51283.14        197029.42\n38   20229.59        65947.93        185265.10\n39   38558.51        82982.09        174999.30\n40   28754.33       118546.05        172795.67\n41   27892.92        84710.77        164470.71\n42   23640.93        96189.63        148001.11\n43   15505.73       127382.30         35534.17\n44   22177.74       154806.14         28334.72\n45    1000.23       124153.04          1903.93\n46    1315.46       115816.21        297114.46\n47       0.00       135426.92             0.00\n48     542.05        51743.15             0.00\n49       0.00       116983.80         45173.06",
      "text/html": "<div>\n<style scoped>\n    .dataframe tbody tr th:only-of-type {\n        vertical-align: middle;\n    }\n\n    .dataframe tbody tr th {\n        vertical-align: top;\n    }\n\n    .dataframe thead th {\n        text-align: right;\n    }\n</style>\n<table border=\"1\" class=\"dataframe\">\n  <thead>\n    <tr style=\"text-align: right;\">\n      <th></th>\n      <th>R&amp;D Spend</th>\n      <th>Administration</th>\n      <th>Marketing Spend</th>\n    </tr>\n  </thead>\n  <tbody>\n    <tr>\n      <th>0</th>\n      <td>165349.20</td>\n      <td>136897.80</td>\n      <td>471784.10</td>\n    </tr>\n    <tr>\n      <th>1</th>\n      <td>162597.70</td>\n      <td>151377.59</td>\n      <td>443898.53</td>\n    </tr>\n    <tr>\n      <th>2</th>\n      <td>153441.51</td>\n      <td>101145.55</td>\n      <td>407934.54</td>\n    </tr>\n    <tr>\n      <th>3</th>\n      <td>144372.41</td>\n      <td>118671.85</td>\n      <td>383199.62</td>\n    </tr>\n    <tr>\n      <th>4</th>\n      <td>142107.34</td>\n      <td>91391.77</td>\n      <td>366168.42</td>\n    </tr>\n    <tr>\n      <th>5</th>\n      <td>131876.90</td>\n      <td>99814.71</td>\n      <td>362861.36</td>\n    </tr>\n    <tr>\n      <th>6</th>\n      <td>134615.46</td>\n      <td>147198.87</td>\n      <td>127716.82</td>\n    </tr>\n    <tr>\n      <th>7</th>\n      <td>130298.13</td>\n      <td>145530.06</td>\n      <td>323876.68</td>\n    </tr>\n    <tr>\n      <th>8</th>\n      <td>120542.52</td>\n      <td>148718.95</td>\n      <td>311613.29</td>\n    </tr>\n    <tr>\n      <th>9</th>\n      <td>123334.88</td>\n      <td>108679.17</td>\n      <td>304981.62</td>\n    </tr>\n    <tr>\n      <th>10</th>\n      <td>101913.08</td>\n      <td>110594.11</td>\n      <td>229160.95</td>\n    </tr>\n    <tr>\n      <th>11</th>\n      <td>100671.96</td>\n      <td>91790.61</td>\n      <td>249744.55</td>\n    </tr>\n    <tr>\n      <th>12</th>\n      <td>93863.75</td>\n      <td>127320.38</td>\n      <td>249839.44</td>\n    </tr>\n    <tr>\n      <th>13</th>\n      <td>91992.39</td>\n      <td>135495.07</td>\n      <td>252664.93</td>\n    </tr>\n    <tr>\n      <th>14</th>\n      <td>119943.24</td>\n      <td>156547.42</td>\n      <td>256512.92</td>\n    </tr>\n    <tr>\n      <th>15</th>\n      <td>114523.61</td>\n      <td>122616.84</td>\n      <td>261776.23</td>\n    </tr>\n    <tr>\n      <th>16</th>\n      <td>78013.11</td>\n      <td>121597.55</td>\n      <td>264346.06</td>\n    </tr>\n    <tr>\n      <th>17</th>\n      <td>94657.16</td>\n      <td>145077.58</td>\n      <td>282574.31</td>\n    </tr>\n    <tr>\n      <th>18</th>\n      <td>91749.16</td>\n      <td>114175.79</td>\n      <td>294919.57</td>\n    </tr>\n    <tr>\n      <th>19</th>\n      <td>86419.70</td>\n      <td>153514.11</td>\n      <td>0.00</td>\n    </tr>\n    <tr>\n      <th>20</th>\n      <td>76253.86</td>\n      <td>113867.30</td>\n      <td>298664.47</td>\n    </tr>\n    <tr>\n      <th>21</th>\n      <td>78389.47</td>\n      <td>153773.43</td>\n      <td>299737.29</td>\n    </tr>\n    <tr>\n      <th>22</th>\n      <td>73994.56</td>\n      <td>122782.75</td>\n      <td>303319.26</td>\n    </tr>\n    <tr>\n      <th>23</th>\n      <td>67532.53</td>\n      <td>105751.03</td>\n      <td>304768.73</td>\n    </tr>\n    <tr>\n      <th>24</th>\n      <td>77044.01</td>\n      <td>99281.34</td>\n      <td>140574.81</td>\n    </tr>\n    <tr>\n      <th>25</th>\n      <td>64664.71</td>\n      <td>139553.16</td>\n      <td>137962.62</td>\n    </tr>\n    <tr>\n      <th>26</th>\n      <td>75328.87</td>\n      <td>144135.98</td>\n      <td>134050.07</td>\n    </tr>\n    <tr>\n      <th>27</th>\n      <td>72107.60</td>\n      <td>127864.55</td>\n      <td>353183.81</td>\n    </tr>\n    <tr>\n      <th>28</th>\n      <td>66051.52</td>\n      <td>182645.56</td>\n      <td>118148.20</td>\n    </tr>\n    <tr>\n      <th>29</th>\n      <td>65605.48</td>\n      <td>153032.06</td>\n      <td>107138.38</td>\n    </tr>\n    <tr>\n      <th>30</th>\n      <td>61994.48</td>\n      <td>115641.28</td>\n      <td>91131.24</td>\n    </tr>\n    <tr>\n      <th>31</th>\n      <td>61136.38</td>\n      <td>152701.92</td>\n      <td>88218.23</td>\n    </tr>\n    <tr>\n      <th>32</th>\n      <td>63408.86</td>\n      <td>129219.61</td>\n      <td>46085.25</td>\n    </tr>\n    <tr>\n      <th>33</th>\n      <td>55493.95</td>\n      <td>103057.49</td>\n      <td>214634.81</td>\n    </tr>\n    <tr>\n      <th>34</th>\n      <td>46426.07</td>\n      <td>157693.92</td>\n      <td>210797.67</td>\n    </tr>\n    <tr>\n      <th>35</th>\n      <td>46014.02</td>\n      <td>85047.44</td>\n      <td>205517.64</td>\n    </tr>\n    <tr>\n      <th>36</th>\n      <td>28663.76</td>\n      <td>127056.21</td>\n      <td>201126.82</td>\n    </tr>\n    <tr>\n      <th>37</th>\n      <td>44069.95</td>\n      <td>51283.14</td>\n      <td>197029.42</td>\n    </tr>\n    <tr>\n      <th>38</th>\n      <td>20229.59</td>\n      <td>65947.93</td>\n      <td>185265.10</td>\n    </tr>\n    <tr>\n      <th>39</th>\n      <td>38558.51</td>\n      <td>82982.09</td>\n      <td>174999.30</td>\n    </tr>\n    <tr>\n      <th>40</th>\n      <td>28754.33</td>\n      <td>118546.05</td>\n      <td>172795.67</td>\n    </tr>\n    <tr>\n      <th>41</th>\n      <td>27892.92</td>\n      <td>84710.77</td>\n      <td>164470.71</td>\n    </tr>\n    <tr>\n      <th>42</th>\n      <td>23640.93</td>\n      <td>96189.63</td>\n      <td>148001.11</td>\n    </tr>\n    <tr>\n      <th>43</th>\n      <td>15505.73</td>\n      <td>127382.30</td>\n      <td>35534.17</td>\n    </tr>\n    <tr>\n      <th>44</th>\n      <td>22177.74</td>\n      <td>154806.14</td>\n      <td>28334.72</td>\n    </tr>\n    <tr>\n      <th>45</th>\n      <td>1000.23</td>\n      <td>124153.04</td>\n      <td>1903.93</td>\n    </tr>\n    <tr>\n      <th>46</th>\n      <td>1315.46</td>\n      <td>115816.21</td>\n      <td>297114.46</td>\n    </tr>\n    <tr>\n      <th>47</th>\n      <td>0.00</td>\n      <td>135426.92</td>\n      <td>0.00</td>\n    </tr>\n    <tr>\n      <th>48</th>\n      <td>542.05</td>\n      <td>51743.15</td>\n      <td>0.00</td>\n    </tr>\n    <tr>\n      <th>49</th>\n      <td>0.00</td>\n      <td>116983.80</td>\n      <td>45173.06</td>\n    </tr>\n  </tbody>\n</table>\n</div>"
     },
     "execution_count": 7,
     "metadata": {},
     "output_type": "execute_result"
    }
   ]
  },
  {
   "cell_type": "code",
   "metadata": {
    "id": "cYQ30h-o0kvC"
   },
   "source": [
    "from sklearn.impute import SimpleImputer"
   ],
   "execution_count": 8,
   "outputs": []
  },
  {
   "cell_type": "code",
   "metadata": {
    "id": "9W3NBv6T0kvD"
   },
   "source": [
    "Imputer = SimpleImputer(missing_values=0.0, strategy=\"mean\")"
   ],
   "execution_count": 9,
   "outputs": []
  },
  {
   "cell_type": "code",
   "metadata": {
    "id": "7Xt_elgI0kvD",
    "outputId": "9c29982e-3f09-4660-ba6b-1414137d288a"
   },
   "source": [
    "Imputer.fit(dataset_aux)"
   ],
   "execution_count": 10,
   "outputs": [
    {
     "data": {
      "text/plain": "SimpleImputer(missing_values=0.0)"
     },
     "execution_count": 10,
     "metadata": {},
     "output_type": "execute_result"
    }
   ]
  },
  {
   "cell_type": "code",
   "metadata": {
    "id": "Iw4PVtPJ0kvE"
   },
   "source": [
    "dataset_aux_2 = Imputer.transform(dataset_aux)"
   ],
   "execution_count": 11,
   "outputs": []
  },
  {
   "cell_type": "code",
   "metadata": {
    "id": "PGJbXm4o0kvE",
    "outputId": "26ca0a02-1f5f-477f-e26e-6752618573aa"
   },
   "source": [
    "dataset_aux_2"
   ],
   "execution_count": 12,
   "outputs": [
    {
     "data": {
      "text/plain": "array([[165349.2       , 136897.8       , 471784.1       ],\n       [162597.7       , 151377.59      , 443898.53      ],\n       [153441.51      , 101145.55      , 407934.54      ],\n       [144372.41      , 118671.85      , 383199.62      ],\n       [142107.34      ,  91391.77      , 366168.42      ],\n       [131876.9       ,  99814.71      , 362861.36      ],\n       [134615.46      , 147198.87      , 127716.82      ],\n       [130298.13      , 145530.06      , 323876.68      ],\n       [120542.52      , 148718.95      , 311613.29      ],\n       [123334.88      , 108679.17      , 304981.62      ],\n       [101913.08      , 110594.11      , 229160.95      ],\n       [100671.96      ,  91790.61      , 249744.55      ],\n       [ 93863.75      , 127320.38      , 249839.44      ],\n       [ 91992.39      , 135495.07      , 252664.93      ],\n       [119943.24      , 156547.42      , 256512.92      ],\n       [114523.61      , 122616.84      , 261776.23      ],\n       [ 78013.11      , 121597.55      , 264346.06      ],\n       [ 94657.16      , 145077.58      , 282574.31      ],\n       [ 91749.16      , 114175.79      , 294919.57      ],\n       [ 86419.7       , 153514.11      , 224494.78489362],\n       [ 76253.86      , 113867.3       , 298664.47      ],\n       [ 78389.47      , 153773.43      , 299737.29      ],\n       [ 73994.56      , 122782.75      , 303319.26      ],\n       [ 67532.53      , 105751.03      , 304768.73      ],\n       [ 77044.01      ,  99281.34      , 140574.81      ],\n       [ 64664.71      , 139553.16      , 137962.62      ],\n       [ 75328.87      , 144135.98      , 134050.07      ],\n       [ 72107.6       , 127864.55      , 353183.81      ],\n       [ 66051.52      , 182645.56      , 118148.2       ],\n       [ 65605.48      , 153032.06      , 107138.38      ],\n       [ 61994.48      , 115641.28      ,  91131.24      ],\n       [ 61136.38      , 152701.92      ,  88218.23      ],\n       [ 63408.86      , 129219.61      ,  46085.25      ],\n       [ 55493.95      , 103057.49      , 214634.81      ],\n       [ 46426.07      , 157693.92      , 210797.67      ],\n       [ 46014.02      ,  85047.44      , 205517.64      ],\n       [ 28663.76      , 127056.21      , 201126.82      ],\n       [ 44069.95      ,  51283.14      , 197029.42      ],\n       [ 20229.59      ,  65947.93      , 185265.1       ],\n       [ 38558.51      ,  82982.09      , 174999.3       ],\n       [ 28754.33      , 118546.05      , 172795.67      ],\n       [ 27892.92      ,  84710.77      , 164470.71      ],\n       [ 23640.93      ,  96189.63      , 148001.11      ],\n       [ 15505.73      , 127382.3       ,  35534.17      ],\n       [ 22177.74      , 154806.14      ,  28334.72      ],\n       [  1000.23      , 124153.04      ,   1903.93      ],\n       [  1315.46      , 115816.21      , 297114.46      ],\n       [ 76793.34958333, 135426.92      , 224494.78489362],\n       [   542.05      ,  51743.15      , 224494.78489362],\n       [ 76793.34958333, 116983.8       ,  45173.06      ]])"
     },
     "execution_count": 12,
     "metadata": {},
     "output_type": "execute_result"
    }
   ]
  },
  {
   "cell_type": "code",
   "metadata": {
    "id": "UyyFiWGn0kvF"
   },
   "source": [
    "dataset_aux_3 = pd.DataFrame()"
   ],
   "execution_count": 13,
   "outputs": []
  },
  {
   "cell_type": "code",
   "metadata": {
    "id": "Kj_I9xqL0kvF"
   },
   "source": [
    "dataset_aux_3[\"R&D Spend\"] = dataset_aux_2[:,0]\n",
    "dataset_aux_3[\"Administration\"] = dataset_aux_2[:,1]\n",
    "dataset_aux_3[\"Marketing Spend\"] = dataset_aux_2[:,2]\n",
    "dataset_aux_3[\"State\"] = dataset[\"State\"]"
   ],
   "execution_count": 14,
   "outputs": []
  },
  {
   "cell_type": "code",
   "metadata": {
    "id": "J_w0K9Jr0kvF",
    "outputId": "af3eac30-9710-4593-ca54-305fad20b807"
   },
   "source": [
    "dataset_aux_2"
   ],
   "execution_count": 15,
   "outputs": [
    {
     "data": {
      "text/plain": "array([[165349.2       , 136897.8       , 471784.1       ],\n       [162597.7       , 151377.59      , 443898.53      ],\n       [153441.51      , 101145.55      , 407934.54      ],\n       [144372.41      , 118671.85      , 383199.62      ],\n       [142107.34      ,  91391.77      , 366168.42      ],\n       [131876.9       ,  99814.71      , 362861.36      ],\n       [134615.46      , 147198.87      , 127716.82      ],\n       [130298.13      , 145530.06      , 323876.68      ],\n       [120542.52      , 148718.95      , 311613.29      ],\n       [123334.88      , 108679.17      , 304981.62      ],\n       [101913.08      , 110594.11      , 229160.95      ],\n       [100671.96      ,  91790.61      , 249744.55      ],\n       [ 93863.75      , 127320.38      , 249839.44      ],\n       [ 91992.39      , 135495.07      , 252664.93      ],\n       [119943.24      , 156547.42      , 256512.92      ],\n       [114523.61      , 122616.84      , 261776.23      ],\n       [ 78013.11      , 121597.55      , 264346.06      ],\n       [ 94657.16      , 145077.58      , 282574.31      ],\n       [ 91749.16      , 114175.79      , 294919.57      ],\n       [ 86419.7       , 153514.11      , 224494.78489362],\n       [ 76253.86      , 113867.3       , 298664.47      ],\n       [ 78389.47      , 153773.43      , 299737.29      ],\n       [ 73994.56      , 122782.75      , 303319.26      ],\n       [ 67532.53      , 105751.03      , 304768.73      ],\n       [ 77044.01      ,  99281.34      , 140574.81      ],\n       [ 64664.71      , 139553.16      , 137962.62      ],\n       [ 75328.87      , 144135.98      , 134050.07      ],\n       [ 72107.6       , 127864.55      , 353183.81      ],\n       [ 66051.52      , 182645.56      , 118148.2       ],\n       [ 65605.48      , 153032.06      , 107138.38      ],\n       [ 61994.48      , 115641.28      ,  91131.24      ],\n       [ 61136.38      , 152701.92      ,  88218.23      ],\n       [ 63408.86      , 129219.61      ,  46085.25      ],\n       [ 55493.95      , 103057.49      , 214634.81      ],\n       [ 46426.07      , 157693.92      , 210797.67      ],\n       [ 46014.02      ,  85047.44      , 205517.64      ],\n       [ 28663.76      , 127056.21      , 201126.82      ],\n       [ 44069.95      ,  51283.14      , 197029.42      ],\n       [ 20229.59      ,  65947.93      , 185265.1       ],\n       [ 38558.51      ,  82982.09      , 174999.3       ],\n       [ 28754.33      , 118546.05      , 172795.67      ],\n       [ 27892.92      ,  84710.77      , 164470.71      ],\n       [ 23640.93      ,  96189.63      , 148001.11      ],\n       [ 15505.73      , 127382.3       ,  35534.17      ],\n       [ 22177.74      , 154806.14      ,  28334.72      ],\n       [  1000.23      , 124153.04      ,   1903.93      ],\n       [  1315.46      , 115816.21      , 297114.46      ],\n       [ 76793.34958333, 135426.92      , 224494.78489362],\n       [   542.05      ,  51743.15      , 224494.78489362],\n       [ 76793.34958333, 116983.8       ,  45173.06      ]])"
     },
     "execution_count": 15,
     "metadata": {},
     "output_type": "execute_result"
    }
   ]
  },
  {
   "cell_type": "code",
   "metadata": {
    "id": "l-uFBx840kvG",
    "outputId": "fc449ce1-15eb-4db3-a11f-bf3c460f32d6"
   },
   "source": [
    "dataset_aux_3"
   ],
   "execution_count": 16,
   "outputs": [
    {
     "data": {
      "text/plain": "        R&D Spend  Administration  Marketing Spend       State\n0   165349.200000       136897.80    471784.100000    New York\n1   162597.700000       151377.59    443898.530000  California\n2   153441.510000       101145.55    407934.540000     Florida\n3   144372.410000       118671.85    383199.620000    New York\n4   142107.340000        91391.77    366168.420000     Florida\n5   131876.900000        99814.71    362861.360000    New York\n6   134615.460000       147198.87    127716.820000  California\n7   130298.130000       145530.06    323876.680000     Florida\n8   120542.520000       148718.95    311613.290000    New York\n9   123334.880000       108679.17    304981.620000  California\n10  101913.080000       110594.11    229160.950000     Florida\n11  100671.960000        91790.61    249744.550000  California\n12   93863.750000       127320.38    249839.440000     Florida\n13   91992.390000       135495.07    252664.930000  California\n14  119943.240000       156547.42    256512.920000     Florida\n15  114523.610000       122616.84    261776.230000    New York\n16   78013.110000       121597.55    264346.060000  California\n17   94657.160000       145077.58    282574.310000    New York\n18   91749.160000       114175.79    294919.570000     Florida\n19   86419.700000       153514.11    224494.784894    New York\n20   76253.860000       113867.30    298664.470000  California\n21   78389.470000       153773.43    299737.290000    New York\n22   73994.560000       122782.75    303319.260000     Florida\n23   67532.530000       105751.03    304768.730000     Florida\n24   77044.010000        99281.34    140574.810000    New York\n25   64664.710000       139553.16    137962.620000  California\n26   75328.870000       144135.98    134050.070000     Florida\n27   72107.600000       127864.55    353183.810000    New York\n28   66051.520000       182645.56    118148.200000     Florida\n29   65605.480000       153032.06    107138.380000    New York\n30   61994.480000       115641.28     91131.240000     Florida\n31   61136.380000       152701.92     88218.230000    New York\n32   63408.860000       129219.61     46085.250000  California\n33   55493.950000       103057.49    214634.810000     Florida\n34   46426.070000       157693.92    210797.670000  California\n35   46014.020000        85047.44    205517.640000    New York\n36   28663.760000       127056.21    201126.820000     Florida\n37   44069.950000        51283.14    197029.420000  California\n38   20229.590000        65947.93    185265.100000    New York\n39   38558.510000        82982.09    174999.300000  California\n40   28754.330000       118546.05    172795.670000  California\n41   27892.920000        84710.77    164470.710000     Florida\n42   23640.930000        96189.63    148001.110000  California\n43   15505.730000       127382.30     35534.170000    New York\n44   22177.740000       154806.14     28334.720000  California\n45    1000.230000       124153.04      1903.930000    New York\n46    1315.460000       115816.21    297114.460000     Florida\n47   76793.349583       135426.92    224494.784894  California\n48     542.050000        51743.15    224494.784894    New York\n49   76793.349583       116983.80     45173.060000  California",
      "text/html": "<div>\n<style scoped>\n    .dataframe tbody tr th:only-of-type {\n        vertical-align: middle;\n    }\n\n    .dataframe tbody tr th {\n        vertical-align: top;\n    }\n\n    .dataframe thead th {\n        text-align: right;\n    }\n</style>\n<table border=\"1\" class=\"dataframe\">\n  <thead>\n    <tr style=\"text-align: right;\">\n      <th></th>\n      <th>R&amp;D Spend</th>\n      <th>Administration</th>\n      <th>Marketing Spend</th>\n      <th>State</th>\n    </tr>\n  </thead>\n  <tbody>\n    <tr>\n      <th>0</th>\n      <td>165349.200000</td>\n      <td>136897.80</td>\n      <td>471784.100000</td>\n      <td>New York</td>\n    </tr>\n    <tr>\n      <th>1</th>\n      <td>162597.700000</td>\n      <td>151377.59</td>\n      <td>443898.530000</td>\n      <td>California</td>\n    </tr>\n    <tr>\n      <th>2</th>\n      <td>153441.510000</td>\n      <td>101145.55</td>\n      <td>407934.540000</td>\n      <td>Florida</td>\n    </tr>\n    <tr>\n      <th>3</th>\n      <td>144372.410000</td>\n      <td>118671.85</td>\n      <td>383199.620000</td>\n      <td>New York</td>\n    </tr>\n    <tr>\n      <th>4</th>\n      <td>142107.340000</td>\n      <td>91391.77</td>\n      <td>366168.420000</td>\n      <td>Florida</td>\n    </tr>\n    <tr>\n      <th>5</th>\n      <td>131876.900000</td>\n      <td>99814.71</td>\n      <td>362861.360000</td>\n      <td>New York</td>\n    </tr>\n    <tr>\n      <th>6</th>\n      <td>134615.460000</td>\n      <td>147198.87</td>\n      <td>127716.820000</td>\n      <td>California</td>\n    </tr>\n    <tr>\n      <th>7</th>\n      <td>130298.130000</td>\n      <td>145530.06</td>\n      <td>323876.680000</td>\n      <td>Florida</td>\n    </tr>\n    <tr>\n      <th>8</th>\n      <td>120542.520000</td>\n      <td>148718.95</td>\n      <td>311613.290000</td>\n      <td>New York</td>\n    </tr>\n    <tr>\n      <th>9</th>\n      <td>123334.880000</td>\n      <td>108679.17</td>\n      <td>304981.620000</td>\n      <td>California</td>\n    </tr>\n    <tr>\n      <th>10</th>\n      <td>101913.080000</td>\n      <td>110594.11</td>\n      <td>229160.950000</td>\n      <td>Florida</td>\n    </tr>\n    <tr>\n      <th>11</th>\n      <td>100671.960000</td>\n      <td>91790.61</td>\n      <td>249744.550000</td>\n      <td>California</td>\n    </tr>\n    <tr>\n      <th>12</th>\n      <td>93863.750000</td>\n      <td>127320.38</td>\n      <td>249839.440000</td>\n      <td>Florida</td>\n    </tr>\n    <tr>\n      <th>13</th>\n      <td>91992.390000</td>\n      <td>135495.07</td>\n      <td>252664.930000</td>\n      <td>California</td>\n    </tr>\n    <tr>\n      <th>14</th>\n      <td>119943.240000</td>\n      <td>156547.42</td>\n      <td>256512.920000</td>\n      <td>Florida</td>\n    </tr>\n    <tr>\n      <th>15</th>\n      <td>114523.610000</td>\n      <td>122616.84</td>\n      <td>261776.230000</td>\n      <td>New York</td>\n    </tr>\n    <tr>\n      <th>16</th>\n      <td>78013.110000</td>\n      <td>121597.55</td>\n      <td>264346.060000</td>\n      <td>California</td>\n    </tr>\n    <tr>\n      <th>17</th>\n      <td>94657.160000</td>\n      <td>145077.58</td>\n      <td>282574.310000</td>\n      <td>New York</td>\n    </tr>\n    <tr>\n      <th>18</th>\n      <td>91749.160000</td>\n      <td>114175.79</td>\n      <td>294919.570000</td>\n      <td>Florida</td>\n    </tr>\n    <tr>\n      <th>19</th>\n      <td>86419.700000</td>\n      <td>153514.11</td>\n      <td>224494.784894</td>\n      <td>New York</td>\n    </tr>\n    <tr>\n      <th>20</th>\n      <td>76253.860000</td>\n      <td>113867.30</td>\n      <td>298664.470000</td>\n      <td>California</td>\n    </tr>\n    <tr>\n      <th>21</th>\n      <td>78389.470000</td>\n      <td>153773.43</td>\n      <td>299737.290000</td>\n      <td>New York</td>\n    </tr>\n    <tr>\n      <th>22</th>\n      <td>73994.560000</td>\n      <td>122782.75</td>\n      <td>303319.260000</td>\n      <td>Florida</td>\n    </tr>\n    <tr>\n      <th>23</th>\n      <td>67532.530000</td>\n      <td>105751.03</td>\n      <td>304768.730000</td>\n      <td>Florida</td>\n    </tr>\n    <tr>\n      <th>24</th>\n      <td>77044.010000</td>\n      <td>99281.34</td>\n      <td>140574.810000</td>\n      <td>New York</td>\n    </tr>\n    <tr>\n      <th>25</th>\n      <td>64664.710000</td>\n      <td>139553.16</td>\n      <td>137962.620000</td>\n      <td>California</td>\n    </tr>\n    <tr>\n      <th>26</th>\n      <td>75328.870000</td>\n      <td>144135.98</td>\n      <td>134050.070000</td>\n      <td>Florida</td>\n    </tr>\n    <tr>\n      <th>27</th>\n      <td>72107.600000</td>\n      <td>127864.55</td>\n      <td>353183.810000</td>\n      <td>New York</td>\n    </tr>\n    <tr>\n      <th>28</th>\n      <td>66051.520000</td>\n      <td>182645.56</td>\n      <td>118148.200000</td>\n      <td>Florida</td>\n    </tr>\n    <tr>\n      <th>29</th>\n      <td>65605.480000</td>\n      <td>153032.06</td>\n      <td>107138.380000</td>\n      <td>New York</td>\n    </tr>\n    <tr>\n      <th>30</th>\n      <td>61994.480000</td>\n      <td>115641.28</td>\n      <td>91131.240000</td>\n      <td>Florida</td>\n    </tr>\n    <tr>\n      <th>31</th>\n      <td>61136.380000</td>\n      <td>152701.92</td>\n      <td>88218.230000</td>\n      <td>New York</td>\n    </tr>\n    <tr>\n      <th>32</th>\n      <td>63408.860000</td>\n      <td>129219.61</td>\n      <td>46085.250000</td>\n      <td>California</td>\n    </tr>\n    <tr>\n      <th>33</th>\n      <td>55493.950000</td>\n      <td>103057.49</td>\n      <td>214634.810000</td>\n      <td>Florida</td>\n    </tr>\n    <tr>\n      <th>34</th>\n      <td>46426.070000</td>\n      <td>157693.92</td>\n      <td>210797.670000</td>\n      <td>California</td>\n    </tr>\n    <tr>\n      <th>35</th>\n      <td>46014.020000</td>\n      <td>85047.44</td>\n      <td>205517.640000</td>\n      <td>New York</td>\n    </tr>\n    <tr>\n      <th>36</th>\n      <td>28663.760000</td>\n      <td>127056.21</td>\n      <td>201126.820000</td>\n      <td>Florida</td>\n    </tr>\n    <tr>\n      <th>37</th>\n      <td>44069.950000</td>\n      <td>51283.14</td>\n      <td>197029.420000</td>\n      <td>California</td>\n    </tr>\n    <tr>\n      <th>38</th>\n      <td>20229.590000</td>\n      <td>65947.93</td>\n      <td>185265.100000</td>\n      <td>New York</td>\n    </tr>\n    <tr>\n      <th>39</th>\n      <td>38558.510000</td>\n      <td>82982.09</td>\n      <td>174999.300000</td>\n      <td>California</td>\n    </tr>\n    <tr>\n      <th>40</th>\n      <td>28754.330000</td>\n      <td>118546.05</td>\n      <td>172795.670000</td>\n      <td>California</td>\n    </tr>\n    <tr>\n      <th>41</th>\n      <td>27892.920000</td>\n      <td>84710.77</td>\n      <td>164470.710000</td>\n      <td>Florida</td>\n    </tr>\n    <tr>\n      <th>42</th>\n      <td>23640.930000</td>\n      <td>96189.63</td>\n      <td>148001.110000</td>\n      <td>California</td>\n    </tr>\n    <tr>\n      <th>43</th>\n      <td>15505.730000</td>\n      <td>127382.30</td>\n      <td>35534.170000</td>\n      <td>New York</td>\n    </tr>\n    <tr>\n      <th>44</th>\n      <td>22177.740000</td>\n      <td>154806.14</td>\n      <td>28334.720000</td>\n      <td>California</td>\n    </tr>\n    <tr>\n      <th>45</th>\n      <td>1000.230000</td>\n      <td>124153.04</td>\n      <td>1903.930000</td>\n      <td>New York</td>\n    </tr>\n    <tr>\n      <th>46</th>\n      <td>1315.460000</td>\n      <td>115816.21</td>\n      <td>297114.460000</td>\n      <td>Florida</td>\n    </tr>\n    <tr>\n      <th>47</th>\n      <td>76793.349583</td>\n      <td>135426.92</td>\n      <td>224494.784894</td>\n      <td>California</td>\n    </tr>\n    <tr>\n      <th>48</th>\n      <td>542.050000</td>\n      <td>51743.15</td>\n      <td>224494.784894</td>\n      <td>New York</td>\n    </tr>\n    <tr>\n      <th>49</th>\n      <td>76793.349583</td>\n      <td>116983.80</td>\n      <td>45173.060000</td>\n      <td>California</td>\n    </tr>\n  </tbody>\n</table>\n</div>"
     },
     "execution_count": 16,
     "metadata": {},
     "output_type": "execute_result"
    }
   ]
  },
  {
   "cell_type": "code",
   "metadata": {
    "id": "c2Q_msZL0kvG"
   },
   "source": [
    "dataset_aux_4 = pd.get_dummies(dataset_aux_3, drop_first=True)"
   ],
   "execution_count": 17,
   "outputs": []
  },
  {
   "cell_type": "code",
   "metadata": {
    "id": "a46HzHo40kvG",
    "outputId": "883d2aa7-e85e-41ab-c95d-32a2d31d6081"
   },
   "source": [
    "dataset_aux_4"
   ],
   "execution_count": 18,
   "outputs": [
    {
     "data": {
      "text/plain": "        R&D Spend  Administration  Marketing Spend  State_Florida  \\\n0   165349.200000       136897.80    471784.100000              0   \n1   162597.700000       151377.59    443898.530000              0   \n2   153441.510000       101145.55    407934.540000              1   \n3   144372.410000       118671.85    383199.620000              0   \n4   142107.340000        91391.77    366168.420000              1   \n5   131876.900000        99814.71    362861.360000              0   \n6   134615.460000       147198.87    127716.820000              0   \n7   130298.130000       145530.06    323876.680000              1   \n8   120542.520000       148718.95    311613.290000              0   \n9   123334.880000       108679.17    304981.620000              0   \n10  101913.080000       110594.11    229160.950000              1   \n11  100671.960000        91790.61    249744.550000              0   \n12   93863.750000       127320.38    249839.440000              1   \n13   91992.390000       135495.07    252664.930000              0   \n14  119943.240000       156547.42    256512.920000              1   \n15  114523.610000       122616.84    261776.230000              0   \n16   78013.110000       121597.55    264346.060000              0   \n17   94657.160000       145077.58    282574.310000              0   \n18   91749.160000       114175.79    294919.570000              1   \n19   86419.700000       153514.11    224494.784894              0   \n20   76253.860000       113867.30    298664.470000              0   \n21   78389.470000       153773.43    299737.290000              0   \n22   73994.560000       122782.75    303319.260000              1   \n23   67532.530000       105751.03    304768.730000              1   \n24   77044.010000        99281.34    140574.810000              0   \n25   64664.710000       139553.16    137962.620000              0   \n26   75328.870000       144135.98    134050.070000              1   \n27   72107.600000       127864.55    353183.810000              0   \n28   66051.520000       182645.56    118148.200000              1   \n29   65605.480000       153032.06    107138.380000              0   \n30   61994.480000       115641.28     91131.240000              1   \n31   61136.380000       152701.92     88218.230000              0   \n32   63408.860000       129219.61     46085.250000              0   \n33   55493.950000       103057.49    214634.810000              1   \n34   46426.070000       157693.92    210797.670000              0   \n35   46014.020000        85047.44    205517.640000              0   \n36   28663.760000       127056.21    201126.820000              1   \n37   44069.950000        51283.14    197029.420000              0   \n38   20229.590000        65947.93    185265.100000              0   \n39   38558.510000        82982.09    174999.300000              0   \n40   28754.330000       118546.05    172795.670000              0   \n41   27892.920000        84710.77    164470.710000              1   \n42   23640.930000        96189.63    148001.110000              0   \n43   15505.730000       127382.30     35534.170000              0   \n44   22177.740000       154806.14     28334.720000              0   \n45    1000.230000       124153.04      1903.930000              0   \n46    1315.460000       115816.21    297114.460000              1   \n47   76793.349583       135426.92    224494.784894              0   \n48     542.050000        51743.15    224494.784894              0   \n49   76793.349583       116983.80     45173.060000              0   \n\n    State_New York  \n0                1  \n1                0  \n2                0  \n3                1  \n4                0  \n5                1  \n6                0  \n7                0  \n8                1  \n9                0  \n10               0  \n11               0  \n12               0  \n13               0  \n14               0  \n15               1  \n16               0  \n17               1  \n18               0  \n19               1  \n20               0  \n21               1  \n22               0  \n23               0  \n24               1  \n25               0  \n26               0  \n27               1  \n28               0  \n29               1  \n30               0  \n31               1  \n32               0  \n33               0  \n34               0  \n35               1  \n36               0  \n37               0  \n38               1  \n39               0  \n40               0  \n41               0  \n42               0  \n43               1  \n44               0  \n45               1  \n46               0  \n47               0  \n48               1  \n49               0  ",
      "text/html": "<div>\n<style scoped>\n    .dataframe tbody tr th:only-of-type {\n        vertical-align: middle;\n    }\n\n    .dataframe tbody tr th {\n        vertical-align: top;\n    }\n\n    .dataframe thead th {\n        text-align: right;\n    }\n</style>\n<table border=\"1\" class=\"dataframe\">\n  <thead>\n    <tr style=\"text-align: right;\">\n      <th></th>\n      <th>R&amp;D Spend</th>\n      <th>Administration</th>\n      <th>Marketing Spend</th>\n      <th>State_Florida</th>\n      <th>State_New York</th>\n    </tr>\n  </thead>\n  <tbody>\n    <tr>\n      <th>0</th>\n      <td>165349.200000</td>\n      <td>136897.80</td>\n      <td>471784.100000</td>\n      <td>0</td>\n      <td>1</td>\n    </tr>\n    <tr>\n      <th>1</th>\n      <td>162597.700000</td>\n      <td>151377.59</td>\n      <td>443898.530000</td>\n      <td>0</td>\n      <td>0</td>\n    </tr>\n    <tr>\n      <th>2</th>\n      <td>153441.510000</td>\n      <td>101145.55</td>\n      <td>407934.540000</td>\n      <td>1</td>\n      <td>0</td>\n    </tr>\n    <tr>\n      <th>3</th>\n      <td>144372.410000</td>\n      <td>118671.85</td>\n      <td>383199.620000</td>\n      <td>0</td>\n      <td>1</td>\n    </tr>\n    <tr>\n      <th>4</th>\n      <td>142107.340000</td>\n      <td>91391.77</td>\n      <td>366168.420000</td>\n      <td>1</td>\n      <td>0</td>\n    </tr>\n    <tr>\n      <th>5</th>\n      <td>131876.900000</td>\n      <td>99814.71</td>\n      <td>362861.360000</td>\n      <td>0</td>\n      <td>1</td>\n    </tr>\n    <tr>\n      <th>6</th>\n      <td>134615.460000</td>\n      <td>147198.87</td>\n      <td>127716.820000</td>\n      <td>0</td>\n      <td>0</td>\n    </tr>\n    <tr>\n      <th>7</th>\n      <td>130298.130000</td>\n      <td>145530.06</td>\n      <td>323876.680000</td>\n      <td>1</td>\n      <td>0</td>\n    </tr>\n    <tr>\n      <th>8</th>\n      <td>120542.520000</td>\n      <td>148718.95</td>\n      <td>311613.290000</td>\n      <td>0</td>\n      <td>1</td>\n    </tr>\n    <tr>\n      <th>9</th>\n      <td>123334.880000</td>\n      <td>108679.17</td>\n      <td>304981.620000</td>\n      <td>0</td>\n      <td>0</td>\n    </tr>\n    <tr>\n      <th>10</th>\n      <td>101913.080000</td>\n      <td>110594.11</td>\n      <td>229160.950000</td>\n      <td>1</td>\n      <td>0</td>\n    </tr>\n    <tr>\n      <th>11</th>\n      <td>100671.960000</td>\n      <td>91790.61</td>\n      <td>249744.550000</td>\n      <td>0</td>\n      <td>0</td>\n    </tr>\n    <tr>\n      <th>12</th>\n      <td>93863.750000</td>\n      <td>127320.38</td>\n      <td>249839.440000</td>\n      <td>1</td>\n      <td>0</td>\n    </tr>\n    <tr>\n      <th>13</th>\n      <td>91992.390000</td>\n      <td>135495.07</td>\n      <td>252664.930000</td>\n      <td>0</td>\n      <td>0</td>\n    </tr>\n    <tr>\n      <th>14</th>\n      <td>119943.240000</td>\n      <td>156547.42</td>\n      <td>256512.920000</td>\n      <td>1</td>\n      <td>0</td>\n    </tr>\n    <tr>\n      <th>15</th>\n      <td>114523.610000</td>\n      <td>122616.84</td>\n      <td>261776.230000</td>\n      <td>0</td>\n      <td>1</td>\n    </tr>\n    <tr>\n      <th>16</th>\n      <td>78013.110000</td>\n      <td>121597.55</td>\n      <td>264346.060000</td>\n      <td>0</td>\n      <td>0</td>\n    </tr>\n    <tr>\n      <th>17</th>\n      <td>94657.160000</td>\n      <td>145077.58</td>\n      <td>282574.310000</td>\n      <td>0</td>\n      <td>1</td>\n    </tr>\n    <tr>\n      <th>18</th>\n      <td>91749.160000</td>\n      <td>114175.79</td>\n      <td>294919.570000</td>\n      <td>1</td>\n      <td>0</td>\n    </tr>\n    <tr>\n      <th>19</th>\n      <td>86419.700000</td>\n      <td>153514.11</td>\n      <td>224494.784894</td>\n      <td>0</td>\n      <td>1</td>\n    </tr>\n    <tr>\n      <th>20</th>\n      <td>76253.860000</td>\n      <td>113867.30</td>\n      <td>298664.470000</td>\n      <td>0</td>\n      <td>0</td>\n    </tr>\n    <tr>\n      <th>21</th>\n      <td>78389.470000</td>\n      <td>153773.43</td>\n      <td>299737.290000</td>\n      <td>0</td>\n      <td>1</td>\n    </tr>\n    <tr>\n      <th>22</th>\n      <td>73994.560000</td>\n      <td>122782.75</td>\n      <td>303319.260000</td>\n      <td>1</td>\n      <td>0</td>\n    </tr>\n    <tr>\n      <th>23</th>\n      <td>67532.530000</td>\n      <td>105751.03</td>\n      <td>304768.730000</td>\n      <td>1</td>\n      <td>0</td>\n    </tr>\n    <tr>\n      <th>24</th>\n      <td>77044.010000</td>\n      <td>99281.34</td>\n      <td>140574.810000</td>\n      <td>0</td>\n      <td>1</td>\n    </tr>\n    <tr>\n      <th>25</th>\n      <td>64664.710000</td>\n      <td>139553.16</td>\n      <td>137962.620000</td>\n      <td>0</td>\n      <td>0</td>\n    </tr>\n    <tr>\n      <th>26</th>\n      <td>75328.870000</td>\n      <td>144135.98</td>\n      <td>134050.070000</td>\n      <td>1</td>\n      <td>0</td>\n    </tr>\n    <tr>\n      <th>27</th>\n      <td>72107.600000</td>\n      <td>127864.55</td>\n      <td>353183.810000</td>\n      <td>0</td>\n      <td>1</td>\n    </tr>\n    <tr>\n      <th>28</th>\n      <td>66051.520000</td>\n      <td>182645.56</td>\n      <td>118148.200000</td>\n      <td>1</td>\n      <td>0</td>\n    </tr>\n    <tr>\n      <th>29</th>\n      <td>65605.480000</td>\n      <td>153032.06</td>\n      <td>107138.380000</td>\n      <td>0</td>\n      <td>1</td>\n    </tr>\n    <tr>\n      <th>30</th>\n      <td>61994.480000</td>\n      <td>115641.28</td>\n      <td>91131.240000</td>\n      <td>1</td>\n      <td>0</td>\n    </tr>\n    <tr>\n      <th>31</th>\n      <td>61136.380000</td>\n      <td>152701.92</td>\n      <td>88218.230000</td>\n      <td>0</td>\n      <td>1</td>\n    </tr>\n    <tr>\n      <th>32</th>\n      <td>63408.860000</td>\n      <td>129219.61</td>\n      <td>46085.250000</td>\n      <td>0</td>\n      <td>0</td>\n    </tr>\n    <tr>\n      <th>33</th>\n      <td>55493.950000</td>\n      <td>103057.49</td>\n      <td>214634.810000</td>\n      <td>1</td>\n      <td>0</td>\n    </tr>\n    <tr>\n      <th>34</th>\n      <td>46426.070000</td>\n      <td>157693.92</td>\n      <td>210797.670000</td>\n      <td>0</td>\n      <td>0</td>\n    </tr>\n    <tr>\n      <th>35</th>\n      <td>46014.020000</td>\n      <td>85047.44</td>\n      <td>205517.640000</td>\n      <td>0</td>\n      <td>1</td>\n    </tr>\n    <tr>\n      <th>36</th>\n      <td>28663.760000</td>\n      <td>127056.21</td>\n      <td>201126.820000</td>\n      <td>1</td>\n      <td>0</td>\n    </tr>\n    <tr>\n      <th>37</th>\n      <td>44069.950000</td>\n      <td>51283.14</td>\n      <td>197029.420000</td>\n      <td>0</td>\n      <td>0</td>\n    </tr>\n    <tr>\n      <th>38</th>\n      <td>20229.590000</td>\n      <td>65947.93</td>\n      <td>185265.100000</td>\n      <td>0</td>\n      <td>1</td>\n    </tr>\n    <tr>\n      <th>39</th>\n      <td>38558.510000</td>\n      <td>82982.09</td>\n      <td>174999.300000</td>\n      <td>0</td>\n      <td>0</td>\n    </tr>\n    <tr>\n      <th>40</th>\n      <td>28754.330000</td>\n      <td>118546.05</td>\n      <td>172795.670000</td>\n      <td>0</td>\n      <td>0</td>\n    </tr>\n    <tr>\n      <th>41</th>\n      <td>27892.920000</td>\n      <td>84710.77</td>\n      <td>164470.710000</td>\n      <td>1</td>\n      <td>0</td>\n    </tr>\n    <tr>\n      <th>42</th>\n      <td>23640.930000</td>\n      <td>96189.63</td>\n      <td>148001.110000</td>\n      <td>0</td>\n      <td>0</td>\n    </tr>\n    <tr>\n      <th>43</th>\n      <td>15505.730000</td>\n      <td>127382.30</td>\n      <td>35534.170000</td>\n      <td>0</td>\n      <td>1</td>\n    </tr>\n    <tr>\n      <th>44</th>\n      <td>22177.740000</td>\n      <td>154806.14</td>\n      <td>28334.720000</td>\n      <td>0</td>\n      <td>0</td>\n    </tr>\n    <tr>\n      <th>45</th>\n      <td>1000.230000</td>\n      <td>124153.04</td>\n      <td>1903.930000</td>\n      <td>0</td>\n      <td>1</td>\n    </tr>\n    <tr>\n      <th>46</th>\n      <td>1315.460000</td>\n      <td>115816.21</td>\n      <td>297114.460000</td>\n      <td>1</td>\n      <td>0</td>\n    </tr>\n    <tr>\n      <th>47</th>\n      <td>76793.349583</td>\n      <td>135426.92</td>\n      <td>224494.784894</td>\n      <td>0</td>\n      <td>0</td>\n    </tr>\n    <tr>\n      <th>48</th>\n      <td>542.050000</td>\n      <td>51743.15</td>\n      <td>224494.784894</td>\n      <td>0</td>\n      <td>1</td>\n    </tr>\n    <tr>\n      <th>49</th>\n      <td>76793.349583</td>\n      <td>116983.80</td>\n      <td>45173.060000</td>\n      <td>0</td>\n      <td>0</td>\n    </tr>\n  </tbody>\n</table>\n</div>"
     },
     "execution_count": 18,
     "metadata": {},
     "output_type": "execute_result"
    }
   ]
  },
  {
   "cell_type": "code",
   "metadata": {
    "id": "WdB3fvJv0kvH"
   },
   "source": [
    "from sklearn.preprocessing import MinMaxScaler"
   ],
   "execution_count": 19,
   "outputs": []
  },
  {
   "cell_type": "code",
   "metadata": {
    "id": "pzL0A71n0kvI"
   },
   "source": [
    "minmax = MinMaxScaler()"
   ],
   "execution_count": 20,
   "outputs": []
  },
  {
   "cell_type": "code",
   "metadata": {
    "id": "SaCstV_b0kvI",
    "outputId": "041f8c5e-073f-4b0a-e02c-651786252739"
   },
   "source": [
    "minmax.fit(dataset_aux_4)"
   ],
   "execution_count": 21,
   "outputs": [
    {
     "data": {
      "text/plain": "MinMaxScaler()"
     },
     "execution_count": 21,
     "metadata": {},
     "output_type": "execute_result"
    }
   ]
  },
  {
   "cell_type": "code",
   "metadata": {
    "id": "0xx8LyuX0kvI"
   },
   "source": [
    "dataset_5 = minmax.transform(dataset_aux_4)"
   ],
   "execution_count": 22,
   "outputs": []
  },
  {
   "cell_type": "code",
   "metadata": {
    "id": "t9piN-I80kvI",
    "outputId": "6048a5c7-139f-4f07-dea2-634d1d252140",
    "pycharm": {
     "name": "#%%\n"
    }
   },
   "source": [
    "dataset_5"
   ],
   "execution_count": 23,
   "outputs": [
    {
     "data": {
      "text/plain": "array([[1.        , 0.65174393, 1.        , 0.        , 1.        ],\n       [0.98330473, 0.76197173, 0.94065387, 0.        , 0.        ],\n       [0.92774773, 0.37957895, 0.86411523, 1.        , 0.        ],\n       [0.87271918, 0.51299839, 0.81147432, 0.        , 1.        ],\n       [0.85897541, 0.30532804, 0.77522848, 1.        , 0.        ],\n       [0.7969002 , 0.3694479 , 0.76819039, 0.        , 1.        ],\n       [0.81351695, 0.73016111, 0.26775527, 0.        , 0.        ],\n       [0.7873207 , 0.71745725, 0.68522311, 1.        , 0.        ],\n       [0.7281266 , 0.74173276, 0.65912413, 0.        , 1.        ],\n       [0.7450698 , 0.43692884, 0.6450106 , 0.        , 0.        ],\n       [0.61508879, 0.45150637, 0.48364888, 1.        , 0.        ],\n       [0.60755805, 0.30836422, 0.52745495, 0.        , 0.        ],\n       [0.56624788, 0.57883556, 0.52765689, 1.        , 0.        ],\n       [0.55489304, 0.64106561, 0.53367011, 0.        , 0.        ],\n       [0.72449035, 0.8013272 , 0.54185941, 1.        , 0.        ],\n       [0.69160567, 0.54302973, 0.55306079, 0.        , 1.        ],\n       [0.47007099, 0.53527036, 0.55852991, 0.        , 0.        ],\n       [0.57106206, 0.71401273, 0.59732331, 0.        , 1.        ],\n       [0.55341719, 0.47877201, 0.62359652, 1.        , 0.        ],\n       [0.52107964, 0.77823604, 0.47371834, 0.        , 1.        ],\n       [0.45939639, 0.47642362, 0.63156643, 0.        , 0.        ],\n       [0.47235463, 0.78021012, 0.6338496 , 0.        , 1.        ],\n       [0.44568764, 0.54429273, 0.64147276, 1.        , 0.        ],\n       [0.406478  , 0.4146383 , 0.64455753, 1.        , 0.        ],\n       [0.46419078, 0.3653876 , 0.29511967, 0.        , 1.        ],\n       [0.38907693, 0.67195793, 0.2895604 , 0.        , 0.        ],\n       [0.45378383, 0.70684477, 0.2812337 , 1.        , 0.        ],\n       [0.43423814, 0.58297807, 0.7475946 , 0.        , 1.        ],\n       [0.39749167, 1.        , 0.24739131, 1.        , 0.        ],\n       [0.39478524, 0.77456642, 0.22396019, 0.        , 1.        ],\n       [0.37287478, 0.48992809, 0.18989376, 1.        , 0.        ],\n       [0.36766809, 0.77205322, 0.18369428, 0.        , 1.        ],\n       [0.38145681, 0.5932935 , 0.09402678, 0.        , 0.        ],\n       [0.33343153, 0.39413365, 0.45273432, 1.        , 0.        ],\n       [0.27841037, 0.81005496, 0.44456811, 0.        , 0.        ],\n       [0.27591018, 0.25703165, 0.43333114, 0.        , 1.        ],\n       [0.17063404, 0.57682456, 0.42398659, 1.        , 0.        ],\n       [0.26411415, 0.        , 0.41526649, 0.        , 0.        ],\n       [0.11945805, 0.11163611, 0.39022964, 0.        , 1.        ],\n       [0.23067239, 0.24130912, 0.36838194, 0.        , 0.        ],\n       [0.17118359, 0.51204073, 0.36369217, 0.        , 0.        ],\n       [0.16595682, 0.25446874, 0.34597497, 1.        , 0.        ],\n       [0.14015703, 0.34185188, 0.31092434, 0.        , 0.        ],\n       [0.09079509, 0.57930693, 0.07157195, 0.        , 1.        ],\n       [0.13127883, 0.78807166, 0.05625006, 0.        , 0.        ],\n       [0.0027801 , 0.5547241 , 0.        , 0.        , 1.        ],\n       [0.00469282, 0.49125975, 0.62826769, 1.        , 0.        ],\n       [0.46266985, 0.64054682, 0.47371834, 0.        , 0.        ],\n       [0.        , 0.00350184, 0.47371834, 0.        , 1.        ],\n       [0.46266985, 0.50014806, 0.09208546, 0.        , 0.        ]])"
     },
     "execution_count": 23,
     "metadata": {},
     "output_type": "execute_result"
    }
   ]
  },
  {
   "cell_type": "code",
   "execution_count": 24,
   "outputs": [],
   "source": [
    "y = dataset[\"Profit\"].values"
   ],
   "metadata": {
    "collapsed": false,
    "pycharm": {
     "name": "#%%\n"
    }
   }
  },
  {
   "cell_type": "code",
   "execution_count": 25,
   "outputs": [
    {
     "data": {
      "text/plain": "array([192261.83, 191792.06, 191050.39, 182901.99, 166187.94, 156991.12,\n       156122.51, 155752.6 , 152211.77, 149759.96, 146121.95, 144259.4 ,\n       141585.52, 134307.35, 132602.65, 129917.04, 126992.93, 125370.37,\n       124266.9 , 122776.86, 118474.03, 111313.02, 110352.25, 108733.99,\n       108552.04, 107404.34, 105733.54, 105008.31, 103282.38, 101004.64,\n        99937.59,  97483.56,  97427.84,  96778.92,  96712.8 ,  96479.51,\n        90708.19,  89949.14,  81229.06,  81005.76,  78239.91,  77798.83,\n        71498.49,  69758.98,  65200.33,  64926.08,  49490.75,  42559.73,\n        35673.41,  14681.4 ])"
     },
     "execution_count": 25,
     "metadata": {},
     "output_type": "execute_result"
    }
   ],
   "source": [
    "y"
   ],
   "metadata": {
    "collapsed": false,
    "pycharm": {
     "name": "#%%\n"
    }
   }
  },
  {
   "cell_type": "code",
   "execution_count": 26,
   "outputs": [],
   "source": [
    "from sklearn.model_selection import train_test_split"
   ],
   "metadata": {
    "collapsed": false,
    "pycharm": {
     "name": "#%%\n"
    }
   }
  },
  {
   "cell_type": "code",
   "execution_count": 27,
   "outputs": [],
   "source": [
    "X_train, X_test, y_train, y_test = train_test_split(dataset_5, y, test_size=0.2, random_state=123)"
   ],
   "metadata": {
    "collapsed": false,
    "pycharm": {
     "name": "#%%\n"
    }
   }
  },
  {
   "cell_type": "code",
   "execution_count": 28,
   "outputs": [
    {
     "data": {
      "text/plain": "(40, 5)"
     },
     "execution_count": 28,
     "metadata": {},
     "output_type": "execute_result"
    }
   ],
   "source": [
    "X_train.shape"
   ],
   "metadata": {
    "collapsed": false,
    "pycharm": {
     "name": "#%%\n"
    }
   }
  },
  {
   "cell_type": "code",
   "execution_count": 29,
   "outputs": [
    {
     "data": {
      "text/plain": "(10, 5)"
     },
     "execution_count": 29,
     "metadata": {},
     "output_type": "execute_result"
    }
   ],
   "source": [
    "X_test.shape"
   ],
   "metadata": {
    "collapsed": false,
    "pycharm": {
     "name": "#%%\n"
    }
   }
  },
  {
   "cell_type": "code",
   "execution_count": 30,
   "outputs": [],
   "source": [
    "from sklearn.linear_model import LinearRegression"
   ],
   "metadata": {
    "collapsed": false,
    "pycharm": {
     "name": "#%%\n"
    }
   }
  },
  {
   "cell_type": "code",
   "execution_count": 31,
   "outputs": [],
   "source": [
    "rl = LinearRegression()"
   ],
   "metadata": {
    "collapsed": false,
    "pycharm": {
     "name": "#%%\n"
    }
   }
  },
  {
   "cell_type": "code",
   "execution_count": 32,
   "outputs": [
    {
     "data": {
      "text/plain": "LinearRegression()"
     },
     "execution_count": 32,
     "metadata": {},
     "output_type": "execute_result"
    }
   ],
   "source": [
    "rl.fit(X_train,y_train)"
   ],
   "metadata": {
    "collapsed": false,
    "pycharm": {
     "name": "#%%\n"
    }
   }
  },
  {
   "cell_type": "code",
   "execution_count": 33,
   "outputs": [
    {
     "data": {
      "text/plain": "array([106547.39552059,   4005.40442767,  39372.13902832,   6430.56693802,\n         6002.36097206])"
     },
     "execution_count": 33,
     "metadata": {},
     "output_type": "execute_result"
    }
   ],
   "source": [
    "rl.coef_"
   ],
   "metadata": {
    "collapsed": false,
    "pycharm": {
     "name": "#%%\n"
    }
   }
  },
  {
   "cell_type": "code",
   "execution_count": 34,
   "outputs": [
    {
     "data": {
      "text/plain": "37004.72706471753"
     },
     "execution_count": 34,
     "metadata": {},
     "output_type": "execute_result"
    }
   ],
   "source": [
    "rl.intercept_"
   ],
   "metadata": {
    "collapsed": false,
    "pycharm": {
     "name": "#%%\n"
    }
   }
  },
  {
   "cell_type": "code",
   "execution_count": 35,
   "outputs": [
    {
     "data": {
      "text/plain": "0.7683210797989054"
     },
     "execution_count": 35,
     "metadata": {},
     "output_type": "execute_result"
    }
   ],
   "source": [
    "rl.score(X_train,y_train)"
   ],
   "metadata": {
    "collapsed": false,
    "pycharm": {
     "name": "#%%\n"
    }
   }
  },
  {
   "cell_type": "code",
   "execution_count": 36,
   "outputs": [
    {
     "data": {
      "text/plain": "0.9146894879550872"
     },
     "execution_count": 36,
     "metadata": {},
     "output_type": "execute_result"
    }
   ],
   "source": [
    "rl.score(X_test,y_test)\n",
    "\n",
    "\n"
   ],
   "metadata": {
    "collapsed": false,
    "pycharm": {
     "name": "#%%\n"
    }
   }
  }
 ]
}