{
 "nbformat": 4,
 "nbformat_minor": 0,
 "metadata": {
  "kernelspec": {
   "display_name": "Python 3",
   "language": "python",
   "name": "python3"
  },
  "language_info": {
   "codemirror_mode": {
    "name": "ipython",
    "version": 3
   },
   "file_extension": ".py",
   "mimetype": "text/x-python",
   "name": "python",
   "nbconvert_exporter": "python",
   "pygments_lexer": "ipython3",
   "version": "3.7.7"
  },
  "colab": {
   "name": "NOTEBOOK_18-11-2021.ipynb",
   "provenance": []
  }
 },
 "cells": [
  {
   "cell_type": "markdown",
   "metadata": {
    "id": "xBPcQxH1fNv9"
   },
   "source": [
    "# Regresión logística.\n",
    "### José Falcón\n",
    "\n"
   ]
  },
  {
   "cell_type": "markdown",
   "metadata": {
    "id": "eIDYQ7ZqfNwH"
   },
   "source": [
    "Comenzaremos a estudiar \"Clasificación\" empezando por la \"regresión logística\". En los algoritmos de clasificación (a diferencia de los regresión en donde se asociaba un número real a una entrada) cada entrada se le asigna un  elemento de un subconjunto finito de los naturales, es decir, una función  $f:\\mathbb{R}^d \\rightarrow{A}$, en donde $A \\subset \\mathbb{N}$. ESte tipo de algoritmos corresponden al \"aprendizaje supervisado\", ya que para generar el modelo necesitamos tener datos etiquetados, es decir, de lo que sepamos cual es su valor de salida."
   ]
  },
  {
   "cell_type": "markdown",
   "metadata": {
    "id": "7Qz8PMVafNwI"
   },
   "source": [
    "![](http://deciphertoknow.com/wp-content/uploads/2018/07/3_Clusters_500_points-447x270.png)\n",
    "\n",
    "\n",
    "![](http://deciphertoknow.com/wp-content/uploads/2018/07/randome_pts_kmeans_op.png)"
   ]
  },
  {
   "cell_type": "markdown",
   "metadata": {
    "id": "O9FQ7WlDfNwK"
   },
   "source": [
    "En el caso de la \"Regresión logística\" tenemos una función $h$ de $\\mathbb{R}^d$ al intervalo $[0,1]$. Podemos interpretar $h(\\boldsymbol{x})$ como la probabilidad de que la etiqueta de $\\boldsymbol{x}$ sea $1$. La clase de hipótesis (o espacio de hipotesis) asociado a la regresión logística es la composición de una función sigmoide $\\phi_{sig}: \\mathbb{R} \\rightarrow [0,1]$ sobre el conjunto de funciones afines $L_d$. En particular, la función sigmoide utilizada en la regresión logística es la \"función logística\", definida como:\n",
    "$$\\phi_{sig}(z) = \\frac{1}{1+e^{-z}}$$"
   ]
  },
  {
   "cell_type": "markdown",
   "metadata": {
    "id": "SZHb0WFKfNwM"
   },
   "source": [
    "El espacio de hipótesis es por lo tanto (la función o clase de hipótesis):\n",
    "$$H_{sig} = \\phi_{sig}\\circ L_d = \\{  \\boldsymbol{x} \\rightarrow \\phi_{sig}(\\boldsymbol{w} \\cdot  \\boldsymbol{x} + b) : \\boldsymbol{w} \\in \\mathbb{R}^d , b \\in \\mathbb{R}\\}$$\n",
    "\n",
    "Nótese que cuando $\\boldsymbol{w} \\cdot  \\boldsymbol{x} + b$ es muy grande entonces $\\phi_{sig}(\\boldsymbol{w} \\cdot  \\boldsymbol{x} + b)$ es cercano a $1$, mientras que cuando $\\boldsymbol{w} \\cdot  \\boldsymbol{x} + b$ es muy pequeño entonces $\\phi_{sig}(\\boldsymbol{w} \\cdot  \\boldsymbol{x}+b)$ es cercano a $0$ "
   ]
  },
  {
   "cell_type": "markdown",
   "metadata": {
    "id": "UWlqfa3bfNwO"
   },
   "source": [
    "La explicación de arriba se hizo para cuando tenemos solamente un dato $\\boldsymbol{x}$, pero nosotros estaremos ingresando a la vez todos los datos, por lo que en lugar de un vector $\\boldsymbol{x} \\in \\mathbb{R}^d$ tendremos una matriz $X \\in \\mathbb{R}^{n \\times d}$, entonces nuestra función queda de la siguiente forma:\n",
    "$$H_{sig} =  \\phi_{sig}\\circ L_d = \\phi_{sig}(Xw+\\bar{b})$$ \n",
    "\n",
    "con  $w \\in \\mathbb{R}^d$, $\\bar{b} = (b,b,\\dots,b)^T,b\\in \\mathbb{R}, \\bar{b}\\in \\mathbb{R}^d$ y $\\phi_{sig}$ se aplica entrada a entrada.\n"
   ]
  },
  {
   "cell_type": "markdown",
   "metadata": {
    "id": "lRqllg3QfNwP"
   },
   "source": [
    "![](https://upload.wikimedia.org/wikipedia/commons/thumb/6/66/Funci%C3%B3n_sigmoide_01.svg/1280px-Funci%C3%B3n_sigmoide_01.svg.png)"
   ]
  },
  {
   "cell_type": "markdown",
   "metadata": {
    "id": "NkHz9r0IfNwQ"
   },
   "source": [
    "Como podemos ver en la imagen de arriba, la gráfica de la función sigmoide tiene forma de \"S\", y de ahí su nombre. \n",
    "\n",
    "En el caso de la regresión logística se dice que es un clasificador lineal, ya que separa a los datos mediante una recta, plano e hiperplano para arrojar a que categoría pertenecen, y es por eso que este clasificador es binario. Veamos un ejemplo\n",
    "\n",
    "![](https://external-content.duckduckgo.com/iu/?u=http%3A%2F%2Fttsuchi.github.io%2Fnotebooks%2Fimages%2FPerceptron%2Fclassification.png&f=1&nofb=1)\n",
    "\n",
    "En este caso decimos que los datos son linealmente separables ya que al dividirlos con una recta se clasifican correctamente, pero no todos los datos son así\n",
    "\n",
    "![](https://miro.medium.com/max/1786/1*q3oqM2j4HOs6ntxZ_OakFw.png)\n",
    "\n",
    "En la imagen de arriba podemos ver distintos tipos de conjutnos de datos de datos, de donde notamos que no todos son linealmente separables."
   ]
  },
  {
   "cell_type": "markdown",
   "metadata": {
    "id": "YQOXjLUVfNwS"
   },
   "source": [
    "En el caso de la regresión logística, el plano (hiperplano) o recta que separa a los datos está dado cuando $Xw + \\bar{b} = 0$, ya que en $0$ la función sigmoide vale $0.5$, entonces se pueden tomar que los valores que estan por encima del plano (hiperplano) o recta se les asocie $1$ (ya que la probabilidad de ser uno es $\\geq 0.5$), mientras los que están debajo se les asocia un cero (ya que la probabilidad de ser uno es $< 0.5$)"
   ]
  },
  {
   "cell_type": "markdown",
   "metadata": {
    "id": "yzaI20AOfNwU"
   },
   "source": [
    "Entonces necesitamos encontrar los valores de las entradas de $w$, y para eso tenemos que utilizar una función de error o costo (como en el caso de regresión lineal) y minimizarla. En esta caso construiremos una función de error para la regresión logística llamada \"Binary Cross-Entropy\"."
   ]
  },
  {
   "cell_type": "markdown",
   "metadata": {
    "id": "rzklbYFLfNwV"
   },
   "source": [
    "Consideremos un predictor $\\boldsymbol{x}$ y una variable binaria o de Bernoulli $y$. Asumiendo que existe relación entre $\\boldsymbol{x}$ y $y$ un modelo \"ideal\" predeciría:\n",
    "$$P(y|\\boldsymbol{x}) = (1\\, sí\\, y=1),\\, (0 \\, sí\\, y=0)$$\n",
    "\n",
    "Al usar la regresión logística, está probabilidad desconocida se modela como:\n",
    "\n",
    "$$\\hat{P}(y=1|\\boldsymbol{x},\\boldsymbol{w}) = \\frac{1}{1+e^{-Xw}}$$\n",
    "\n",
    "Nuestra meta es encontrar los parámetros $w$ tales que la porbabilidad modelada sea tan cercana como sea posible al uno verdadero.\n",
    "\n",
    "\n",
    "Una forma forma de asegurar que tan bueno es calcular la función de verosimilitud (likelihood function). Dadas $n$ muestras, esta función está definida como:\n",
    "$$L(\\boldsymbol{w}) = \\prod_{i=1}^n \\hat{P}(y_i|\\boldsymbol{x_i};\\boldsymbol{w})$$\n",
    "\n",
    "Idealmente buscamos encontrar los parámetros $\\boldsymbol{w}$ que maximicen $L(\\boldsymbol{w})$. Esto es muchas veces complicado de hacer directamente, pero podemos trabajar con el logaritmo para simplificar las cosas\n",
    "\n",
    "$$-log L(\\boldsymbol{w}) = -log\\left(\\prod_{i=1}^n \\hat{P}(y_i|\\boldsymbol{x_i};\\boldsymbol{w})\\right) ... (1)$$\n",
    "\n",
    "Ya que la función logaritmo es una función monótona, minimizar esta función con logaritmo es equivalente a maximizar la función original.\n",
    "Ahora calculamos $\\hat{P}(y|\\boldsymbol{x}, \\boldsymbol{w})$\n",
    "Sabemos que:\n",
    "    $$\\hat{P}(1, \\boldsymbol{x} ; \\boldsymbol{w}) = 1- \\hat{P}(0\\boldsymbol{x};\\boldsymbol{w})$$\n",
    "    \n",
    "Por las propiedades de la distribución de Bernoulli sabemos que la función de probabilidad de esta distribución, con una posible salida $k$ puede ser expresada como:\n",
    "$$f(k;p) = p^k(1-p)^{1-k}\\, con \\, k \\in \\{0,1\\}$$\n",
    "\n",
    "entonces para nuestra salida $y$ podemos usar las expresiones anteriores quedando como resultado:\n",
    "$$\\hat{P}(y|\\boldsymbol{x};\\boldsymbol{w}) = \\hat{P}(1|\\boldsymbol{x} ;\\boldsymbol{w})^y \\hat{P}(0|\\boldsymbol{x} ;\\boldsymbol{w})^{1-y}...(2)$$\n",
    "    \n",
    "Sustituyendo (2) en (1), y normalizando por el número de datos $n$ se obtiene finalmente la binary cross-entropy\n",
    "\n",
    "$$J(w) = -\\frac{1}{n} log\\left(\\prod_{i=1}^n  \\hat{P}(1|\\boldsymbol{x_i} ;\\boldsymbol{w})^{y_i} \\hat{P}(0|\\boldsymbol{x_i} ;\\boldsymbol{w})^{1-y_i}\\right)$$\n",
    "\n",
    "$$J(w) = -\\frac{1}{n}\\sum_{i=1}^n(y_ilog(\\hat{P}(1, \\boldsymbol{x_i}; \\boldsymbol{w}))+(1_i-y_i)log(1-\\hat{P}(1, \\boldsymbol{x_i}; \\boldsymbol{w}))$$\n",
    "\n",
    "$$J(w)=-\\frac{1}{n}\\sum_{i=1}^n(y_i log(\\phi_{sig}(Xw))_i+(1-y_i)log(1-\\phi_{sig}(Xw)_i)$$\n",
    "\n",
    "\n",
    "Se puede reescribir en termino de multiplicación de matrices de la siguiente forma:\n",
    "\n",
    "$$J(w)=-\\frac{1}{n}(y^T log(\\phi_{sig}(Xw))+(1-y)^Tlog(1-\\phi_{sig}(Xw)))...(3)$$"
   ]
  },
  {
   "cell_type": "markdown",
   "metadata": {
    "id": "3OQmu2xifNwX"
   },
   "source": [
    "Una característica importante de esta función de error o costo es que es \"convexa\", por lo que podemos utilizar métodos convenciales de optimización como lo es el \"descenso del gradiente\". A continuación demostraremos que esta función es convexa."
   ]
  },
  {
   "cell_type": "markdown",
   "metadata": {
    "id": "DYJrO8CcfNwX"
   },
   "source": [
    "Antes de comenzar con los cálculos veamos una identidad que nos será de utilidad:\n",
    "\n",
    "$$\\phi_{sig}(x)^{\\prime} = \\frac{e^{-x}}{\\left(1+e^{-x}\\right)^2} = \\left(\\frac{1}{1+e^{-x}}\\right)\\left(\\frac{e^{-x}}{1+e^{-x}}\\right) = \\phi_{sig}(x)\\left(\\frac{e^{-x}}{1+e^{-x}}\\right) = \\phi_{sig}(x)\\left(\\frac{1+e^{-x}-1}{1+e^{-x}}\\right) = \\phi_{sig}(x)\\left(\\frac{1+e^{-x}}{1+e^{-x}}- \\frac{1}{1+e^{-x}}\\right) = \\phi_{sig}(x)\\left(1-\\phi_{sig}(x)\\right)$$"
   ]
  },
  {
   "cell_type": "markdown",
   "metadata": {
    "id": "iJ6XN3JkfNwY"
   },
   "source": [
    "Primero calculemos el gradiente con respecto a $w$ y para esto vamos a usar la regla de la cadena.\n",
    "ya encontramos que $\\phi_{sig}(x)^{\\prime} = \\phi_{sig}(x)(1-\\phi_{sig}(x)) $ y nombremos a $z = \\phi_{sig}(h)$ con $h = Xw$\n",
    "\n",
    "Ahora calculamos lo siguiente:\n",
    "$$\\nabla_w J(w) = \\frac{\\partial J(w)}{\\partial w} = \\frac{\\partial J(w)}{\\partial z}\\frac{\\partial z}{\\partial h}\\frac{\\partial h}{\\partial w}$$\n",
    "\n",
    "de (3) se sigue que (simplemente derivando):\n",
    "\n",
    "$$\\frac{\\partial J(w)}{\\partial z}= \\frac{1}{n}((1-y)^T)(1-z)(z(1-z))^{-1} - y^Tz(z(1-z))^{-1}) = \\frac{1}{n} (z-y)^T(z(1-z))^{-1}$$\n",
    "\n",
    "$$\\frac{\\partial z}{\\partial h} = z(1-z)$$\n",
    "\n",
    "$$\\frac{\\partial h}{\\partial w} = X$$\n",
    "\n",
    "Finalmente queda que:\n",
    "\n",
    "$$\\nabla_w J(w) = \\frac{\\partial J(w)}{\\partial w} = \\frac{1}{n}(z-y)^TX$$\n",
    "esta es una matriz de $1\\times d$ pero nosotros queremos que sea de $d \\times 1$, entonces simplemente lo transponemos quedando lo siguiente:\n",
    "\n",
    "$$\\nabla_w J(w) = \\frac{1}{n} X^T(z-y)$$\n",
    "\n",
    "$$\\nabla_w J(w) = \\frac{1}{n} X^T(\\phi_{sig}(Xw)-y)$$\n"
   ]
  },
  {
   "cell_type": "markdown",
   "metadata": {
    "id": "fGizLnfJfNwY"
   },
   "source": [
    "En calculo de una variable, cuando la segunda derivada de una función es positiva se tiene que esa función es convexa. En calculo multivariable hay una propiedad análoga, veamos las siguientes definiciones."
   ]
  },
  {
   "cell_type": "markdown",
   "metadata": {
    "id": "t85aL1HqfNwZ"
   },
   "source": [
    "**Definición 1**: (Matriz Hessianna) Supongamos que $f:\\mathbb{R^n} \\rightarrow \\mathbb{R}$. Si todas las segundas derivadas parciales de $f$ existen y son continuas sobre el dominio de la función, la matriz Hessianna $H$ de $f$ es una matriz cuadrada $n \\times n$ definida como:\n",
    "\n",
    "$$H_{i,j} = \\frac{\\partial^2f}{\\partial x_i\\partial x_j}$$\n",
    "\n",
    "Es una matriz simétrica debido a la hipótesis de continuidad de las segundas derivadas parciales."
   ]
  },
  {
   "cell_type": "markdown",
   "metadata": {
    "id": "V7zuljdNfNwZ"
   },
   "source": [
    "**Definición 2**: (Matriz positiva semi-definida) Una matriz de $n\\times n$ real y simétrica $M$ se dice que es positiva semidefinida si $x^TMx\\geq 0$ para todo $x \\in \\mathbb{R}^n$]"
   ]
  },
  {
   "cell_type": "markdown",
   "metadata": {
    "id": "ZjM0h6oRfNwZ"
   },
   "source": [
    "Ya con estas definiciones, podemos dar un  teorema que nos dirá cuando una función multivariable es convexa, en este caso nuestra función es un campo escalar."
   ]
  },
  {
   "cell_type": "markdown",
   "metadata": {
    "id": "yhZpzU3TfNwa"
   },
   "source": [
    "**Teorema 1**: Una función $f:\\mathbb{R}^n \\rightarrow \\mathbb{R}$ doblemente diferenciable, es convexa sí y solo sí la matriz Hessianna $H$ es positiva semidefinida."
   ]
  },
  {
   "cell_type": "markdown",
   "metadata": {
    "id": "tBEJS3JVfNwa"
   },
   "source": [
    "Con la teoría dada anteriormente, simplemente basta probar que la matriz Hessianna de nuestra función $J$ es positiva semidefinida para concluir que nuestra función es convexa."
   ]
  },
  {
   "cell_type": "markdown",
   "metadata": {
    "id": "iKHo2S3vfNwa"
   },
   "source": [
    "Para calcular la matriz Hessianna, simplemente tenemos que derivar $\\frac{\\partial\\nabla_w J(w)}{\\partial w}$, es decir:\n",
    "\n",
    "$$H_{i,j} = \\frac{\\partial \\left[\\nabla_w J(w)\\right]_j}{\\partial w_i}$$\n",
    "\n",
    "$$\\left[\\nabla_w J(w)\\right]_j= \\frac{1}{n} \\left[X^T\\phi_{sig}(Xw)-X^Ty\\right]_j $$\n",
    "\n",
    "entonces: \n",
    "\n",
    "$$\\frac{\\partial \\left[\\nabla_w J(w)\\right]_j}{\\partial w_i} = \\frac{1}{n} \\left( \\frac{\\partial \\left[X^T\\phi_{sig}(Xw)\\right]_j}{\\partial w_i}-\\frac{\\partial \\left[X^T y\\right]_j}{\\partial w_i}\\right) = \\frac{1}{n}\\frac{\\partial \\left[X^T\\phi_{sig}(Xw)\\right]_j}{\\partial w_i}$$\n",
    "\n",
    "ya que $X^Ty$ no depende de ninguna de las entradas de $w$\n",
    "\n",
    "$$\\frac{\\partial \\left[\\nabla_w J(w)\\right]_j}{\\partial w_i} = \\frac{\\partial \\left(\\frac{1}{n} \\sum_{k=1}^n X^T_{j,k}\\phi_{sig}\\left(Xw\\right)_k\\right)}{\\partial w_i} = \\frac{1}{n}\\sum_{k=1}^n X^T_{j,k} \\frac{\\partial \\phi_{sig}\\left(Xw\\right)_k}{\\partial w_i}$$\n",
    "$$=\\frac{1}{n}\\sum_{k=1}^n X^T_{j,k} \\phi_{sig}\\left(Xw\\right)_k \\left(1-\\phi_{sig}\\left(Xw\\right)_k\\right)\\frac{\\partial (Xw)_k}{\\partial w_i}\\quad ...(4)$$\n",
    "\n",
    "Calculemos $\\frac{\\partial (Xw)_k}{\\partial w_i}$\n",
    "\n",
    "$$\\frac{\\partial (Xw)_k}{\\partial w_i} = \\frac{\\partial \\left(\\sum_{p=1}^d X_{k,p}w_p\\right)}{\\partial w_i} = \\sum_{p=1}^d X_{k,p} \\frac{\\partial w_p}{\\partial w_i} = \\sum_{p=1}^d X_{k,p} \\delta_{p,i} = X_{k,i}$$\n",
    "\n",
    "sustituyendo esto en $(4)$ se tiene que:\n",
    "\n",
    "$$\\frac{\\partial \\left[\\nabla_w J(w)\\right]_j}{\\partial w_i} = \\frac{1}{n}\\sum_{k=1}^n X^T_{j,k} \\phi_{sig}\\left(Xw\\right)_k \\left(1-\\phi_{sig}\\left(Xw\\right)_k\\right)X_{k,i} \\quad ...(5)$$\n",
    "\n",
    "Sea $diag\\left(\\phi_{sig}(Xw)(1-\\phi_{sig}(Xw))\\right) \\in \\mathbb{R}^{n\\times n} $, esta matriz tiene la siguiente representación:\n",
    "\n",
    "$$diag\\left(\\phi_{sig}(Xw)(1-\\phi_{sig}(Xw))\\right)_{i,j} = \\left[\\phi_{sig}\\left(Xw\\right)_i \\left(1-\\phi_{sig}\\left(Xw\\right)_i\\right)\\right]\\delta_{i,j}$$\n",
    "\n",
    "Realicemos unas cuantas manipulaciones del término $\\phi_{sig}\\left(Xw\\right)_k \\left(1-\\phi_{sig}\\left(Xw\\right)_k\\right)X_{k,i}$ utilizando lo anterior:\n",
    "\n",
    "$$\\phi_{sig}\\left(Xw\\right)_k \\left(1-\\phi_{sig}\\left(Xw\\right)_k\\right)X_{k,i} = \\sum_{p=1}^n \\left[\\phi_{sig}\\left(Xw\\right)_k \\left(1-\\phi_{sig}\\left(Xw\\right)_k\\right)\\right]\\delta_{k,p} X_{p,i}$$\n",
    "$$= \\sum_{p=1}^n diag\\left(\\phi_{sig}(Xw)(1-\\phi_{sig}(Xw))\\right)_{k,p} X_{p,i}$$\n",
    "$$= \\left[diag\\left(\\phi_{sig}(Xw)(1-\\phi_{sig}(Xw))\\right)X\\right]_{k,i} $$\n",
    "\n",
    "sustituyendo lo anterior en $(5)$ se llega a:\n",
    "\n",
    "$$\\frac{\\partial \\left[\\nabla_w J(w)\\right]_j}{\\partial w_i} = \\frac{1}{n}\\sum_{k=1}^n X^T_{j,k}\\left[diag(\\phi_{sig}(Xw)(1-\\phi_{sig}(Xw)))X\\right]_{k,i}$$\n",
    "$$= \\frac{1}{n}\\left[X^T diag\\left(\\phi_{sig}(Xw)(1-\\phi_{sig}(Xw))\\right) X\\right]_{j,i}$$\n",
    "\n",
    "Por lo tanto:\n",
    "\n",
    "$$H_{i,j} = \\frac{1}{n}\\left[X^T diag\\left(\\phi_{sig}(Xw)(1-\\phi_{sig}(Xw))\\right) X\\right]_{j,i}$$\n",
    "\n",
    "es decir:\n",
    "\n",
    "$$H = \\frac{1}{n} \\left[X^T diag\\left(\\phi_{sig}(Xw)(1-\\phi_{sig}(Xw))\\right) X\\right]^T$$\n",
    "\n",
    "\n",
    "$$\\implies H = \\frac{1}{n}X^T diag\\left(\\phi_{sig}(Xw)(1-\\phi_{sig}(Xw))\\right) X$$\n",
    "\n",
    "Sea $S=\\frac{1}{n}diag\\left(\\phi_{sig}(Xw)(1-\\phi_{sig}(Xw))\\right)$\n",
    "\n",
    "$$\\therefore H = X^T S X $$\n"
   ]
  },
  {
   "cell_type": "markdown",
   "metadata": {
    "id": "qlbviiuzfNwb"
   },
   "source": [
    "**Observación:** Como $S$ es una matriz diagonal con valores reales positivos, entonces existe una matriz diagonal $B$ tal que $BB = S$, es decir, una matriz donde las entradas de la diagonal son la raíz de las entradas de $S$. Como $S$ es diagonal $B$ es diagonal, y entonces $B^T= B$.\n",
    "\n",
    "Ya estamos listos para demostrar que la matriz Hessiana de $J$ es positiva semidefinida."
   ]
  },
  {
   "cell_type": "markdown",
   "metadata": {
    "id": "-nyOCoISfNwc"
   },
   "source": [
    "**Proposición 1:** La matriz Hessiana de la función $J(w)$ es una matriz postitiva semidefinida.\n",
    "\n",
    "**Demostración:**\n",
    "\n",
    "Notemos que $H$ es una matriz de $d \\times d$. Tomemos $x \\in \\mathbb{R}^d$\n",
    "\n",
    "$$x^THx = x^TX^TSXx\\\\\n",
    "       \\quad  \\quad \\quad = x^TX^TBBXx\\\\\n",
    "       \\quad \\quad \\quad = x^TX^TB^TBXx\\\\\n",
    "       \\quad \\quad \\quad = (BXx)^TBXx\\\\\n",
    "       \\quad \\quad  = \\|BXx\\|^2 \\geq 0$$\n",
    "\n",
    "Con lo que concluimos que $H$ es una matriz positiva semidefinida\n"
   ]
  },
  {
   "cell_type": "markdown",
   "metadata": {
    "id": "cBMEy2n-fNwd"
   },
   "source": [
    "**Como la matriz Hessiana $H$ de $J(w)$ es positiva semidefinida, utilizando el Teorema 1 concluimos que $J(w)$ es convexa**"
   ]
  },
  {
   "cell_type": "markdown",
   "metadata": {
    "id": "e6ePtooQfNwd"
   },
   "source": [
    "Ya sabiendo que $J(w)$ es convexa podemos utilizar el método del descenso por el gradiente para minimizarla, el cuál es:\n",
    "\n",
    "$$w_{n+1} = w_n-\\alpha \\nabla J(w_{n})$$\n",
    "\n",
    "y para no tener problemas con la tasa de aprendizaje utilizaremos el método de \"Barzilai-Borwein\" para actualizar la tasa de aprendizaje \n",
    "\n",
    "$$  \\alpha = \\frac{\\Delta g(w)^T\\Delta w}{\\Delta g(w)^T\\Delta g(w)}$$\n",
    "Con esto ya se logró obtener la forma en que se calculará el valor de $\\alpha$ en cada iteración\n",
    "\n",
    "donde  $\\Delta g(w) = \\nabla J(w_k)-\\nabla J(w_{k-1})$"
   ]
  },
  {
   "cell_type": "markdown",
   "metadata": {
    "id": "IJCBUFwtfNwe"
   },
   "source": [
    "Ahora sí, hagamos la implementación computacional."
   ]
  },
  {
   "cell_type": "code",
   "metadata": {
    "id": "FmDkz7-jfNwe"
   },
   "source": [
    "import numpy as np\n",
    "import pandas as pd \n",
    "import matplotlib.pyplot as plt"
   ],
   "execution_count": 8,
   "outputs": []
  },
  {
   "cell_type": "code",
   "metadata": {
    "id": "lOeT5wq7fNwh"
   },
   "source": [
    "def sigmoide(X):\n",
    "    X = np.array(X)\n",
    "    return 1/(1+np.exp(-X))"
   ],
   "execution_count": 9,
   "outputs": []
  },
  {
   "cell_type": "code",
   "metadata": {
    "id": "OjljIhMufNwh",
    "outputId": "69901362-49a4-4b3f-a267-9e1adaab3f98"
   },
   "source": [
    "sigmoide(1)"
   ],
   "execution_count": 10,
   "outputs": [
    {
     "data": {
      "text/plain": "0.7310585786300049"
     },
     "execution_count": 10,
     "metadata": {},
     "output_type": "execute_result"
    }
   ]
  },
  {
   "cell_type": "markdown",
   "metadata": {
    "id": "dg9yTo69fNwj"
   },
   "source": [
    "$$\\nabla_w J(w) = \\frac{1}{n} X^T(\\phi_{sig}(Xw)-y)$$"
   ]
  },
  {
   "cell_type": "code",
   "metadata": {
    "id": "cYNHuNIxfNwk"
   },
   "source": [
    "def descenso_grandiente_bw(X,y):\n",
    "    lr = 0.001\n",
    "    pesos = np.zeros((X.shape[1],1))\n",
    "    iteraciones = 0\n",
    "    n = X.shape[0]\n",
    "    error = 1\n",
    "    while error > 1e-10:\n",
    "        pesos_anteriores = pesos\n",
    "        gradiente_anterior = (1/n)*X.T@(sigmoide(X@pesos_anteriores)-y)\n",
    "        pesos = pesos_anteriores -lr*gradiente_anterior\n",
    "        gradiente_nuevo = (1/n)*X.T@(sigmoide(X@pesos)-y)\n",
    "        delta_g = gradiente_nuevo-gradiente_anterior\n",
    "        delta_theta = pesos-pesos_anteriores\n",
    "        lr = ((np.matmul(delta_g.T,delta_theta))/(np.matmul(delta_g.T, delta_g))).ravel()[0]\n",
    "        iteraciones = iteraciones + 1\n",
    "        error = abs(sum(delta_theta))\n",
    "        \n",
    "    return pesos"
   ],
   "execution_count": 11,
   "outputs": []
  },
  {
   "cell_type": "code",
   "metadata": {
    "id": "zzzP2bnAfNwl"
   },
   "source": [
    "dataset = pd.read_csv(\"../datasets/data_log_2.csv\")"
   ],
   "execution_count": 12,
   "outputs": []
  },
  {
   "cell_type": "code",
   "metadata": {
    "id": "UlL--26UfNwm",
    "outputId": "8c97ede4-fa1d-4f79-fae2-e11dafdfcaea"
   },
   "source": [
    "dataset.head()"
   ],
   "execution_count": 13,
   "outputs": [
    {
     "data": {
      "text/plain": "    User ID  Gender   Age  EstimatedSalary  Purchased\n0  15624510    Male  19.0          19000.0          0\n1  15810944    Male  35.0          20000.0          0\n2  15668575  Female  26.0          43000.0          0\n3  15603246  Female  27.0          57000.0          0\n4  15804002    Male  19.0          76000.0          0",
      "text/html": "<div>\n<style scoped>\n    .dataframe tbody tr th:only-of-type {\n        vertical-align: middle;\n    }\n\n    .dataframe tbody tr th {\n        vertical-align: top;\n    }\n\n    .dataframe thead th {\n        text-align: right;\n    }\n</style>\n<table border=\"1\" class=\"dataframe\">\n  <thead>\n    <tr style=\"text-align: right;\">\n      <th></th>\n      <th>User ID</th>\n      <th>Gender</th>\n      <th>Age</th>\n      <th>EstimatedSalary</th>\n      <th>Purchased</th>\n    </tr>\n  </thead>\n  <tbody>\n    <tr>\n      <th>0</th>\n      <td>15624510</td>\n      <td>Male</td>\n      <td>19.0</td>\n      <td>19000.0</td>\n      <td>0</td>\n    </tr>\n    <tr>\n      <th>1</th>\n      <td>15810944</td>\n      <td>Male</td>\n      <td>35.0</td>\n      <td>20000.0</td>\n      <td>0</td>\n    </tr>\n    <tr>\n      <th>2</th>\n      <td>15668575</td>\n      <td>Female</td>\n      <td>26.0</td>\n      <td>43000.0</td>\n      <td>0</td>\n    </tr>\n    <tr>\n      <th>3</th>\n      <td>15603246</td>\n      <td>Female</td>\n      <td>27.0</td>\n      <td>57000.0</td>\n      <td>0</td>\n    </tr>\n    <tr>\n      <th>4</th>\n      <td>15804002</td>\n      <td>Male</td>\n      <td>19.0</td>\n      <td>76000.0</td>\n      <td>0</td>\n    </tr>\n  </tbody>\n</table>\n</div>"
     },
     "execution_count": 13,
     "metadata": {},
     "output_type": "execute_result"
    }
   ]
  },
  {
   "cell_type": "code",
   "metadata": {
    "id": "nRJF8XHofNwn"
   },
   "source": [
    "X = dataset.iloc[:,[2,3]].values"
   ],
   "execution_count": 14,
   "outputs": []
  },
  {
   "cell_type": "code",
   "metadata": {
    "id": "THORj8KdfNwo",
    "outputId": "8bb46ce6-9a93-4782-9b78-48950acd704a"
   },
   "source": [
    "X.shape"
   ],
   "execution_count": 15,
   "outputs": [
    {
     "data": {
      "text/plain": "(400, 2)"
     },
     "execution_count": 15,
     "metadata": {},
     "output_type": "execute_result"
    }
   ]
  },
  {
   "cell_type": "code",
   "metadata": {
    "id": "gzgRU0hUfNwo"
   },
   "source": [
    "from sklearn.preprocessing import StandardScaler"
   ],
   "execution_count": 16,
   "outputs": []
  },
  {
   "cell_type": "code",
   "metadata": {
    "id": "UOjumGo4fNwp"
   },
   "source": [
    "scaler = StandardScaler()"
   ],
   "execution_count": 17,
   "outputs": []
  },
  {
   "cell_type": "code",
   "metadata": {
    "id": "nFZgyZ-lfNwp",
    "outputId": "62696c33-6af4-4494-ad09-a806529835b6"
   },
   "source": [
    "scaler.fit(X)"
   ],
   "execution_count": 18,
   "outputs": [
    {
     "data": {
      "text/plain": "StandardScaler()"
     },
     "execution_count": 18,
     "metadata": {},
     "output_type": "execute_result"
    }
   ]
  },
  {
   "cell_type": "code",
   "metadata": {
    "id": "DBQ2xiGafNwq"
   },
   "source": [
    "X_s = scaler.transform(X)"
   ],
   "execution_count": 19,
   "outputs": []
  },
  {
   "cell_type": "code",
   "metadata": {
    "id": "o_YIUmNsfNwq",
    "outputId": "ed86072a-5fe0-4fdd-898c-06677952bbb7"
   },
   "source": [
    "X_s"
   ],
   "execution_count": 20,
   "outputs": [
    {
     "data": {
      "text/plain": "array([[-1.78179743, -1.49004624],\n       [-0.25358736, -1.46068138],\n       [-1.11320552, -0.78528968],\n       [-1.01769239, -0.37418169],\n       [-1.78179743,  0.18375059],\n       [-1.01769239, -0.34481683],\n       [-1.01769239,  0.41866944],\n       [-0.54012675,  2.35674998],\n       [-1.20871865, -1.07893824],\n       [-0.25358736, -0.13926283],\n       [-1.11320552,  0.30121002],\n       [-1.11320552, -0.52100597],\n       [-1.6862843 ,  0.47739916],\n       [-0.54012675, -1.51941109],\n       [-1.87731056,  0.35993973],\n       [-0.82666613,  0.30121002],\n       [ 0.89257019, -1.3138571 ],\n       [ 0.70154394, -1.28449224],\n       [ 0.79705706, -1.22576253],\n       [ 0.98808332, -1.19639767],\n       [ 0.70154394, -1.40195167],\n       [ 0.89257019, -0.60910054],\n       [ 0.98808332, -0.84401939],\n       [ 0.70154394, -1.40195167],\n       [ 0.79705706, -1.37258681],\n       [ 0.89257019, -1.46068138],\n       [ 1.08359645, -1.22576253],\n       [ 0.89257019, -1.16703281],\n       [-0.82666613, -0.78528968],\n       [-0.63563988, -1.51941109],\n       [-0.63563988,  0.12502088],\n       [-1.01769239,  1.97500684],\n       [-1.59077117, -1.5781408 ],\n       [-0.92217926, -0.75592482],\n       [-1.01769239,  0.59485858],\n       [-0.25358736, -1.25512738],\n       [-0.44461362, -1.22576253],\n       [-0.73115301, -0.60910054],\n       [-1.11320552,  0.06629116],\n       [-1.01769239, -1.13766796],\n       [-1.01769239, -1.54877595],\n       [-0.44461362, -0.55037082],\n       [-0.25358736,  1.123426  ],\n       [-0.73115301, -1.60750566],\n       [-0.92217926,  0.41866944],\n       [-1.39974491, -1.46068138],\n       [-1.20871865,  0.27184516],\n       [-1.01769239, -0.46227625],\n       [-0.73115301,  1.91627713],\n       [-0.63563988,  0.56549373],\n       [-1.30423178, -1.1083031 ],\n       [-1.87731056, -0.75592482],\n       [-0.82666613,  0.38930459],\n       [-0.25358736, -1.37258681],\n       [-1.01769239, -0.34481683],\n       [-1.30423178, -0.4329114 ],\n       [-1.39974491, -0.63846539],\n       [-0.92217926,  0.27184516],\n       [-1.49525804, -1.51941109],\n       [-0.54012675,  1.38770971],\n       [-1.01769239, -1.46068138],\n       [-1.20871865,  0.50676401],\n       [-1.39974491, -0.10989798],\n       [-0.54012675,  1.47580428],\n       [ 2.03872775,  0.38930459],\n       [-1.30423178, -0.34481683],\n       [-1.30423178, -1.49004624],\n       [-1.39974491,  0.35993973],\n       [-1.49525804, -0.19799255],\n       [-0.63563988, -0.05116826],\n       [-1.20871865,  0.30121002],\n       [-1.30423178, -1.25512738],\n       [-1.6862843 , -1.37258681],\n       [-0.44461362,  1.27025028],\n       [-0.54012675, -1.51941109],\n       [-0.34910049,  1.24088543],\n       [-1.87731056, -0.52100597],\n       [-1.49525804, -1.25512738],\n       [-0.92217926,  0.50676401],\n       [-1.11320552, -1.54877595],\n       [-0.73115301,  0.30121002],\n       [ 0.12846516, -0.81465453],\n       [-1.6862843 , -0.60910054],\n       [-0.25358736,  0.53612887],\n       [-0.73115301, -0.2273574 ],\n       [-0.63563988,  1.41707457],\n       [-1.30423178, -0.4329114 ],\n       [-0.92217926,  0.4480343 ],\n       [-1.11320552,  0.33057487],\n       [-0.25358736, -0.57973568],\n       [-1.49525804,  0.33057487],\n       [-0.73115301,  1.35834485],\n       [-1.11320552, -1.60750566],\n       [-0.82666613, -1.22576253],\n       [-0.82666613,  0.38930459],\n       [-0.25358736, -0.75592482],\n       [-0.25358736, -1.3138571 ],\n       [-0.92217926,  1.56389885],\n       [-0.25358736,  0.09565602],\n       [-0.92217926, -0.96147882],\n       [-1.01769239,  0.53612887],\n       [-0.92217926, -0.31545197],\n       [-0.54012675,  0.47739916],\n       [-0.44461362,  2.32738512],\n       [-1.78179743, -1.43131652],\n       [-1.59077117,  0.06629116],\n       [-1.11320552, -1.02020853],\n       [-1.01769239,  0.56549373],\n       [-1.11320552,  0.47739916],\n       [ 0.03295203,  0.30121002],\n       [ 0.12846516,  0.03692631],\n       [-0.0625611 ,  0.03692631],\n       [ 0.03295203, -0.25672226],\n       [-0.0625611 , -0.4329114 ],\n       [ 0.41500455,  0.30121002],\n       [ 0.22397829, -0.37418169],\n       [-0.25358736,  0.15438573],\n       [-0.15807423, -0.52100597],\n       [ 0.22397829, -0.31545197],\n       [ 0.31949142, -0.31545197],\n       [-0.15807423,  0.15438573],\n       [-0.0625611 ,  0.06629116],\n       [ 0.22397829,  0.15438573],\n       [-0.25358736, -0.49164111],\n       [ 0.31949142, -0.55037082],\n       [ 0.12846516, -0.25672226],\n       [ 0.41500455, -0.13926283],\n       [-1.11320552, -1.1083031 ],\n       [-0.73115301, -1.54877595],\n       [-1.11320552,  0.41866944],\n       [-0.63563988, -0.34481683],\n       [-0.44461362, -1.13766796],\n       [-0.73115301,  0.50676401],\n       [-1.59077117, -0.05116826],\n       [-0.92217926, -0.4329114 ],\n       [-1.39974491, -0.19799255],\n       [-1.6862843 ,  0.35993973],\n       [-0.73115301,  1.09406114],\n       [-0.92217926, -0.31545197],\n       [-1.78179743, -1.3138571 ],\n       [-1.78179743,  0.4480343 ],\n       [-1.87731056, -0.05116826],\n       [-0.25358736, -0.31545197],\n       [-0.73115301,  0.56549373],\n       [-0.34910049, -1.3138571 ],\n       [-1.30423178,  0.56549373],\n       [-1.01769239,  0.77104772],\n       [ 0.31949142, -1.16703281],\n       [-0.82666613, -0.25672226],\n       [-1.6862843 ,  0.12502088],\n       [-1.11320552, -1.60750566],\n       [ 0.31949142, -0.72655996],\n       [-0.63563988,  0.18375059],\n       [-0.15807423, -0.57973568],\n       [ 0.22397829, -0.66783025],\n       [-0.63563988, -1.60750566],\n       [ 0.79705706, -0.31545197],\n       [-0.82666613,  0.15438573],\n       [-1.11320552, -1.16703281],\n       [-0.54012675,  1.91627713],\n       [-0.54012675,  0.88850715],\n       [-1.20871865,  0.59485858],\n       [-0.0625611 , -1.07893824],\n       [-0.25358736, -0.93211396],\n       [-0.44461362, -0.02180341],\n       [-1.87731056,  0.47739916],\n       [-1.49525804, -0.4329114 ],\n       [-0.25358736,  0.03692631],\n       [-0.82666613,  2.29802026],\n       [-0.82666613, -0.66783025],\n       [-1.59077117,  0.53612887],\n       [-0.34910049,  1.32898   ],\n       [-1.11320552,  1.41707457],\n       [-0.34910049, -0.78528968],\n       [-0.34910049,  0.06629116],\n       [-1.39974491, -1.22576253],\n       [-0.25358736, -0.66783025],\n       [-1.20871865, -1.40195167],\n       [-1.30423178, -1.37258681],\n       [-0.63563988, -1.04957339],\n       [-1.11320552, -1.5781408 ],\n       [-0.63563988,  0.03692631],\n       [-0.54012675,  1.38770971],\n       [-0.44461362, -0.78528968],\n       [-0.44461362, -0.28608712],\n       [-0.63563988, -0.10989798],\n       [-1.6862843 ,  0.35993973],\n       [-0.44461362, -0.84401939],\n       [-0.25358736,  0.06629116],\n       [-0.92217926, -1.1083031 ],\n       [-1.30423178,  0.41866944],\n       [-1.78179743, -1.28449224],\n       [-0.82666613, -0.78528968],\n       [-1.78179743,  0.00756145],\n       [-0.92217926,  0.56549373],\n       [-0.34910049, -0.78528968],\n       [-0.73115301,  0.27184516],\n       [-1.6862843 , -0.99084367],\n       [-1.11320552,  0.30121002],\n       [-0.25358736, -1.40195167],\n       [-0.25358736, -0.9027491 ],\n       [ 1.08359645,  0.12502088],\n       [ 0.12846516,  1.88691227],\n       [ 0.31949142,  0.03692631],\n       [ 1.94321462,  0.917872  ],\n       [ 0.89257019, -0.66783025],\n       [ 1.65667523,  1.76945285],\n       [ 1.37013584,  1.29961514],\n       [ 0.22397829,  2.12183112],\n       [ 0.79705706, -1.40195167],\n       [ 0.98808332,  0.77104772],\n       [ 1.37013584,  2.35674998],\n       [ 2.03872775, -0.81465453],\n       [-0.25358736, -0.34481683],\n       [ 0.89257019, -0.78528968],\n       [ 2.13424088,  1.123426  ],\n       [ 1.08359645, -0.13926283],\n       [ 0.22397829,  0.2424803 ],\n       [ 0.79705706,  0.77104772],\n       [ 2.03872775,  2.15119598],\n       [ 0.31949142,  0.30121002],\n       [-0.25358736,  0.62422344],\n       [-0.0625611 ,  2.18056084],\n       [ 2.13424088,  0.94723686],\n       [-0.25358736, -0.28608712],\n       [-0.0625611 , -0.49164111],\n       [-0.15807423,  1.65199342],\n       [ 1.75218836,  1.85754742],\n       [ 0.22397829,  0.06629116],\n       [ 0.41500455,  0.30121002],\n       [-0.25358736,  2.26865541],\n       [ 0.12846516, -0.81465453],\n       [ 0.22397829,  1.09406114],\n       [ 1.08359645,  0.47739916],\n       [ 0.03295203,  1.24088543],\n       [ 0.79705706,  0.27184516],\n       [ 0.22397829, -0.37418169],\n       [-0.0625611 ,  0.30121002],\n       [ 0.79705706,  0.35993973],\n       [ 1.46564897,  2.15119598],\n       [ 0.41500455,  2.32738512],\n       [ 0.03295203, -0.31545197],\n       [ 1.17910958,  0.53612887],\n       [ 1.75218836,  1.00596657],\n       [ 0.31949142,  0.06629116],\n       [ 1.27462271,  2.23929055],\n       [-0.25358736, -0.57973568],\n       [ 1.84770149,  1.53453399],\n       [ 0.31949142, -0.52100597],\n       [-0.25358736,  0.80041258],\n       [ 0.60603081, -0.9027491 ],\n       [-0.0625611 , -0.52100597],\n       [ 0.98808332,  1.88691227],\n       [-0.0625611 ,  2.23929055],\n       [ 1.17910958, -0.75592482],\n       [ 1.37013584,  0.59485858],\n       [ 0.31949142,  0.06629116],\n       [ 0.22397829, -0.37418169],\n       [ 1.94321462,  0.74168287],\n       [ 0.70154394,  1.7988177 ],\n       [-0.25358736,  0.21311545],\n       [-0.15807423,  2.18056084],\n       [ 1.65667523,  1.62262856],\n       [-0.25358736,  0.06629116],\n       [ 0.98808332,  0.59485858],\n       [ 0.41500455,  1.123426  ],\n       [ 0.22397829,  0.15438573],\n       [-0.0625611 ,  0.12502088],\n       [ 0.89257019,  2.18056084],\n       [ 0.22397829, -0.25672226],\n       [ 0.51051768,  1.85754742],\n       [ 2.03872775,  0.18375059],\n       [ 2.13424088, -0.81465453],\n       [ 0.12846516,  1.06469629],\n       [ 1.84770149, -1.28449224],\n       [ 1.84770149,  0.12502088],\n       [ 0.03295203,  0.03692631],\n       [ 1.08359645,  0.53612887],\n       [ 1.37013584, -0.93211396],\n       [ 1.17910958, -0.99084367],\n       [ 2.03872775,  0.53612887],\n       [-0.25358736, -0.25672226],\n       [-0.0625611 ,  0.00756145],\n       [ 1.37013584, -1.43131652],\n       [ 0.98808332,  2.09246627],\n       [-0.0625611 ,  0.68295315],\n       [-0.0625611 , -0.2273574 ],\n       [ 0.98808332,  2.0043717 ],\n       [ 0.31949142,  0.27184516],\n       [-0.0625611 ,  0.2424803 ],\n       [ 0.12846516,  1.88691227],\n       [ 1.08359645,  0.56549373],\n       [ 1.65667523, -0.9027491 ],\n       [-0.0625611 ,  0.21311545],\n       [-0.25358736, -0.37418169],\n       [-0.15807423, -0.19799255],\n       [ 0.41500455,  0.09565602],\n       [ 0.51051768,  1.24088543],\n       [ 0.70154394,  0.27184516],\n       [ 0.79705706,  1.38770971],\n       [ 1.94321462, -0.93211396],\n       [ 0.98808332,  0.12502088],\n       [-0.0625611 ,  1.97500684],\n       [-0.0625611 ,  0.27184516],\n       [ 0.22397829, -0.28608712],\n       [ 0.41500455, -0.46227625],\n       [ 1.27462271,  1.88691227],\n       [ 0.89257019,  1.27025028],\n       [-0.15807423,  1.62262856],\n       [ 0.03295203, -0.57973568],\n       [ 0.41500455,  0.00756145],\n       [ 0.12846516,  0.77104772],\n       [ 0.03295203, -0.57973568],\n       [ 1.08359645,  2.09246627],\n       [ 0.12846516,  0.27184516],\n       [ 0.12846516,  0.15438573],\n       [ 1.5611621 ,  1.00596657],\n       [-0.25358736, -0.4329114 ],\n       [ 0.70154394, -1.1083031 ],\n       [-0.15807423, -0.28608712],\n       [ 1.37013584,  2.0043717 ],\n       [ 1.46564897,  0.35993973],\n       [ 0.31949142, -0.52100597],\n       [ 0.98808332, -1.16703281],\n       [ 0.98808332,  1.7988177 ],\n       [ 0.31949142, -0.28608712],\n       [ 0.31949142,  0.06629116],\n       [ 0.41500455,  0.15438573],\n       [-0.15807423,  1.41707457],\n       [ 0.89257019,  1.09406114],\n       [ 0.03295203, -0.55037082],\n       [ 0.98808332,  1.44643942],\n       [ 0.41500455, -0.13926283],\n       [ 0.22397829, -0.13926283],\n       [ 1.84770149, -0.28608712],\n       [-0.15807423, -0.46227625],\n       [ 1.94321462,  2.18056084],\n       [-0.25358736,  0.27184516],\n       [ 0.03295203, -0.4329114 ],\n       [ 0.12846516,  1.53453399],\n       [ 1.46564897,  1.00596657],\n       [-0.25358736,  0.15438573],\n       [ 0.03295203, -0.13926283],\n       [ 0.89257019, -0.55037082],\n       [ 0.89257019,  1.03533143],\n       [ 0.31949142, -0.19799255],\n       [ 1.46564897,  0.06629116],\n       [ 1.5611621 ,  1.123426  ],\n       [ 0.12846516,  0.21311545],\n       [ 0.03295203, -0.25672226],\n       [ 0.03295203,  1.27025028],\n       [-0.0625611 ,  0.15438573],\n       [ 0.41500455,  0.59485858],\n       [-0.0625611 , -0.37418169],\n       [-0.15807423,  0.85914229],\n       [ 2.13424088, -1.04957339],\n       [ 1.5611621 ,  0.00756145],\n       [ 0.31949142,  0.06629116],\n       [ 0.22397829,  0.03692631],\n       [ 0.41500455, -0.46227625],\n       [ 0.51051768,  1.74008799],\n       [ 1.46564897, -1.04957339],\n       [ 0.89257019, -0.57973568],\n       [ 0.41500455,  0.27184516],\n       [ 0.41500455,  1.00596657],\n       [ 2.03872775, -1.19639767],\n       [ 1.94321462, -0.66783025],\n       [ 0.79705706,  0.53612887],\n       [ 0.03295203,  0.03692631],\n       [ 1.5611621 , -1.28449224],\n       [ 2.13424088, -0.69719511],\n       [ 2.13424088,  0.38930459],\n       [ 0.12846516,  0.09565602],\n       [ 2.03872775,  1.76945285],\n       [-0.0625611 ,  0.30121002],\n       [ 0.79705706, -1.1083031 ],\n       [ 0.79705706,  0.12502088],\n       [ 0.41500455, -0.49164111],\n       [ 0.31949142,  0.50676401],\n       [ 1.94321462, -1.37258681],\n       [ 0.41500455, -0.16862769],\n       [ 0.98808332, -1.07893824],\n       [ 0.60603081,  2.03373655],\n       [ 1.08359645, -1.22576253],\n       [ 1.84770149, -1.07893824],\n       [ 1.75218836, -0.28608712],\n       [ 1.08359645, -0.9027491 ],\n       [ 0.12846516,  0.03692631],\n       [ 0.89257019, -1.04957339],\n       [ 0.98808332, -1.02020853],\n       [ 0.98808332, -1.07893824],\n       [ 0.89257019, -1.37258681],\n       [ 0.70154394, -0.72655996],\n       [ 2.13424088, -0.81465453],\n       [ 0.12846516, -0.31545197],\n       [ 0.79705706, -0.84401939],\n       [ 1.27462271, -1.37258681],\n       [ 1.17910958, -1.46068138],\n       [-0.15807423, -1.07893824],\n       [ 1.08359645, -0.99084367]])"
     },
     "execution_count": 20,
     "metadata": {},
     "output_type": "execute_result"
    }
   ]
  },
  {
   "cell_type": "code",
   "metadata": {
    "id": "nHnnJ8FvfNwr"
   },
   "source": [
    "x_ones = np.ones((X.shape[0],1))"
   ],
   "execution_count": 21,
   "outputs": []
  },
  {
   "cell_type": "code",
   "metadata": {
    "id": "sE-1nO-7fNwr",
    "outputId": "a306c21e-f891-4e5d-fff3-82a6bd3235a2"
   },
   "source": [
    "x_ones.shape"
   ],
   "execution_count": 22,
   "outputs": [
    {
     "data": {
      "text/plain": "(400, 1)"
     },
     "execution_count": 22,
     "metadata": {},
     "output_type": "execute_result"
    }
   ]
  },
  {
   "cell_type": "code",
   "metadata": {
    "id": "6u0aFEIjfNws"
   },
   "source": [
    "X_s_o = np.concatenate((x_ones,X_s), axis = 1)"
   ],
   "execution_count": 23,
   "outputs": []
  },
  {
   "cell_type": "code",
   "metadata": {
    "id": "0DBg88p7fNws",
    "outputId": "d6d69619-585b-4581-8d62-d32516c6fc28"
   },
   "source": [
    "X_s_o"
   ],
   "execution_count": 24,
   "outputs": [
    {
     "data": {
      "text/plain": "array([[ 1.        , -1.78179743, -1.49004624],\n       [ 1.        , -0.25358736, -1.46068138],\n       [ 1.        , -1.11320552, -0.78528968],\n       ...,\n       [ 1.        ,  1.17910958, -1.46068138],\n       [ 1.        , -0.15807423, -1.07893824],\n       [ 1.        ,  1.08359645, -0.99084367]])"
     },
     "execution_count": 24,
     "metadata": {},
     "output_type": "execute_result"
    }
   ]
  },
  {
   "cell_type": "code",
   "metadata": {
    "id": "1miNSqXkfNws"
   },
   "source": [
    "y = dataset[\"Purchased\"].values"
   ],
   "execution_count": 25,
   "outputs": []
  },
  {
   "cell_type": "code",
   "metadata": {
    "id": "9PrU9cb4fNwt",
    "outputId": "334a1b76-09af-4d05-aea2-cbdf53e40e2e"
   },
   "source": [
    "y "
   ],
   "execution_count": 26,
   "outputs": [
    {
     "data": {
      "text/plain": "array([0, 0, 0, 0, 0, 0, 0, 1, 0, 0, 0, 0, 0, 0, 0, 0, 1, 1, 1, 1, 1, 1,\n       1, 1, 1, 1, 1, 1, 0, 0, 0, 1, 0, 0, 0, 0, 0, 0, 0, 0, 0, 0, 0, 0,\n       0, 0, 0, 0, 1, 0, 0, 0, 0, 0, 0, 0, 0, 0, 0, 0, 0, 0, 0, 1, 0, 0,\n       0, 0, 0, 0, 0, 0, 0, 0, 0, 1, 0, 0, 0, 0, 0, 0, 0, 0, 0, 1, 0, 0,\n       0, 0, 0, 0, 0, 0, 0, 0, 0, 1, 0, 0, 0, 0, 0, 1, 0, 0, 0, 0, 0, 0,\n       0, 0, 0, 0, 0, 0, 0, 0, 0, 0, 0, 0, 0, 0, 0, 0, 0, 0, 0, 0, 0, 0,\n       0, 0, 0, 0, 0, 1, 0, 0, 0, 0, 0, 0, 0, 0, 1, 0, 0, 0, 0, 0, 0, 0,\n       0, 0, 0, 0, 0, 1, 1, 0, 0, 0, 0, 0, 0, 0, 1, 0, 0, 0, 0, 0, 0, 0,\n       0, 0, 0, 0, 0, 0, 1, 0, 0, 0, 0, 0, 0, 0, 0, 0, 0, 0, 0, 0, 0, 0,\n       0, 0, 0, 0, 1, 0, 1, 0, 1, 0, 1, 0, 1, 1, 0, 0, 0, 1, 0, 0, 0, 1,\n       0, 1, 1, 1, 0, 0, 1, 1, 0, 1, 1, 0, 1, 1, 0, 1, 0, 0, 0, 1, 1, 0,\n       1, 1, 0, 1, 0, 1, 0, 1, 0, 0, 1, 1, 0, 1, 0, 0, 1, 1, 0, 1, 1, 0,\n       1, 1, 0, 0, 1, 0, 0, 1, 1, 1, 1, 1, 0, 1, 1, 1, 1, 0, 1, 1, 0, 1,\n       0, 1, 0, 1, 1, 1, 1, 0, 0, 0, 1, 1, 0, 1, 1, 1, 1, 1, 0, 0, 0, 1,\n       1, 0, 0, 1, 0, 1, 0, 1, 1, 0, 1, 0, 1, 1, 0, 1, 1, 0, 0, 0, 1, 1,\n       0, 1, 0, 0, 1, 0, 1, 0, 0, 1, 1, 0, 0, 1, 1, 0, 1, 1, 0, 0, 1, 0,\n       1, 0, 1, 1, 1, 0, 1, 0, 1, 1, 1, 0, 1, 1, 1, 1, 0, 1, 1, 1, 0, 1,\n       0, 1, 0, 0, 1, 1, 0, 1, 1, 1, 1, 1, 1, 0, 1, 1, 1, 1, 1, 1, 0, 1,\n       1, 1, 0, 1])"
     },
     "execution_count": 26,
     "metadata": {},
     "output_type": "execute_result"
    }
   ]
  },
  {
   "cell_type": "code",
   "metadata": {
    "id": "F2urWCezfNwt"
   },
   "source": [
    "y = y.reshape(-1,1)"
   ],
   "execution_count": 27,
   "outputs": []
  },
  {
   "cell_type": "code",
   "metadata": {
    "id": "YakYt1bPfNwu",
    "outputId": "2cb12a22-f6a5-467d-9b55-0ea80579bbb7"
   },
   "source": [
    "y.shape"
   ],
   "execution_count": 28,
   "outputs": [
    {
     "data": {
      "text/plain": "(400, 1)"
     },
     "execution_count": 28,
     "metadata": {},
     "output_type": "execute_result"
    }
   ]
  },
  {
   "cell_type": "code",
   "metadata": {
    "id": "fOPPkmIMfNwu"
   },
   "source": [
    "def mapa_colores(y):\n",
    "    y = np.array(y)\n",
    "    y = y.ravel()\n",
    "    mc = []\n",
    "    for i in y:\n",
    "        if i == 0:\n",
    "            mc.append(\"blue\")\n",
    "        else:\n",
    "            mc.append(\"red\")\n",
    "    return mc "
   ],
   "execution_count": 29,
   "outputs": []
  },
  {
   "cell_type": "code",
   "metadata": {
    "id": "CKuF7RaXfNwv"
   },
   "source": [
    "map_col = mapa_colores(y)"
   ],
   "execution_count": 30,
   "outputs": []
  },
  {
   "cell_type": "code",
   "metadata": {
    "id": "FTmd_WsIfNwv",
    "outputId": "a1b3a2d2-db8d-4b5c-c0f8-7ab3feda9380"
   },
   "source": [
    "map_col"
   ],
   "execution_count": 31,
   "outputs": [
    {
     "data": {
      "text/plain": "['blue',\n 'blue',\n 'blue',\n 'blue',\n 'blue',\n 'blue',\n 'blue',\n 'red',\n 'blue',\n 'blue',\n 'blue',\n 'blue',\n 'blue',\n 'blue',\n 'blue',\n 'blue',\n 'red',\n 'red',\n 'red',\n 'red',\n 'red',\n 'red',\n 'red',\n 'red',\n 'red',\n 'red',\n 'red',\n 'red',\n 'blue',\n 'blue',\n 'blue',\n 'red',\n 'blue',\n 'blue',\n 'blue',\n 'blue',\n 'blue',\n 'blue',\n 'blue',\n 'blue',\n 'blue',\n 'blue',\n 'blue',\n 'blue',\n 'blue',\n 'blue',\n 'blue',\n 'blue',\n 'red',\n 'blue',\n 'blue',\n 'blue',\n 'blue',\n 'blue',\n 'blue',\n 'blue',\n 'blue',\n 'blue',\n 'blue',\n 'blue',\n 'blue',\n 'blue',\n 'blue',\n 'red',\n 'blue',\n 'blue',\n 'blue',\n 'blue',\n 'blue',\n 'blue',\n 'blue',\n 'blue',\n 'blue',\n 'blue',\n 'blue',\n 'red',\n 'blue',\n 'blue',\n 'blue',\n 'blue',\n 'blue',\n 'blue',\n 'blue',\n 'blue',\n 'blue',\n 'red',\n 'blue',\n 'blue',\n 'blue',\n 'blue',\n 'blue',\n 'blue',\n 'blue',\n 'blue',\n 'blue',\n 'blue',\n 'blue',\n 'red',\n 'blue',\n 'blue',\n 'blue',\n 'blue',\n 'blue',\n 'red',\n 'blue',\n 'blue',\n 'blue',\n 'blue',\n 'blue',\n 'blue',\n 'blue',\n 'blue',\n 'blue',\n 'blue',\n 'blue',\n 'blue',\n 'blue',\n 'blue',\n 'blue',\n 'blue',\n 'blue',\n 'blue',\n 'blue',\n 'blue',\n 'blue',\n 'blue',\n 'blue',\n 'blue',\n 'blue',\n 'blue',\n 'blue',\n 'blue',\n 'blue',\n 'blue',\n 'blue',\n 'blue',\n 'blue',\n 'red',\n 'blue',\n 'blue',\n 'blue',\n 'blue',\n 'blue',\n 'blue',\n 'blue',\n 'blue',\n 'red',\n 'blue',\n 'blue',\n 'blue',\n 'blue',\n 'blue',\n 'blue',\n 'blue',\n 'blue',\n 'blue',\n 'blue',\n 'blue',\n 'blue',\n 'red',\n 'red',\n 'blue',\n 'blue',\n 'blue',\n 'blue',\n 'blue',\n 'blue',\n 'blue',\n 'red',\n 'blue',\n 'blue',\n 'blue',\n 'blue',\n 'blue',\n 'blue',\n 'blue',\n 'blue',\n 'blue',\n 'blue',\n 'blue',\n 'blue',\n 'blue',\n 'red',\n 'blue',\n 'blue',\n 'blue',\n 'blue',\n 'blue',\n 'blue',\n 'blue',\n 'blue',\n 'blue',\n 'blue',\n 'blue',\n 'blue',\n 'blue',\n 'blue',\n 'blue',\n 'blue',\n 'blue',\n 'blue',\n 'blue',\n 'red',\n 'blue',\n 'red',\n 'blue',\n 'red',\n 'blue',\n 'red',\n 'blue',\n 'red',\n 'red',\n 'blue',\n 'blue',\n 'blue',\n 'red',\n 'blue',\n 'blue',\n 'blue',\n 'red',\n 'blue',\n 'red',\n 'red',\n 'red',\n 'blue',\n 'blue',\n 'red',\n 'red',\n 'blue',\n 'red',\n 'red',\n 'blue',\n 'red',\n 'red',\n 'blue',\n 'red',\n 'blue',\n 'blue',\n 'blue',\n 'red',\n 'red',\n 'blue',\n 'red',\n 'red',\n 'blue',\n 'red',\n 'blue',\n 'red',\n 'blue',\n 'red',\n 'blue',\n 'blue',\n 'red',\n 'red',\n 'blue',\n 'red',\n 'blue',\n 'blue',\n 'red',\n 'red',\n 'blue',\n 'red',\n 'red',\n 'blue',\n 'red',\n 'red',\n 'blue',\n 'blue',\n 'red',\n 'blue',\n 'blue',\n 'red',\n 'red',\n 'red',\n 'red',\n 'red',\n 'blue',\n 'red',\n 'red',\n 'red',\n 'red',\n 'blue',\n 'red',\n 'red',\n 'blue',\n 'red',\n 'blue',\n 'red',\n 'blue',\n 'red',\n 'red',\n 'red',\n 'red',\n 'blue',\n 'blue',\n 'blue',\n 'red',\n 'red',\n 'blue',\n 'red',\n 'red',\n 'red',\n 'red',\n 'red',\n 'blue',\n 'blue',\n 'blue',\n 'red',\n 'red',\n 'blue',\n 'blue',\n 'red',\n 'blue',\n 'red',\n 'blue',\n 'red',\n 'red',\n 'blue',\n 'red',\n 'blue',\n 'red',\n 'red',\n 'blue',\n 'red',\n 'red',\n 'blue',\n 'blue',\n 'blue',\n 'red',\n 'red',\n 'blue',\n 'red',\n 'blue',\n 'blue',\n 'red',\n 'blue',\n 'red',\n 'blue',\n 'blue',\n 'red',\n 'red',\n 'blue',\n 'blue',\n 'red',\n 'red',\n 'blue',\n 'red',\n 'red',\n 'blue',\n 'blue',\n 'red',\n 'blue',\n 'red',\n 'blue',\n 'red',\n 'red',\n 'red',\n 'blue',\n 'red',\n 'blue',\n 'red',\n 'red',\n 'red',\n 'blue',\n 'red',\n 'red',\n 'red',\n 'red',\n 'blue',\n 'red',\n 'red',\n 'red',\n 'blue',\n 'red',\n 'blue',\n 'red',\n 'blue',\n 'blue',\n 'red',\n 'red',\n 'blue',\n 'red',\n 'red',\n 'red',\n 'red',\n 'red',\n 'red',\n 'blue',\n 'red',\n 'red',\n 'red',\n 'red',\n 'red',\n 'red',\n 'blue',\n 'red',\n 'red',\n 'red',\n 'blue',\n 'red']"
     },
     "execution_count": 31,
     "metadata": {},
     "output_type": "execute_result"
    }
   ]
  },
  {
   "cell_type": "code",
   "metadata": {
    "id": "squhnO4hfNww",
    "outputId": "c6b21b05-86c8-41e4-aa9d-049bb13fe5ab"
   },
   "source": [
    "plt.scatter(X_s_o[:,1].ravel(),X_s_o[:,2].ravel(),c=map_col)\n",
    "plt.ylabel(\"Salario Estimado\")\n",
    "plt.xlabel(\"Edad\")\n",
    "plt.title(\"Gráfica de dispersión de los datos\")\n",
    "plt.show()\n"
   ],
   "execution_count": 32,
   "outputs": [
    {
     "data": {
      "text/plain": "<Figure size 432x288 with 1 Axes>",
      "image/png": "[encoded data removed]"
     },
     "metadata": {
      "needs_background": "light"
     },
     "output_type": "display_data"
    }
   ]
  },
  {
   "cell_type": "code",
   "metadata": {
    "id": "Jtsbc-KqfNwx"
   },
   "source": [
    "pesos = descenso_grandiente_bw(X_s_o,y)"
   ],
   "execution_count": 33,
   "outputs": []
  },
  {
   "cell_type": "code",
   "metadata": {
    "id": "wyRsGoa4fNwx",
    "outputId": "5f18668d-e5ea-45aa-9311-f86cf6fb20f8"
   },
   "source": [
    "pesos"
   ],
   "execution_count": 34,
   "outputs": [
    {
     "data": {
      "text/plain": "array([[-1.13812197],\n       [ 2.44457954],\n       [ 1.22258176]])"
     },
     "execution_count": 34,
     "metadata": {},
     "output_type": "execute_result"
    }
   ]
  },
  {
   "cell_type": "markdown",
   "metadata": {
    "id": "lWQhAshwfNwy"
   },
   "source": [
    "Podemos ver arriba el resultado que obtuvimos para los parámetros $w$. El coeficiente independiente es $-1.13812197$, el coeficiente de la variable \"Edad\" es $2.44457954$ y finalmente el coeficiente de la variable \"Salario estimado\" es $1.22258176$. Para encontrar la recta de separación del clasificador que construimos usando regresión logística debemos igualar a 0 el argumento de la función logística, es decir:\n",
    "\n",
    "$$1.22258176\"Salario\\,estimado\" +\\, 2.44457954\"Edad\" -1.13812197 = 0 $$\n",
    "\n",
    "Despejando obtenemos:\n",
    "\n",
    "$$\"Salario\\, Estimado\" = \\frac{-2.44457954}{1.22258176}\"Edad\" + \\frac{1.13812197}{1.22258176}$$\n",
    "\n",
    "esta es nuestra recta de separacion que obtuvimos con el clasificador. A continuación se realizan las gráficas."
   ]
  },
  {
   "cell_type": "code",
   "metadata": {
    "id": "610tocdRfNwy"
   },
   "source": [
    "dominio_recta = np.linspace(-2,2,1000)"
   ],
   "execution_count": 35,
   "outputs": []
  },
  {
   "cell_type": "code",
   "metadata": {
    "id": "2GmSfc4hfNwy"
   },
   "source": [
    "y_recta = -dominio_recta*(2.44457954/1.22258176) + (1.13812197/1.22258176)"
   ],
   "execution_count": 36,
   "outputs": []
  },
  {
   "cell_type": "code",
   "metadata": {
    "id": "yEHXKiyvfNwy",
    "outputId": "9e563b29-5902-48d9-f63e-badc96e59478"
   },
   "source": [
    "plt.scatter(X_s_o[:,1].ravel(),X_s_o[:,2].ravel(),c=map_col)\n",
    "plt.plot(dominio_recta,y_recta, c=\"green\", label=\"Recta de separación\")\n",
    "plt.ylabel(\"Salario Estimado\")\n",
    "plt.xlabel(\"Edad\")\n",
    "plt.title(\"Gráfica de dispersión de los datos\")\n",
    "plt.legend()\n",
    "plt.show()"
   ],
   "execution_count": 37,
   "outputs": [
    {
     "data": {
      "text/plain": "<Figure size 432x288 with 1 Axes>",
      "image/png": "[encoded data removed]"
     },
     "metadata": {
      "needs_background": "light"
     },
     "output_type": "display_data"
    }
   ]
  },
  {
   "cell_type": "code",
   "metadata": {
    "id": "eiVVyDCLfNwz"
   },
   "source": [
    "def predicciones(X,w):\n",
    "    pred = sigmoide(X@w)\n",
    "    pred = pred.ravel()\n",
    "    etiquetas = []\n",
    "    for i in pred:\n",
    "        if i>0.5:\n",
    "            etiquetas.append(1)\n",
    "        else:\n",
    "            etiquetas.append(0)\n",
    "    return etiquetas\n",
    "    "
   ],
   "execution_count": 38,
   "outputs": []
  },
  {
   "cell_type": "code",
   "metadata": {
    "id": "sEBDjiMYfNwz"
   },
   "source": [
    "pred = predicciones(X_s_o,pesos)"
   ],
   "execution_count": 39,
   "outputs": []
  },
  {
   "cell_type": "code",
   "metadata": {
    "id": "NKXfbQSFfNw0",
    "outputId": "1e8c6be2-c90b-4b1c-8e9b-68b10bd8d79a"
   },
   "source": [
    "pred"
   ],
   "execution_count": 40,
   "outputs": [
    {
     "data": {
      "text/plain": "[0,\n 0,\n 0,\n 0,\n 0,\n 0,\n 0,\n 1,\n 0,\n 0,\n 0,\n 0,\n 0,\n 0,\n 0,\n 0,\n 0,\n 0,\n 0,\n 0,\n 0,\n 1,\n 1,\n 0,\n 0,\n 0,\n 1,\n 0,\n 0,\n 0,\n 0,\n 0,\n 0,\n 0,\n 0,\n 0,\n 0,\n 0,\n 0,\n 0,\n 0,\n 0,\n 0,\n 0,\n 0,\n 0,\n 0,\n 0,\n 0,\n 0,\n 0,\n 0,\n 0,\n 0,\n 0,\n 0,\n 0,\n 0,\n 0,\n 0,\n 0,\n 0,\n 0,\n 0,\n 1,\n 0,\n 0,\n 0,\n 0,\n 0,\n 0,\n 0,\n 0,\n 0,\n 0,\n 0,\n 0,\n 0,\n 0,\n 0,\n 0,\n 0,\n 0,\n 0,\n 0,\n 0,\n 0,\n 0,\n 0,\n 0,\n 0,\n 0,\n 0,\n 0,\n 0,\n 0,\n 0,\n 0,\n 0,\n 0,\n 0,\n 0,\n 0,\n 1,\n 0,\n 0,\n 0,\n 0,\n 0,\n 0,\n 0,\n 0,\n 0,\n 0,\n 1,\n 0,\n 0,\n 0,\n 0,\n 0,\n 0,\n 0,\n 0,\n 0,\n 0,\n 0,\n 0,\n 0,\n 0,\n 0,\n 0,\n 0,\n 0,\n 0,\n 0,\n 0,\n 0,\n 0,\n 0,\n 0,\n 0,\n 0,\n 0,\n 0,\n 0,\n 0,\n 0,\n 0,\n 0,\n 0,\n 0,\n 0,\n 0,\n 0,\n 0,\n 0,\n 1,\n 0,\n 0,\n 0,\n 0,\n 0,\n 0,\n 0,\n 0,\n 0,\n 0,\n 0,\n 0,\n 0,\n 0,\n 0,\n 0,\n 0,\n 0,\n 0,\n 0,\n 0,\n 0,\n 0,\n 0,\n 0,\n 0,\n 0,\n 0,\n 0,\n 0,\n 0,\n 0,\n 0,\n 0,\n 0,\n 0,\n 0,\n 0,\n 0,\n 0,\n 0,\n 0,\n 0,\n 0,\n 1,\n 1,\n 0,\n 1,\n 1,\n 1,\n 1,\n 1,\n 0,\n 1,\n 1,\n 1,\n 0,\n 1,\n 1,\n 1,\n 0,\n 1,\n 1,\n 1,\n 0,\n 1,\n 1,\n 0,\n 0,\n 1,\n 1,\n 0,\n 1,\n 1,\n 0,\n 1,\n 1,\n 1,\n 1,\n 0,\n 0,\n 1,\n 1,\n 1,\n 0,\n 1,\n 1,\n 0,\n 1,\n 0,\n 1,\n 0,\n 0,\n 0,\n 0,\n 1,\n 1,\n 1,\n 1,\n 0,\n 0,\n 1,\n 1,\n 0,\n 1,\n 1,\n 0,\n 1,\n 1,\n 0,\n 0,\n 1,\n 0,\n 1,\n 1,\n 1,\n 1,\n 1,\n 1,\n 0,\n 1,\n 1,\n 1,\n 1,\n 0,\n 0,\n 1,\n 1,\n 0,\n 0,\n 1,\n 0,\n 0,\n 1,\n 1,\n 1,\n 0,\n 0,\n 0,\n 0,\n 1,\n 1,\n 1,\n 1,\n 1,\n 1,\n 0,\n 0,\n 0,\n 1,\n 1,\n 1,\n 0,\n 0,\n 1,\n 0,\n 1,\n 0,\n 0,\n 1,\n 0,\n 0,\n 0,\n 1,\n 1,\n 0,\n 0,\n 1,\n 0,\n 0,\n 1,\n 1,\n 1,\n 0,\n 1,\n 0,\n 0,\n 1,\n 0,\n 1,\n 0,\n 0,\n 1,\n 1,\n 0,\n 0,\n 1,\n 1,\n 0,\n 1,\n 1,\n 0,\n 0,\n 1,\n 0,\n 1,\n 0,\n 0,\n 1,\n 1,\n 0,\n 0,\n 0,\n 1,\n 1,\n 1,\n 1,\n 1,\n 1,\n 1,\n 1,\n 0,\n 1,\n 1,\n 1,\n 0,\n 1,\n 0,\n 0,\n 1,\n 0,\n 1,\n 1,\n 0,\n 0,\n 1,\n 1,\n 1,\n 1,\n 1,\n 0,\n 0,\n 1,\n 0,\n 0,\n 0,\n 1,\n 0,\n 0,\n 1,\n 0,\n 0,\n 1]"
     },
     "execution_count": 40,
     "metadata": {},
     "output_type": "execute_result"
    }
   ]
  },
  {
   "cell_type": "code",
   "metadata": {
    "id": "hGddkVL8fNw0"
   },
   "source": [
    "colo_pred = mapa_colores(pred)"
   ],
   "execution_count": 41,
   "outputs": []
  },
  {
   "cell_type": "code",
   "metadata": {
    "id": "idhETrcOfNw1",
    "outputId": "37e086c0-c497-460b-aa9d-1b38366c95d3"
   },
   "source": [
    "plt.scatter(X_s_o[:,1].ravel(),X_s_o[:,2].ravel(),c=colo_pred)\n",
    "plt.plot(dominio_recta,y_recta, c=\"green\", label=\"Recta de separación\")\n",
    "plt.ylabel(\"Salario Estimado\")\n",
    "plt.xlabel(\"Edad\")\n",
    "plt.title(\"Gráfica de dispersión de los datos\")\n",
    "plt.legend()\n",
    "plt.show()"
   ],
   "execution_count": 42,
   "outputs": [
    {
     "data": {
      "text/plain": "<Figure size 432x288 with 1 Axes>",
      "image/png": "[encoded data removed]"
     },
     "metadata": {
      "needs_background": "light"
     },
     "output_type": "display_data"
    }
   ]
  },
  {
   "cell_type": "code",
   "metadata": {
    "id": "IQ8jgj_4fNw1"
   },
   "source": [
    ""
   ],
   "execution_count": 42,
   "outputs": []
  },
  {
   "cell_type": "code",
   "metadata": {
    "id": "DWTl-iz9fNw2"
   },
   "source": [
    ""
   ],
   "execution_count": 42,
   "outputs": []
  },
  {
   "cell_type": "markdown",
   "metadata": {
    "id": "BRogcD-zfNw2"
   },
   "source": [
    "# Usando scikit-learn "
   ]
  },
  {
   "cell_type": "code",
   "metadata": {
    "id": "hZ-MjfIgfNw3"
   },
   "source": [
    "from sklearn.linear_model import LogisticRegression"
   ],
   "execution_count": 43,
   "outputs": []
  },
  {
   "cell_type": "code",
   "metadata": {
    "id": "bUL-IvLVfNw3"
   },
   "source": [
    "LR = LogisticRegression(fit_intercept=False)"
   ],
   "execution_count": 44,
   "outputs": []
  },
  {
   "cell_type": "code",
   "metadata": {
    "id": "0c2mQskWfNw3",
    "outputId": "d116faf1-ced3-428f-b75c-75fbf0e041c0"
   },
   "source": [
    "LR.fit(X_s_o,y.ravel())"
   ],
   "execution_count": 45,
   "outputs": [
    {
     "data": {
      "text/plain": "LogisticRegression(fit_intercept=False)"
     },
     "execution_count": 45,
     "metadata": {},
     "output_type": "execute_result"
    }
   ]
  },
  {
   "cell_type": "code",
   "metadata": {
    "id": "0YvCkiI7fNw4",
    "outputId": "8e7eea2b-7732-4054-9bd7-cbce5d6580fa"
   },
   "source": [
    "LR.coef_"
   ],
   "execution_count": 46,
   "outputs": [
    {
     "data": {
      "text/plain": "array([[-1.05822686,  2.24804   ,  1.12654464]])"
     },
     "execution_count": 46,
     "metadata": {},
     "output_type": "execute_result"
    }
   ]
  },
  {
   "cell_type": "code",
   "metadata": {
    "id": "NlXJrRQmfNw4",
    "outputId": "7b83afd1-588b-4e21-fa50-fc90f25a2b98"
   },
   "source": [
    "pesos"
   ],
   "execution_count": 47,
   "outputs": [
    {
     "data": {
      "text/plain": "array([[-1.13812197],\n       [ 2.44457954],\n       [ 1.22258176]])"
     },
     "execution_count": 47,
     "metadata": {},
     "output_type": "execute_result"
    }
   ]
  },
  {
   "cell_type": "code",
   "metadata": {
    "id": "asaAj0_ffNw5"
   },
   "source": [
    "pred_2 = LR.predict(X_s_o)"
   ],
   "execution_count": 48,
   "outputs": []
  },
  {
   "cell_type": "code",
   "metadata": {
    "id": "GInHsDSAfNw6",
    "outputId": "add1d465-bab5-4f9e-b969-3ed9fd451dc2"
   },
   "source": [
    "pred_2\n"
   ],
   "execution_count": 49,
   "outputs": [
    {
     "data": {
      "text/plain": "array([0, 0, 0, 0, 0, 0, 0, 1, 0, 0, 0, 0, 0, 0, 0, 0, 0, 0, 0, 0, 0, 1,\n       1, 0, 0, 0, 0, 0, 0, 0, 0, 0, 0, 0, 0, 0, 0, 0, 0, 0, 0, 0, 0, 0,\n       0, 0, 0, 0, 0, 0, 0, 0, 0, 0, 0, 0, 0, 0, 0, 0, 0, 0, 0, 0, 1, 0,\n       0, 0, 0, 0, 0, 0, 0, 0, 0, 0, 0, 0, 0, 0, 0, 0, 0, 0, 0, 0, 0, 0,\n       0, 0, 0, 0, 0, 0, 0, 0, 0, 0, 0, 0, 0, 0, 0, 1, 0, 0, 0, 0, 0, 0,\n       0, 0, 0, 0, 1, 0, 0, 0, 0, 0, 0, 0, 0, 0, 0, 0, 0, 0, 0, 0, 0, 0,\n       0, 0, 0, 0, 0, 0, 0, 0, 0, 0, 0, 0, 0, 0, 0, 0, 0, 0, 0, 0, 0, 0,\n       0, 0, 1, 0, 0, 0, 0, 0, 0, 0, 0, 0, 0, 0, 0, 0, 0, 0, 0, 0, 0, 0,\n       0, 0, 0, 0, 0, 0, 0, 0, 0, 0, 0, 0, 0, 0, 0, 0, 0, 0, 0, 0, 0, 0,\n       0, 0, 0, 1, 1, 0, 1, 1, 1, 1, 1, 0, 1, 1, 1, 0, 1, 1, 1, 0, 1, 1,\n       0, 0, 1, 1, 0, 0, 1, 1, 0, 1, 1, 0, 1, 1, 1, 1, 0, 0, 1, 1, 1, 0,\n       1, 1, 0, 1, 0, 1, 0, 0, 0, 0, 1, 1, 1, 1, 0, 0, 1, 1, 0, 1, 1, 0,\n       1, 1, 0, 0, 1, 0, 1, 1, 1, 1, 1, 1, 0, 1, 1, 1, 1, 0, 0, 1, 1, 0,\n       0, 1, 0, 0, 1, 1, 1, 0, 0, 0, 0, 1, 1, 1, 1, 1, 1, 0, 0, 0, 1, 1,\n       1, 0, 0, 1, 0, 1, 0, 0, 1, 0, 0, 0, 1, 1, 0, 0, 1, 0, 0, 1, 1, 1,\n       0, 1, 0, 0, 1, 0, 1, 0, 0, 1, 1, 0, 0, 1, 1, 0, 1, 1, 0, 0, 1, 0,\n       1, 0, 0, 1, 1, 0, 0, 0, 1, 1, 1, 1, 1, 1, 1, 1, 0, 1, 1, 1, 0, 1,\n       0, 0, 1, 0, 1, 1, 0, 0, 1, 0, 1, 1, 1, 0, 0, 1, 0, 0, 0, 1, 0, 0,\n       1, 0, 0, 1])"
     },
     "execution_count": 49,
     "metadata": {},
     "output_type": "execute_result"
    }
   ]
  },
  {
   "cell_type": "code",
   "metadata": {
    "id": "dsS-Tz7GfNw6"
   },
   "source": [
    "mapa_colores_2 = mapa_colores(pred_2)"
   ],
   "execution_count": 50,
   "outputs": []
  },
  {
   "cell_type": "code",
   "metadata": {
    "id": "RNNj9QfKfNw6"
   },
   "source": [
    "y_recta_2 = -dominio_recta*(2.24804/1.12654464) + (1.05822686/1.12654464)"
   ],
   "execution_count": 51,
   "outputs": []
  },
  {
   "cell_type": "code",
   "metadata": {
    "id": "gS_Zqg-gfNw6",
    "outputId": "c4aa6923-cf70-4344-94f5-72ee80ee2146"
   },
   "source": [
    "plt.scatter(X_s_o[:,1].ravel(),X_s_o[:,2].ravel(),c=mapa_colores_2)\n",
    "plt.plot(dominio_recta,y_recta_2, c=\"green\", label=\"Recta de separación\")\n",
    "plt.ylabel(\"Salario Estimado\")\n",
    "plt.xlabel(\"Edad\")\n",
    "plt.title(\"Gráfica de dispersión de los datos\")\n",
    "plt.legend()\n",
    "plt.show()"
   ],
   "execution_count": 52,
   "outputs": [
    {
     "data": {
      "text/plain": "<Figure size 432x288 with 1 Axes>",
      "image/png": "[encoded data removed]"
     },
     "metadata": {
      "needs_background": "light"
     },
     "output_type": "display_data"
    }
   ]
  },
  {
   "cell_type": "code",
   "metadata": {
    "id": "YFmGJQuXfNw7"
   },
   "source": [
    ""
   ],
   "execution_count": 52,
   "outputs": []
  },
  {
   "cell_type": "code",
   "metadata": {
    "id": "NyOFjVSlfNw7"
   },
   "source": [
    ""
   ],
   "execution_count": 52,
   "outputs": []
  },
  {
   "cell_type": "code",
   "metadata": {
    "id": "u3m6rCbefNw8"
   },
   "source": [
    ""
   ],
   "execution_count": 52,
   "outputs": []
  },
  {
   "cell_type": "code",
   "metadata": {
    "id": "ZcHnW7Z4fNw8"
   },
   "source": [
    ""
   ],
   "execution_count": 52,
   "outputs": []
  },
  {
   "cell_type": "markdown",
   "metadata": {
    "id": "hgSEO6kKfNw8"
   },
   "source": [
    "## Matriz de confusión.\n",
    "\n",
    "La matriz de confusión $C$ es aquella donde $C_{ij}$ es el número de resultados que tienen etiqueta $i$ y se predijo etiqueta $j$"
   ]
  },
  {
   "cell_type": "code",
   "metadata": {
    "id": "E6VN_2h6fNw8"
   },
   "source": [
    "from sklearn.metrics import confusion_matrix"
   ],
   "execution_count": 53,
   "outputs": []
  },
  {
   "cell_type": "code",
   "metadata": {
    "id": "h61KejUbfNw9",
    "outputId": "8bcd9649-68c1-40bb-8b1a-0b0dc148c3bf"
   },
   "source": [
    "confusion_matrix(y,pred_2)"
   ],
   "execution_count": 54,
   "outputs": [
    {
     "data": {
      "text/plain": "array([[237,  20],\n       [ 43, 100]])"
     },
     "execution_count": 54,
     "metadata": {},
     "output_type": "execute_result"
    }
   ]
  },
  {
   "cell_type": "code",
   "metadata": {
    "id": "Yt8PXArwfNw_"
   },
   "source": [
    "precision = 337/400"
   ],
   "execution_count": 55,
   "outputs": []
  },
  {
   "cell_type": "code",
   "metadata": {
    "id": "Y-_uPUWJfNxA",
    "outputId": "3ab75cd5-8f8a-4ac4-f4d5-5d15d08f465b"
   },
   "source": [
    "precision"
   ],
   "execution_count": 56,
   "outputs": [
    {
     "data": {
      "text/plain": "0.8425"
     },
     "execution_count": 56,
     "metadata": {},
     "output_type": "execute_result"
    }
   ]
  },
  {
   "cell_type": "markdown",
   "metadata": {
    "id": "-Pe7PA2KfNxC"
   },
   "source": [
    "# Ejemplo de regresión logística para un conjunto de datos no linealmente separable."
   ]
  },
  {
   "cell_type": "markdown",
   "metadata": {
    "id": "T6kNgZcqfNxD"
   },
   "source": [
    "Vamos a ver un ejemplo de como podemos realizar regresion logística para un conjunto no linealmente separable a pesar de que la regresión logística es un clasificador lineal."
   ]
  },
  {
   "cell_type": "markdown",
   "metadata": {
    "id": "XHQ9HMNNfNxD"
   },
   "source": [
    "Primero comencemos observando nuestro conjunto de datos.\n",
    "\n",
    "\n",
    "|       X       \t|       Y       \t| clasificación \t|\n",
    "|:-------------:\t|:-------------:\t|---------------\t|\n",
    "| -0.6861007046 \t| -2.7317977268 \t| FALSO         \t|\n",
    "|  0.1845728382 \t|  0.451296404  \t| VERDADERO     \t|\n",
    "| -2.3158346172 \t| -0.6509207096 \t| FALSO         \t|\n",
    "| -1.0254515503 \t| -0.0809364635 \t| VERDADERO     \t|\n",
    "|  0.4311453719 \t|  0.8026880194 \t| VERDADERO     \t|\n",
    "| -3.7719061095 \t|  0.814367149  \t| FALSO         \t|\n",
    "|  0.8427785188 \t| -1.0716033783 \t| VERDADERO     \t|\n",
    "|  2.2864584569 \t| -2.9176860601 \t| FALSO         \t|\n",
    "| -0.2791914176 \t| -0.8346607406 \t| VERDADERO     \t|\n",
    "| -0.9005654622 \t| -2.2787579969 \t| FALSO         \t|\n",
    "|  0.1421184987 \t|  -1.213108765 \t| VERDADERO     \t|\n",
    "| 3.1509795878  \t| -3.7415509261 \t| FALSO         \t|\n",
    "| 0.6174679771  \t| -0.5790232979 \t| VERDADERO     \t|\n",
    "| 2.0068530366  \t| -1.4894149248 \t| FALSO         \t|\n",
    "| 3.5943855252  \t| -0.8032932784 \t| FALSO         \t|\n"
   ]
  },
  {
   "cell_type": "code",
   "metadata": {
    "id": "8m-Sow2_fNxD"
   },
   "source": [
    "X_3 = np.array([-0.6861007046,0.1845728382,-2.3158346172,-1.0254515503,0.4311453719,-3.7719061095,0.8427785188,2.2864584569,-0.2791914176,-0.9005654622,0.1421184987,3.1509795878,0.6174679771,2.0068530366,3.5943855252])"
   ],
   "execution_count": 57,
   "outputs": []
  },
  {
   "cell_type": "code",
   "metadata": {
    "id": "h0JhXDVofNxE"
   },
   "source": [
    "Y_3 = np.array([-2.7317977268,0.451296404,-0.6509207096,-0.0809364635,0.8026880194,0.814367149,-1.0716033783,-2.9176860601,-0.8346607406,-2.2787579969,-1.213108765,-3.7415509261,-0.5790232979,-1.4894149248,-0.8032932784])"
   ],
   "execution_count": 58,
   "outputs": []
  },
  {
   "cell_type": "code",
   "metadata": {
    "id": "CzyAOIT9fNxF"
   },
   "source": [
    "#En lugar de Verdadero y Falso utilizamos 1 y 0\n",
    "clasificacion = np.array([0,1,0,1,1,0,1,0,1,0,1,0,1,0,0])"
   ],
   "execution_count": 59,
   "outputs": []
  },
  {
   "cell_type": "code",
   "metadata": {
    "id": "VnfmborrfNxF"
   },
   "source": [
    "mapa_colores_3 = mapa_colores(clasificacion)"
   ],
   "execution_count": 60,
   "outputs": []
  },
  {
   "cell_type": "code",
   "metadata": {
    "id": "e3AcejQKfNxG",
    "outputId": "0b5a3181-c054-4508-f1eb-45018053ffaf"
   },
   "source": [
    "plt.scatter(X_3,Y_3, c=mapa_colores_3)\n",
    "plt.xlabel(\"X\")\n",
    "plt.ylabel(\"Y\")\n",
    "plt.title(\"Gráfica de los datos\")\n",
    "plt.axvline(x=0, c=\"black\")\n",
    "plt.axhline(y=0, c=\"black\")\n",
    "plt.show()"
   ],
   "execution_count": 61,
   "outputs": [
    {
     "data": {
      "text/plain": "<Figure size 432x288 with 1 Axes>",
      "image/png": "[encoded data removed]"
     },
     "metadata": {
      "needs_background": "light"
     },
     "output_type": "display_data"
    }
   ]
  },
  {
   "cell_type": "code",
   "metadata": {
    "id": "hDzYFQR5fNxH"
   },
   "source": [
    "\n"
   ],
   "execution_count": 61,
   "outputs": []
  },
  {
   "cell_type": "code",
   "metadata": {
    "id": "9x8wFWWefNxH"
   },
   "source": [
    ""
   ],
   "execution_count": 61,
   "outputs": []
  },
  {
   "cell_type": "code",
   "metadata": {
    "id": "ZVCqtQc2fNxI"
   },
   "source": [
    ""
   ],
   "execution_count": 61,
   "outputs": []
  },
  {
   "cell_type": "markdown",
   "metadata": {
    "id": "RYpnwjcRfNxI"
   },
   "source": [
    "Como se puede observar, podemos encerrar los puntos rojos dentro de una cónica que podría ser una circunferencia o una elipse.\n",
    "\n",
    "En general, el polinomio de segundo grado en términos de las variables $x$ y $y$ es:\n",
    "$$Ax^2+By^2+Cxy+Dx+Fy+G$$\n",
    "\n",
    "Si observamos la gráfica, se puede notar que para encerrar los puntos rojos se puede utilizar una cónica centrada en el origen, por lo que se pueden omitir los términos lineales, quedando el polinomio de la siguiente forma:\n",
    "\n",
    "$$Ax^2+By^2+Cxy+D$$\n",
    "\n",
    "Se listaran las características derivadas para ambos polinomios."
   ]
  },
  {
   "cell_type": "code",
   "metadata": {
    "id": "ZOiF2NEMfNxJ"
   },
   "source": [
    "x_cuad = (X_3**2).reshape(-1,1)"
   ],
   "execution_count": 62,
   "outputs": []
  },
  {
   "cell_type": "code",
   "metadata": {
    "id": "WKydY_OlfNxK"
   },
   "source": [
    "y_cuad = (Y_3**2).reshape(-1,1)\n"
   ],
   "execution_count": 63,
   "outputs": []
  },
  {
   "cell_type": "code",
   "metadata": {
    "id": "shllKuaqfNxL"
   },
   "source": [
    "xy = (X_3*Y_3).reshape(-1,1)"
   ],
   "execution_count": 64,
   "outputs": []
  },
  {
   "cell_type": "code",
   "metadata": {
    "id": "o2TC0Q-WfNxM"
   },
   "source": [
    "X_pol_red = np.concatenate((x_cuad,y_cuad,xy,), axis = 1)"
   ],
   "execution_count": 65,
   "outputs": []
  },
  {
   "cell_type": "code",
   "metadata": {
    "id": "0oQrYhsPfNxM",
    "outputId": "aa596431-15e2-4c80-aff2-d1d2eb89526c"
   },
   "source": [
    "X_pol_red"
   ],
   "execution_count": 66,
   "outputs": [
    {
     "data": {
      "text/plain": "array([[ 4.70734177e-01,  7.46271882e+00,  1.87428835e+00],\n       [ 3.40671326e-02,  2.03668444e-01,  8.32970582e-02],\n       [ 5.36308997e+00,  4.23697770e-01,  1.50742471e+00],\n       [ 1.05155088e+00,  6.55071112e-03,  8.29964220e-02],\n       [ 1.85886332e-01,  6.44308056e-01,  3.46075225e-01],\n       [ 1.42272757e+01,  6.63193853e-01, -3.07171642e+00],\n       [ 7.10275632e-01,  1.14833380e+00, -9.03124308e-01],\n       [ 5.22789228e+00,  8.51289195e+00, -6.67116797e+00],\n       [ 7.79478477e-02,  6.96658552e-01,  2.33030115e-01],\n       [ 8.11018152e-01,  5.19273801e+00,  2.05217075e+00],\n       [ 2.01976677e-02,  1.47163288e+00, -1.72405196e-01],\n       [ 9.92867236e+00,  1.39992033e+01, -1.17895506e+01],\n       [ 3.81266703e-01,  3.35267980e-01, -3.57528344e-01],\n       [ 4.02745911e+00,  2.21835682e+00, -2.98903686e+00],\n       [ 1.29196073e+01,  6.45280091e-01, -2.88734573e+00]])"
     },
     "execution_count": 66,
     "metadata": {},
     "output_type": "execute_result"
    }
   ]
  },
  {
   "cell_type": "code",
   "metadata": {
    "id": "253rujPOfNxN"
   },
   "source": [
    "X_pol_com = np.concatenate((x_cuad,y_cuad,xy,X_3.reshape(-1,1),Y_3.reshape(-1,1)), axis = 1)"
   ],
   "execution_count": 67,
   "outputs": []
  },
  {
   "cell_type": "code",
   "metadata": {
    "id": "-GLkA003fNxN",
    "outputId": "585fa76c-d991-42dd-b18e-9cfb8c6082f6"
   },
   "source": [
    "X_pol_com"
   ],
   "execution_count": 68,
   "outputs": [
    {
     "data": {
      "text/plain": "array([[ 4.70734177e-01,  7.46271882e+00,  1.87428835e+00,\n        -6.86100705e-01, -2.73179773e+00],\n       [ 3.40671326e-02,  2.03668444e-01,  8.32970582e-02,\n         1.84572838e-01,  4.51296404e-01],\n       [ 5.36308997e+00,  4.23697770e-01,  1.50742471e+00,\n        -2.31583462e+00, -6.50920710e-01],\n       [ 1.05155088e+00,  6.55071112e-03,  8.29964220e-02,\n        -1.02545155e+00, -8.09364635e-02],\n       [ 1.85886332e-01,  6.44308056e-01,  3.46075225e-01,\n         4.31145372e-01,  8.02688019e-01],\n       [ 1.42272757e+01,  6.63193853e-01, -3.07171642e+00,\n        -3.77190611e+00,  8.14367149e-01],\n       [ 7.10275632e-01,  1.14833380e+00, -9.03124308e-01,\n         8.42778519e-01, -1.07160338e+00],\n       [ 5.22789228e+00,  8.51289195e+00, -6.67116797e+00,\n         2.28645846e+00, -2.91768606e+00],\n       [ 7.79478477e-02,  6.96658552e-01,  2.33030115e-01,\n        -2.79191418e-01, -8.34660741e-01],\n       [ 8.11018152e-01,  5.19273801e+00,  2.05217075e+00,\n        -9.00565462e-01, -2.27875800e+00],\n       [ 2.01976677e-02,  1.47163288e+00, -1.72405196e-01,\n         1.42118499e-01, -1.21310877e+00],\n       [ 9.92867236e+00,  1.39992033e+01, -1.17895506e+01,\n         3.15097959e+00, -3.74155093e+00],\n       [ 3.81266703e-01,  3.35267980e-01, -3.57528344e-01,\n         6.17467977e-01, -5.79023298e-01],\n       [ 4.02745911e+00,  2.21835682e+00, -2.98903686e+00,\n         2.00685304e+00, -1.48941492e+00],\n       [ 1.29196073e+01,  6.45280091e-01, -2.88734573e+00,\n         3.59438553e+00, -8.03293278e-01]])"
     },
     "execution_count": 68,
     "metadata": {},
     "output_type": "execute_result"
    }
   ]
  },
  {
   "cell_type": "markdown",
   "metadata": {
    "id": "zZP_Ky5ZfNxN"
   },
   "source": [
    "Lo que se va a hacer es aplicar la regresión logística para ajustar un plano en el espacio transformado, en este espacio los datos parecen ser linealmente separables por lo que la regresión logística pueder ser aplicada. Posteriormente se regresará al espacio original. Visualizamos el espacio del polinomio reducido."
   ]
  },
  {
   "cell_type": "code",
   "metadata": {
    "id": "jll9yiOVfNxO"
   },
   "source": [
    "LR_pol_red= LogisticRegression(random_state=0)"
   ],
   "execution_count": 69,
   "outputs": []
  },
  {
   "cell_type": "code",
   "metadata": {
    "id": "gVSO1IMzfNxO"
   },
   "source": [
    "LR_3_pol_com = LogisticRegression(random_state=0)"
   ],
   "execution_count": 70,
   "outputs": []
  },
  {
   "cell_type": "code",
   "metadata": {
    "id": "AOS0nyQYfNxO",
    "outputId": "34385060-f237-41d2-cc3f-4daeb8eb7ca8"
   },
   "source": [
    "LR_3_pol_com.fit(X_pol_com,clasificacion)"
   ],
   "execution_count": 71,
   "outputs": [
    {
     "data": {
      "text/plain": "LogisticRegression(random_state=0)"
     },
     "execution_count": 71,
     "metadata": {},
     "output_type": "execute_result"
    }
   ]
  },
  {
   "cell_type": "code",
   "metadata": {
    "id": "ljqiyMgifNxP",
    "outputId": "1f1ae34a-508c-414a-8c5f-d74b7cb68942"
   },
   "source": [
    "LR_pol_red.fit(X_pol_red,clasificacion)"
   ],
   "execution_count": 72,
   "outputs": [
    {
     "data": {
      "text/plain": "LogisticRegression(random_state=0)"
     },
     "execution_count": 72,
     "metadata": {},
     "output_type": "execute_result"
    }
   ]
  },
  {
   "cell_type": "code",
   "metadata": {
    "id": "OLJqdVHofNxP",
    "outputId": "68f3c519-3971-42fb-de64-8d305cbe4dec"
   },
   "source": [
    "LR_3_pol_com.coef_"
   ],
   "execution_count": 73,
   "outputs": [
    {
     "data": {
      "text/plain": "array([[-0.9982553 , -0.81040165, -0.08841183,  0.11279143,  0.34631702]])"
     },
     "execution_count": 73,
     "metadata": {},
     "output_type": "execute_result"
    }
   ]
  },
  {
   "cell_type": "code",
   "metadata": {
    "id": "8lWVUxRvfNxP",
    "outputId": "8dba5131-740f-4cd4-b9e8-8cb45aa66a7b"
   },
   "source": [
    "LR_pol_red.coef_"
   ],
   "execution_count": 74,
   "outputs": [
    {
     "data": {
      "text/plain": "array([[-1.02269076, -0.89928894, -0.13570288]])"
     },
     "execution_count": 74,
     "metadata": {},
     "output_type": "execute_result"
    }
   ]
  },
  {
   "cell_type": "code",
   "metadata": {
    "id": "CTGmmpM1fNxQ",
    "outputId": "292f2e62-db55-460e-a1f6-2966af407a4b"
   },
   "source": [
    "LR_pol_red.intercept_"
   ],
   "execution_count": 75,
   "outputs": [
    {
     "data": {
      "text/plain": "array([3.84809304])"
     },
     "execution_count": 75,
     "metadata": {},
     "output_type": "execute_result"
    }
   ]
  },
  {
   "cell_type": "code",
   "metadata": {
    "id": "UtJLtowofNxQ",
    "outputId": "207c4740-a935-46aa-ecba-a332bcf7e8cd"
   },
   "source": [
    "LR_3_pol_com.intercept_"
   ],
   "execution_count": 76,
   "outputs": [
    {
     "data": {
      "text/plain": "array([4.01890325])"
     },
     "execution_count": 76,
     "metadata": {},
     "output_type": "execute_result"
    }
   ]
  },
  {
   "cell_type": "markdown",
   "metadata": {
    "id": "YMngNZB3fNxQ"
   },
   "source": [
    "Arriba se dieron las ecuaciones obtenidas para los planos, a continuación estas se escriben usando las coordenadas $x$ y $y$, es decir, sustituyendo las $x_i$.\n",
    "\n",
    "Del primer plano (aquel con 5 coordenadas) se obtiene la expresión:\n",
    "\n",
    "$$-0.9982553x^2-0.81040165y^2-0.08841183xy+0.11279143x+0.34631702y + 4.01890325 = 0$$\n",
    "\n",
    "Del segundo plano ( aquel con tres coordenadas) se obtiene la expresión:\n",
    "\n",
    "$$-1.02269076x^2-0.89928894y^2-0.13570288xy + 3.84809304=0$$\n",
    "\n",
    "Estas son las expresiones obtenidas en el espacio original."
   ]
  },
  {
   "cell_type": "markdown",
   "metadata": {
    "id": "iGt1GZI3fNxQ"
   },
   "source": [
    "Calculamos los discriminantes \n",
    "$B^2-4AC$, en donde $A$ es el coeficiente de la $x^2$, $B$ el de $xy$ y $C$ el de $y^2$"
   ]
  },
  {
   "cell_type": "code",
   "metadata": {
    "id": "Lkzb1UZtfNxR"
   },
   "source": [
    "determinante_1 = ((0.89928894)**2)-(4*(-1.02269076)*(-0.13570288))"
   ],
   "execution_count": 77,
   "outputs": []
  },
  {
   "cell_type": "code",
   "metadata": {
    "id": "v5Y5rhsIfNxR",
    "outputId": "4cdd240b-d890-46d0-ff2c-40fe398cd3aa"
   },
   "source": [
    "determinante_1"
   ],
   "execution_count": 78,
   "outputs": [
    {
     "data": {
      "text/plain": "0.2535922716807685"
     },
     "execution_count": 78,
     "metadata": {},
     "output_type": "execute_result"
    }
   ]
  },
  {
   "cell_type": "markdown",
   "metadata": {
    "id": "9KGVmsDUfNxS"
   },
   "source": [
    "Al ser ambos discriminantes negativos podemos decir que ambas expresiones corresponden a elipses. Como las dos tienen término $xy$ entonces son elipses rotadas. En la primera expresión la elipse no está centrada en el origen, pero si cerca, en la segunda si se encuentra centrada en el origen."
   ]
  },
  {
   "cell_type": "markdown",
   "metadata": {
    "id": "UbkVeHmHfNxS"
   },
   "source": [
    "Hagamos una gráfica de los puntos en el espacio del polinomio reducido junto con el plano de ajuste obtenido por la regresión logística."
   ]
  },
  {
   "cell_type": "code",
   "metadata": {
    "id": "7fTKd6Q1fNxS"
   },
   "source": [
    ""
   ],
   "execution_count": 78,
   "outputs": []
  },
  {
   "cell_type": "code",
   "metadata": {
    "id": "O6O3PDIafNxS"
   },
   "source": [
    ""
   ],
   "execution_count": 78,
   "outputs": []
  },
  {
   "cell_type": "markdown",
   "metadata": {
    "id": "SKUPyxZbfNxT"
   },
   "source": [
    "Vamos a graficar ambas expresiones obtenidas. Para hacerlo se graficara con un contourplot, es decir, una curva de nivel en cero que es a lo que están igualadas nuestras expresiones."
   ]
  },
  {
   "cell_type": "code",
   "metadata": {
    "id": "va_3MDhMfNxT"
   },
   "source": [
    ""
   ],
   "execution_count": 78,
   "outputs": []
  },
  {
   "cell_type": "code",
   "metadata": {
    "id": "sG-UB_yufNxT"
   },
   "source": [
    ""
   ],
   "execution_count": 78,
   "outputs": []
  },
  {
   "cell_type": "code",
   "metadata": {
    "id": "SrDvDeJnfNxT"
   },
   "source": [
    ""
   ],
   "execution_count": 78,
   "outputs": []
  },
  {
   "cell_type": "code",
   "metadata": {
    "id": "3S7hQwybfNxT"
   },
   "source": [
    ""
   ],
   "execution_count": 78,
   "outputs": []
  }
 ]
}