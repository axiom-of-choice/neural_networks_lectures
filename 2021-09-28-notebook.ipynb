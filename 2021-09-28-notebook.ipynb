{
  "nbformat": 4,
  "nbformat_minor": 0,
  "metadata": {
    "anaconda-cloud": {},
    "celltoolbar": "Raw Cell Format",
    "kernelspec": {
      "display_name": "Python 3",
      "language": "python",
      "name": "python3"
    },
    "language_info": {
      "codemirror_mode": {
        "name": "ipython",
        "version": 3
      },
      "file_extension": ".py",
      "mimetype": "text/x-python",
      "name": "python",
      "nbconvert_exporter": "python",
      "pygments_lexer": "ipython3",
      "version": "3.7.7"
    },
    "nbpresent": {
      "slides": {
        "1390653e-bdb6-444a-b611-39c60ffb77a1": {
          "id": "1390653e-bdb6-444a-b611-39c60ffb77a1",
          "prev": "5c2c8cc8-3676-4c06-b94c-d3f866ade69b",
          "regions": {
            "620813b3-9326-41e6-9d30-f5ac4f858225": {
              "attrs": {
                "height": 0.8,
                "width": 0.8,
                "x": 0.1,
                "y": 0.1
              },
              "content": {
                "cell": "86423d42-e808-47e6-b1a7-e925e195f821",
                "part": "whole"
              },
              "id": "620813b3-9326-41e6-9d30-f5ac4f858225"
            }
          }
        },
        "21036f68-a492-4532-a832-b213435c0ad2": {
          "id": "21036f68-a492-4532-a832-b213435c0ad2",
          "prev": "2c1c7f11-e5ee-4a25-8975-f0b033ba739a",
          "regions": {
            "a3908958-0784-4faa-ac97-b9325abe8ede": {
              "attrs": {
                "height": 0.8,
                "width": 0.8,
                "x": 0.1,
                "y": 0.1
              },
              "content": {
                "cell": "9aa64747-dc13-4bd9-bf26-73606628ad1c",
                "part": "whole"
              },
              "id": "a3908958-0784-4faa-ac97-b9325abe8ede"
            }
          }
        },
        "2c1c7f11-e5ee-4a25-8975-f0b033ba739a": {
          "id": "2c1c7f11-e5ee-4a25-8975-f0b033ba739a",
          "prev": "f3f10f50-4cad-4149-b308-c66e6a493a72",
          "regions": {
            "9e2d820e-ec17-4915-b960-0e0d5f640379": {
              "attrs": {
                "height": 0.8,
                "width": 0.8,
                "x": 0.1,
                "y": 0.1
              },
              "content": {
                "cell": "0281a659-abae-4cb9-b30f-b552b9db399e",
                "part": "whole"
              },
              "id": "9e2d820e-ec17-4915-b960-0e0d5f640379"
            }
          }
        },
        "30509a9a-dbd8-4dbd-9fab-852a7266d894": {
          "id": "30509a9a-dbd8-4dbd-9fab-852a7266d894",
          "prev": "8b078b7a-c2c6-4129-a19f-2a4f5c4a26f3",
          "regions": {
            "7baa4379-8f84-4d8f-b002-5a5ffd051489": {
              "attrs": {
                "height": 0.8,
                "width": 0.8,
                "x": 0.1,
                "y": 0.1
              },
              "content": {
                "cell": "14d1a927-b37f-4323-9404-17d453f3b487",
                "part": "whole"
              },
              "id": "7baa4379-8f84-4d8f-b002-5a5ffd051489"
            }
          }
        },
        "42d1bd80-265e-4acf-bbc1-b202afddade3": {
          "id": "42d1bd80-265e-4acf-bbc1-b202afddade3",
          "prev": "9bfe6214-4631-45b5-a05e-8923f178bb57",
          "regions": {
            "f2340145-4108-4fed-a0bc-4b91ca6c10ae": {
              "attrs": {
                "height": 0.8,
                "width": 0.8,
                "x": 0.1,
                "y": 0.1
              },
              "content": {
                "cell": "80be6133-d85a-4e43-9964-6578abcbaaac",
                "part": "whole"
              },
              "id": "f2340145-4108-4fed-a0bc-4b91ca6c10ae"
            }
          }
        },
        "5c2c8cc8-3676-4c06-b94c-d3f866ade69b": {
          "id": "5c2c8cc8-3676-4c06-b94c-d3f866ade69b",
          "prev": "6c4bc874-f3fc-472c-a81c-cd415b91c24b",
          "regions": {
            "e1de7ab6-4ef2-4b14-92d7-b174bf32806e": {
              "attrs": {
                "height": 0.8,
                "width": 0.8,
                "x": 0.1,
                "y": 0.1
              },
              "content": {
                "cell": "ae8725fa-30f7-4d7f-a2c2-5f86953d730b",
                "part": "whole"
              },
              "id": "e1de7ab6-4ef2-4b14-92d7-b174bf32806e"
            }
          }
        },
        "5cab5674-74dc-4378-93d7-eaa79e90cdae": {
          "id": "5cab5674-74dc-4378-93d7-eaa79e90cdae",
          "prev": "ba274d18-2760-4e55-ad47-2727b824fd00",
          "regions": {
            "2178d7cf-bf1e-4850-95a2-1509f15febfa": {
              "attrs": {
                "height": 0.8,
                "width": 0.8,
                "x": 0.1,
                "y": 0.1
              },
              "content": {
                "cell": "5d433d13-f44a-45bb-91fd-406f60b33b67",
                "part": "whole"
              },
              "id": "2178d7cf-bf1e-4850-95a2-1509f15febfa"
            }
          }
        },
        "638df7e1-84d1-4fd4-a15c-c94b731d1bea": {
          "id": "638df7e1-84d1-4fd4-a15c-c94b731d1bea",
          "prev": "b9dddf99-da24-46e1-81d4-8ac33b6fc3a3",
          "regions": {
            "deba8b1f-d997-4426-8f1b-978df7f19b41": {
              "attrs": {
                "height": 0.8,
                "width": 0.8,
                "x": 0.1,
                "y": 0.1
              },
              "content": {
                "cell": "7adaaf8f-a83e-456b-b99a-d3b3d4cb6d1a",
                "part": "whole"
              },
              "id": "deba8b1f-d997-4426-8f1b-978df7f19b41"
            }
          }
        },
        "6bda9eb4-0724-4e53-9971-131d0cb5f9e2": {
          "id": "6bda9eb4-0724-4e53-9971-131d0cb5f9e2",
          "prev": "ee33e624-cd65-4b8c-b28b-c95623a56dbf",
          "regions": {
            "feffbbd2-27d1-4318-8359-7d57583ee2bc": {
              "attrs": {
                "height": 0.8,
                "width": 0.8,
                "x": 0.1,
                "y": 0.1
              },
              "content": {
                "cell": "8dce188c-36b7-41fa-9020-b5cb5502e452",
                "part": "whole"
              },
              "id": "feffbbd2-27d1-4318-8359-7d57583ee2bc"
            }
          }
        },
        "6c4bc874-f3fc-472c-a81c-cd415b91c24b": {
          "id": "6c4bc874-f3fc-472c-a81c-cd415b91c24b",
          "prev": null,
          "regions": {
            "c9eac7e8-d033-4b03-8bf7-abd58ffe8d41": {
              "attrs": {
                "height": 0.8,
                "width": 0.8,
                "x": 0.1,
                "y": 0.1
              },
              "content": {
                "cell": "71219fc3-c9cb-4700-9f0b-ab38b1b223da",
                "part": "whole"
              },
              "id": "c9eac7e8-d033-4b03-8bf7-abd58ffe8d41"
            }
          }
        },
        "6d7ab34f-9d99-4c74-9877-27b25abc73f0": {
          "id": "6d7ab34f-9d99-4c74-9877-27b25abc73f0",
          "prev": "febe7de9-9362-4079-bfe9-2d4dfddf00e2",
          "regions": {
            "2ee252de-db5f-43e7-b4b7-7f59bba29962": {
              "attrs": {
                "height": 0.8,
                "width": 0.8,
                "x": 0.1,
                "y": 0.1
              },
              "content": {
                "cell": "85d1ab90-cc65-4935-808b-a6f57ecc892e",
                "part": "whole"
              },
              "id": "2ee252de-db5f-43e7-b4b7-7f59bba29962"
            }
          }
        },
        "7ea582c3-439d-4ec2-9f27-dea18bcacc31": {
          "id": "7ea582c3-439d-4ec2-9f27-dea18bcacc31",
          "prev": "f0727a74-61a1-48c1-94a5-3e7490c29f0b",
          "regions": {
            "652960af-b61f-4c36-b122-3eacd714867b": {
              "attrs": {
                "height": 0.8,
                "width": 0.8,
                "x": 0.1,
                "y": 0.1
              },
              "content": {
                "cell": "86172e20-fe16-447d-859f-24a81e563011",
                "part": "whole"
              },
              "id": "652960af-b61f-4c36-b122-3eacd714867b"
            }
          }
        },
        "8b078b7a-c2c6-4129-a19f-2a4f5c4a26f3": {
          "id": "8b078b7a-c2c6-4129-a19f-2a4f5c4a26f3",
          "prev": "5cab5674-74dc-4378-93d7-eaa79e90cdae",
          "regions": {
            "dce1e605-9342-414d-b8c6-7dcb922fbf47": {
              "attrs": {
                "height": 0.8,
                "width": 0.8,
                "x": 0.1,
                "y": 0.1
              },
              "content": {
                "cell": "ee1bdf03-6e13-4f1f-9dc9-22d4e344fdba",
                "part": "whole"
              },
              "id": "dce1e605-9342-414d-b8c6-7dcb922fbf47"
            }
          }
        },
        "999513ad-b53e-4d84-b9ef-ed37967f74d6": {
          "id": "999513ad-b53e-4d84-b9ef-ed37967f74d6",
          "prev": "638df7e1-84d1-4fd4-a15c-c94b731d1bea",
          "regions": {
            "2e85c1b2-3c30-413e-9b0f-141281da3a2a": {
              "attrs": {
                "height": 0.8,
                "width": 0.8,
                "x": 0.1,
                "y": 0.1
              },
              "content": {
                "cell": "998dc7f5-ab6d-4fb8-866f-4fa96a06aaaa",
                "part": "whole"
              },
              "id": "2e85c1b2-3c30-413e-9b0f-141281da3a2a"
            }
          }
        },
        "9add3d79-8621-4167-8e1d-d4ae48fba71b": {
          "id": "9add3d79-8621-4167-8e1d-d4ae48fba71b",
          "prev": "7ea582c3-439d-4ec2-9f27-dea18bcacc31",
          "regions": {
            "d5f4537e-4d8c-4179-b14b-6c475f50b04e": {
              "attrs": {
                "height": 0.8,
                "width": 0.8,
                "x": 0.1,
                "y": 0.1
              },
              "content": {
                "cell": "9659b1c1-9aed-4d71-b830-4a60d408ad71",
                "part": "whole"
              },
              "id": "d5f4537e-4d8c-4179-b14b-6c475f50b04e"
            }
          }
        },
        "9bfe6214-4631-45b5-a05e-8923f178bb57": {
          "id": "9bfe6214-4631-45b5-a05e-8923f178bb57",
          "prev": "30509a9a-dbd8-4dbd-9fab-852a7266d894",
          "regions": {
            "aac53254-d149-49f2-8f92-670c6f2714bb": {
              "attrs": {
                "height": 0.8,
                "width": 0.8,
                "x": 0.1,
                "y": 0.1
              },
              "content": {
                "cell": "c71a78d7-9d0e-4825-9c84-9998f971317d",
                "part": "whole"
              },
              "id": "aac53254-d149-49f2-8f92-670c6f2714bb"
            }
          }
        },
        "b9dddf99-da24-46e1-81d4-8ac33b6fc3a3": {
          "id": "b9dddf99-da24-46e1-81d4-8ac33b6fc3a3",
          "prev": "1390653e-bdb6-444a-b611-39c60ffb77a1",
          "regions": {
            "0b31dbb4-f15b-4a16-9420-c5dc8ed4e871": {
              "attrs": {
                "height": 0.8,
                "width": 0.8,
                "x": 0.1,
                "y": 0.1
              },
              "content": {
                "cell": "d0569bb0-fad8-48b7-8d48-0066bfb90401",
                "part": "whole"
              },
              "id": "0b31dbb4-f15b-4a16-9420-c5dc8ed4e871"
            }
          }
        },
        "ba274d18-2760-4e55-ad47-2727b824fd00": {
          "id": "ba274d18-2760-4e55-ad47-2727b824fd00",
          "prev": "ed47079d-58cf-4b87-a9fa-a709d8a7c3c6",
          "regions": {
            "13000b51-bd66-4fb5-970b-20bfad440880": {
              "attrs": {
                "height": 0.8,
                "width": 0.8,
                "x": 0.1,
                "y": 0.1
              },
              "content": {
                "cell": "f6847886-4044-43a7-9edd-f18efddcb7a9",
                "part": "whole"
              },
              "id": "13000b51-bd66-4fb5-970b-20bfad440880"
            }
          }
        },
        "ed47079d-58cf-4b87-a9fa-a709d8a7c3c6": {
          "id": "ed47079d-58cf-4b87-a9fa-a709d8a7c3c6",
          "prev": "9add3d79-8621-4167-8e1d-d4ae48fba71b",
          "regions": {
            "a96aea94-1714-4020-83f9-dbc03e9fd55e": {
              "attrs": {
                "height": 0.8,
                "width": 0.8,
                "x": 0.1,
                "y": 0.1
              },
              "content": {
                "cell": "5a579720-fa62-4525-85e3-dd049cbd73be",
                "part": "whole"
              },
              "id": "a96aea94-1714-4020-83f9-dbc03e9fd55e"
            }
          }
        },
        "ee33e624-cd65-4b8c-b28b-c95623a56dbf": {
          "id": "ee33e624-cd65-4b8c-b28b-c95623a56dbf",
          "prev": "999513ad-b53e-4d84-b9ef-ed37967f74d6",
          "regions": {
            "325ae98d-0855-4d16-8408-6d12f47efa24": {
              "attrs": {
                "height": 0.8,
                "width": 0.8,
                "x": 0.1,
                "y": 0.1
              },
              "content": {
                "cell": "829150e0-712b-4739-92d6-37b9c3d789cb",
                "part": "whole"
              },
              "id": "325ae98d-0855-4d16-8408-6d12f47efa24"
            }
          }
        },
        "f0727a74-61a1-48c1-94a5-3e7490c29f0b": {
          "id": "f0727a74-61a1-48c1-94a5-3e7490c29f0b",
          "prev": "6d7ab34f-9d99-4c74-9877-27b25abc73f0",
          "regions": {
            "1666081e-448d-4f80-90f2-9f26f1568cdc": {
              "attrs": {
                "height": 0.8,
                "width": 0.8,
                "x": 0.1,
                "y": 0.1
              },
              "content": {
                "cell": "d99a804c-9444-418b-bc94-3c2f064e2844",
                "part": "whole"
              },
              "id": "1666081e-448d-4f80-90f2-9f26f1568cdc"
            }
          }
        },
        "f3f10f50-4cad-4149-b308-c66e6a493a72": {
          "id": "f3f10f50-4cad-4149-b308-c66e6a493a72",
          "prev": "42d1bd80-265e-4acf-bbc1-b202afddade3",
          "regions": {
            "4fc1185f-bdb8-46fc-99bd-b8d30defeca9": {
              "attrs": {
                "height": 0.8,
                "width": 0.8,
                "x": 0.1,
                "y": 0.1
              },
              "content": {
                "cell": "9b7597e9-aaa9-4d9f-ba0d-22f43d1a3900",
                "part": "whole"
              },
              "id": "4fc1185f-bdb8-46fc-99bd-b8d30defeca9"
            }
          }
        },
        "febe7de9-9362-4079-bfe9-2d4dfddf00e2": {
          "id": "febe7de9-9362-4079-bfe9-2d4dfddf00e2",
          "prev": "6bda9eb4-0724-4e53-9971-131d0cb5f9e2",
          "regions": {
            "42348103-1cd6-4bac-b346-33cd41aea444": {
              "attrs": {
                "height": 0.8,
                "width": 0.8,
                "x": 0.1,
                "y": 0.1
              },
              "content": {
                "cell": "35a148d4-f201-4441-bf5e-8a07f93dea84",
                "part": "whole"
              },
              "id": "42348103-1cd6-4bac-b346-33cd41aea444"
            }
          }
        }
      },
      "themes": {}
    },
    "colab": {
      "name": "NOTEBOOK_28-09-2021.ipynb",
      "provenance": [],
      "include_colab_link": true
    }
  },
  "cells": [
    {
      "cell_type": "markdown",
      "metadata": {
        "id": "view-in-github",
        "colab_type": "text"
      },
      "source": [
        "<a href=\"https://colab.research.google.com/github/axiom-of-choice/neuronal_networks_lectures/blob/master/2021-09-28-notebook.ipynb\" target=\"_parent\"><img src=\"https://colab.research.google.com/assets/colab-badge.svg\" alt=\"Open In Colab\"/></a>"
      ]
    },
    {
      "cell_type": "markdown",
      "metadata": {
        "id": "qz0UTHfpgnOm"
      },
      "source": [
        "# Una introducción a Python: Conceptos básicos de programación\n",
        "**Autor**: Fermín Cruz.   **Revisores**: José A. Troyano, Carlos G. Vallejo, Mariano González, Daniel Mateos.   **Última modificación:** 1 de octubre de 2018"
      ]
    },
    {
      "cell_type": "markdown",
      "metadata": {
        "id": "HgFwGQ7dgnOq"
      },
      "source": [
        "Este documento está pensado para que comiences a comprender los programas escritos en el lenguaje Python, y a escribir tus primeros programas. No tienes que tener ningún conocimiento previo para entenderlo, aunque algunos de los conceptos son un poco abstractos, por lo que es posible que tengas que leer las explicaciones varias veces, y despacito... No pretendemos profundizar en ninguno de los contenidos que aquí se presentan, sino más bien dar un primer vistazo a lo que te puedes encontrar en un programa escrito en Python. Más adelante, iremos profundizando en cada uno de estos contenidos. \n",
        "\n",
        "\n",
        "Debes ir ejecutando cada una de las celdas de código\\* que vayas encontrado. Para hacer esto, puedes hacer clic en la celda en cuestión y luego en el botón con el icono de \"play\" que aparece en la barra de herramientas; también puedes pulsar las teclas \"Mayúsculas\" y \"Entrar\" al mismo tiempo. Si empiezas en la primera celda, puedes ir usando el mismo icono de \"play\" para ir ejecutando y avanzando a lo largo del notebook. Si \"ejecutas\" una celda como esta, que no contiene código, simplemente pasarás a la siguiente. **Debes ejecutar todas las celdas que contienen código**, si no lo haces es posible que algunos ejemplos de código\\* no funcionen. \n",
        "\n",
        "Los apartados marcados con el título **¡Prueba tú!** están pensados para que escribas pequeños trocitos de código\\*, de manera que compruebes si has comprendido lo que se te acaba de explicar. Es importante que no continúes leyendo hasta que no hayas resuelto lo que se te va pidiendo. Si no consigues resolver alguno de estos apartados, ya sabes: **pide ayuda a tu profesor**.\n",
        "\n",
        "\\* Cuando hablamos de \"código\" nos referimos a un trozo de texto sacado de un programa informático. En inglés, es frecuente usar el término **coding** para referirse al acto de escribir programas informáticos. Por cierto, ¿qué tal andas de inglés? Verás que gran parte de la información que hay que consultar para programar está en inglés, así que es mejor que te vayas acostumbrando...\n",
        "\n",
        "### ¿Empezamos?"
      ]
    },
    {
      "cell_type": "markdown",
      "metadata": {
        "id": "nOkUPzDhgnOs"
      },
      "source": [
        "## 1. Instrucciones y funciones"
      ]
    },
    {
      "cell_type": "markdown",
      "metadata": {
        "nbpresent": {
          "id": "71219fc3-c9cb-4700-9f0b-ab38b1b223da"
        },
        "id": "EXeKyZSIgnOs"
      },
      "source": [
        "Un programa Python está formado por **instrucciones** (a veces también son llamadas **sentencias**). Cada instrucción se escribe normalmente en una línea. Por ejemplo, la siguiente instrucción sirve para imprimir el mensaje \"Hola, mundo!\" en la pantalla.\n",
        "\n",
        "Para ejecutar la instrucción, haz clic sobre la celda de abajo y luego pulsa el icono de \"play\" (también puedes pulsar las teclas \"Mayúsculas+Entrar\")."
      ]
    },
    {
      "cell_type": "code",
      "metadata": {
        "nbpresent": {
          "id": "ae8725fa-30f7-4d7f-a2c2-5f86953d730b"
        },
        "id": "AQ6r8bwEgnOt",
        "outputId": "9e9eda24-bb20-49ee-884a-57c626eedcf2"
      },
      "source": [
        "print(5)"
      ],
      "execution_count": null,
      "outputs": [
        {
          "name": "stdout",
          "output_type": "stream",
          "text": [
            "5\n"
          ]
        }
      ]
    },
    {
      "cell_type": "markdown",
      "metadata": {
        "nbpresent": {
          "id": "86423d42-e808-47e6-b1a7-e925e195f821"
        },
        "id": "y1nceaJsgnOu"
      },
      "source": [
        "Si en un programa hay varias instrucciones, estas se ejecutan secuencialmente, una tras otra."
      ]
    },
    {
      "cell_type": "code",
      "metadata": {
        "nbpresent": {
          "id": "d0569bb0-fad8-48b7-8d48-0066bfb90401"
        },
        "id": "XT49oYttgnOv",
        "outputId": "e85bbc28-7be8-4d19-f71e-7fa02d912e69"
      },
      "source": [
        "print(\"Hola, mundo!\")\n",
        "print(\"Adiós, mundo!\")"
      ],
      "execution_count": null,
      "outputs": [
        {
          "name": "stdout",
          "output_type": "stream",
          "text": [
            "Hola, mundo!\n",
            "Adiós, mundo!\n"
          ]
        }
      ]
    },
    {
      "cell_type": "markdown",
      "metadata": {
        "nbpresent": {
          "id": "7adaaf8f-a83e-456b-b99a-d3b3d4cb6d1a"
        },
        "id": "ySLr_P-AgnOw"
      },
      "source": [
        "La instrucción que hemos usado en los ejemplos anteriores, **print** (que significa imprimir en inglés), es una **función predefinida** (*built-in function*). Una función puede ser \"llamada\" (también se dice \"invocada\") desde un programa escribiendo su nombre y a continuación unos paréntesis de apertura y cierre. En ocasiones, las funciones reciben **parámetros**, que se escriben en la llamada dentro de los paréntesis, separados por comas si hay más de uno."
      ]
    },
    {
      "cell_type": "markdown",
      "metadata": {
        "id": "MCphQu1RgnOx"
      },
      "source": [
        "### ¡Prueba tú!"
      ]
    },
    {
      "cell_type": "code",
      "metadata": {
        "id": "Sn3cxUt5gnOx",
        "outputId": "2fde85ae-b7fb-4271-affe-19df2fde0322"
      },
      "source": [
        "# Escribe una llamada a la función print para mostrar algún mensaje en pantalla.\n",
        "\n",
        "print(\"BUenos días\")\n"
      ],
      "execution_count": null,
      "outputs": [
        {
          "name": "stdout",
          "output_type": "stream",
          "text": [
            "BUenos días\n"
          ]
        }
      ]
    },
    {
      "cell_type": "markdown",
      "metadata": {
        "id": "x2MEWjGGgnOy"
      },
      "source": [
        "Hay muchas funciones predefinidas, por ejemplo la función **help** nos proporciona ayuda sobre cualquier otra función. "
      ]
    },
    {
      "cell_type": "code",
      "metadata": {
        "nbpresent": {
          "id": "998dc7f5-ab6d-4fb8-866f-4fa96a06aaaa"
        },
        "id": "GSd3O-4tgnOy",
        "outputId": "2150ae7f-b5f3-4852-829e-dee2b1c663a3"
      },
      "source": [
        "help(print)   # Nos muestra información de ayuda sobre la función predefinida print"
      ],
      "execution_count": null,
      "outputs": [
        {
          "name": "stdout",
          "output_type": "stream",
          "text": [
            "Help on built-in function print in module builtins:\n",
            "\n",
            "print(...)\n",
            "    print(value, ..., sep=' ', end='\\n', file=sys.stdout, flush=False)\n",
            "    \n",
            "    Prints the values to a stream, or to sys.stdout by default.\n",
            "    Optional keyword arguments:\n",
            "    file:  a file-like object (stream); defaults to the current sys.stdout.\n",
            "    sep:   string inserted between values, default a space.\n",
            "    end:   string appended after the last value, default a newline.\n",
            "    flush: whether to forcibly flush the stream.\n",
            "\n"
          ]
        }
      ]
    },
    {
      "cell_type": "markdown",
      "metadata": {
        "id": "LmiOSCk1gnOz"
      },
      "source": [
        "Por supuesto, la ayuda está en inglés. Habrá que acostumbrarse, porque la inmensa mayoría de documentación y ayudas que vas a encontrar para programar estará también en inglés..."
      ]
    },
    {
      "cell_type": "markdown",
      "metadata": {
        "id": "Z0YjlaAognOz"
      },
      "source": [
        "### ¡Prueba tú!"
      ]
    },
    {
      "cell_type": "code",
      "metadata": {
        "id": "_OE-FZiegnOz",
        "outputId": "72429aec-63f9-4809-dee3-41a5a7510bf9"
      },
      "source": [
        "# Haz que se muestre la ayuda disponible sobre la propia función help\n",
        "\n",
        "help(help)"
      ],
      "execution_count": null,
      "outputs": [
        {
          "name": "stdout",
          "output_type": "stream",
          "text": [
            "Help on _Helper in module _sitebuiltins object:\n",
            "\n",
            "class _Helper(builtins.object)\n",
            " |  Define the builtin 'help'.\n",
            " |  \n",
            " |  This is a wrapper around pydoc.help that provides a helpful message\n",
            " |  when 'help' is typed at the Python interactive prompt.\n",
            " |  \n",
            " |  Calling help() at the Python prompt starts an interactive help session.\n",
            " |  Calling help(thing) prints help for the python object 'thing'.\n",
            " |  \n",
            " |  Methods defined here:\n",
            " |  \n",
            " |  __call__(self, *args, **kwds)\n",
            " |      Call self as a function.\n",
            " |  \n",
            " |  __repr__(self)\n",
            " |      Return repr(self).\n",
            " |  \n",
            " |  ----------------------------------------------------------------------\n",
            " |  Data descriptors defined here:\n",
            " |  \n",
            " |  __dict__\n",
            " |      dictionary for instance variables (if defined)\n",
            " |  \n",
            " |  __weakref__\n",
            " |      list of weak references to the object (if defined)\n",
            "\n"
          ]
        }
      ]
    },
    {
      "cell_type": "markdown",
      "metadata": {
        "nbpresent": {
          "id": "829150e0-712b-4739-92d6-37b9c3d789cb"
        },
        "id": "U1-aMs3ygnOz"
      },
      "source": [
        "En el ejemplo anterior hemos usado el carácter almohadilla (#) para escribir un **comentario** sobre el código. Los comentarios se usan en los programas para hacer aclaraciones, explicar el funcionamiento y, en general, hacer más fácil de entender nuestros programas. \n",
        "\n",
        "Las funciones anteriores se llaman funciones predefinidas porque ya vienen incluidas \"por defecto\" en Python. Por contra, los programadores pueden **definir** sus propias **funciones**, como se muestra a continuación."
      ]
    },
    {
      "cell_type": "code",
      "metadata": {
        "id": "DLJ9fPDUgnO0"
      },
      "source": [
        "# ajsks aiays kaha siaua sksua udia idua sjsha "
      ],
      "execution_count": null,
      "outputs": []
    },
    {
      "cell_type": "code",
      "metadata": {
        "nbpresent": {
          "id": "8dce188c-36b7-41fa-9020-b5cb5502e452"
        },
        "id": "LFvral5wgnO0"
      },
      "source": [
        "def saluda(nombre):\n",
        "    \n",
        "    #ahahaha \n",
        "    '''\n",
        "    qjqhqvq \n",
        "    qjqquq quit\n",
        "    qqqyq \n",
        "    qhqhq\n",
        "    Esta función imprime un saludo personalizado con el nombre indicado mediante el parámetro \"nombre\".\n",
        "    '''\n",
        "    print(\"Hola, \"+nombre)"
      ],
      "execution_count": null,
      "outputs": []
    },
    {
      "cell_type": "code",
      "metadata": {
        "id": "4ZTU9O7RgnO0",
        "outputId": "3771744a-aeb6-401b-c48c-13f78bc846d5"
      },
      "source": [
        "saluda(\"Pepe\")"
      ],
      "execution_count": null,
      "outputs": [
        {
          "name": "stdout",
          "output_type": "stream",
          "text": [
            "Hola, Pepe\n"
          ]
        }
      ]
    },
    {
      "cell_type": "markdown",
      "metadata": {
        "nbpresent": {
          "id": "35a148d4-f201-4441-bf5e-8a07f93dea84"
        },
        "id": "vjW9FQnxgnO0"
      },
      "source": [
        "La función que acabamos de definir se llama *saluda* y recibe un único parámetro. Después de la primera línea (llamada **cabecera** o **prototipo** de la función) vienen una o varias instrucciones (llamadas **cuerpo** de la función), que serán ejecutadas cuando alguien llame a la función. Date cuenta de que las instrucciones que conforman el cuerpo de la función aparecen indentadas, es decir, tienen un tabulador delante. \n",
        "\n",
        "Las primeras líneas del cuerpo de la función, que comienzan y acaban con tres comillas simples, se llaman **comentario de documentación** de la función, y, aunque no son obligatorias, sí es recomendable incluirlas. Cuando alguien llame a la función predefinida *help* para pedir ayuda sobre nuestra función, se mostrará precisamente el texto aquí incluido.\n",
        "\n",
        "Lo que hará la función cuando alguien la llame será mostrar un mensaje de saludo. Hagamos una llamada para probar la función: prueba a escribir tu nombre entre las comillas."
      ]
    },
    {
      "cell_type": "code",
      "metadata": {
        "nbpresent": {
          "id": "85d1ab90-cc65-4935-808b-a6f57ecc892e"
        },
        "id": "kgZsr_6HgnO0",
        "outputId": "aa1a95c5-a8a1-4c6c-fc2a-606b7fb0e0c4"
      },
      "source": [
        "saluda(\"Fermín\")"
      ],
      "execution_count": null,
      "outputs": [
        {
          "name": "stdout",
          "output_type": "stream",
          "text": [
            "Hola, Fermín\n"
          ]
        }
      ]
    },
    {
      "cell_type": "markdown",
      "metadata": {
        "nbpresent": {
          "id": "d99a804c-9444-418b-bc94-3c2f064e2844"
        },
        "id": "fO4xJGOognO1"
      },
      "source": [
        "Al definir una función conseguimos reutilizar la funcionalidad implementada las veces que queramos, simplemente llamando a la función en las partes del programa en que necesitemos dicha funcionalidad. Por ejemplo, ahora puedo realizar varios saludos, uno tras otro:"
      ]
    },
    {
      "cell_type": "code",
      "metadata": {
        "nbpresent": {
          "id": "86172e20-fe16-447d-859f-24a81e563011"
        },
        "id": "1MHvq56EgnO1",
        "outputId": "78fb6299-7ff0-408d-ae82-16ecd8d2a067"
      },
      "source": [
        "saluda(\"John\")\n",
        "saluda(\"Paul\")\n",
        "saluda(\"George\")\n",
        "saluda(\"Ringo\")"
      ],
      "execution_count": null,
      "outputs": [
        {
          "name": "stdout",
          "output_type": "stream",
          "text": [
            "Hola, John\n",
            "Hola, Paul\n",
            "Hola, George\n",
            "Hola, Ringo\n"
          ]
        }
      ]
    },
    {
      "cell_type": "markdown",
      "metadata": {
        "id": "gon8EK9ngnO1"
      },
      "source": [
        "### ¡Prueba tú!"
      ]
    },
    {
      "cell_type": "markdown",
      "metadata": {
        "id": "K68q45acgnO1"
      },
      "source": [
        "Define una función llamada *saluda_educado* que reciba un nombre como parámetro, imprima el mismo saludo personalizado que la función saluda, y a continuación imprima el texto \"Encantado de conocerle\".\n",
        "\n",
        "**¡Truco!:** puedes llamar a la función anterior *saluda* desde el cuerpo de la nueva función *saluda_educado*."
      ]
    },
    {
      "cell_type": "code",
      "metadata": {
        "id": "9YNHSI_hgnO1"
      },
      "source": [
        "def saluda_educado(a):\n",
        "    saluda(a)\n",
        "    print(\"Encantado de conocerle\")\n",
        "\n"
      ],
      "execution_count": null,
      "outputs": []
    },
    {
      "cell_type": "code",
      "metadata": {
        "id": "BWq9LXb9gnO2",
        "outputId": "3b161cde-ef5f-45e6-8439-7e3dc6bfd768"
      },
      "source": [
        "saluda_educado(\"Pepe\")"
      ],
      "execution_count": null,
      "outputs": [
        {
          "name": "stdout",
          "output_type": "stream",
          "text": [
            "Hola, Pepe\n",
            "Encantado de conocerle\n"
          ]
        }
      ]
    },
    {
      "cell_type": "markdown",
      "metadata": {
        "id": "j00Deee0gnO2"
      },
      "source": [
        "## 2. Expresiones y tipos"
      ]
    },
    {
      "cell_type": "markdown",
      "metadata": {
        "nbpresent": {
          "id": "9659b1c1-9aed-4d71-b830-4a60d408ad71"
        },
        "id": "4RAb0ba_gnO2"
      },
      "source": [
        "En la instrucción que hemos escrito al definir la función *saluda*:\n",
        "```python \n",
        "print(\"Hola, \" + nombre)\n",
        "```\n",
        "\n",
        "hemos usado un **operador**, el signo +, que sirve para concatenar las dos cadenas de texto: la cadena *\"Hola, \"* y la cadena contenida en el parámetro *nombre*. \n",
        "\n",
        "El uso de operadores es habitual en todos los lenguajes de programación. Llamamos **expresiones** a las instrucciones formadas por operadores (como el +), literales (como la cadena *\"Hola, \"*) y variables (como el parámetro *nombre*) *[bueno, y más participantes que iremos viendo más adelante]*. Una expresión es siempre evaluada por Python, para obtener un resultado, antes de seguir ejecutando el resto de instrucciones del programa. \n",
        "\n",
        "Veamos algunos ejemplos de expresiones utilizando los **operadores aritméticos**. Prueba a cambiar los ejemplos que se muestran para experimentar un poco."
      ]
    },
    {
      "cell_type": "code",
      "metadata": {
        "nbpresent": {
          "id": "5a579720-fa62-4525-85e3-dd049cbd73be"
        },
        "id": "YW_Ay5d7gnO2",
        "outputId": "eada5578-a64c-4c5f-ddeb-0944d6c6e0f8"
      },
      "source": [
        "3 + 5"
      ],
      "execution_count": null,
      "outputs": [
        {
          "data": {
            "text/plain": [
              "8"
            ]
          },
          "execution_count": 22,
          "metadata": {},
          "output_type": "execute_result"
        }
      ]
    },
    {
      "cell_type": "code",
      "metadata": {
        "nbpresent": {
          "id": "f6847886-4044-43a7-9edd-f18efddcb7a9"
        },
        "id": "1FwH-OYhgnO3",
        "outputId": "8d6104cc-592a-4fc7-c090-8cd03e4b106d"
      },
      "source": [
        "3 + 5 * 8"
      ],
      "execution_count": null,
      "outputs": [
        {
          "data": {
            "text/plain": [
              "43"
            ]
          },
          "execution_count": 23,
          "metadata": {},
          "output_type": "execute_result"
        }
      ]
    },
    {
      "cell_type": "code",
      "metadata": {
        "nbpresent": {
          "id": "5d433d13-f44a-45bb-91fd-406f60b33b67"
        },
        "id": "CBysdi9HgnO3",
        "outputId": "14ce0671-7f57-4845-cc63-8e431fdf8acd"
      },
      "source": [
        "(3 + 5) * 8"
      ],
      "execution_count": null,
      "outputs": [
        {
          "data": {
            "text/plain": [
              "64"
            ]
          },
          "execution_count": 24,
          "metadata": {},
          "output_type": "execute_result"
        }
      ]
    },
    {
      "cell_type": "code",
      "metadata": {
        "id": "VVdb_VkpgnO3",
        "outputId": "c9870883-53ec-4141-baaf-892ca274292c"
      },
      "source": [
        "(3 + 5) * 8 / 14"
      ],
      "execution_count": null,
      "outputs": [
        {
          "data": {
            "text/plain": [
              "4.571428571428571"
            ]
          },
          "execution_count": 25,
          "metadata": {},
          "output_type": "execute_result"
        }
      ]
    },
    {
      "cell_type": "markdown",
      "metadata": {
        "id": "gyBMCk2qgnO3"
      },
      "source": [
        "### ¡Prueba tú!"
      ]
    },
    {
      "cell_type": "code",
      "metadata": {
        "id": "JiUTljV6gnO3",
        "outputId": "7b42fb5d-74b9-4b05-f371-da864b3286f8"
      },
      "source": [
        "# Escribe alguna expresión usando operadores aritméticos. Además de los anteriores tienes los siguientes:\n",
        "# - // % **\n",
        "print(4**5)\n",
        "print(5+5)\n",
        "\n",
        "\n"
      ],
      "execution_count": null,
      "outputs": [
        {
          "name": "stdout",
          "output_type": "stream",
          "text": [
            "1024\n",
            "10\n"
          ]
        }
      ]
    },
    {
      "cell_type": "markdown",
      "metadata": {
        "id": "faE1ajV8gnO3"
      },
      "source": [
        "En las expresiones también podemos usar llamadas a funciones, siempre que sean funciones que devuelvan algún resultado. Para que una función devuelva un valor cuando sea invocada, usaremos la instrucción **return** en algún punto del cuerpo de la función (casi siempre, al final del cuerpo de la función). Por ejemplo:"
      ]
    },
    {
      "cell_type": "code",
      "metadata": {
        "id": "dzhjYeyXgnO4",
        "outputId": "154fe252-fd35-4f15-b36c-b1c573e5e7c9"
      },
      "source": [
        "def doble(x):\n",
        "    return  x * 2\n",
        "\n",
        "doble(10)"
      ],
      "execution_count": null,
      "outputs": [
        {
          "data": {
            "text/plain": [
              "20"
            ]
          },
          "execution_count": 41,
          "metadata": {},
          "output_type": "execute_result"
        }
      ]
    },
    {
      "cell_type": "code",
      "metadata": {
        "id": "7cFBblr-gnO4",
        "outputId": "ed606a25-e06d-477a-ce57-35ca7867f2e3"
      },
      "source": [
        "type(print(True))"
      ],
      "execution_count": null,
      "outputs": [
        {
          "name": "stdout",
          "output_type": "stream",
          "text": [
            "True\n"
          ]
        },
        {
          "data": {
            "text/plain": [
              "NoneType"
            ]
          },
          "execution_count": 44,
          "metadata": {},
          "output_type": "execute_result"
        }
      ]
    },
    {
      "cell_type": "code",
      "metadata": {
        "id": "ea9BKnMSgnO4",
        "outputId": "392149ea-e9f0-47ff-aa9b-749efb4d1a4a"
      },
      "source": [
        "type(doble(5))"
      ],
      "execution_count": null,
      "outputs": [
        {
          "data": {
            "text/plain": [
              "int"
            ]
          },
          "execution_count": 45,
          "metadata": {},
          "output_type": "execute_result"
        }
      ]
    },
    {
      "cell_type": "code",
      "metadata": {
        "id": "Y-foCu57gnO4",
        "outputId": "1d1eaa15-5227-49bd-dbab-3a574214839d"
      },
      "source": [
        "doble(10) + 5"
      ],
      "execution_count": null,
      "outputs": [
        {
          "data": {
            "text/plain": [
              "25"
            ]
          },
          "execution_count": 42,
          "metadata": {},
          "output_type": "execute_result"
        }
      ]
    },
    {
      "cell_type": "code",
      "metadata": {
        "id": "HedvXN6LgnO4"
      },
      "source": [
        "def saluda_2(nombre):\n",
        "    return \"Hola, \"+ nombre"
      ],
      "execution_count": null,
      "outputs": []
    },
    {
      "cell_type": "code",
      "metadata": {
        "id": "D3TvOOL9gnO4",
        "outputId": "766a35bc-e956-4594-c193-1dc0e1cd389e"
      },
      "source": [
        "saluda_2(\"Pepe\") + \"adsf\""
      ],
      "execution_count": null,
      "outputs": [
        {
          "data": {
            "text/plain": [
              "'Hola, Pepeadsf'"
            ]
          },
          "execution_count": 48,
          "metadata": {},
          "output_type": "execute_result"
        }
      ]
    },
    {
      "cell_type": "code",
      "metadata": {
        "id": "9PnkthKcgnO5",
        "outputId": "65b498ac-3480-4de3-9fd8-2155f0c65ede"
      },
      "source": [
        "type(saluda_2(\"Pepe\"))"
      ],
      "execution_count": null,
      "outputs": [
        {
          "data": {
            "text/plain": [
              "str"
            ]
          },
          "execution_count": 49,
          "metadata": {},
          "output_type": "execute_result"
        }
      ]
    },
    {
      "cell_type": "markdown",
      "metadata": {
        "nbpresent": {
          "id": "ee1bdf03-6e13-4f1f-9dc9-22d4e344fdba"
        },
        "id": "b2dNkWRLgnO5"
      },
      "source": [
        "A veces necesitamos guardar el resultado de una expresión para utilizarlo más adelante en nuestro programa. Para esto se usan las **variables**. "
      ]
    },
    {
      "cell_type": "code",
      "metadata": {
        "nbpresent": {
          "id": "14d1a927-b37f-4323-9404-17d453f3b487"
        },
        "id": "I3pVLeuognO5",
        "outputId": "5eb4360f-6078-41eb-a38b-3a87b248f689"
      },
      "source": [
        "resultado = (3 + 5) * doble(8)\n",
        "print(resultado / 5)"
      ],
      "execution_count": null,
      "outputs": [
        {
          "name": "stdout",
          "output_type": "stream",
          "text": [
            "25.6\n"
          ]
        }
      ]
    },
    {
      "cell_type": "code",
      "metadata": {
        "id": "z7YqwW3VgnO5",
        "outputId": "f47bc63c-7cf3-4e52-aec0-28110d329aae"
      },
      "source": [
        "type(resultado/5)"
      ],
      "execution_count": null,
      "outputs": [
        {
          "data": {
            "text/plain": [
              "float"
            ]
          },
          "execution_count": 54,
          "metadata": {},
          "output_type": "execute_result"
        }
      ]
    },
    {
      "cell_type": "markdown",
      "metadata": {
        "nbpresent": {
          "id": "c71a78d7-9d0e-4825-9c84-9998f971317d"
        },
        "id": "lK8DIBtMgnO5"
      },
      "source": [
        "Hemos **asignado** a la variable *resultado* el valor de la expresión que hemos escrito a la derecha del carácter igual (=), de manera que más adelante en el programa podremos utilizar ese valor haciendo mención a la variable. A este carácter igual lo llamamos instrucción de **asignación**."
      ]
    },
    {
      "cell_type": "markdown",
      "metadata": {
        "id": "x1EBjRPKgnO5"
      },
      "source": [
        "### ¡Prueba tú!"
      ]
    },
    {
      "cell_type": "markdown",
      "metadata": {
        "id": "r-2jFQm3gnO5"
      },
      "source": [
        "Intenta definir una función de nombre *descuento* que reciba como parámetro un valor y un porcentaje y devuelva el resultado de aplicar el descuento correspondiente al porcentaje sobre el valor indicado."
      ]
    },
    {
      "cell_type": "code",
      "metadata": {
        "id": "GtsopI7agnO5"
      },
      "source": [
        "# Define aquí la función\n",
        "def descuento(valor, porcentaje):\n",
        "    porcentaje = porcentaje / 100\n",
        "    return valor*(1-porcentaje)\n",
        "\n",
        "\n"
      ],
      "execution_count": null,
      "outputs": []
    },
    {
      "cell_type": "code",
      "metadata": {
        "id": "E3YZ_XeYgnO6",
        "outputId": "c2766942-68ea-4f94-a148-94a3b6bc9580"
      },
      "source": [
        "descuento(100, 20)"
      ],
      "execution_count": null,
      "outputs": [
        {
          "data": {
            "text/plain": [
              "80.0"
            ]
          },
          "execution_count": 58,
          "metadata": {},
          "output_type": "execute_result"
        }
      ]
    },
    {
      "cell_type": "markdown",
      "metadata": {
        "id": "5SXsMYVXgnO6"
      },
      "source": [
        "Cuando la termines de escribir, puedes ejecutar esta prueba:"
      ]
    },
    {
      "cell_type": "code",
      "metadata": {
        "id": "u4r3mQFPgnO6",
        "outputId": "583a53dd-5939-4c2c-d579-0f7bf3116a86"
      },
      "source": [
        "precio = 200\n",
        "print(\"Precio con 10% de descuento:\", descuento(precio, 10))"
      ],
      "execution_count": null,
      "outputs": [
        {
          "name": "stdout",
          "output_type": "stream",
          "text": [
            "Precio con 10% de descuento: 180.0\n"
          ]
        }
      ]
    },
    {
      "cell_type": "markdown",
      "metadata": {
        "id": "gbqR0iYognO7"
      },
      "source": [
        "En los ejemplos anteriores, hemos utilizado **literales** de tipo **cadena de caracteres** (por ejemplo, *\"Hola, mundo!\"*) y literales de tipo número **entero** (por ejemplo, *3*, *5* y *8*). Hay más tipos de literales, por ejemplo literales de tipo número **real** o de tipo **lógico**: "
      ]
    },
    {
      "cell_type": "code",
      "metadata": {
        "nbpresent": {
          "id": "80be6133-d85a-4e43-9964-6578abcbaaac"
        },
        "id": "eIsQ9XMFgnO7",
        "outputId": "02808932-d2ab-4474-ea3a-83119d11dc00"
      },
      "source": [
        "PI = 3.14159\n",
        "radio = 10\n",
        "area = PI * radio**2   # El operador ** sirve para calcular potencias\n",
        "print(\"El área del círculo es\", area)\n",
        "\n",
        "umbral = 100.0\n",
        "area_superior_umbral = area > umbral  \n",
        "# El carácter > es un operador relacional, se evalúa como True (verdadero) o False (falso)\n",
        "print(\"¿Es el área superior al umbral?\", area_superior_umbral)"
      ],
      "execution_count": null,
      "outputs": [
        {
          "name": "stdout",
          "output_type": "stream",
          "text": [
            "El área del círculo es 314.159\n",
            "¿Es el área superior al umbral? True\n"
          ]
        }
      ]
    },
    {
      "cell_type": "markdown",
      "metadata": {
        "id": "yiF286yugnO7"
      },
      "source": [
        "## 3. Listas y tuplas"
      ]
    },
    {
      "cell_type": "markdown",
      "metadata": {
        "id": "AJndG8nvgnO7"
      },
      "source": [
        ""
      ]
    },
    {
      "cell_type": "code",
      "metadata": {
        "id": "T7uGI69ugnO7"
      },
      "source": [
        ""
      ],
      "execution_count": null,
      "outputs": []
    },
    {
      "cell_type": "markdown",
      "metadata": {
        "nbpresent": {
          "id": "9b7597e9-aaa9-4d9f-ba0d-22f43d1a3900"
        },
        "id": "ipFFkZQWgnO7"
      },
      "source": [
        "Cuando necesitamos almacenar varios datos en una sola variable, utilizamos literales de tipo **lista**:"
      ]
    },
    {
      "cell_type": "code",
      "metadata": {
        "nbpresent": {
          "id": "0281a659-abae-4cb9-b30f-b552b9db399e"
        },
        "id": "Xf1ULAVcgnO8",
        "outputId": "7e8debcd-fe1c-4915-fc4e-a1e74b24ed12"
      },
      "source": [
        "temperaturas = [28.5, 27.8, 29.5, 32.1, 30.7, 25.5, 26.0]\n",
        "print(temperaturas)"
      ],
      "execution_count": null,
      "outputs": [
        {
          "name": "stdout",
          "output_type": "stream",
          "text": [
            "[28.5, 27.8, 29.5, 32.1, 30.7, 25.5, 26.0]\n"
          ]
        }
      ]
    },
    {
      "cell_type": "code",
      "metadata": {
        "id": "4lgVOHlignO8",
        "outputId": "dea682c7-8f1e-4b4c-ee95-926d700d04aa"
      },
      "source": [
        "heroes = [\"Spiderman\", \"Iron Man\", \"Lobezno\", \"Capitán América\", \"Hulk\"]\n",
        "print(heroes)"
      ],
      "execution_count": null,
      "outputs": [
        {
          "name": "stdout",
          "output_type": "stream",
          "text": [
            "['Spiderman', 'Iron Man', 'Lobezno', 'Capitán América', 'Hulk']\n"
          ]
        }
      ]
    },
    {
      "cell_type": "markdown",
      "metadata": {
        "id": "2nN6LprignO8"
      },
      "source": [
        "O, a veces, de tipo **tupla**, que se escriben igual pero usando paréntesis en lugar de corchetes:"
      ]
    },
    {
      "cell_type": "code",
      "metadata": {
        "id": "Q6OIn0rFgnO8",
        "outputId": "3f25fbc4-304e-4941-a3df-3b67af941da9"
      },
      "source": [
        "usuario = (\"Mark\", \"Lenders\")\n",
        "print(usuario)"
      ],
      "execution_count": null,
      "outputs": [
        {
          "name": "stdout",
          "output_type": "stream",
          "text": [
            "('Mark', 'Lenders')\n"
          ]
        }
      ]
    },
    {
      "cell_type": "markdown",
      "metadata": {
        "id": "VXCtW0r0gnO8"
      },
      "source": [
        "Ambos, listas y tuplas, se parecen mucho (ya veremos algunas diferencias más adelante). Podemos acceder a un elemento concreto, indicando el **índice** de dicho elemento (es decir, la posición que ocupa dentro de la lista o tupla, contando desde la izquierda):"
      ]
    },
    {
      "cell_type": "code",
      "metadata": {
        "id": "XUc1Ft4bgnO8",
        "outputId": "99b23a1b-f5ba-46ef-cd96-0939679bad86"
      },
      "source": [
        "temperaturas"
      ],
      "execution_count": null,
      "outputs": [
        {
          "data": {
            "text/plain": [
              "[28.5, 27.8, 29.5, 32.1, 30.7, 25.5, 26.0]"
            ]
          },
          "execution_count": 13,
          "metadata": {},
          "output_type": "execute_result"
        }
      ]
    },
    {
      "cell_type": "markdown",
      "metadata": {
        "id": "XqZmJmG1gnO9"
      },
      "source": [
        "$x[i]$\n",
        "$x_i$"
      ]
    },
    {
      "cell_type": "markdown",
      "metadata": {
        "id": "cBQ5CAS_gnO9"
      },
      "source": [
        "En python el primer índice es 0"
      ]
    },
    {
      "cell_type": "code",
      "metadata": {
        "id": "maQiuobKgnO9",
        "outputId": "ab1407ae-544b-4656-e484-495b2f827cc9"
      },
      "source": [
        "temperaturas[6]"
      ],
      "execution_count": null,
      "outputs": [
        {
          "data": {
            "text/plain": [
              "26.0"
            ]
          },
          "execution_count": 17,
          "metadata": {},
          "output_type": "execute_result"
        }
      ]
    },
    {
      "cell_type": "code",
      "metadata": {
        "id": "Ap6G-ksYgnO9"
      },
      "source": [
        "temperaturas[0]   # La primera posición corresponde al índice 0"
      ],
      "execution_count": null,
      "outputs": []
    },
    {
      "cell_type": "code",
      "metadata": {
        "id": "vEhcgqtSgnO9",
        "outputId": "9926d0a6-961a-4aec-a41e-c4a614cdcbda"
      },
      "source": [
        "heroes"
      ],
      "execution_count": null,
      "outputs": [
        {
          "data": {
            "text/plain": [
              "['Spiderman', 'Iron Man', 'Lobezno', 'Capitán América', 'Hulk']"
            ]
          },
          "execution_count": 19,
          "metadata": {},
          "output_type": "execute_result"
        }
      ]
    },
    {
      "cell_type": "code",
      "metadata": {
        "id": "AW5SkTy0gnO9",
        "outputId": "7bfa5573-6495-4834-b493-bec667b00790"
      },
      "source": [
        "heroes[4]"
      ],
      "execution_count": null,
      "outputs": [
        {
          "data": {
            "text/plain": [
              "'Hulk'"
            ]
          },
          "execution_count": 18,
          "metadata": {},
          "output_type": "execute_result"
        }
      ]
    },
    {
      "cell_type": "code",
      "metadata": {
        "id": "5Tt2WHL0gnO-",
        "outputId": "777049c4-7ee4-46b0-ba64-755fd4bb1497"
      },
      "source": [
        "usuario"
      ],
      "execution_count": null,
      "outputs": [
        {
          "data": {
            "text/plain": [
              "('Mark', 'Lenders')"
            ]
          },
          "execution_count": 22,
          "metadata": {},
          "output_type": "execute_result"
        }
      ]
    },
    {
      "cell_type": "code",
      "metadata": {
        "id": "_h7Vr0tVgnO-",
        "outputId": "b51ae7af-037b-4f02-ea9a-e1d5014069a2"
      },
      "source": [
        "usuario[1]"
      ],
      "execution_count": null,
      "outputs": [
        {
          "data": {
            "text/plain": [
              "'Lenders'"
            ]
          },
          "execution_count": 26,
          "metadata": {},
          "output_type": "execute_result"
        }
      ]
    },
    {
      "cell_type": "code",
      "metadata": {
        "id": "9kG0b7nkgnO-",
        "outputId": "e8319001-8fe0-4091-e596-3574e9890ca3"
      },
      "source": [
        "temperaturas[1] = 27.0\n",
        "# Puedo asignar un valor a una posición cualquiera de una lista\n",
        "print(temperaturas)"
      ],
      "execution_count": null,
      "outputs": [
        {
          "name": "stdout",
          "output_type": "stream",
          "text": [
            "[28.5, 27.0, 29.5, 32.1, 30.7, 25.5, 26.0]\n"
          ]
        }
      ]
    },
    {
      "cell_type": "code",
      "metadata": {
        "id": "YPwIuxd5gnO-",
        "outputId": "623456a7-958e-496f-8928-bec47ec20cda"
      },
      "source": [
        "temperaturas[0] =  temperaturas[0] + 0.5\n",
        "# Incrementamos en 0.5 grados la primera temperatura de la lista\n",
        "print(temperaturas)"
      ],
      "execution_count": null,
      "outputs": [
        {
          "name": "stdout",
          "output_type": "stream",
          "text": [
            "[30.0, 27.0, 29.5, 32.1, 30.7, 25.5, 26.0]\n"
          ]
        }
      ]
    },
    {
      "cell_type": "markdown",
      "metadata": {
        "id": "TU8szw7-gnO_"
      },
      "source": [
        "También podemos conocer en cualquier momento el número total de elementos dentro de una lista o una tupla mediante la función predefinida **len**:"
      ]
    },
    {
      "cell_type": "code",
      "metadata": {
        "id": "U52TpBUBgnO_",
        "outputId": "6775098c-992e-4b6a-e2ea-9378ec8d30c3"
      },
      "source": [
        "len(temperaturas)"
      ],
      "execution_count": null,
      "outputs": [
        {
          "data": {
            "text/plain": [
              "7"
            ]
          },
          "execution_count": 31,
          "metadata": {},
          "output_type": "execute_result"
        }
      ]
    },
    {
      "cell_type": "code",
      "metadata": {
        "id": "ghrQ9wlTgnO_",
        "outputId": "e889e044-dd39-4cb6-ba76-36832f65bca7"
      },
      "source": [
        "len(usuario)"
      ],
      "execution_count": null,
      "outputs": [
        {
          "data": {
            "text/plain": [
              "2"
            ]
          },
          "execution_count": 32,
          "metadata": {},
          "output_type": "execute_result"
        }
      ]
    },
    {
      "cell_type": "markdown",
      "metadata": {
        "id": "MPDkrF68gnO_"
      },
      "source": [
        "---\n",
        "**¡Cuidado!** No podemos asignar valores a las posiciones de una tupla. Prueba a ejecutar este código:"
      ]
    },
    {
      "cell_type": "code",
      "metadata": {
        "id": "_QWKvbJvgnO_",
        "outputId": "6971f24b-ec35-4f97-c881-9b972e238549"
      },
      "source": [
        "usuario[0] = \"Marcos\" # Cambiemos el nombre del usuario"
      ],
      "execution_count": null,
      "outputs": [
        {
          "ename": "TypeError",
          "evalue": "'tuple' object does not support item assignment",
          "output_type": "error",
          "traceback": [
            "\u001b[0;31m---------------------------------------------------------------------------\u001b[0m",
            "\u001b[0;31mTypeError\u001b[0m                                 Traceback (most recent call last)",
            "\u001b[0;32m<ipython-input-33-4064d3d57ed0>\u001b[0m in \u001b[0;36m<module>\u001b[0;34m\u001b[0m\n\u001b[0;32m----> 1\u001b[0;31m \u001b[0musuario\u001b[0m\u001b[0;34m[\u001b[0m\u001b[0;36m0\u001b[0m\u001b[0;34m]\u001b[0m \u001b[0;34m=\u001b[0m \u001b[0;34m\"Marcos\"\u001b[0m \u001b[0;31m# Cambiemos el nombre del usuario\u001b[0m\u001b[0;34m\u001b[0m\u001b[0;34m\u001b[0m\u001b[0m\n\u001b[0m",
            "\u001b[0;31mTypeError\u001b[0m: 'tuple' object does not support item assignment"
          ]
        }
      ]
    },
    {
      "cell_type": "code",
      "metadata": {
        "id": "lDgdphXlgnPA",
        "outputId": "e6c80110-0552-44e3-9187-e12385a86d1f"
      },
      "source": [
        "print(z)"
      ],
      "execution_count": null,
      "outputs": [
        {
          "ename": "NameError",
          "evalue": "name 'z' is not defined",
          "output_type": "error",
          "traceback": [
            "\u001b[0;31m---------------------------------------------------------------------------\u001b[0m",
            "\u001b[0;31mNameError\u001b[0m                                 Traceback (most recent call last)",
            "\u001b[0;32m<ipython-input-34-c01ac3f50fdc>\u001b[0m in \u001b[0;36m<module>\u001b[0;34m\u001b[0m\n\u001b[0;32m----> 1\u001b[0;31m \u001b[0mprint\u001b[0m\u001b[0;34m(\u001b[0m\u001b[0mz\u001b[0m\u001b[0;34m)\u001b[0m\u001b[0;34m\u001b[0m\u001b[0;34m\u001b[0m\u001b[0m\n\u001b[0m",
            "\u001b[0;31mNameError\u001b[0m: name 'z' is not defined"
          ]
        }
      ]
    },
    {
      "cell_type": "markdown",
      "metadata": {
        "id": "T9l7le0ognPA"
      },
      "source": [
        "Decimos que las tuplas son un **tipo inmutable**, lo que significa que una vez que hemos guardado un valor en una variable de este tipo, ¡ya no podremos cambiarlo!\n",
        "\n",
        "Lo que acaba de ocurrir es un **error en tiempo de ejecución**. Estos errores ocurren frecuentemente mientras estamos escribiendo y probando nuestros programas, y significan que no hemos hecho algo de la manera correcta. Cuando se produce uno de estos errores, el programa deja de ejecutarse. Cuando nuestro programa esté acabado y bien probado, no debería ocurrir ninguno de estos errores... Aunque ocasionalmente ocurre. Seguro que te suena esta ventana:\n",
        "\n",
        "![title](img001.png)\n"
      ]
    },
    {
      "cell_type": "markdown",
      "metadata": {
        "id": "S4AmHFkZgnPA"
      },
      "source": [
        "### ¡Prueba tú!"
      ]
    },
    {
      "cell_type": "markdown",
      "metadata": {
        "id": "ndSbqbLVgnPA"
      },
      "source": [
        "Los elementos de la lista *temperaturas* son números reales. Pero una lista puede contener elementos del tipo que quieras. Intenta definir una lista *usuarios*, en la que cada elemento sea una tupla *(nombre, apellido)*, como la tupla *usuario* que hemos definido anteriormente. Aquí tienes algunos pares nombre-apellido que puedes meter en la lista:\n",
        "* Mark Lenders\n",
        "* Oliver Atom\n",
        "* Benji Price"
      ]
    },
    {
      "cell_type": "code",
      "metadata": {
        "id": "05v4mLmkgnPA"
      },
      "source": [
        "# Completa la instrucción siguiente:\n",
        "usuarios = [(\"Mark\", \"Lenders\"), (\"Oliver\", \"Atom\"), (\"Benji\", \"Price\")]"
      ],
      "execution_count": null,
      "outputs": []
    },
    {
      "cell_type": "code",
      "metadata": {
        "id": "XXEclAoggnPA",
        "outputId": "3f355bd7-0f74-46cc-cdfd-8b58bdb17d72"
      },
      "source": [
        "print(usuarios[0][0] + \" \" + usuarios[0][1] )"
      ],
      "execution_count": null,
      "outputs": [
        {
          "name": "stdout",
          "output_type": "stream",
          "text": [
            "Mark Lenders\n"
          ]
        }
      ]
    },
    {
      "cell_type": "code",
      "metadata": {
        "id": "e0NH5csmgnPA"
      },
      "source": [
        "a = (1,2,3)\n",
        "b = (4,5,6)"
      ],
      "execution_count": null,
      "outputs": []
    },
    {
      "cell_type": "code",
      "metadata": {
        "id": "TiEupZPBgnPB",
        "outputId": "a3975c61-fb0b-4993-ef4b-69cbe4919f35"
      },
      "source": [
        "a+b "
      ],
      "execution_count": null,
      "outputs": [
        {
          "data": {
            "text/plain": [
              "(1, 2, 3, 4, 5, 6)"
            ]
          },
          "execution_count": 43,
          "metadata": {},
          "output_type": "execute_result"
        }
      ]
    },
    {
      "cell_type": "code",
      "metadata": {
        "id": "h3oW-6z-gnPB"
      },
      "source": [
        ""
      ],
      "execution_count": null,
      "outputs": []
    },
    {
      "cell_type": "markdown",
      "metadata": {
        "id": "DKEH_SdcgnPB"
      },
      "source": [
        "## 4. Diccionarios\n",
        "\n",
        "Existen más tipos como las listas y las tuplas, que permiten almacenar conjuntos de datos. Uno muy utilizado es el **diccionario**. En un diccionario, cada valor almacenado se asocia a una clave, de manera que para acceder a los **valores** se utilizan dichas **claves** (de forma parecida a como para acceder a los valores de una lista se utilizan los índices).\n"
      ]
    },
    {
      "cell_type": "markdown",
      "metadata": {
        "id": "tnn5tO02gnPB"
      },
      "source": [
        "Puedes pensar en un diccionario como si se tratara de una tabla con dos columnas. Por ejemplo, un diccionario podría almacenar las temperaturas medias de las capitales andaluzas, indexando dichos valores mediante los nombres de las capitales:\n",
        "\n",
        "|Clave|Valor|\n",
        "|---|---|\n",
        "|\"Almería\"|19.9|\n",
        "|\"Cádiz\"| 19.1|\n",
        "|\"Córdoba\"| 19.1|\n",
        "|\"Granada\"|16.6|\n",
        "|\"Jaén\"|18.2|\n",
        "|\"Huelva\"|19.0|\n",
        "|\"Málaga\"|19.8|\n",
        "|\"Sevilla\"|20.0|\n",
        "\n",
        "Lo cual se escribiría en Python de la siguiente manera:"
      ]
    },
    {
      "cell_type": "code",
      "metadata": {
        "id": "2PhYowCLgnPB",
        "outputId": "596e485d-fe2c-4f4a-89e5-9d7ff3aac58f"
      },
      "source": [
        "temperatura_media = {\"Almería\": 19.9, \"Cádiz\": 19.1, \"Córdoba\": 19.1, \"Granada\": 16.6, \n",
        "                    \"Jaén\": 18.2, \"Huelva\": 19.0, \"Málaga\": 19.8, \"Sevilla\": 20.0}\n",
        "print(temperatura_media)"
      ],
      "execution_count": null,
      "outputs": [
        {
          "name": "stdout",
          "output_type": "stream",
          "text": [
            "{'Almería': 19.9, 'Cádiz': 19.1, 'Córdoba': 19.1, 'Granada': 16.6, 'Jaén': 18.2, 'Huelva': 19.0, 'Málaga': 19.8, 'Sevilla': 20.0}\n"
          ]
        }
      ]
    },
    {
      "cell_type": "markdown",
      "metadata": {
        "id": "Y_z5ZU_ygnPB"
      },
      "source": [
        "Ahora podemos trabajar con los datos del diccionario de forma parecida a las listas, aunque usando las claves para acceder a los valores, en lugar de los índices."
      ]
    },
    {
      "cell_type": "code",
      "metadata": {
        "id": "peII3USUgnPB",
        "outputId": "2147fc72-372d-46e8-ddcb-f1fb91a2cd92"
      },
      "source": [
        "temperatura_media[0] #No existe esta clave"
      ],
      "execution_count": null,
      "outputs": [
        {
          "ename": "KeyError",
          "evalue": "0",
          "output_type": "error",
          "traceback": [
            "\u001b[0;31m---------------------------------------------------------------------------\u001b[0m",
            "\u001b[0;31mKeyError\u001b[0m                                  Traceback (most recent call last)",
            "\u001b[0;32m<ipython-input-50-0eff44986284>\u001b[0m in \u001b[0;36m<module>\u001b[0;34m\u001b[0m\n\u001b[0;32m----> 1\u001b[0;31m \u001b[0mtemperatura_media\u001b[0m\u001b[0;34m[\u001b[0m\u001b[0;36m0\u001b[0m\u001b[0;34m]\u001b[0m\u001b[0;34m\u001b[0m\u001b[0;34m\u001b[0m\u001b[0m\n\u001b[0m",
            "\u001b[0;31mKeyError\u001b[0m: 0"
          ]
        }
      ]
    },
    {
      "cell_type": "code",
      "metadata": {
        "id": "NXTi0nYfgnPC",
        "outputId": "7d47916e-941b-4342-fd91-6777bd35a5f5"
      },
      "source": [
        "print(\"Temperatura anterior:\", temperatura_media['Sevilla'])\n",
        "#temperatura_media['Sevilla'] = temperatura_media['Sevilla'] + 1\n",
        "temperatura_media['Sevilla'] += 1.0   # ¡Cambio climático!\n",
        "print(\"Temperatura actual:\", temperatura_media['Sevilla'])"
      ],
      "execution_count": null,
      "outputs": [
        {
          "name": "stdout",
          "output_type": "stream",
          "text": [
            "Temperatura anterior: 20.0\n",
            "Temperatura actual: 21.0\n"
          ]
        }
      ]
    },
    {
      "cell_type": "markdown",
      "metadata": {
        "id": "Z1RyzDrPgnPD"
      },
      "source": [
        "### ¡Prueba tú!\n",
        "\n",
        "Intenta definir un diccionario en el que las claves sean los usuarios que definiste en el ejercicio anterior, y los valores asociados sean las claves de acceso a un sistema."
      ]
    },
    {
      "cell_type": "code",
      "metadata": {
        "id": "63v1NpV6gnPD"
      },
      "source": [
        "# Completa la instrucción siguiente:\n",
        "claves = {usuarios[0]:152637, usuarios[1]:152537, usuarios[2]:352637}"
      ],
      "execution_count": null,
      "outputs": []
    },
    {
      "cell_type": "code",
      "metadata": {
        "id": "tpRbiHyJgnPD",
        "outputId": "34880b82-1ae4-47fa-9c00-6af761c1f459"
      },
      "source": [
        "claves[(\"Mark\",\"Lenders\")]"
      ],
      "execution_count": null,
      "outputs": [
        {
          "data": {
            "text/plain": [
              "152637"
            ]
          },
          "execution_count": 53,
          "metadata": {},
          "output_type": "execute_result"
        }
      ]
    },
    {
      "cell_type": "markdown",
      "metadata": {
        "id": "Kd46BnL4gnPD"
      },
      "source": [
        "## 5. Objetos"
      ]
    },
    {
      "cell_type": "markdown",
      "metadata": {
        "id": "ZNnt27wugnPD"
      },
      "source": [
        "Si queremos añadir un elemento a la lista *temperaturas*, podemos hacerlo así:"
      ]
    },
    {
      "cell_type": "code",
      "metadata": {
        "id": "QjJkKdeCgnPD"
      },
      "source": [
        "temperaturas.append(29.2)  # añade el valor 29.2 al final de la lista\n",
        "print(temperaturas)\n",
        "print(len(temperaturas))"
      ],
      "execution_count": null,
      "outputs": []
    },
    {
      "cell_type": "markdown",
      "metadata": {
        "id": "Gn7524SCgnPD"
      },
      "source": [
        "Cuando una variable (*temperaturas*) puede ser usada como en el ejemplo anterior, escribiendo un punto (.) y a continuación invocando a una función (*append*), decimos que la variable es un **objeto**, y a la función en cuestión la llamamos **método**. La principal diferencia entre un método y una función es que el primero sólo se puede llamar si tenemos previamente un objeto del tipo adecuado. Por ejemplo, el método *append* sólo puede ser invocado sobre un objeto de tipo lista. \n",
        "\n",
        "Intentemos llamar a *append* como si fuese una función:"
      ]
    },
    {
      "cell_type": "code",
      "metadata": {
        "id": "diIdH2TrgnPE"
      },
      "source": [
        "append(29.2)"
      ],
      "execution_count": null,
      "outputs": []
    },
    {
      "cell_type": "markdown",
      "metadata": {
        "id": "FpZEmgKmgnPE"
      },
      "source": [
        "Puedes ver todos los métodos que tiene un objeto mediante la función predefinida **dir**:"
      ]
    },
    {
      "cell_type": "code",
      "metadata": {
        "id": "MNspP1jrgnPE"
      },
      "source": [
        "dir(temperaturas)"
      ],
      "execution_count": null,
      "outputs": []
    },
    {
      "cell_type": "markdown",
      "metadata": {
        "id": "EEYsVdKzgnPE"
      },
      "source": [
        "Y si quieres una descripción más detallada de cada método, puedes usar la función **help**, que ya hemos usado anteriormente."
      ]
    },
    {
      "cell_type": "code",
      "metadata": {
        "id": "Khi1k6R2gnPE"
      },
      "source": [
        "help(temperaturas)"
      ],
      "execution_count": null,
      "outputs": []
    },
    {
      "cell_type": "markdown",
      "metadata": {
        "id": "SdesJidZgnPE"
      },
      "source": [
        "### ¡Prueba tú!"
      ]
    },
    {
      "cell_type": "markdown",
      "metadata": {
        "id": "PostBvOjgnPE"
      },
      "source": [
        "Intenta utilizar algunos de los métodos del objeto *temperaturas*:"
      ]
    },
    {
      "cell_type": "code",
      "metadata": {
        "id": "xgR7chPCgnPE"
      },
      "source": [
        "\n",
        "\n",
        "\n"
      ],
      "execution_count": null,
      "outputs": []
    },
    {
      "cell_type": "markdown",
      "metadata": {
        "id": "LTlb9eN7gnPE"
      },
      "source": [
        "## 6. Control del flujo de ejecución"
      ]
    },
    {
      "cell_type": "markdown",
      "metadata": {
        "id": "xF8NZ-tlgnPF"
      },
      "source": [
        "Podemos utilizar la instrucción **for** para recorrer los elementos de una lista o una tupla. Llamamos a esto un **bucle**."
      ]
    },
    {
      "cell_type": "code",
      "metadata": {
        "id": "rXpy98A7gnPF"
      },
      "source": [
        "for temperatura in temperaturas:    # Se puede leer así: para cada valor \"temperatura\" en la lista \"temperaturas\"\n",
        "    print(\"Temperatura:\", temperatura)"
      ],
      "execution_count": null,
      "outputs": []
    },
    {
      "cell_type": "markdown",
      "metadata": {
        "id": "GorQSkFignPF"
      },
      "source": [
        "En el código anterior, la instrucción que aparece indentada se ejecuta una vez para cada elemento de la lista *temperaturas*. En cada ejecución, la variable *temperatura* almacena un elemento distinto de la lista, comenzando por el primero y pasando por cada elemento secuencialmente. Date cuenta también de que la función predefinida *print* se puede usar con varios parámetros, en cuyo caso mostrará cada uno de ellos por pantalla.\n",
        "\n",
        "Veamos otro ejemplo de bucle:"
      ]
    },
    {
      "cell_type": "code",
      "metadata": {
        "id": "f1iPvoRBgnPF"
      },
      "source": [
        "suma = 0\n",
        "for temperatura in temperaturas:\n",
        "    suma += temperatura\n",
        "    # El operador += almacena en \"suma\" el resultado de sumar \"temperatura\" al valor anterior de \"suma\"\n",
        "print(\"La temperatura media en la semana ha sido\", suma / len(temperaturas), \"grados.\")"
      ],
      "execution_count": null,
      "outputs": []
    },
    {
      "cell_type": "markdown",
      "metadata": {
        "id": "wQ-0iONBgnPF"
      },
      "source": [
        "Aunque realmente no hace falta hacer un bucle para sumar los elementos de una lista, ya que esto mismo podemos hacerlo en Python con la función predefinida **sum**."
      ]
    },
    {
      "cell_type": "code",
      "metadata": {
        "id": "CRKumIxignPF"
      },
      "source": [
        "print(\"La temperatura media en la semana ha sido\", sum(temperaturas) / len(temperaturas), \"grados.\")"
      ],
      "execution_count": null,
      "outputs": []
    },
    {
      "cell_type": "markdown",
      "metadata": {
        "id": "3IL75dM8gnPF"
      },
      "source": [
        "La instrucción *for* es una instrucción de **control del flujo de ejecución**, pues permite que la secuencia en que se van ejecutando las distintas instrucciones varíe con respecto a la ejecución esperada (recordemos que, por defecto, las instrucciones se van ejecutando una tras otra, en el orden en que las hemos escrito, y una sola vez). Otra instrucción que también altera el flujo normal de ejecución es la instrucción **if**. Veamos un ejemplo:"
      ]
    },
    {
      "cell_type": "code",
      "metadata": {
        "id": "DAve42yQgnPF"
      },
      "source": [
        "def saluda(nombre, hora):\n",
        "    if hora < 12:     # Si el parámetro \"hora\" es menor de 12, se ejecuta el siguiente bloque de instrucciones\n",
        "        print(\"Buenos días, \" + nombre)\n",
        "    elif hora < 21:   # En otro caso, si el parámetro \"hora\" es menor de 21, se ejecuta el siguiente bloque de instrucciones\n",
        "        print(\"Buenas tardes, \" + nombre)\n",
        "    else:           # En cualquier otro caso, se ejecuta el siguiente bloque de instrucciones\n",
        "        print(\"Buenas noches, \" + nombre)\n",
        "\n",
        "saluda(\"Fermín\", 11)\n",
        "saluda(\"Fermín\", 16)\n",
        "saluda(\"Fermín\", 23)\n"
      ],
      "execution_count": null,
      "outputs": []
    },
    {
      "cell_type": "markdown",
      "metadata": {
        "id": "_W3ueJ6LgnPF"
      },
      "source": [
        "Observa que las **palabras clave** que se usan son **if**, **elif** y **else**, y que a continuación de las dos primeras se escribe una expresión lógica (es decir, una expresión cuyo resultado es de tipo lógico: verdadero o falso). Las instrucciones que aparecen tras la palabra **if** sólo se ejecutan si la expresión correspondiente se evalúa como verdadera. Las instrucciones que aparecen tras la palabra **elif** sólo se ejecutan si no se han ejecutado las anteriores, y si la expresión correspondiente se evalúa como verdadera. Las instrucciones que aparecen tras la palabra **else** sólo se ejecutan si no se han ejecutado ninguna de las anteriores. \n",
        "\n",
        "Aquí tienes otros ejemplos:"
      ]
    },
    {
      "cell_type": "code",
      "metadata": {
        "id": "C_7VI1PxgnPF"
      },
      "source": [
        "temperatura_actual = temperaturas[6]\n",
        "if temperatura_actual < 0:  # Si la temperatura es menor de cero grados\n",
        "    print(\"¡Cuidado! Riesgo de congelación.\")\n"
      ],
      "execution_count": null,
      "outputs": []
    },
    {
      "cell_type": "code",
      "metadata": {
        "id": "wrw3QDD-gnPG"
      },
      "source": [
        "# Si el primer elemento de la tupla \"usuario\" es igual a \"Mark\" y el segundo elemento es igual a \"Lenders\"\n",
        "if usuario[0] == \"Mark\" and usuario[1] == \"Lenders\": \n",
        "    print(\"Hola, Mark. Te estaba esperando.\")\n",
        "else:  # En otro caso\n",
        "    print(\"Hola, ¿nos conocemos?\")\n"
      ],
      "execution_count": null,
      "outputs": []
    },
    {
      "cell_type": "code",
      "metadata": {
        "id": "tiS3FipngnPG"
      },
      "source": [
        "def acceso_restringido(usuario):\n",
        "    if usuario[0] == \"Mark\" and usuario[1] == \"Lenders\": \n",
        "        print(\"Hola, Mark. Te estaba esperando.\")\n",
        "    elif usuario[0] == \"Oliver\" and usuario[1] == \"Atom\": \n",
        "        print(\"Hola, Oliver. Te estaba esperando.\")\n",
        "    elif usuario[0] == \"Benji\" and usuario[1] == \"Price\": \n",
        "        print(\"Hola, Benji. Te estaba esperando.\")\n",
        "    else:  \n",
        "        print(\"Hola, ¿nos conocemos?\")\n"
      ],
      "execution_count": null,
      "outputs": []
    },
    {
      "cell_type": "markdown",
      "metadata": {
        "id": "YIbwQAH5gnPG"
      },
      "source": [
        "Para escribir las expresiones lógicas se usan distintos **operadores lógicos** (como el operador **and**) y **operadores relacionales** (como los operadores **>** o **==**). Iremos viendo más operadores de estos tipos a medida que los vayamos necesitando."
      ]
    },
    {
      "cell_type": "markdown",
      "metadata": {
        "id": "fToFjd3mgnPG"
      },
      "source": [
        "### ¡Prueba tú!"
      ]
    },
    {
      "cell_type": "markdown",
      "metadata": {
        "id": "0XDvrAUpgnPH"
      },
      "source": [
        "Escribe un bucle *for* para llamar a la función *acceso_restringido* pasándole cada uno de los elementos de la lista *usuarios*."
      ]
    },
    {
      "cell_type": "code",
      "metadata": {
        "id": "oDxUen1GgnPH"
      },
      "source": [
        "\n",
        "\n"
      ],
      "execution_count": null,
      "outputs": []
    },
    {
      "cell_type": "markdown",
      "metadata": {
        "id": "EWzctAaMgnPH"
      },
      "source": [
        "## 7. Módulos y paquetes"
      ]
    },
    {
      "cell_type": "markdown",
      "metadata": {
        "id": "RnEMBRdGgnPH"
      },
      "source": [
        "Además de las funciones predefinidas, hay muchas otras cosas que se pueden hacer con Python sin necesidad de implementar nosotros ninguna función ni tener que descargar o instalar nada en el ordenador. Eso sí, para poder hacer uso de estas funcionalidades incluidas en Python, es necesario **importar** el módulo o módulos donde están implementadas. Un **módulo** es cada uno de los ficheros con extensión .py en los que están escritos los programas en Python. Los módulos están agrupados en **paquetes**, que son parecidos a las carpetas del explorador de archivos de Windows.\n",
        "\n",
        "Por ejemplo, si queremos generar números aleatorios, podemos usar el módulo **random**. Antes de hacerlo, es necesario importarlo. Prueba a ejecutar varias veces el siguiente código y verás como cada vez se genera un número distinto:"
      ]
    },
    {
      "cell_type": "code",
      "metadata": {
        "id": "3u0Ou-YTgnPH"
      },
      "source": [
        "import random\n",
        "\n",
        "print(random.randint(1, 10))"
      ],
      "execution_count": null,
      "outputs": []
    },
    {
      "cell_type": "markdown",
      "metadata": {
        "id": "DV9Xa0WZgnPH"
      },
      "source": [
        "Fíjate que para llamar a la función randint, que está definida dentro del módulo random, debemos escribir *random.randint(...)*. Si vamos a usar muy a menudo la función en nuestro código, también podemos importarla así:"
      ]
    },
    {
      "cell_type": "code",
      "metadata": {
        "id": "H77tevLpgnPH"
      },
      "source": [
        "from random import randint\n",
        "\n",
        "print(randint(1, 10))"
      ],
      "execution_count": null,
      "outputs": []
    },
    {
      "cell_type": "markdown",
      "metadata": {
        "id": "LOUYZ_wPgnPH"
      },
      "source": [
        "De esta manera ya no es necesario indicar la ubicación de la función cada vez que la llamemos. Aunque es más cómodo, no es del todo recomendable, como veremos más adelante.\n",
        "\n",
        "¿Y si queremos generar, pongamos, 20 números aleatorios, entre 1 y 10? Podemos hacerlo con la instrucción **for**, la misma que utilizamos antes para recorrer los elementos de una lista:"
      ]
    },
    {
      "cell_type": "code",
      "metadata": {
        "id": "GFMKYHemgnPH"
      },
      "source": [
        "numeros = []\n",
        "for i in range(20):  # la función predefinida \"range\" devuelve los números enteros del 0 al 19.\n",
        "    numeros.append(randint(1, 10))\n",
        "print(numeros)"
      ],
      "execution_count": null,
      "outputs": []
    },
    {
      "cell_type": "markdown",
      "metadata": {
        "id": "KPiRdbkrgnPI"
      },
      "source": [
        "En el siguiente ejemplo, usamos el módulo *datetime*, que nos permite, entre otras cosas, saber la hora actual en que se está ejecutando el programa."
      ]
    },
    {
      "cell_type": "code",
      "metadata": {
        "id": "QOaShexygnPI"
      },
      "source": [
        "# El módulo se llama \"datetime\", y dentro hay definido un objeto que también se llama \"datetime\"\n",
        "from datetime import datetime\n",
        "hora_actual = datetime.now()  # El método now() devuelve un objeto de tipo datetime\n",
        "# El objeto hora_actual tiene un atributo hour que indica la hora actual (de 0 a 23)\n",
        "saluda(\"Fermín\", hora_actual.hour)"
      ],
      "execution_count": null,
      "outputs": []
    },
    {
      "cell_type": "markdown",
      "metadata": {
        "id": "7s6zpWa9gnPI"
      },
      "source": [
        "En el ejemplo anterior, cuando escribimos *hora_actual.hour* estamos accediendo a un **atributo**, llamado *hour*, del objeto *hora_actual*. Por tanto, los objetos tienen, además de métodos, atributos, los cuales son parecidos a las variables (al igual que los métodos eran parecidos a las funciones). La manera de diferenciar si estamos accediendo a un atributo o llamando a un método es que en el segundo caso usamos los paréntesis."
      ]
    },
    {
      "cell_type": "markdown",
      "metadata": {
        "id": "qvT5683_gnPI"
      },
      "source": [
        "Con los distintos módulos existentes para Python se puede hacer prácticamente de todo. Por ejemplo, dibujar gráficas de todo tipo, mediante la librería **matplotlib**. Cuando hablamos de una **librería** nos referimos a un conjunto de módulos relacionados entre sí por el tipo de funcionalidad que ofrecen. Generalmente, los módulos de una librería están agrupados dentro de un paquete, como es el caso de *matplotlib*."
      ]
    },
    {
      "cell_type": "code",
      "metadata": {
        "scrolled": false,
        "id": "s6fOPzjCgnPI"
      },
      "source": [
        "# Para que las gráficas se muestren sobre el propio notebook, en lugar de en una ventana, hay que escribir:\n",
        "%matplotlib notebook    \n",
        "\n",
        "from matplotlib import pyplot  # pyplot es el módulo que permite dibujar gráficas matemáticas\n",
        "\n",
        "x = []   # \"x\" es una lista vacía, es decir, aún no contiene elementos\n",
        "y = []   # \"y\" también es una lista vacía\n",
        "for i in range(20):\n",
        "    x.append(randint(-50, 50))\n",
        "    y.append(randint(-50, 50))\n",
        "\n",
        "# El tercer parámetro sirve para especificar el formato de la representación gráfica de los datos\n",
        "pyplot.plot(x, y, \"o\")"
      ],
      "execution_count": null,
      "outputs": []
    },
    {
      "cell_type": "markdown",
      "metadata": {
        "id": "1vTzB00PgnPI"
      },
      "source": [
        "Todos los paquetes, módulos y librerías más usados están ampliamente documentados en Internet: sólo tienes que hacer una consulta a tu buscador favorito. Por ejemplo, si quieres ver qué otras cosas se pueden hacer con la función *plot*, puedes verlo aquí: https://matplotlib.org/api/pyplot_api.html#matplotlib.pyplot.plot"
      ]
    },
    {
      "cell_type": "markdown",
      "metadata": {
        "id": "r_dX1eZvgnPI"
      },
      "source": [
        "### ¡Prueba tú!"
      ]
    },
    {
      "cell_type": "markdown",
      "metadata": {
        "id": "efD8eKJXgnPI"
      },
      "source": [
        "Intenta completar el siguiente código para mostrar una gráfica de la función coseno para los valores de la x contenidos en el intervalo \\[-10,10\\]. Busca documentación sobre el módulo **math** para ver cómo calcular el coseno de un número [prueba buscando en Google \"math Python 3\"](https://www.google.es/search?q=math+Python+3)."
      ]
    },
    {
      "cell_type": "code",
      "metadata": {
        "id": "Iil9RTVKgnPI"
      },
      "source": [
        "%matplotlib notebook    \n",
        "import math\n",
        "\n",
        "lista_x = []  # En esta lista guardaremos los valores para los que vamos a calcular el coseno\n",
        "for i in range(-100, 101):\n",
        "    pass # ESCRIBE AQUÍ una instrucción para \"añadir a lista_x el valor i / 10\"\n",
        "    \n",
        "lista_y = []  # En esta lista guardaremos los cosenos de los valores anteriores\n",
        "for x in lista_x:\n",
        "    pass # ESCRIBE AQUÍ una instrucción para \"añadir a lista_y el valor coseno(x)\"\n",
        "    \n",
        "\n",
        "# ESCRIBE AQUÍ una instrucción para dibujar la gráfica correspondiente a las coordenadas lista_x y lista_y.\n",
        "# Elige las opciones de formato de la representación gráfica que quieras\n",
        "\n",
        "\n",
        "\n"
      ],
      "execution_count": null,
      "outputs": []
    },
    {
      "cell_type": "markdown",
      "metadata": {
        "id": "U1PUhCTdgnPI"
      },
      "source": [
        "Cuando construimos una lista a partir de otra, como ocurre con *lista_y* en el código que acabas de completar, podemos hacerlo de una forma muy compacta llamada **definición de listas por comprensión**. Observa el siguiente ejemplo:"
      ]
    },
    {
      "cell_type": "code",
      "metadata": {
        "id": "HmEcXHL3gnPJ"
      },
      "source": [
        "lista_y = [math.cos(x) for x in lista_x]\n",
        "print(lista_y)"
      ],
      "execution_count": null,
      "outputs": []
    },
    {
      "cell_type": "markdown",
      "metadata": {
        "id": "_spMPvx-gnPN"
      },
      "source": [
        "## 8. Ficheros"
      ]
    },
    {
      "cell_type": "markdown",
      "metadata": {
        "id": "bf_182BHgnPO"
      },
      "source": [
        "Es muy habitual trabajar con **ficheros** (quizás estés acostumbrado a referirte a ellos como \"archivos\", que es un sinónimo). Aunque los ficheros pueden contener todo tipo de datos, nosotros trabajaremos con ficheros de texto. Al igual que haces tú mismo cuando quieres trabajar con un documento en el ordenador, para trabajar con un fichero en Python primero tenemos que abrirlo; después podemos leer o escribir datos en el mismo, y finalmente hemos de cerrarlo. Aquí tienes un pequeño ejemplo que abre un fichero de texto y muestra su contenido en pantalla:\n"
      ]
    },
    {
      "cell_type": "code",
      "metadata": {
        "id": "V7PEMKPxgnPO"
      },
      "source": [
        "with open(\"prueba.txt\") as f:\n",
        "    for linea in f:\n",
        "        print(linea)\n",
        "\n",
        "# El archivo se cierra automáticamente cuando acaban las instrucciones escritas dentro de la instrucción \"with\""
      ],
      "execution_count": null,
      "outputs": []
    },
    {
      "cell_type": "markdown",
      "metadata": {
        "id": "m750l7DMgnPO"
      },
      "source": [
        "Si el código anterior ocasiona un error al ser ejecutado, asegúrate de que tienes el archivo *prueba.txt* en la misma carpeta desde la que estás ejecutando este notebook.\n",
        "\n",
        "También es posible que al ejecutar Python te devuelva un \"error de codificación\", o que te muestre el contenido del fichero de texto con algunos errores (algunos caracteres aparecen de manera extraña). Esto ocurre porque existen múltiples maneras de representar los caracteres de un fichero de texto en notación binaria. Es lo que se conoce como **codificación de caracteres**. Cada sistema operativo tiene su codificación por defecto, de manera que las líneas que acabamos de escribir para leer un fichero de texto dan por hecho que el fichero de texto está expresado en dicha codificación por defecto (la cuál puede no ser la correcta en tu caso). Para evitar estos problemas, siempre que trabajemos con ficheros de texto en la asignatura estableceremos que los ficheros de texto estén en codificación **UTF-8**. Esto se consigue añadiendo un parámetro a la función open:"
      ]
    },
    {
      "cell_type": "code",
      "metadata": {
        "id": "fYsPvkk5gnPO"
      },
      "source": [
        "with open(\"prueba.txt\", encoding='utf-8') as f:\n",
        "    for linea in f:\n",
        "        print(linea)\n",
        "\n",
        "# El archivo se cierra automáticamente cuando acaban las instrucciones escritas dentro de la instrucción \"with\""
      ],
      "execution_count": null,
      "outputs": []
    },
    {
      "cell_type": "markdown",
      "metadata": {
        "id": "SsYvK1f0gnPP"
      },
      "source": [
        "## 9. Función principal"
      ]
    },
    {
      "cell_type": "markdown",
      "metadata": {
        "id": "scAZ24cRgnPQ"
      },
      "source": [
        "Cuando escribimos nuestro código en un fichero de texto con extensión \".py\", estamos definiendo un módulo. Otros programadores podrán importar nuestro módulo, y hacer uso en sus programas de las funciones que hayamos definido en el mismo, o de las variables y objetos que aparezcan definidos sin indentar.\n",
        "\n",
        "Sin embargo, algunas veces queremos que el código que hemos escrito sea ejecutado por un usuario; es decir, estamos definiendo un **programa ejecutable**. En este caso, el usuario puede ejecutar el programa con el siguiente comando, escrito desde el **terminal** o **ventana de comandos** del sistema operativo:\n",
        "\n",
        "<pre>\n",
        "python nombre_fichero.py\n",
        "</pre>\n",
        "\n",
        "Cuando un programa es ejecutable, debe existir un **punto de entrada**. Un punto de entrada es un conjunto de instrucciones que se ejecutarán cuando se lance el programa. En Python, estas instrucciones se deben escribir dentro de un bloque **if** como el que se muestra a continuación:"
      ]
    },
    {
      "cell_type": "code",
      "metadata": {
        "id": "d0rnBFLZgnPQ"
      },
      "source": [
        "if __name__ == '__main__':\n",
        "    # Aquí vienen las instrucciones que definen el punto de entrada del programa\n",
        "    hora_actual = datetime.now() \n",
        "    saluda(\"Fermín\", hora_actual.hour)\n",
        "    "
      ],
      "execution_count": null,
      "outputs": []
    },
    {
      "cell_type": "markdown",
      "metadata": {
        "id": "C1Ze8NPngnPQ"
      },
      "source": [
        "A veces, el conjunto de instrucciones que definen el punto de entrada se escribe dentro de una función, a la que se le suele dar el nombre **main**. Esto en Python no es obligatorio, aunque sí lo es en otros lenguajes de programación. Si queremos hacerlo así, entonces el programa ejecutable anterior quedaría como sigue (se muestra a continuación el programa completo, con las sentencias *import* y las definiciones de funciones necesarias):\n"
      ]
    },
    {
      "cell_type": "code",
      "metadata": {
        "id": "6tHaMR9ugnPQ"
      },
      "source": [
        "from datetime import datetime\n",
        "\n",
        "\n",
        "def main():\n",
        "    hora_actual = datetime.now() \n",
        "    saluda(\"Fermín\", hora_actual.hour)\n",
        "\n",
        "\n",
        "def saluda(nombre, hora):\n",
        "    if hora < 12:     # Si el parámetro \"hora\" es menor de 12, se ejecuta el siguiente bloque de instrucciones\n",
        "        print(\"Buenos días, \" + nombre)\n",
        "    elif hora < 21:   # En otro caso, si el parámetro \"hora\" es menor de 21, se ejecuta el siguiente bloque de instrucciones\n",
        "        print(\"Buenas tardes, \" + nombre)\n",
        "    else:           # En cualquier otro caso, se ejecuta el siguiente bloque de instrucciones\n",
        "        print(\"Buenas noches, \" + nombre)\n",
        "\n",
        "\n",
        "if __name__ == '__main__':\n",
        "    main()\n",
        " "
      ],
      "execution_count": null,
      "outputs": []
    },
    {
      "cell_type": "markdown",
      "metadata": {
        "id": "Q2Vp4QX4gnPR"
      },
      "source": [
        "### ¡Prueba tú!"
      ]
    },
    {
      "cell_type": "markdown",
      "metadata": {
        "id": "-zja2swAgnPR"
      },
      "source": [
        "Escribe el código anterior en un fichero de texto llamado \"saluda.py\", y trata de ejecutarlo desde el terminal o ventana de comandos de tu sistema operativo."
      ]
    },
    {
      "cell_type": "markdown",
      "metadata": {
        "id": "68suSaUhgnPR"
      },
      "source": [
        "---\n",
        "\n",
        "Ya sabes lo básico para entender programas simples escritos en Python y para escribir los tuyos propios. **¡Feliz programación!**"
      ]
    },
    {
      "cell_type": "code",
      "metadata": {
        "id": "OGxzIdepgnPR"
      },
      "source": [
        "# ¿Conoces el \"Zen de Python\"?\n",
        "import this"
      ],
      "execution_count": null,
      "outputs": []
    }
  ]
}